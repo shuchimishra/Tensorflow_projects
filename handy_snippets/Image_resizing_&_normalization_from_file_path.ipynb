{
  "nbformat": 4,
  "nbformat_minor": 0,
  "metadata": {
    "colab": {
      "provenance": [],
      "authorship_tag": "ABX9TyPC3y/D4PdClfeYBOCjS6Fi",
      "include_colab_link": true
    },
    "kernelspec": {
      "name": "python3",
      "display_name": "Python 3"
    },
    "language_info": {
      "name": "python"
    }
  },
  "cells": [
    {
      "cell_type": "markdown",
      "metadata": {
        "id": "view-in-github",
        "colab_type": "text"
      },
      "source": [
        "<a href=\"https://colab.research.google.com/github/shuchimishra/Tensorflow_projects/blob/main/handy_snippets/Image_resizing_%26_normalization_from_file_path.ipynb\" target=\"_parent\"><img src=\"https://colab.research.google.com/assets/colab-badge.svg\" alt=\"Open In Colab\"/></a>"
      ]
    },
    {
      "cell_type": "markdown",
      "source": [
        "Image Resizing function"
      ],
      "metadata": {
        "id": "kfAvCcGqtvep"
      }
    },
    {
      "cell_type": "code",
      "execution_count": null,
      "metadata": {
        "id": "MGlq4IP4Aktb"
      },
      "outputs": [],
      "source": [
        "def decode_img(img):\n",
        "  # Convert the compressed string to a 3D uint8 tensor\n",
        "  img = tf.io.decode_jpeg(img, channels=3)\n",
        "  # Resize the image to the desired size\n",
        "  return tf.image.resize(img, [img_height, img_width])"
      ]
    },
    {
      "cell_type": "markdown",
      "source": [
        "Image Normalization function"
      ],
      "metadata": {
        "id": "WRewsvT7t0um"
      }
    },
    {
      "cell_type": "code",
      "source": [
        "def normalize_img(img):\n",
        "  # Normalize the pixels\n",
        "  img = img * 1./255\n",
        "  # Resize the image to the desired size\n",
        "  return img"
      ],
      "metadata": {
        "id": "LnVK4vuyuJDv"
      },
      "execution_count": null,
      "outputs": []
    },
    {
      "cell_type": "code",
      "execution_count": null,
      "metadata": {
        "id": "-xhBRgvNqRRe"
      },
      "outputs": [],
      "source": [
        "def process_path(file_path):\n",
        "  label = get_label(file_path)\n",
        "  # Load the raw data from the file as a string\n",
        "  img = tf.io.read_file(file_path)\n",
        "  img = decode_img(img)\n",
        "  #Optional step to normalize image; uncomment if necessary\n",
        "  # img = normalize_img(img)\n",
        "  return img, label"
      ]
    }
  ]
}