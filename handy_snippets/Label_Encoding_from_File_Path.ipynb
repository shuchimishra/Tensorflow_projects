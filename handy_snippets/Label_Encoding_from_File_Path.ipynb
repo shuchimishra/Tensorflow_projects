{
  "nbformat": 4,
  "nbformat_minor": 0,
  "metadata": {
    "colab": {
      "provenance": [],
      "authorship_tag": "ABX9TyPM+5bZVAk5GVlHjVf0bXnj",
      "include_colab_link": true
    },
    "kernelspec": {
      "name": "python3",
      "display_name": "Python 3"
    },
    "language_info": {
      "name": "python"
    }
  },
  "cells": [
    {
      "cell_type": "markdown",
      "metadata": {
        "id": "view-in-github",
        "colab_type": "text"
      },
      "source": [
        "<a href=\"https://colab.research.google.com/github/shuchimishra/Tensorflow_projects/blob/main/handy_snippets/Label_Encoding_from_File_Path.ipynb\" target=\"_parent\"><img src=\"https://colab.research.google.com/assets/colab-badge.svg\" alt=\"Open In Colab\"/></a>"
      ]
    },
    {
      "cell_type": "markdown",
      "source": [
        "# Approach 1: One hot encoding of labels from File path"
      ],
      "metadata": {
        "id": "lXHKZW4g-wIN"
      }
    },
    {
      "cell_type": "markdown",
      "source": [
        "Retrieved from Tensorflow_Code/CNN/Flower(Load_&_preprocess_images).ipynb"
      ],
      "metadata": {
        "id": "vTC6TJi9-shM"
      }
    },
    {
      "cell_type": "code",
      "execution_count": null,
      "metadata": {
        "id": "ijPgSscr-l8a"
      },
      "outputs": [],
      "source": [
        "n_classes = len(class_names)\n",
        "\n",
        "def get_label(file_path):\n",
        "    parts = tf.strings.split(file_path, os.path.sep)\n",
        "    bool_values = tf.equal(parts[-2], class_names)\n",
        "    indices = tf.where(bool_values)\n",
        "    one_hot = tf.one_hot(indices, depth=n_classes)\n",
        "    return one_hot\n",
        "\n",
        "for x in list_ds.take(5):\n",
        "  file_path = x.numpy()\n",
        "  print('\\n',\"Now processing file path :\", file_path,'\\n')\n",
        "  exp = get_label(file_path)\n",
        "  print(\"Output is : \", get_label(file_path).numpy(),'\\n')\n",
        "  print(\"One hot encoding is :\", exp[0,0,:].numpy(),'\\n')\n",
        "  print(\"Categorical output is :\",np.argmax(exp[0,0,:]),'\\n')"
      ]
    },
    {
      "cell_type": "markdown",
      "source": [
        "***Expected Output:***\n",
        "\n",
        "\n",
        " Now processing file path : b'/root/.keras/datasets/flower_photos/roses/2423565102_2f1a00bb1b_n.jpg'\n",
        "\n",
        "Output is :  [[[0. 0. 1. 0. 0.]]]\n",
        "\n",
        "One hot encoding is : [0. 0. 1. 0. 0.]\n",
        "\n",
        "Categorical output is : 2\n",
        "\n",
        "\n",
        " Now processing file path : b'/root/.keras/datasets/flower_photos/tulips/485266837_671def8627.jpg'\n",
        "\n",
        "Output is :  [[[0. 0. 0. 0. 1.]]]\n",
        "\n",
        "One hot encoding is : [0. 0. 0. 0. 1.]\n",
        "\n",
        "Categorical output is : 4\n",
        "\n",
        "\n",
        " Now processing file path : b'/root/.keras/datasets/flower_photos/tulips/3002863623_cd83d6e634.jpg'\n",
        "\n",
        "Output is :  [[[0. 0. 0. 0. 1.]]]\n",
        "\n",
        "One hot encoding is : [0. 0. 0. 0. 1.]\n",
        "\n",
        "Categorical output is : 4\n",
        "\n",
        "\n",
        " Now processing file path : b'/root/.keras/datasets/flower_photos/dandelion/9188647508_3b56e62f69.jpg'\n",
        "\n",
        "Output is :  [[[0. 1. 0. 0. 0.]]]\n",
        "\n",
        "One hot encoding is : [0. 1. 0. 0. 0.]\n",
        "\n",
        "Categorical output is : 1\n",
        "\n",
        "\n",
        " Now processing file path : b'/root/.keras/datasets/flower_photos/dandelion/10778387133_9141024b10.jpg'\n",
        "\n",
        "Output is :  [[[0. 1. 0. 0. 0.]]]\n",
        "\n",
        "One hot encoding is : [0. 1. 0. 0. 0.]\n",
        "\n",
        "Categorical output is : 1\n"
      ],
      "metadata": {
        "id": "JJZqsNHC_H9E"
      }
    },
    {
      "cell_type": "markdown",
      "source": [
        "Approach 2: Using direct categorical labels"
      ],
      "metadata": {
        "id": "Oc-F6bAG_UjI"
      }
    },
    {
      "cell_type": "code",
      "source": [
        "def get_label(file_path):\n",
        "  # Convert the path to a list of path components\n",
        "  parts = tf.strings.split(file_path, os.path.sep)\n",
        "  # The second to last is the class-directory\n",
        "  one_hot = parts[-2] == class_names\n",
        "  # Integer encode the label\n",
        "  return tf.argmax(one_hot)\n",
        "\n",
        "for x in list_ds.take(5):\n",
        "  file_path = x.numpy()\n",
        "  print('\\n',\"Now processing file path :\", file_path,'\\n')\n",
        "  one_hot = tf.one_hot(get_label(file_path).numpy(), depth=n_classes).numpy()\n",
        "  print(\"Output is : \", get_label(file_path).numpy(),'\\n')\n",
        "  print(\"One hot encoding is :\", one_hot,'\\n')\n",
        "  # print(\"Categorical output is :\",np.argmax(exp[0,0,:]),'\\n')"
      ],
      "metadata": {
        "id": "OPKHGj-W_a44"
      },
      "execution_count": null,
      "outputs": []
    },
    {
      "cell_type": "markdown",
      "source": [
        "***Expected Output:***\n",
        "\n",
        "\n",
        " Now processing file path : b'/root/.keras/datasets/flower_photos/dandelion/16970837587_4a9d8500d7.jpg'\n",
        "\n",
        "Output is :  1\n",
        "\n",
        "One hot encoding is : [0. 1. 0. 0. 0.]\n",
        "\n",
        "\n",
        " Now processing file path : b'/root/.keras/datasets/flower_photos/sunflowers/18843967474_9cb552716b.jpg'\n",
        "\n",
        "Output is :  3\n",
        "\n",
        "One hot encoding is : [0. 0. 0. 1. 0.]\n",
        "\n",
        "\n",
        " Now processing file path : b'/root/.keras/datasets/flower_photos/tulips/16862349256_0a1f91ab53.jpg'\n",
        "\n",
        "Output is :  4\n",
        "\n",
        "One hot encoding is : [0. 0. 0. 0. 1.]\n",
        "\n",
        "\n",
        " Now processing file path : b'/root/.keras/datasets/flower_photos/sunflowers/14955545254_324cd4ee75.jpg'\n",
        "\n",
        "Output is :  3\n",
        "\n",
        "One hot encoding is : [0. 0. 0. 1. 0.]\n",
        "\n",
        "\n",
        " Now processing file path : b'/root/.keras/datasets/flower_photos/dandelion/14845607659_1be18c5d7f.jpg'\n",
        "\n",
        "Output is :  1\n",
        "\n",
        "One hot encoding is : [0. 1. 0. 0. 0.]\n"
      ],
      "metadata": {
        "id": "t30YzMDkAVZR"
      }
    }
  ]
}