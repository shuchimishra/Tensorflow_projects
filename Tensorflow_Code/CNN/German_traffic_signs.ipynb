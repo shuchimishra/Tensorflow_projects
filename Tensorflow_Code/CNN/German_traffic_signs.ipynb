{
  "nbformat": 4,
  "nbformat_minor": 0,
  "metadata": {
    "colab": {
      "provenance": [],
      "mount_file_id": "1D2yhvvyJEv2VzN3NinSTq3A5bBHbnOEF",
      "authorship_tag": "ABX9TyPtOZgdZIItFluDAmvW4amx",
      "include_colab_link": true
    },
    "kernelspec": {
      "name": "python3",
      "display_name": "Python 3"
    },
    "language_info": {
      "name": "python"
    }
  },
  "cells": [
    {
      "cell_type": "markdown",
      "metadata": {
        "id": "view-in-github",
        "colab_type": "text"
      },
      "source": [
        "<a href=\"https://colab.research.google.com/github/shuchimishra/Tensorflow_projects/blob/main/Tensorflow_Code/CNN/German_traffic_signs.ipynb\" target=\"_parent\"><img src=\"https://colab.research.google.com/assets/colab-badge.svg\" alt=\"Open In Colab\"/></a>"
      ]
    },
    {
      "cell_type": "code",
      "execution_count": null,
      "metadata": {
        "id": "qYfkgyelemLd",
        "colab": {
          "base_uri": "https://localhost:8080/",
          "height": 106
        },
        "outputId": "48f23eb9-ebaf-420a-96dc-3fa05ed6fbea"
      },
      "outputs": [
        {
          "output_type": "error",
          "ename": "SyntaxError",
          "evalue": "invalid syntax (<ipython-input-1-d94baf5a779b>, line 90)",
          "traceback": [
            "\u001b[0;36m  File \u001b[0;32m\"<ipython-input-1-d94baf5a779b>\"\u001b[0;36m, line \u001b[0;32m90\u001b[0m\n\u001b[0;31m    , batch_size = BATCH_SIZE)\u001b[0m\n\u001b[0m    ^\u001b[0m\n\u001b[0;31mSyntaxError\u001b[0m\u001b[0;31m:\u001b[0m invalid syntax\n"
          ]
        }
      ],
      "source": [
        "# # ======================================================================\n",
        "# # There are 5 questions in this exam with increasing difficulty from 1-5.\n",
        "# # Please note that the weight of the grade for the question is relative\n",
        "# # to its difficulty. So your Category 1 question will score significantly\n",
        "# # less than your Category 5 question.\n",
        "# #\n",
        "# # Don't use lambda layers in your model.\n",
        "# # You do not need them to solve the question.\n",
        "# # Lambda layers are not supported by the grading infrastructure.\n",
        "# #\n",
        "# # You must use the Submit and Test button to submit your model\n",
        "# # at least once in this category before you finally submit your exam,\n",
        "# # otherwise you will score zero for this category.\n",
        "# # ==============================================================================\n",
        "# #\n",
        "# # BASIC DATASETS QUESTION\n",
        "# #\n",
        "# # Create a classifier for the German Traffic Signs dataset that classifies\n",
        "# # images of traffic signs into 43 classes.\n",
        "# # ==============================================================================\n",
        "# #\n",
        "# # ABOUT THE DATASET\n",
        "# #\n",
        "# # The dataset contains traffic sign boards from the streets captured into\n",
        "# # image files. There are 43 unique classes in total. The images are of shape\n",
        "# # (30,30,3).\n",
        "# # ==============================================================================\n",
        "# #\n",
        "# # INSTRUCTIONS\n",
        "# #\n",
        "# # We have already divided the data for training and validation.\n",
        "# #\n",
        "# # Complete the code in following functions:\n",
        "# # 1. preprocess()\n",
        "# # 2. solution_model()\n",
        "# #\n",
        "# # Your code will fail to be graded if the following criteria are not met:\n",
        "# # 1. The input shape of your model must be (30,30,3), because the testing\n",
        "# #    infrastructure expects inputs according to this specification.\n",
        "# # 2. The last layer of your model must be a Dense layer with 43 neurons\n",
        "# #    activated by softmax since this dataset has 43 classes.\n",
        "# #\n",
        "# # HINT: Your neural network must have a validation accuracy of approximately\n",
        "# # 0.95 or above on the normalized validation dataset for top marks.\n",
        "\n",
        "# import urllib\n",
        "# import zipfile\n",
        "\n",
        "# import tensorflow as tf\n",
        "\n",
        "# # This function downloads and extracts the dataset to the directory that\n",
        "# # contains this file.\n",
        "# # DO NOT CHANGE THIS CODE\n",
        "# # (unless you need to change https to http)\n",
        "# def download_and_extract_data():\n",
        "#     url = 'https://storage.googleapis.com/download.tensorflow.org/data/certificate/germantrafficsigns.zip'\n",
        "#     urllib.request.urlretrieve(url, 'germantrafficsigns.zip')\n",
        "#     with zipfile.ZipFile('germantrafficsigns.zip', 'r') as zip_ref:\n",
        "#         zip_ref.extractall()\n",
        "\n",
        "# # COMPLETE THE CODE IN THIS FUNCTION\n",
        "# def preprocess(image, label):\n",
        "#     # NORMALIZE YOUR IMAGES HERE (HINT: Rescale by 1/.255)\n",
        "\n",
        "#     return image, label\n",
        "\n",
        "\n",
        "# # This function loads the data, normalizes and resizes the images, splits it into\n",
        "# # train and validation sets, defines the model, compiles it and finally\n",
        "# # trains the model. The trained model is returned from this function.\n",
        "\n",
        "# # COMPLETE THE CODE IN THIS FUNCTION.\n",
        "# def solution_model():\n",
        "#     # Downloads and extracts the dataset to the directory that\n",
        "#     # contains this file.\n",
        "#     download_and_extract_data()\n",
        "\n",
        "#     BATCH_SIZE = 32\n",
        "#     IMG_SIZE = 30\n",
        "\n",
        "#     # The following code reads the training and validation data from their\n",
        "#     # respective directories, resizes them into the specified image size\n",
        "#     # and splits them into batches. You must fill in the image_size\n",
        "#     # argument for both training and validation data.\n",
        "#     # HINT: Image size is a tuple\n",
        "#     train_ds = tf.keras.preprocessing.image_dataset_from_directory(\n",
        "#         directory='train/',\n",
        "#         label_mode='categorical',\n",
        "#         image_size=  # YOUR CODE HERE\n",
        "#         , batch_size = BATCH_SIZE)\n",
        "\n",
        "#     val_ds = tf.keras.preprocessing.image_dataset_from_directory(\n",
        "#         directory='validation/',\n",
        "#         label_mode='categorical',\n",
        "#         image_size=  # YOUR CODE HERE\n",
        "#         , batch_size = BATCH_SIZE)\n",
        "\n",
        "#     # Normalizes train and validation datasets using the\n",
        "#     # preprocess() function.\n",
        "#     # Also makes other calls, as evident from the code, to prepare them for\n",
        "#     # training.\n",
        "#     # Do not batch or resize the images in the dataset here since it's already\n",
        "#     # been done previously.\n",
        "\n",
        "#     train_ds = train_ds.map(\n",
        "#         preprocess, num_parallel_calls=tf.data.experimental.AUTOTUNE).prefetch(\n",
        "#         tf.data.experimental.AUTOTUNE)\n",
        "#     val_ds = val_ds.map(\n",
        "#         preprocess, num_parallel_calls=tf.data.experimental.AUTOTUNE)\n",
        "\n",
        "#     # Code to define the model\n",
        "#     model = tf.keras.models.Sequential([\n",
        "#         # ADD LAYERS OF THE MODEL HERE\n",
        "\n",
        "#         # If you don't adhere to the instructions in the following comments,\n",
        "#         # tests will fail to grade your model:\n",
        "#         # The input layer of your model must have an input shape of\n",
        "#         # (30,30,3).\n",
        "#         # Make sure your last layer has 43 neurons activated by softmax.\n",
        "#         tf.keras.layers.Dense(43, activation=tf.nn.softmax)\n",
        "#     ])\n",
        "\n",
        "#     # Code to compile and train the model\n",
        "#     model.compile(\n",
        "\n",
        "#         # YOUR CODE HERE\n",
        "#     )\n",
        "\n",
        "#     model.fit(\n",
        "\n",
        "#         # YOUR CODE HERE\n",
        "#     )\n",
        "\n",
        "#     return model\n",
        "\n",
        "\n",
        "# # Note that you'll need to save your model as a .h5 like this.\n",
        "# # When you press the Submit and Test button, your saved .h5 model will\n",
        "# # be sent to the testing infrastructure for scoring\n",
        "# # and the score will be returned to you.\n",
        "# if __name__ == '__main__':\n",
        "#     model = solution_model()\n",
        "#     model.save(\"mymodel.h5\")\n"
      ]
    },
    {
      "cell_type": "code",
      "source": [
        "import urllib\n",
        "import zipfile\n",
        "\n",
        "import tensorflow as tf\n",
        "\n",
        "from tensorflow import keras\n",
        "from tensorflow.keras import layers\n",
        "from keras.preprocessing.image import ImageDataGenerator\n",
        "import pathlib\n",
        "import os\n",
        "import numpy as np\n",
        "from tensorflow.keras.utils import to_categorical"
      ],
      "metadata": {
        "id": "fFlhUTxpo872"
      },
      "execution_count": 1,
      "outputs": []
    },
    {
      "cell_type": "code",
      "source": [
        "tf.keras.backend.clear_session()"
      ],
      "metadata": {
        "id": "7our2Gtd0-ol"
      },
      "execution_count": 2,
      "outputs": []
    },
    {
      "cell_type": "code",
      "source": [
        "url = 'https://storage.googleapis.com/download.tensorflow.org/data/certificate/germantrafficsigns.zip'\n",
        "urllib.request.urlretrieve(url, 'germantrafficsigns.zip')\n",
        "with zipfile.ZipFile('germantrafficsigns.zip', 'r') as zip_ref:\n",
        "  zip_ref.extractall()"
      ],
      "metadata": {
        "id": "r3OVchy8ox6p"
      },
      "execution_count": 3,
      "outputs": []
    },
    {
      "cell_type": "code",
      "source": [
        "BATCH_SIZE = 32\n",
        "IMG_SIZE = 30"
      ],
      "metadata": {
        "id": "ZFt_uPyQxY5y"
      },
      "execution_count": 4,
      "outputs": []
    },
    {
      "cell_type": "code",
      "source": [],
      "metadata": {
        "id": "YcwMxzm2q2LI"
      },
      "execution_count": null,
      "outputs": []
    },
    {
      "cell_type": "code",
      "source": [
        "def preprocess(image, label):\n",
        "    # NORMALIZE YOUR IMAGES HERE (HINT: Rescale by 1/.255)print(type(label))\n",
        "    image  = image * 1./255\n",
        "\n",
        "    return image, label"
      ],
      "metadata": {
        "id": "xjoKXSdCwOzq"
      },
      "execution_count": 5,
      "outputs": []
    },
    {
      "cell_type": "code",
      "source": [
        "'''\n",
        "If label_mode is None, it yields float32 tensors of shape (batch_size, image_size[0], image_size[1], num_channels), encoding images (see below for rules regarding num_channels).\n",
        "Otherwise, it yields a tuple (images, labels), where images has shape (batch_size, image_size[0], image_size[1], num_channels), and labels follows the format described below.\n",
        "Rules regarding labels format:\n",
        "\n",
        "if label_mode is \"int\", the labels are an int32 tensor of shape (batch_size,).\n",
        "if label_mode is \"binary\", the labels are a float32 tensor of 1s and 0s of shape (batch_size, 1).\n",
        "if label_mode is \"categorical\", the labels are a float32 tensor of shape (batch_size, num_classes), representing a one-hot encoding of the class index.\n",
        "'''\n",
        "\n",
        "train_ds = tf.keras.preprocessing.image_dataset_from_directory(directory='train/', label_mode='categorical', #labels are encoded as a categorical vector (e.g. for categorical_crossentropy loss)\n",
        "                                                               image_size=(IMG_SIZE,IMG_SIZE), batch_size = BATCH_SIZE)\n",
        "\n",
        "val_ds = tf.keras.preprocessing.image_dataset_from_directory(directory='validation/', label_mode='categorical', image_size=(IMG_SIZE,IMG_SIZE), batch_size = BATCH_SIZE)\n"
      ],
      "metadata": {
        "colab": {
          "base_uri": "https://localhost:8080/"
        },
        "id": "8nLYOWSnrnp9",
        "outputId": "232b2773-560f-4eb2-980a-7a2288ac87e9"
      },
      "execution_count": 6,
      "outputs": [
        {
          "output_type": "stream",
          "name": "stdout",
          "text": [
            "Found 31367 files belonging to 43 classes.\n",
            "Found 7842 files belonging to 43 classes.\n"
          ]
        }
      ]
    },
    {
      "cell_type": "code",
      "source": [
        "train_ds = train_ds.map(\n",
        "    preprocess, num_parallel_calls=tf.data.experimental.AUTOTUNE).prefetch(\n",
        "    tf.data.experimental.AUTOTUNE)\n",
        "val_ds = val_ds.map(\n",
        "    preprocess, num_parallel_calls=tf.data.experimental.AUTOTUNE)"
      ],
      "metadata": {
        "id": "nsJnWVN1rLVb"
      },
      "execution_count": 7,
      "outputs": []
    },
    {
      "cell_type": "code",
      "source": [
        "# for x,y in train_ds.take(1):\n",
        "#   print(y)\n",
        "#   print(y.shape)\n",
        "#   y_onehot = np.zeros((y.shape[0], 43))\n",
        "#   for i, onehot_label in enumerate(y_onehot):\n",
        "#     onehot_label[y[i]] = 1.\n",
        "\n",
        "#   print(y_onehot)"
      ],
      "metadata": {
        "colab": {
          "base_uri": "https://localhost:8080/",
          "height": 367
        },
        "id": "vhux_IlhN3ti",
        "outputId": "1781d399-e3ca-48e9-a4b1-9b3df5bd6c95"
      },
      "execution_count": null,
      "outputs": [
        {
          "output_type": "stream",
          "name": "stdout",
          "text": [
            "tf.Tensor(\n",
            "[[0. 0. 0. ... 0. 0. 0.]\n",
            " [0. 0. 1. ... 0. 0. 0.]\n",
            " [0. 1. 0. ... 0. 0. 0.]\n",
            " ...\n",
            " [0. 0. 0. ... 0. 0. 0.]\n",
            " [0. 0. 0. ... 0. 0. 0.]\n",
            " [0. 0. 1. ... 0. 0. 0.]], shape=(32, 43), dtype=float32)\n",
            "(32, 43)\n"
          ]
        },
        {
          "output_type": "error",
          "ename": "IndexError",
          "evalue": "only integers, slices (`:`), ellipsis (`...`), numpy.newaxis (`None`) and integer or boolean arrays are valid indices",
          "traceback": [
            "\u001b[0;31m---------------------------------------------------------------------------\u001b[0m",
            "\u001b[0;31mIndexError\u001b[0m                                Traceback (most recent call last)",
            "\u001b[0;32m<ipython-input-9-1651ba41960b>\u001b[0m in \u001b[0;36m<cell line: 1>\u001b[0;34m()\u001b[0m\n\u001b[1;32m      4\u001b[0m   \u001b[0my_onehot\u001b[0m \u001b[0;34m=\u001b[0m \u001b[0mnp\u001b[0m\u001b[0;34m.\u001b[0m\u001b[0mzeros\u001b[0m\u001b[0;34m(\u001b[0m\u001b[0;34m(\u001b[0m\u001b[0my\u001b[0m\u001b[0;34m.\u001b[0m\u001b[0mshape\u001b[0m\u001b[0;34m[\u001b[0m\u001b[0;36m0\u001b[0m\u001b[0;34m]\u001b[0m\u001b[0;34m,\u001b[0m \u001b[0;36m43\u001b[0m\u001b[0;34m)\u001b[0m\u001b[0;34m)\u001b[0m\u001b[0;34m\u001b[0m\u001b[0;34m\u001b[0m\u001b[0m\n\u001b[1;32m      5\u001b[0m   \u001b[0;32mfor\u001b[0m \u001b[0mi\u001b[0m\u001b[0;34m,\u001b[0m \u001b[0monehot_label\u001b[0m \u001b[0;32min\u001b[0m \u001b[0menumerate\u001b[0m\u001b[0;34m(\u001b[0m\u001b[0my_onehot\u001b[0m\u001b[0;34m)\u001b[0m\u001b[0;34m:\u001b[0m\u001b[0;34m\u001b[0m\u001b[0;34m\u001b[0m\u001b[0m\n\u001b[0;32m----> 6\u001b[0;31m     \u001b[0monehot_label\u001b[0m\u001b[0;34m[\u001b[0m\u001b[0my\u001b[0m\u001b[0;34m[\u001b[0m\u001b[0mi\u001b[0m\u001b[0;34m]\u001b[0m\u001b[0;34m]\u001b[0m \u001b[0;34m=\u001b[0m \u001b[0;36m1.\u001b[0m\u001b[0;34m\u001b[0m\u001b[0;34m\u001b[0m\u001b[0m\n\u001b[0m\u001b[1;32m      7\u001b[0m \u001b[0;34m\u001b[0m\u001b[0m\n\u001b[1;32m      8\u001b[0m   \u001b[0mprint\u001b[0m\u001b[0;34m(\u001b[0m\u001b[0my_onehot\u001b[0m\u001b[0;34m)\u001b[0m\u001b[0;34m\u001b[0m\u001b[0;34m\u001b[0m\u001b[0m\n",
            "\u001b[0;31mIndexError\u001b[0m: only integers, slices (`:`), ellipsis (`...`), numpy.newaxis (`None`) and integer or boolean arrays are valid indices"
          ]
        }
      ]
    },
    {
      "cell_type": "code",
      "source": [
        "\n",
        "# data_augmentation = keras.Sequential(\n",
        "#     [\n",
        "#         layers.RandomFlip(\"horizontal\"),\n",
        "#         layers.RandomRotation(0.2),\n",
        "#         layers.RandomZoom(0.2),\n",
        "#         layers.RandomContrast(0.2),\n",
        "#         layers.RandomHeight(0.2),\n",
        "#         layers.RandomWidth(0.2),\n",
        "#     ]\n",
        "# )\n",
        "\n",
        "# rotation_range=40,\n",
        "#     width_shift_range=0.2,\n",
        "#     height_shift_range=0.2,\n",
        "#     shear_range=0.2,\n",
        "#     zoom_range=0.2,\n",
        "#     fill_mode='nearest',\n",
        "#     horizontal_flip=True,\n",
        "#     rescale=1./255.\n",
        "\n",
        "data_augmentation_layer = tf.keras.Sequential([\n",
        "  tf.keras.layers.RandomFlip('horizontal',input_shape=(30, 30, 3)),\n",
        "  # tf.keras.layers.RandomRotation(0.2),\n",
        "  tf.keras.layers.RandomZoom(0.05)\n",
        "  # tf.keras.layers.RandomWidth(0.1),\n",
        "  # tf.keras.layers.RandomHeight(0.1),\n",
        "  ,tf.keras.layers.RandomContrast(0.2)\n",
        "])"
      ],
      "metadata": {
        "id": "pqT1pSQOtsEh"
      },
      "execution_count": null,
      "outputs": []
    },
    {
      "cell_type": "code",
      "source": [
        "inputs = tf.keras.Input(shape=(30, 30, 3))\n",
        "x = layers.Conv2D(64, (3,3), activation='relu')(inputs)\n",
        "x = layers.MaxPooling2D((2,2))(x)\n",
        "x = layers.Conv2D(128, (3,3), activation='relu')(x)\n",
        "x = layers.MaxPooling2D((2,2))(x)\n",
        "x = layers.Conv2D(128, (3,3), activation='relu')(x)\n",
        "x = layers.MaxPooling2D((2,2))(x)\n",
        "x = tf.keras.layers.GlobalMaxPool2D()(x)\n",
        "x = layers.Dense(512, activation='relu')(x)\n",
        "outputs = layers.Dense(43, activation='softmax')(x)\n",
        "\n",
        "model = tf.keras.Model(inputs, outputs)\n",
        "\n",
        "# model = keras.models.Sequential([\n",
        "#   data_augmentation_layer(input_shape=(30, 30, 3)),\n",
        "#   layers.Rescaling(1./255),\n",
        "#   layers.Conv2D(64, (3,3), activation='relu'),\n",
        "#   layers.MaxPooling2D((2,2)),\n",
        "#   layers.Conv2D(128, (3,3), activation='relu'),\n",
        "#   layers.MaxPooling2D((2,2)),\n",
        "#   layers.Conv2D(128, (3,3), activation='relu'),\n",
        "#   layers.MaxPooling2D((2,2)),\n",
        "#   # layers.Flatten(),\n",
        "#   tf.keras.layers.GlobalMaxPool2D(),\n",
        "#   layers.Dropout(0.2),\n",
        "#   layers.Dense(512, activation='relu'),\n",
        "#   layers.Dense(43, activation='softmax')\n",
        "# ])\n",
        "\n",
        "model.summary()"
      ],
      "metadata": {
        "colab": {
          "base_uri": "https://localhost:8080/"
        },
        "id": "fn9h1rJwsLDN",
        "outputId": "ac58a2c2-68d5-4fc5-c168-7b37a97ccb9f"
      },
      "execution_count": 8,
      "outputs": [
        {
          "output_type": "stream",
          "name": "stdout",
          "text": [
            "Model: \"model\"\n",
            "_________________________________________________________________\n",
            " Layer (type)                Output Shape              Param #   \n",
            "=================================================================\n",
            " input_1 (InputLayer)        [(None, 30, 30, 3)]       0         \n",
            "                                                                 \n",
            " conv2d (Conv2D)             (None, 28, 28, 64)        1792      \n",
            "                                                                 \n",
            " max_pooling2d (MaxPooling2  (None, 14, 14, 64)        0         \n",
            " D)                                                              \n",
            "                                                                 \n",
            " conv2d_1 (Conv2D)           (None, 12, 12, 128)       73856     \n",
            "                                                                 \n",
            " max_pooling2d_1 (MaxPoolin  (None, 6, 6, 128)         0         \n",
            " g2D)                                                            \n",
            "                                                                 \n",
            " conv2d_2 (Conv2D)           (None, 4, 4, 128)         147584    \n",
            "                                                                 \n",
            " max_pooling2d_2 (MaxPoolin  (None, 2, 2, 128)         0         \n",
            " g2D)                                                            \n",
            "                                                                 \n",
            " global_max_pooling2d (Glob  (None, 128)               0         \n",
            " alMaxPooling2D)                                                 \n",
            "                                                                 \n",
            " dense (Dense)               (None, 512)               66048     \n",
            "                                                                 \n",
            " dense_1 (Dense)             (None, 43)                22059     \n",
            "                                                                 \n",
            "=================================================================\n",
            "Total params: 311339 (1.19 MB)\n",
            "Trainable params: 311339 (1.19 MB)\n",
            "Non-trainable params: 0 (0.00 Byte)\n",
            "_________________________________________________________________\n"
          ]
        }
      ]
    },
    {
      "cell_type": "code",
      "source": [
        "from keras.optimizers import RMSprop\n",
        "\n",
        "model.compile(optimizer=RMSprop(learning_rate=0.001),\n",
        "              # loss='sparse_categorical_crossentropy',\n",
        "              loss='categorical_crossentropy',\n",
        "              metrics=['accuracy'])"
      ],
      "metadata": {
        "id": "aHJn3hwpsLo8"
      },
      "execution_count": 9,
      "outputs": []
    },
    {
      "cell_type": "code",
      "source": [
        "\n",
        "epochs=10\n",
        "\n",
        "history = model.fit(\n",
        "  train_ds,\n",
        "  validation_data=val_ds,\n",
        "  epochs=epochs,\n",
        "  # steps_per_epoch = 115,\n",
        "  verbose = 2\n",
        ")\n"
      ],
      "metadata": {
        "colab": {
          "base_uri": "https://localhost:8080/"
        },
        "id": "acE0VNl4sWxE",
        "outputId": "476b5f0f-61bf-477d-e5f2-490a60da10b7"
      },
      "execution_count": 10,
      "outputs": [
        {
          "output_type": "stream",
          "name": "stdout",
          "text": [
            "Epoch 1/10\n",
            "981/981 - 103s - loss: 1.5434 - accuracy: 0.5577 - val_loss: 0.4197 - val_accuracy: 0.8666 - 103s/epoch - 105ms/step\n",
            "Epoch 2/10\n",
            "981/981 - 101s - loss: 0.2166 - accuracy: 0.9349 - val_loss: 0.1503 - val_accuracy: 0.9564 - 101s/epoch - 103ms/step\n",
            "Epoch 3/10\n",
            "981/981 - 98s - loss: 0.0884 - accuracy: 0.9730 - val_loss: 0.3111 - val_accuracy: 0.9315 - 98s/epoch - 100ms/step\n",
            "Epoch 4/10\n",
            "981/981 - 100s - loss: 0.0590 - accuracy: 0.9832 - val_loss: 0.0633 - val_accuracy: 0.9836 - 100s/epoch - 102ms/step\n",
            "Epoch 5/10\n",
            "981/981 - 97s - loss: 0.0448 - accuracy: 0.9876 - val_loss: 0.0773 - val_accuracy: 0.9810 - 97s/epoch - 99ms/step\n",
            "Epoch 6/10\n",
            "981/981 - 97s - loss: 0.0336 - accuracy: 0.9907 - val_loss: 0.0793 - val_accuracy: 0.9847 - 97s/epoch - 99ms/step\n",
            "Epoch 7/10\n",
            "981/981 - 96s - loss: 0.0343 - accuracy: 0.9918 - val_loss: 0.0830 - val_accuracy: 0.9801 - 96s/epoch - 98ms/step\n",
            "Epoch 8/10\n",
            "981/981 - 100s - loss: 0.0288 - accuracy: 0.9927 - val_loss: 0.0431 - val_accuracy: 0.9921 - 100s/epoch - 102ms/step\n",
            "Epoch 9/10\n",
            "981/981 - 98s - loss: 0.0274 - accuracy: 0.9931 - val_loss: 0.0772 - val_accuracy: 0.9815 - 98s/epoch - 100ms/step\n",
            "Epoch 10/10\n",
            "981/981 - 101s - loss: 0.0200 - accuracy: 0.9948 - val_loss: 0.0478 - val_accuracy: 0.9911 - 101s/epoch - 102ms/step\n"
          ]
        }
      ]
    },
    {
      "cell_type": "code",
      "source": [
        "import numpy as np\n",
        "sunflower_path = os.path.join('/content/validation/00042/00001_00013.jpg')\n",
        "\n",
        "img = tf.keras.utils.load_img(\n",
        "    sunflower_path, target_size=(30, 30)\n",
        ")\n",
        "img_array = tf.keras.utils.img_to_array(img)\n",
        "img_array = tf.expand_dims(img_array, 0) # Create a batch\n",
        "\n",
        "predictions = model.predict(img_array)\n",
        "score = tf.nn.softmax(predictions[0])\n",
        "\n",
        "print(np.argmax(score))\n",
        "\n",
        "# print(\n",
        "#     \"This image most likely belongs to {} with a {:.2f} percent confidence.\"\n",
        "#     .format(class_names[np.argmax(score)], 100 * np.max(score))\n",
        "# )\n",
        "\n",
        "# model.predict('/content/validation/00001/00000_00000.jpg')"
      ],
      "metadata": {
        "id": "lU_v434iDGdv",
        "outputId": "f19bfbdb-49aa-47d1-cac0-834b519a9200",
        "colab": {
          "base_uri": "https://localhost:8080/"
        }
      },
      "execution_count": 11,
      "outputs": [
        {
          "output_type": "stream",
          "name": "stdout",
          "text": [
            "1/1 [==============================] - 0s 337ms/step\n",
            "42\n"
          ]
        }
      ]
    },
    {
      "cell_type": "code",
      "source": [
        "import matplotlib.pyplot as plt\n",
        "%matplotlib inline\n",
        "%config InlineBackend.fugure_format = 'retina'\n",
        "def plot_loss_acc(history):\n",
        "  #-----------------------------------------------------------\n",
        "  # Retrieve a list of list results on training and test data\n",
        "  # sets for each training epoch\n",
        "  #-----------------------------------------------------------\n",
        "  acc      = history.history[     'accuracy' ]\n",
        "  val_acc  = history.history[ 'val_accuracy' ]\n",
        "  loss     = history.history[    'loss' ]\n",
        "  val_loss = history.history['val_loss' ]\n",
        "  epochs   = range(len(acc)) # Get number of epochs\n",
        "  #------------------------------------------------\n",
        "  # Plot training and validation accuracy per epoch\n",
        "  #------------------------------------------------\n",
        "  plt.plot  ( epochs,     acc, label='Training accuracy' )\n",
        "  plt.plot  ( epochs, val_acc, label='Validation accuracy' )\n",
        "  plt.title ('Training and validation accuracy')\n",
        "  plt.grid()\n",
        "  plt.legend()\n",
        "  plt.xlabel(\"Epochs\")\n",
        "  plt.ylabel(\"Accuracy\")\n",
        "  plt.figure()\n",
        "  #------------------------------------------------\n",
        "  # Plot training and validation loss per epoch\n",
        "  #------------------------------------------------\n",
        "  plt.plot  ( epochs,     loss, label='Training loss' )\n",
        "  plt.plot  ( epochs, val_loss, label='Validation loss' )\n",
        "  plt.grid()\n",
        "  plt.legend()\n",
        "  plt.xlabel(\"Epochs\")\n",
        "  plt.ylabel(\"Loss\")\n",
        "  plt.title ('Training and validation loss'   )\n",
        "\n",
        "# Plot training results\n",
        "plot_loss_acc(history)"
      ],
      "metadata": {
        "id": "rXdtNX6YsfJI",
        "outputId": "f7684469-3523-4a87-c986-cc1ad1858df5",
        "colab": {
          "base_uri": "https://localhost:8080/",
          "height": 927
        }
      },
      "execution_count": 12,
      "outputs": [
        {
          "output_type": "display_data",
          "data": {
            "text/plain": [
              "<Figure size 640x480 with 1 Axes>"
            ],
            "image/png": "[encoded data removed]"
          },
          "metadata": {}
        },
        {
          "output_type": "display_data",
          "data": {
            "text/plain": [
              "<Figure size 640x480 with 1 Axes>"
            ],
            "image/png": "[encoded data removed]"
          },
          "metadata": {}
        }
      ]
    },
    {
      "cell_type": "code",
      "source": [
        "from google.colab import drive\n",
        "drive.mount('/content/drive')"
      ],
      "metadata": {
        "id": "-s4CAzZ51jvl"
      },
      "execution_count": null,
      "outputs": []
    },
    {
      "cell_type": "code",
      "source": [
        "model.save(\"/content/drive/MyDrive/Data Science & Machine Learning/Tensorflow Certification/Repository/exam/3/mymodel.h5\")\n",
        "\n",
        "# /Users/shuchimishra/Library/CloudStorage/GoogleDrive-shuchimishra@g.ucla.edu/My Drive/Data Science & Machine Learning/Tensorflow Certification/Repository/exam"
      ],
      "metadata": {
        "id": "NdpNoeqd12Av"
      },
      "execution_count": null,
      "outputs": []
    },
    {
      "cell_type": "code",
      "source": [
        "!cp \"/content/drive/MyDrive/Data Science & Machine Learning/Tensorflow Certification/Repository/exam/3/mymodel.h5\" \"/Users/shuchimishra/Library/Caches/JetBrains/PyCharm2023.3/certification/Category3/\""
      ],
      "metadata": {
        "id": "Ti2czVMPBTf9"
      },
      "execution_count": null,
      "outputs": []
    },
    {
      "cell_type": "code",
      "source": [
        "model.save(\"mymodel.h5\")"
      ],
      "metadata": {
        "colab": {
          "base_uri": "https://localhost:8080/"
        },
        "id": "8hpLGs4rBxVy",
        "outputId": "6b7cee7f-e7b1-4f77-f9c6-02aa1464563a"
      },
      "execution_count": null,
      "outputs": [
        {
          "output_type": "stream",
          "name": "stderr",
          "text": [
            "/usr/local/lib/python3.10/dist-packages/keras/src/engine/training.py:3103: UserWarning: You are saving your model as an HDF5 file via `model.save()`. This file format is considered legacy. We recommend using instead the native Keras format, e.g. `model.save('my_model.keras')`.\n",
            "  saving_api.save_model(\n"
          ]
        }
      ]
    }
  ]
}