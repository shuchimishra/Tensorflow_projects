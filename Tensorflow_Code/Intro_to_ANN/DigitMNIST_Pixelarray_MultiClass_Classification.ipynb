{
  "cells": [
    {
      "cell_type": "markdown",
      "metadata": {
        "id": "view-in-github",
        "colab_type": "text"
      },
      "source": [
        "<a href=\"https://colab.research.google.com/github/shuchimishra/Tensorflow_projects/blob/main/Tensorflow_Code/Intro_to_ANN/DigitMNIST_Pixelarray_MultiClass_Classification.ipynb\" target=\"_parent\"><img src=\"https://colab.research.google.com/assets/colab-badge.svg\" alt=\"Open In Colab\"/></a>"
      ]
    },
    {
      "cell_type": "markdown",
      "id": "982342e5",
      "metadata": {
        "id": "982342e5"
      },
      "source": [
        "<a href=\"https://colab.research.google.com/github/shuchimishra/Tensorflow_projects/blob/main/Tensorflow_Code/Intro_to_ANN/Sign_MNIST_MultiClass_Classification.ipynb\" target=\"_parent\"><img src=\"https://colab.research.google.com/assets/colab-badge.svg\" alt=\"Open In Colab\"/></a>"
      ]
    },
    {
      "cell_type": "markdown",
      "id": "55425ba6",
      "metadata": {
        "id": "55425ba6"
      },
      "source": [
        "# **Multi-class Classification**"
      ]
    },
    {
      "cell_type": "code",
      "execution_count": 1,
      "id": "689f1257",
      "metadata": {
        "id": "689f1257",
        "tags": [
          "graded"
        ]
      },
      "outputs": [],
      "source": [
        "# grader-required-cell\n",
        "\n",
        "import csv\n",
        "import string\n",
        "import numpy as np\n",
        "import tensorflow as tf\n",
        "import matplotlib.pyplot as plt\n",
        "from tensorflow.keras.preprocessing.image import ImageDataGenerator, array_to_img\n",
        "import pandas as pd\n",
        "from sklearn.model_selection import train_test_split"
      ]
    },
    {
      "cell_type": "markdown",
      "id": "8e2ff6d2",
      "metadata": {
        "id": "8e2ff6d2"
      },
      "source": [
        "Download the training and test sets (the test set will actually be used as a validation set):"
      ]
    },
    {
      "cell_type": "code",
      "execution_count": 2,
      "id": "299f1a94",
      "metadata": {
        "id": "299f1a94"
      },
      "outputs": [],
      "source": [
        "# !pip install gdown==5.1.0"
      ]
    },
    {
      "cell_type": "code",
      "execution_count": 3,
      "id": "c2187066",
      "metadata": {
        "id": "c2187066",
        "tags": []
      },
      "outputs": [],
      "source": [
        "# # sign_mnist_train.csv\n",
        "# !gdown --id 1z0DkA9BytlLxO1C0BAWzknLyQmZAp0HR\n",
        "# # sign_mnist_test.csv\n",
        "# !gdown --id 1z1BIj4qmri59GWBG4ivMNFtpZ4AXIbzg"
      ]
    },
    {
      "cell_type": "code",
      "source": [
        "from google.colab import drive\n",
        "drive.mount('/content/drive')"
      ],
      "metadata": {
        "colab": {
          "base_uri": "https://localhost:8080/"
        },
        "id": "IUzYfPUOFMSV",
        "outputId": "6298e1ad-0669-4c6f-cf45-f23702b7416f"
      },
      "id": "IUzYfPUOFMSV",
      "execution_count": 4,
      "outputs": [
        {
          "output_type": "stream",
          "name": "stdout",
          "text": [
            "Mounted at /content/drive\n"
          ]
        }
      ]
    },
    {
      "cell_type": "code",
      "source": [
        "!cp -R '/content/drive/MyDrive/Data Science & Machine Learning/Tensorflow Certification/Repository/Tensorflow_projects/Data/DigitRecognizer dataset/' './DigitRecognizer'"
      ],
      "metadata": {
        "id": "Ux_Gfq2wFLWp"
      },
      "id": "Ux_Gfq2wFLWp",
      "execution_count": 5,
      "outputs": []
    },
    {
      "cell_type": "markdown",
      "id": "7cb15ecc",
      "metadata": {
        "id": "7cb15ecc"
      },
      "source": [
        "Define some globals with the path to both files you just downloaded:"
      ]
    },
    {
      "cell_type": "code",
      "execution_count": 6,
      "id": "3b992532",
      "metadata": {
        "id": "3b992532",
        "tags": [
          "graded"
        ]
      },
      "outputs": [],
      "source": [
        "TRAINING_FILE = './DigitRecognizer/train.csv'\n",
        "TEST_FILE = './DigitRecognizer/test.csv'"
      ]
    },
    {
      "cell_type": "code",
      "source": [
        "#Read the data from CSV files.\n",
        "train_df=pd.read_csv(TRAINING_FILE)\n",
        "test_df=pd.read_csv(TEST_FILE)"
      ],
      "metadata": {
        "id": "8GW4PDPTK4v8"
      },
      "id": "8GW4PDPTK4v8",
      "execution_count": 7,
      "outputs": []
    },
    {
      "cell_type": "code",
      "source": [
        "train_df.head()"
      ],
      "metadata": {
        "colab": {
          "base_uri": "https://localhost:8080/",
          "height": 255
        },
        "id": "j_9p6sWEK7ks",
        "outputId": "6b1d8ca1-4f95-434c-bfd9-f864408f3a94"
      },
      "id": "j_9p6sWEK7ks",
      "execution_count": 8,
      "outputs": [
        {
          "output_type": "execute_result",
          "data": {
            "text/plain": [
              "   label  pixel0  pixel1  pixel2  pixel3  pixel4  pixel5  pixel6  pixel7  \\\n",
              "0      1       0       0       0       0       0       0       0       0   \n",
              "1      0       0       0       0       0       0       0       0       0   \n",
              "2      1       0       0       0       0       0       0       0       0   \n",
              "3      4       0       0       0       0       0       0       0       0   \n",
              "4      0       0       0       0       0       0       0       0       0   \n",
              "\n",
              "   pixel8  ...  pixel774  pixel775  pixel776  pixel777  pixel778  pixel779  \\\n",
              "0       0  ...         0         0         0         0         0         0   \n",
              "1       0  ...         0         0         0         0         0         0   \n",
              "2       0  ...         0         0         0         0         0         0   \n",
              "3       0  ...         0         0         0         0         0         0   \n",
              "4       0  ...         0         0         0         0         0         0   \n",
              "\n",
              "   pixel780  pixel781  pixel782  pixel783  \n",
              "0         0         0         0         0  \n",
              "1         0         0         0         0  \n",
              "2         0         0         0         0  \n",
              "3         0         0         0         0  \n",
              "4         0         0         0         0  \n",
              "\n",
              "[5 rows x 785 columns]"
            ],
            "text/html": [
              "\n",
              "  <div id=\"df-99c3d6f5-7003-4001-b8c3-7905a847e57f\" class=\"colab-df-container\">\n",
              "    <div>\n",
              "<style scoped>\n",
              "    .dataframe tbody tr th:only-of-type {\n",
              "        vertical-align: middle;\n",
              "    }\n",
              "\n",
              "    .dataframe tbody tr th {\n",
              "        vertical-align: top;\n",
              "    }\n",
              "\n",
              "    .dataframe thead th {\n",
              "        text-align: right;\n",
              "    }\n",
              "</style>\n",
              "<table border=\"1\" class=\"dataframe\">\n",
              "  <thead>\n",
              "    <tr style=\"text-align: right;\">\n",
              "      <th></th>\n",
              "      <th>label</th>\n",
              "      <th>pixel0</th>\n",
              "      <th>pixel1</th>\n",
              "      <th>pixel2</th>\n",
              "      <th>pixel3</th>\n",
              "      <th>pixel4</th>\n",
              "      <th>pixel5</th>\n",
              "      <th>pixel6</th>\n",
              "      <th>pixel7</th>\n",
              "      <th>pixel8</th>\n",
              "      <th>...</th>\n",
              "      <th>pixel774</th>\n",
              "      <th>pixel775</th>\n",
              "      <th>pixel776</th>\n",
              "      <th>pixel777</th>\n",
              "      <th>pixel778</th>\n",
              "      <th>pixel779</th>\n",
              "      <th>pixel780</th>\n",
              "      <th>pixel781</th>\n",
              "      <th>pixel782</th>\n",
              "      <th>pixel783</th>\n",
              "    </tr>\n",
              "  </thead>\n",
              "  <tbody>\n",
              "    <tr>\n",
              "      <th>0</th>\n",
              "      <td>1</td>\n",
              "      <td>0</td>\n",
              "      <td>0</td>\n",
              "      <td>0</td>\n",
              "      <td>0</td>\n",
              "      <td>0</td>\n",
              "      <td>0</td>\n",
              "      <td>0</td>\n",
              "      <td>0</td>\n",
              "      <td>0</td>\n",
              "      <td>...</td>\n",
              "      <td>0</td>\n",
              "      <td>0</td>\n",
              "      <td>0</td>\n",
              "      <td>0</td>\n",
              "      <td>0</td>\n",
              "      <td>0</td>\n",
              "      <td>0</td>\n",
              "      <td>0</td>\n",
              "      <td>0</td>\n",
              "      <td>0</td>\n",
              "    </tr>\n",
              "    <tr>\n",
              "      <th>1</th>\n",
              "      <td>0</td>\n",
              "      <td>0</td>\n",
              "      <td>0</td>\n",
              "      <td>0</td>\n",
              "      <td>0</td>\n",
              "      <td>0</td>\n",
              "      <td>0</td>\n",
              "      <td>0</td>\n",
              "      <td>0</td>\n",
              "      <td>0</td>\n",
              "      <td>...</td>\n",
              "      <td>0</td>\n",
              "      <td>0</td>\n",
              "      <td>0</td>\n",
              "      <td>0</td>\n",
              "      <td>0</td>\n",
              "      <td>0</td>\n",
              "      <td>0</td>\n",
              "      <td>0</td>\n",
              "      <td>0</td>\n",
              "      <td>0</td>\n",
              "    </tr>\n",
              "    <tr>\n",
              "      <th>2</th>\n",
              "      <td>1</td>\n",
              "      <td>0</td>\n",
              "      <td>0</td>\n",
              "      <td>0</td>\n",
              "      <td>0</td>\n",
              "      <td>0</td>\n",
              "      <td>0</td>\n",
              "      <td>0</td>\n",
              "      <td>0</td>\n",
              "      <td>0</td>\n",
              "      <td>...</td>\n",
              "      <td>0</td>\n",
              "      <td>0</td>\n",
              "      <td>0</td>\n",
              "      <td>0</td>\n",
              "      <td>0</td>\n",
              "      <td>0</td>\n",
              "      <td>0</td>\n",
              "      <td>0</td>\n",
              "      <td>0</td>\n",
              "      <td>0</td>\n",
              "    </tr>\n",
              "    <tr>\n",
              "      <th>3</th>\n",
              "      <td>4</td>\n",
              "      <td>0</td>\n",
              "      <td>0</td>\n",
              "      <td>0</td>\n",
              "      <td>0</td>\n",
              "      <td>0</td>\n",
              "      <td>0</td>\n",
              "      <td>0</td>\n",
              "      <td>0</td>\n",
              "      <td>0</td>\n",
              "      <td>...</td>\n",
              "      <td>0</td>\n",
              "      <td>0</td>\n",
              "      <td>0</td>\n",
              "      <td>0</td>\n",
              "      <td>0</td>\n",
              "      <td>0</td>\n",
              "      <td>0</td>\n",
              "      <td>0</td>\n",
              "      <td>0</td>\n",
              "      <td>0</td>\n",
              "    </tr>\n",
              "    <tr>\n",
              "      <th>4</th>\n",
              "      <td>0</td>\n",
              "      <td>0</td>\n",
              "      <td>0</td>\n",
              "      <td>0</td>\n",
              "      <td>0</td>\n",
              "      <td>0</td>\n",
              "      <td>0</td>\n",
              "      <td>0</td>\n",
              "      <td>0</td>\n",
              "      <td>0</td>\n",
              "      <td>...</td>\n",
              "      <td>0</td>\n",
              "      <td>0</td>\n",
              "      <td>0</td>\n",
              "      <td>0</td>\n",
              "      <td>0</td>\n",
              "      <td>0</td>\n",
              "      <td>0</td>\n",
              "      <td>0</td>\n",
              "      <td>0</td>\n",
              "      <td>0</td>\n",
              "    </tr>\n",
              "  </tbody>\n",
              "</table>\n",
              "<p>5 rows × 785 columns</p>\n",
              "</div>\n",
              "    <div class=\"colab-df-buttons\">\n",
              "\n",
              "  <div class=\"colab-df-container\">\n",
              "    <button class=\"colab-df-convert\" onclick=\"convertToInteractive('df-99c3d6f5-7003-4001-b8c3-7905a847e57f')\"\n",
              "            title=\"Convert this dataframe to an interactive table.\"\n",
              "            style=\"display:none;\">\n",
              "\n",
              "  <svg xmlns=\"http://www.w3.org/2000/svg\" height=\"24px\" viewBox=\"0 -960 960 960\">\n",
              "    <path d=\"M120-120v-720h720v720H120Zm60-500h600v-160H180v160Zm220 220h160v-160H400v160Zm0 220h160v-160H400v160ZM180-400h160v-160H180v160Zm440 0h160v-160H620v160ZM180-180h160v-160H180v160Zm440 0h160v-160H620v160Z\"/>\n",
              "  </svg>\n",
              "    </button>\n",
              "\n",
              "  <style>\n",
              "    .colab-df-container {\n",
              "      display:flex;\n",
              "      gap: 12px;\n",
              "    }\n",
              "\n",
              "    .colab-df-convert {\n",
              "      background-color: #E8F0FE;\n",
              "      border: none;\n",
              "      border-radius: 50%;\n",
              "      cursor: pointer;\n",
              "      display: none;\n",
              "      fill: #1967D2;\n",
              "      height: 32px;\n",
              "      padding: 0 0 0 0;\n",
              "      width: 32px;\n",
              "    }\n",
              "\n",
              "    .colab-df-convert:hover {\n",
              "      background-color: #E2EBFA;\n",
              "      box-shadow: 0px 1px 2px rgba(60, 64, 67, 0.3), 0px 1px 3px 1px rgba(60, 64, 67, 0.15);\n",
              "      fill: #174EA6;\n",
              "    }\n",
              "\n",
              "    .colab-df-buttons div {\n",
              "      margin-bottom: 4px;\n",
              "    }\n",
              "\n",
              "    [theme=dark] .colab-df-convert {\n",
              "      background-color: #3B4455;\n",
              "      fill: #D2E3FC;\n",
              "    }\n",
              "\n",
              "    [theme=dark] .colab-df-convert:hover {\n",
              "      background-color: #434B5C;\n",
              "      box-shadow: 0px 1px 3px 1px rgba(0, 0, 0, 0.15);\n",
              "      filter: drop-shadow(0px 1px 2px rgba(0, 0, 0, 0.3));\n",
              "      fill: #FFFFFF;\n",
              "    }\n",
              "  </style>\n",
              "\n",
              "    <script>\n",
              "      const buttonEl =\n",
              "        document.querySelector('#df-99c3d6f5-7003-4001-b8c3-7905a847e57f button.colab-df-convert');\n",
              "      buttonEl.style.display =\n",
              "        google.colab.kernel.accessAllowed ? 'block' : 'none';\n",
              "\n",
              "      async function convertToInteractive(key) {\n",
              "        const element = document.querySelector('#df-99c3d6f5-7003-4001-b8c3-7905a847e57f');\n",
              "        const dataTable =\n",
              "          await google.colab.kernel.invokeFunction('convertToInteractive',\n",
              "                                                    [key], {});\n",
              "        if (!dataTable) return;\n",
              "\n",
              "        const docLinkHtml = 'Like what you see? Visit the ' +\n",
              "          '<a target=\"_blank\" href=https://colab.research.google.com/notebooks/data_table.ipynb>data table notebook</a>'\n",
              "          + ' to learn more about interactive tables.';\n",
              "        element.innerHTML = '';\n",
              "        dataTable['output_type'] = 'display_data';\n",
              "        await google.colab.output.renderOutput(dataTable, element);\n",
              "        const docLink = document.createElement('div');\n",
              "        docLink.innerHTML = docLinkHtml;\n",
              "        element.appendChild(docLink);\n",
              "      }\n",
              "    </script>\n",
              "  </div>\n",
              "\n",
              "\n",
              "<div id=\"df-5380e30f-b3f7-4caf-aa83-caf193c64e7a\">\n",
              "  <button class=\"colab-df-quickchart\" onclick=\"quickchart('df-5380e30f-b3f7-4caf-aa83-caf193c64e7a')\"\n",
              "            title=\"Suggest charts\"\n",
              "            style=\"display:none;\">\n",
              "\n",
              "<svg xmlns=\"http://www.w3.org/2000/svg\" height=\"24px\"viewBox=\"0 0 24 24\"\n",
              "     width=\"24px\">\n",
              "    <g>\n",
              "        <path d=\"M19 3H5c-1.1 0-2 .9-2 2v14c0 1.1.9 2 2 2h14c1.1 0 2-.9 2-2V5c0-1.1-.9-2-2-2zM9 17H7v-7h2v7zm4 0h-2V7h2v10zm4 0h-2v-4h2v4z\"/>\n",
              "    </g>\n",
              "</svg>\n",
              "  </button>\n",
              "\n",
              "<style>\n",
              "  .colab-df-quickchart {\n",
              "      --bg-color: #E8F0FE;\n",
              "      --fill-color: #1967D2;\n",
              "      --hover-bg-color: #E2EBFA;\n",
              "      --hover-fill-color: #174EA6;\n",
              "      --disabled-fill-color: #AAA;\n",
              "      --disabled-bg-color: #DDD;\n",
              "  }\n",
              "\n",
              "  [theme=dark] .colab-df-quickchart {\n",
              "      --bg-color: #3B4455;\n",
              "      --fill-color: #D2E3FC;\n",
              "      --hover-bg-color: #434B5C;\n",
              "      --hover-fill-color: #FFFFFF;\n",
              "      --disabled-bg-color: #3B4455;\n",
              "      --disabled-fill-color: #666;\n",
              "  }\n",
              "\n",
              "  .colab-df-quickchart {\n",
              "    background-color: var(--bg-color);\n",
              "    border: none;\n",
              "    border-radius: 50%;\n",
              "    cursor: pointer;\n",
              "    display: none;\n",
              "    fill: var(--fill-color);\n",
              "    height: 32px;\n",
              "    padding: 0;\n",
              "    width: 32px;\n",
              "  }\n",
              "\n",
              "  .colab-df-quickchart:hover {\n",
              "    background-color: var(--hover-bg-color);\n",
              "    box-shadow: 0 1px 2px rgba(60, 64, 67, 0.3), 0 1px 3px 1px rgba(60, 64, 67, 0.15);\n",
              "    fill: var(--button-hover-fill-color);\n",
              "  }\n",
              "\n",
              "  .colab-df-quickchart-complete:disabled,\n",
              "  .colab-df-quickchart-complete:disabled:hover {\n",
              "    background-color: var(--disabled-bg-color);\n",
              "    fill: var(--disabled-fill-color);\n",
              "    box-shadow: none;\n",
              "  }\n",
              "\n",
              "  .colab-df-spinner {\n",
              "    border: 2px solid var(--fill-color);\n",
              "    border-color: transparent;\n",
              "    border-bottom-color: var(--fill-color);\n",
              "    animation:\n",
              "      spin 1s steps(1) infinite;\n",
              "  }\n",
              "\n",
              "  @keyframes spin {\n",
              "    0% {\n",
              "      border-color: transparent;\n",
              "      border-bottom-color: var(--fill-color);\n",
              "      border-left-color: var(--fill-color);\n",
              "    }\n",
              "    20% {\n",
              "      border-color: transparent;\n",
              "      border-left-color: var(--fill-color);\n",
              "      border-top-color: var(--fill-color);\n",
              "    }\n",
              "    30% {\n",
              "      border-color: transparent;\n",
              "      border-left-color: var(--fill-color);\n",
              "      border-top-color: var(--fill-color);\n",
              "      border-right-color: var(--fill-color);\n",
              "    }\n",
              "    40% {\n",
              "      border-color: transparent;\n",
              "      border-right-color: var(--fill-color);\n",
              "      border-top-color: var(--fill-color);\n",
              "    }\n",
              "    60% {\n",
              "      border-color: transparent;\n",
              "      border-right-color: var(--fill-color);\n",
              "    }\n",
              "    80% {\n",
              "      border-color: transparent;\n",
              "      border-right-color: var(--fill-color);\n",
              "      border-bottom-color: var(--fill-color);\n",
              "    }\n",
              "    90% {\n",
              "      border-color: transparent;\n",
              "      border-bottom-color: var(--fill-color);\n",
              "    }\n",
              "  }\n",
              "</style>\n",
              "\n",
              "  <script>\n",
              "    async function quickchart(key) {\n",
              "      const quickchartButtonEl =\n",
              "        document.querySelector('#' + key + ' button');\n",
              "      quickchartButtonEl.disabled = true;  // To prevent multiple clicks.\n",
              "      quickchartButtonEl.classList.add('colab-df-spinner');\n",
              "      try {\n",
              "        const charts = await google.colab.kernel.invokeFunction(\n",
              "            'suggestCharts', [key], {});\n",
              "      } catch (error) {\n",
              "        console.error('Error during call to suggestCharts:', error);\n",
              "      }\n",
              "      quickchartButtonEl.classList.remove('colab-df-spinner');\n",
              "      quickchartButtonEl.classList.add('colab-df-quickchart-complete');\n",
              "    }\n",
              "    (() => {\n",
              "      let quickchartButtonEl =\n",
              "        document.querySelector('#df-5380e30f-b3f7-4caf-aa83-caf193c64e7a button');\n",
              "      quickchartButtonEl.style.display =\n",
              "        google.colab.kernel.accessAllowed ? 'block' : 'none';\n",
              "    })();\n",
              "  </script>\n",
              "</div>\n",
              "    </div>\n",
              "  </div>\n"
            ],
            "application/vnd.google.colaboratory.intrinsic+json": {
              "type": "dataframe",
              "variable_name": "train_df"
            }
          },
          "metadata": {},
          "execution_count": 8
        }
      ]
    },
    {
      "cell_type": "markdown",
      "source": [
        "# **Supporting Functions**"
      ],
      "metadata": {
        "id": "cnquMYV3MeN4"
      },
      "id": "cnquMYV3MeN4"
    },
    {
      "cell_type": "code",
      "source": [
        "import matplotlib.pyplot as plt\n",
        "%matplotlib inline\n",
        "%config InlineBackend.fugure_format = 'retina'\n",
        "def plot_loss_acc(history):\n",
        "  #-----------------------------------------------------------\n",
        "  # Retrieve a list of list results on training and test data\n",
        "  # sets for each training epoch\n",
        "  #-----------------------------------------------------------\n",
        "  acc      = history.history[     'accuracy' ]\n",
        "  val_acc  = history.history[ 'val_accuracy' ]\n",
        "  loss     = history.history[    'loss' ]\n",
        "  val_loss = history.history['val_loss' ]\n",
        "  epochs   = range(len(acc)) # Get number of epochs\n",
        "  #------------------------------------------------\n",
        "  # Plot training and validation accuracy per epoch\n",
        "  #------------------------------------------------\n",
        "  plt.plot  ( epochs,     acc, label='Training accuracy' )\n",
        "  plt.plot  ( epochs, val_acc, label='Validation accuracy' )\n",
        "  plt.title ('Training and validation accuracy')\n",
        "  plt.grid()\n",
        "  plt.legend()\n",
        "  plt.xlabel(\"Epochs\")\n",
        "  plt.ylabel(\"Accuracy\")\n",
        "  plt.figure()\n",
        "  #------------------------------------------------\n",
        "  # Plot training and validation loss per epoch\n",
        "  #------------------------------------------------\n",
        "  plt.plot  ( epochs,     loss, label='Training loss' )\n",
        "  plt.plot  ( epochs, val_loss, label='Validation loss' )\n",
        "  plt.grid()\n",
        "  plt.legend()\n",
        "  plt.xlabel(\"Epochs\")\n",
        "  plt.ylabel(\"Loss\")\n",
        "  plt.title ('Training and validation loss'   )\n"
      ],
      "metadata": {
        "id": "7cgkwz32MVgR"
      },
      "id": "7cgkwz32MVgR",
      "execution_count": 9,
      "outputs": []
    },
    {
      "cell_type": "markdown",
      "source": [
        "show_img_dataset(X, y=None, nrows = 4, ncols=4, firstimg=100, numimg=4)\n",
        "\n",
        "Show images from a dataset. It have a lot of parameters, but just one is obligatory.\n",
        "\n",
        "Parameters:\n",
        "\n",
        "X--> The dataset containing the images.\n",
        "y--> The labels. If informed it will appear below the image.\n",
        "nrows\n",
        "ncols\n",
        "firstimg--> The first img to show, if to big the function fails, I don't check it.\n",
        "numimg--> The number of images to display."
      ],
      "metadata": {
        "id": "e3pmYFyxMpaV"
      },
      "id": "e3pmYFyxMpaV"
    },
    {
      "cell_type": "code",
      "source": [
        "def show_img_dataset(X, y=None, nrows = 4, ncols=4, firstimg=100, numimg=4):\n",
        "    for i in range(numimg):\n",
        "        sp = plt.subplot(nrows, ncols, i + 1)\n",
        "\n",
        "        sp.axis('Off')\n",
        "        plt.imshow(X[firstimg+i], cmap=\"Greys\")\n",
        "        if (y is not None):\n",
        "            plt.title(y[firstimg+i])\n",
        "    plt.show()"
      ],
      "metadata": {
        "id": "ha6TuoZIMt3R"
      },
      "id": "ha6TuoZIMt3R",
      "execution_count": 10,
      "outputs": []
    },
    {
      "cell_type": "code",
      "source": [
        "#return predictions of the model received.\n",
        "def get_predictions(model, X, y):\n",
        "    predictions=model.predict(X)\n",
        "    results = pd.DataFrame(data={'Predictions': np.argmax(predictions, axis=1),\n",
        "                            'Actuals': np.argmax(y, axis=1)})\n",
        "    predictions.shape, y.shape\n",
        "    return predictions, results"
      ],
      "metadata": {
        "id": "xsW25GaTfZYc"
      },
      "id": "xsW25GaTfZYc",
      "execution_count": null,
      "outputs": []
    },
    {
      "cell_type": "markdown",
      "source": [
        "# **Parsing the data**"
      ],
      "metadata": {
        "id": "xHLxuEZCGer8"
      },
      "id": "xHLxuEZCGer8"
    },
    {
      "cell_type": "code",
      "source": [
        "#Process training data\n",
        "#Obtain Features and labels.\n",
        "training_images= train_df.drop('label', axis=1)\n",
        "training_labels = train_df['label']\n",
        "\n",
        "training_images.shape, training_labels.shape"
      ],
      "metadata": {
        "colab": {
          "base_uri": "https://localhost:8080/"
        },
        "id": "X32anA44GlJx",
        "outputId": "e2216890-dbed-4aa6-9906-fc633b6acb6e"
      },
      "id": "X32anA44GlJx",
      "execution_count": 11,
      "outputs": [
        {
          "output_type": "execute_result",
          "data": {
            "text/plain": [
              "((42000, 784), (42000,))"
            ]
          },
          "metadata": {},
          "execution_count": 11
        }
      ]
    },
    {
      "cell_type": "code",
      "source": [
        "#Process test data\n",
        "test_images = test_df\n",
        "test_images.shape"
      ],
      "metadata": {
        "colab": {
          "base_uri": "https://localhost:8080/"
        },
        "id": "FUYtnqC4LKdZ",
        "outputId": "0ee3b2b1-92db-4fe7-eda8-6ed42ff50af7"
      },
      "id": "FUYtnqC4LKdZ",
      "execution_count": 12,
      "outputs": [
        {
          "output_type": "execute_result",
          "data": {
            "text/plain": [
              "(28000, 784)"
            ]
          },
          "metadata": {},
          "execution_count": 12
        }
      ]
    },
    {
      "cell_type": "code",
      "execution_count": 13,
      "id": "4ae53f24",
      "metadata": {
        "colab": {
          "base_uri": "https://localhost:8080/"
        },
        "id": "4ae53f24",
        "outputId": "2bab4e7b-911f-4cdc-8689-f781c22a579c",
        "tags": [
          "graded"
        ]
      },
      "outputs": [
        {
          "output_type": "execute_result",
          "data": {
            "text/plain": [
              "((42000, 28, 28, 1), (28000, 28, 28, 1))"
            ]
          },
          "metadata": {},
          "execution_count": 13
        }
      ],
      "source": [
        "#Reshape data\n",
        "training_images = np.array(training_images).reshape(training_images.shape[0], 28, 28, 1)\n",
        "\n",
        "test_images = np.array(test_images).reshape((test_images.shape[0], 28, 28, 1))\n",
        "\n",
        "training_images.shape, test_images.shape"
      ]
    },
    {
      "cell_type": "markdown",
      "id": "a04e8e23",
      "metadata": {
        "id": "a04e8e23"
      },
      "source": [
        "## Visualizing the numpy arrays\n",
        "\n",
        "Now that you have converted the initial csv data into a format that is compatible with computer vision tasks, take a moment to actually see how the images of the dataset look like:"
      ]
    },
    {
      "cell_type": "code",
      "source": [
        "show_img_dataset(training_images,training_labels, firstimg=780, nrows = 2, ncols=4, numimg=8)"
      ],
      "metadata": {
        "colab": {
          "base_uri": "https://localhost:8080/",
          "height": 368
        },
        "id": "N07vXYdPM018",
        "outputId": "c39b2cf9-a735-47ac-8018-b1fd4ef80a46"
      },
      "id": "N07vXYdPM018",
      "execution_count": 14,
      "outputs": [
        {
          "output_type": "display_data",
          "data": {
            "text/plain": [
              "<Figure size 640x480 with 8 Axes>"
            ],
            "image/png": "[encoded data removed]"
          },
          "metadata": {}
        }
      ]
    },
    {
      "cell_type": "code",
      "source": [
        "show_img_dataset(test_images, firstimg=780, nrows = 2, ncols=4, numimg=8)"
      ],
      "metadata": {
        "colab": {
          "base_uri": "https://localhost:8080/",
          "height": 346
        },
        "id": "NlkQdeFQNHPG",
        "outputId": "36c72059-cf1b-478f-c7cc-b23ca3c72751"
      },
      "id": "NlkQdeFQNHPG",
      "execution_count": 15,
      "outputs": [
        {
          "output_type": "display_data",
          "data": {
            "text/plain": [
              "<Figure size 640x480 with 8 Axes>"
            ],
            "image/png": "[encoded data removed]"
          },
          "metadata": {}
        }
      ]
    },
    {
      "cell_type": "markdown",
      "source": [
        "# **Splitting the validation set**"
      ],
      "metadata": {
        "id": "oATbMDDaNWml"
      },
      "id": "oATbMDDaNWml"
    },
    {
      "cell_type": "code",
      "source": [
        "#obtainig from X and y training and validating data.\n",
        "training_images,validation_images, training_labels, validation_labels = train_test_split(training_images,training_labels, test_size=0.15, random_state=42)"
      ],
      "metadata": {
        "id": "11ceTWhxNWQ9"
      },
      "id": "11ceTWhxNWQ9",
      "execution_count": 16,
      "outputs": []
    },
    {
      "cell_type": "code",
      "source": [
        "#Check the shapes.\n",
        "training_images.shape, validation_images.shape, training_labels.shape, validation_labels.shape"
      ],
      "metadata": {
        "colab": {
          "base_uri": "https://localhost:8080/"
        },
        "id": "GVo9yxofOBwl",
        "outputId": "37b0fa8e-d724-4432-ebc7-4e8cfb2c3f23"
      },
      "id": "GVo9yxofOBwl",
      "execution_count": 17,
      "outputs": [
        {
          "output_type": "execute_result",
          "data": {
            "text/plain": [
              "((35700, 28, 28, 1), (6300, 28, 28, 1), (35700,), (6300,))"
            ]
          },
          "metadata": {},
          "execution_count": 17
        }
      ]
    },
    {
      "cell_type": "markdown",
      "id": "a77c3fae",
      "metadata": {
        "id": "a77c3fae"
      },
      "source": [
        "# **Data Augmentation**"
      ]
    },
    {
      "cell_type": "code",
      "execution_count": 18,
      "id": "42157a8c",
      "metadata": {
        "cellView": "code",
        "id": "42157a8c",
        "lines_to_next_cell": 2,
        "tags": [
          "graded"
        ]
      },
      "outputs": [],
      "source": [
        "# grader-required-cell\n",
        "\n",
        "# GRADED FUNCTION: train_val_generators\n",
        "def train_val_generators(training_images, training_labels, validation_images, validation_labels):\n",
        "  \"\"\"\n",
        "  Creates the training and test data generators\n",
        "\n",
        "  Args:\n",
        "    training_images (array): parsed images from the train CSV file\n",
        "    training_labels (array): parsed labels from the train CSV file\n",
        "    validation_images (array): parsed images from the test CSV file\n",
        "    validation_labels (array): parsed labels from the test CSV file\n",
        "\n",
        "  Returns:\n",
        "    train_generator, test_generator - tuple containing the generators\n",
        "  \"\"\"\n",
        "\n",
        "  # Instantiate the ImageDataGenerator class\n",
        "  # Don't forget to normalize pixel values\n",
        "  # and set arguments to augment the images (if desired)\n",
        "  train_datagen = ImageDataGenerator(\n",
        "      rescale = 1.0/255.0,\n",
        "      rotation_range=5,\n",
        "      width_shift_range=0.05,\n",
        "      height_shift_range=0.05,\n",
        "      # shear_range=0.2,\n",
        "      zoom_range=0.1,\n",
        "      # fill_mode='nearest',\n",
        "      # horizontal_flip=True,\n",
        "  )\n",
        "\n",
        "\n",
        "  # Pass in the appropriate arguments to the flow method\n",
        "  train_generator = train_datagen.flow(x=training_images,\n",
        "                                       y=training_labels,\n",
        "                                       batch_size=32)\n",
        "\n",
        "\n",
        "  # Instantiate the ImageDataGenerator class (don't forget to set the rescale argument)\n",
        "  # Remember that test data should not be augmented\n",
        "  val_datagen = ImageDataGenerator(\n",
        "      rescale = 1.0/255.0)\n",
        "\n",
        "  # Pass in the appropriate arguments to the flow method\n",
        "  val_generator = val_datagen.flow(x=validation_images,\n",
        "                                   y=validation_labels,\n",
        "                                   batch_size=32)\n",
        "\n",
        "  ### END CODE HERE\n",
        "\n",
        "  return train_generator, val_generator"
      ]
    },
    {
      "cell_type": "code",
      "execution_count": 19,
      "id": "0225e001",
      "metadata": {
        "colab": {
          "base_uri": "https://localhost:8080/"
        },
        "id": "0225e001",
        "outputId": "821f4f54-0fdd-4ea6-ffa7-dbe2c349fbc4",
        "tags": [
          "graded"
        ]
      },
      "outputs": [
        {
          "output_type": "stream",
          "name": "stdout",
          "text": [
            "Images of training generator have shape: (35700, 28, 28, 1)\n",
            "Labels of training generator have shape: (35700,)\n",
            "Images of test generator have shape: (6300, 28, 28, 1)\n",
            "Labels of test generator have shape: (6300,)\n"
          ]
        }
      ],
      "source": [
        "# grader-required-cell\n",
        "\n",
        "# Test your generators\n",
        "train_generator, val_generator = train_val_generators(training_images, training_labels, validation_images, validation_labels)\n",
        "\n",
        "print(f\"Images of training generator have shape: {train_generator.x.shape}\")\n",
        "print(f\"Labels of training generator have shape: {train_generator.y.shape}\")\n",
        "print(f\"Images of test generator have shape: {val_generator.x.shape}\")\n",
        "print(f\"Labels of test generator have shape: {val_generator.y.shape}\")"
      ]
    },
    {
      "cell_type": "markdown",
      "source": [
        "# **Callbacks**"
      ],
      "metadata": {
        "id": "lijkKb0gefQT"
      },
      "id": "lijkKb0gefQT"
    },
    {
      "cell_type": "code",
      "source": [
        "#just clean the sessio, recomendable if we execute some times the model.\n",
        "keras.backend.clear_session()\n",
        "\n",
        "#This callback saves the best model based in val_accuracy\n",
        "BestModel = tf.keras.callbacks.ModelCheckpoint('modelDA.h5',\n",
        "                                           mode='max', monitor='val_accuracy',\n",
        "                                           verbose=1,\n",
        "                                           save_best_only=True)"
      ],
      "metadata": {
        "id": "jp1xI71GehX-"
      },
      "id": "jp1xI71GehX-",
      "execution_count": null,
      "outputs": []
    },
    {
      "cell_type": "markdown",
      "id": "79415fd9",
      "metadata": {
        "id": "79415fd9"
      },
      "source": [
        "# **Build the model**"
      ]
    },
    {
      "cell_type": "code",
      "execution_count": 20,
      "id": "f9598ae6",
      "metadata": {
        "cellView": "code",
        "id": "f9598ae6",
        "tags": [
          "graded"
        ]
      },
      "outputs": [],
      "source": [
        "\n",
        "# grader-required-cell\n",
        "import tensorflow as tf\n",
        "from tensorflow import keras\n",
        "from tensorflow.keras.optimizers import RMSprop\n",
        "\n",
        "def create_model():\n",
        "\n",
        "  ### START CODE HERE\n",
        "\n",
        "  # Define the model\n",
        "  # Use no more than 2 Conv2D and 2 MaxPooling2D\n",
        "  model = keras.models.Sequential([\n",
        "      keras.layers.Conv2D(32, (3,3), activation='relu', input_shape=(28,28,1)),\n",
        "      # keras.layers.Conv2D(32, (3,3), activation='relu'),\n",
        "      keras.layers.MaxPooling2D((2,2)),\n",
        "      keras.layers.Conv2D(64, (3,3), activation='relu'),\n",
        "      keras.layers.MaxPooling2D((2,2)),\n",
        "      keras.layers.Flatten(),\n",
        "      keras.layers.Dropout(0.1),\n",
        "      keras.layers.Dense(512, activation='relu'),\n",
        "      keras.layers.Dense(26, activation='softmax')\n",
        "  ])\n",
        "\n",
        "  ### END CODE HERE\n",
        "\n",
        "  return model"
      ]
    },
    {
      "cell_type": "code",
      "execution_count": 21,
      "id": "125be6c8",
      "metadata": {
        "colab": {
          "base_uri": "https://localhost:8080/"
        },
        "id": "125be6c8",
        "lines_to_next_cell": 2,
        "outputId": "0aaf05ff-5c8b-4ced-f36f-69f711155df6",
        "tags": []
      },
      "outputs": [
        {
          "output_type": "stream",
          "name": "stdout",
          "text": [
            "Model: \"sequential\"\n",
            "_________________________________________________________________\n",
            " Layer (type)                Output Shape              Param #   \n",
            "=================================================================\n",
            " conv2d (Conv2D)             (None, 26, 26, 32)        320       \n",
            "                                                                 \n",
            " max_pooling2d (MaxPooling2  (None, 13, 13, 32)        0         \n",
            " D)                                                              \n",
            "                                                                 \n",
            " conv2d_1 (Conv2D)           (None, 11, 11, 64)        18496     \n",
            "                                                                 \n",
            " max_pooling2d_1 (MaxPoolin  (None, 5, 5, 64)          0         \n",
            " g2D)                                                            \n",
            "                                                                 \n",
            " flatten (Flatten)           (None, 1600)              0         \n",
            "                                                                 \n",
            " dropout (Dropout)           (None, 1600)              0         \n",
            "                                                                 \n",
            " dense (Dense)               (None, 512)               819712    \n",
            "                                                                 \n",
            " dense_1 (Dense)             (None, 26)                13338     \n",
            "                                                                 \n",
            "=================================================================\n",
            "Total params: 851866 (3.25 MB)\n",
            "Trainable params: 851866 (3.25 MB)\n",
            "Non-trainable params: 0 (0.00 Byte)\n",
            "_________________________________________________________________\n"
          ]
        }
      ],
      "source": [
        "# Save your model\n",
        "model = create_model()\n",
        "\n",
        "model.summary()\n"
      ]
    },
    {
      "cell_type": "code",
      "execution_count": 22,
      "id": "EqYajzCxMUl-",
      "metadata": {
        "id": "EqYajzCxMUl-"
      },
      "outputs": [],
      "source": [
        "model.compile(optimizer = RMSprop(learning_rate=0.001),\n",
        "                loss = 'sparse_categorical_crossentropy',#NOTE that categorical_crossentropy throws ValueError: Shapes (None, 1) and (None, 26) are incompatible; Refer method to use categorical_crossentropy later in notebook\n",
        "                metrics=['accuracy'])"
      ]
    },
    {
      "cell_type": "code",
      "execution_count": 24,
      "id": "_Ua0qrXR3avT",
      "metadata": {
        "colab": {
          "base_uri": "https://localhost:8080/"
        },
        "id": "_Ua0qrXR3avT",
        "outputId": "31c15a22-4b96-4772-d72b-102273fe7851"
      },
      "outputs": [
        {
          "output_type": "stream",
          "name": "stdout",
          "text": [
            "Epoch 1/15\n",
            "1116/1116 [==============================] - 122s 106ms/step - loss: 0.2141 - accuracy: 0.9331 - val_loss: 0.1021 - val_accuracy: 0.9660\n",
            "Epoch 2/15\n",
            "1116/1116 [==============================] - 109s 98ms/step - loss: 0.0752 - accuracy: 0.9775 - val_loss: 0.0386 - val_accuracy: 0.9863\n",
            "Epoch 3/15\n",
            "1116/1116 [==============================] - 136s 122ms/step - loss: 0.0565 - accuracy: 0.9824 - val_loss: 0.0348 - val_accuracy: 0.9889\n",
            "Epoch 4/15\n",
            "1116/1116 [==============================] - 121s 109ms/step - loss: 0.0485 - accuracy: 0.9854 - val_loss: 0.0357 - val_accuracy: 0.9876\n",
            "Epoch 5/15\n",
            "1116/1116 [==============================] - 110s 99ms/step - loss: 0.0412 - accuracy: 0.9869 - val_loss: 0.0385 - val_accuracy: 0.9884\n",
            "Epoch 6/15\n",
            "1116/1116 [==============================] - 126s 112ms/step - loss: 0.0361 - accuracy: 0.9887 - val_loss: 0.0343 - val_accuracy: 0.9897\n",
            "Epoch 7/15\n",
            "1116/1116 [==============================] - 132s 118ms/step - loss: 0.0353 - accuracy: 0.9894 - val_loss: 0.0302 - val_accuracy: 0.9917\n",
            "Epoch 8/15\n",
            "1116/1116 [==============================] - 116s 104ms/step - loss: 0.0324 - accuracy: 0.9903 - val_loss: 0.0286 - val_accuracy: 0.9916\n",
            "Epoch 9/15\n",
            "1116/1116 [==============================] - 106s 95ms/step - loss: 0.0281 - accuracy: 0.9908 - val_loss: 0.0374 - val_accuracy: 0.9898\n",
            "Epoch 10/15\n",
            "1116/1116 [==============================] - 112s 100ms/step - loss: 0.0288 - accuracy: 0.9915 - val_loss: 0.0296 - val_accuracy: 0.9906\n",
            "Epoch 11/15\n",
            "1116/1116 [==============================] - 120s 108ms/step - loss: 0.0262 - accuracy: 0.9919 - val_loss: 0.0218 - val_accuracy: 0.9932\n",
            "Epoch 12/15\n",
            "1116/1116 [==============================] - 103s 93ms/step - loss: 0.0269 - accuracy: 0.9923 - val_loss: 0.0282 - val_accuracy: 0.9927\n",
            "Epoch 13/15\n",
            "1116/1116 [==============================] - 118s 106ms/step - loss: 0.0257 - accuracy: 0.9926 - val_loss: 0.0287 - val_accuracy: 0.9919\n",
            "Epoch 14/15\n",
            "1116/1116 [==============================] - 117s 105ms/step - loss: 0.0225 - accuracy: 0.9935 - val_loss: 0.0361 - val_accuracy: 0.9903\n",
            "Epoch 15/15\n",
            "1116/1116 [==============================] - 112s 100ms/step - loss: 0.0235 - accuracy: 0.9939 - val_loss: 0.0252 - val_accuracy: 0.9940\n"
          ]
        }
      ],
      "source": [
        "# Train your model\n",
        "history = model.fit(train_generator,\n",
        "                    epochs=15,\n",
        "                    validation_data=val_generator,\n",
        "                    callbacks = [BestModel])"
      ]
    },
    {
      "cell_type": "markdown",
      "id": "05b02793",
      "metadata": {
        "id": "05b02793"
      },
      "source": [
        "Now take a look at your training history:"
      ]
    },
    {
      "cell_type": "code",
      "execution_count": 25,
      "id": "kjsCo1sO_pvy",
      "metadata": {
        "colab": {
          "base_uri": "https://localhost:8080/",
          "height": 927
        },
        "id": "kjsCo1sO_pvy",
        "outputId": "b1e595f0-3264-4dcf-8fa6-32c217939276"
      },
      "outputs": [
        {
          "output_type": "display_data",
          "data": {
            "text/plain": [
              "<Figure size 640x480 with 1 Axes>"
            ],
            "image/png": "[encoded data removed]"
          },
          "metadata": {}
        },
        {
          "output_type": "display_data",
          "data": {
            "text/plain": [
              "<Figure size 640x480 with 1 Axes>"
            ],
            "image/png": "[encoded data removed]"
          },
          "metadata": {}
        }
      ],
      "source": [
        "# Plot training results\n",
        "plot_loss_acc(history)"
      ]
    },
    {
      "cell_type": "markdown",
      "source": [
        "# **Evaluate results**"
      ],
      "metadata": {
        "id": "utl24IXte-oC"
      },
      "id": "utl24IXte-oC"
    },
    {
      "cell_type": "code",
      "source": [
        "best_model_loaded = load_model('modelDA.h5')"
      ],
      "metadata": {
        "id": "jtDUQP_xe-DT"
      },
      "id": "jtDUQP_xe-DT",
      "execution_count": null,
      "outputs": []
    },
    {
      "cell_type": "code",
      "source": [
        "prediction, results = get_predictions(modelDA_loaded, training_images,training_labels)\n",
        "results"
      ],
      "metadata": {
        "id": "E7qkPIdIfEOp"
      },
      "id": "E7qkPIdIfEOp",
      "execution_count": null,
      "outputs": []
    },
    {
      "cell_type": "code",
      "source": [
        "validation_loss, validation_accuracy = model.evaluate(training_images,training_labels)\n",
        "validation_loss_loaded, validation_accuracy_loaded = best_model_loaded.evaluate(training_images,training_labels)\n",
        "print('Validation loss: ', validation_loss)\n",
        "print('Validation accuracy: ', validation_accuracy)\n",
        "\n",
        "print('Validation loss loaded: ', validation_loss_loaded)\n",
        "print('Validation accuracy loaded: ', validation_accuracy_loaded)"
      ],
      "metadata": {
        "id": "pZ153t-2fkFp"
      },
      "id": "pZ153t-2fkFp",
      "execution_count": null,
      "outputs": []
    },
    {
      "cell_type": "code",
      "source": [
        "y_pred=best_model_loaded.predict(test_images)\n",
        "results = np.argmax(y_pred, axis=1)\n",
        "results.shape, results"
      ],
      "metadata": {
        "id": "TThmkUPtgKN-"
      },
      "id": "TThmkUPtgKN-",
      "execution_count": null,
      "outputs": []
    },
    {
      "cell_type": "markdown",
      "source": [
        "# **[Optional] One hot encoding and categorical crossentropy**"
      ],
      "metadata": {
        "id": "WpmOxYCde4DM"
      },
      "id": "WpmOxYCde4DM"
    },
    {
      "cell_type": "markdown",
      "id": "MuBNguFp8U2W",
      "metadata": {
        "id": "MuBNguFp8U2W"
      },
      "source": [
        "If you want to use **categorical_crossentropy** as loss function, then the labels need to converted to **one hot encoding**; refer code below:"
      ]
    },
    {
      "cell_type": "code",
      "execution_count": null,
      "id": "LE1p4-PX8mU8",
      "metadata": {
        "id": "LE1p4-PX8mU8"
      },
      "outputs": [],
      "source": [
        "one_hot_encoded_train_label = tf.one_hot(training_labels, depth = 26) #since we have 26 classes for 26 alphabets\n",
        "one_hot_encoded_val_label = tf.one_hot(validation_labels, depth = 26) #since we have 26 classes for 26 alphabets"
      ]
    },
    {
      "cell_type": "code",
      "execution_count": null,
      "id": "Xfq9qniI9g9f",
      "metadata": {
        "id": "Xfq9qniI9g9f"
      },
      "outputs": [],
      "source": [
        "model.compile(optimizer = RMSprop(learning_rate=0.001),\n",
        "                loss = 'categorical_crossentropy',\n",
        "              metrics=['accuracy'])"
      ]
    },
    {
      "cell_type": "markdown",
      "id": "CJtwytZd-rzO",
      "metadata": {
        "id": "CJtwytZd-rzO"
      },
      "source": [
        "# **Note that labels passed are one hot encoded**"
      ]
    },
    {
      "cell_type": "code",
      "execution_count": null,
      "id": "ovr04n9I-Yb0",
      "metadata": {
        "colab": {
          "base_uri": "https://localhost:8080/"
        },
        "id": "ovr04n9I-Yb0",
        "outputId": "b312d168-7e44-415f-f695-162fb1dd419a"
      },
      "outputs": [
        {
          "name": "stdout",
          "output_type": "stream",
          "text": [
            "Images of training generator have shape: (27455, 28, 28, 1)\n",
            "Labels of training generator have shape: (27455, 26)\n",
            "Images of validation generator have shape: (7172, 28, 28, 1)\n",
            "Labels of validation generator have shape: (7172, 26)\n"
          ]
        }
      ],
      "source": [
        "# calling the function again to initialize new train and validation augmented datasets\n",
        "\n",
        "# Test your generators\n",
        "train_generator_v2, validation_generator_v2 = train_val_generators(training_images, one_hot_encoded_train_label, validation_images, one_hot_encoded_val_label) #note that labels passed are one hot encoded\n",
        "\n",
        "print(f\"Images of training generator have shape: {train_generator_v2.x.shape}\") #make sure to pass new dataset with one hot encoded labels i.e, train_generator_v2 (not train_generator)\n",
        "print(f\"Labels of training generator have shape: {train_generator_v2.y.shape}\") #make sure to pass new dataset with one hot encoded labels i.e, train_generator_v2 (not train_generator)\n",
        "print(f\"Images of validation generator have shape: {validation_generator_v2.x.shape}\") #make sure to pass new dataset with one hot encoded labels i.e, validation_generator_v2 (not validation_generator)\n",
        "print(f\"Labels of validation generator have shape: {validation_generator_v2.y.shape}\") #make sure to pass new dataset with one hot encoded labels i.e, validation_generator_v2 (not validation_generator)"
      ]
    },
    {
      "cell_type": "markdown",
      "id": "KsU9icST-xux",
      "metadata": {
        "id": "KsU9icST-xux"
      },
      "source": [
        "Fitting and evaluating the model again"
      ]
    },
    {
      "cell_type": "code",
      "execution_count": null,
      "id": "zonnfOR_-1z7",
      "metadata": {
        "colab": {
          "base_uri": "https://localhost:8080/"
        },
        "id": "zonnfOR_-1z7",
        "outputId": "32e7ec88-1064-4977-c4c9-9be10fa4cdc5"
      },
      "outputs": [
        {
          "name": "stdout",
          "output_type": "stream",
          "text": [
            "Epoch 1/15\n",
            "858/858 [==============================] - 14s 11ms/step - loss: 1.4102 - accuracy: 0.5646 - val_loss: 0.4919 - val_accuracy: 0.8281\n",
            "Epoch 2/15\n",
            "858/858 [==============================] - 9s 10ms/step - loss: 0.3078 - accuracy: 0.8994 - val_loss: 0.1605 - val_accuracy: 0.9508\n",
            "Epoch 3/15\n",
            "858/858 [==============================] - 9s 10ms/step - loss: 0.1168 - accuracy: 0.9619 - val_loss: 0.1135 - val_accuracy: 0.9598\n",
            "Epoch 4/15\n",
            "858/858 [==============================] - 9s 10ms/step - loss: 0.0642 - accuracy: 0.9797 - val_loss: 0.1107 - val_accuracy: 0.9646\n",
            "Epoch 5/15\n",
            "858/858 [==============================] - 9s 10ms/step - loss: 0.0436 - accuracy: 0.9857 - val_loss: 0.1140 - val_accuracy: 0.9746\n",
            "Epoch 6/15\n",
            "858/858 [==============================] - 9s 10ms/step - loss: 0.0297 - accuracy: 0.9905 - val_loss: 0.0671 - val_accuracy: 0.9755\n",
            "Epoch 7/15\n",
            "858/858 [==============================] - 9s 10ms/step - loss: 0.0223 - accuracy: 0.9923 - val_loss: 0.1195 - val_accuracy: 0.9692\n",
            "Epoch 8/15\n",
            "858/858 [==============================] - 9s 10ms/step - loss: 0.0174 - accuracy: 0.9946 - val_loss: 0.0665 - val_accuracy: 0.9802\n",
            "Epoch 9/15\n",
            "858/858 [==============================] - 9s 10ms/step - loss: 0.0151 - accuracy: 0.9953 - val_loss: 0.1049 - val_accuracy: 0.9746\n",
            "Epoch 10/15\n",
            "858/858 [==============================] - 9s 10ms/step - loss: 0.0161 - accuracy: 0.9948 - val_loss: 0.0977 - val_accuracy: 0.9750\n",
            "Epoch 11/15\n",
            "858/858 [==============================] - 9s 10ms/step - loss: 0.0130 - accuracy: 0.9958 - val_loss: 0.0652 - val_accuracy: 0.9870\n",
            "Epoch 12/15\n",
            "858/858 [==============================] - 9s 10ms/step - loss: 0.0109 - accuracy: 0.9968 - val_loss: 0.0696 - val_accuracy: 0.9796\n",
            "Epoch 13/15\n",
            "858/858 [==============================] - 9s 10ms/step - loss: 0.0105 - accuracy: 0.9969 - val_loss: 0.0997 - val_accuracy: 0.9782\n",
            "Epoch 14/15\n",
            "858/858 [==============================] - 9s 10ms/step - loss: 0.0076 - accuracy: 0.9974 - val_loss: 0.0707 - val_accuracy: 0.9870\n",
            "Epoch 15/15\n",
            "858/858 [==============================] - 9s 10ms/step - loss: 0.0100 - accuracy: 0.9966 - val_loss: 0.0654 - val_accuracy: 0.9847\n"
          ]
        }
      ],
      "source": [
        "history_v2 = model.fit(train_generator_v2,\n",
        "                    epochs=15,\n",
        "                    validation_data=validation_generator_v2)"
      ]
    },
    {
      "cell_type": "code",
      "execution_count": null,
      "id": "xOVuRv_G_x6L",
      "metadata": {
        "colab": {
          "base_uri": "https://localhost:8080/",
          "height": 927
        },
        "id": "xOVuRv_G_x6L",
        "outputId": "4958e2fc-12c8-4d93-c1f4-49d78fe98736"
      },
      "outputs": [
        {
          "data": {
            "image/png": "[encoded data removed]",
            "text/plain": [
              "<Figure size 640x480 with 1 Axes>"
            ]
          },
          "metadata": {},
          "output_type": "display_data"
        },
        {
          "data": {
            "image/png": "[encoded data removed]",
            "text/plain": [
              "<Figure size 640x480 with 1 Axes>"
            ]
          },
          "metadata": {},
          "output_type": "display_data"
        }
      ],
      "source": [
        "# Plot training results\n",
        "plot_loss_acc(history_v2)"
      ]
    }
  ],
  "metadata": {
    "colab": {
      "provenance": [],
      "toc_visible": true,
      "include_colab_link": true
    },
    "kernelspec": {
      "display_name": "Python 3",
      "name": "python3"
    },
    "language_info": {
      "codemirror_mode": {
        "name": "ipython",
        "version": 3
      },
      "file_extension": ".py",
      "mimetype": "text/x-python",
      "name": "python",
      "nbconvert_exporter": "python",
      "pygments_lexer": "ipython3",
      "version": "3.9.13"
    }
  },
  "nbformat": 4,
  "nbformat_minor": 5
}