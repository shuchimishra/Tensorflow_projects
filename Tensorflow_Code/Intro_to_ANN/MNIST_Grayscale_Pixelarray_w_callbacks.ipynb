{
  "cells": [
    {
      "cell_type": "markdown",
      "metadata": {},
      "source": [
        "<a href=\"https://colab.research.google.com/github/shuchimishra/Tensorflow_projects/blob/main/Tensorflow_Code/Intro_to_ANN/MNIST_Grayscale_w_BasicConvolutions_&_callbacks.ipynb\" target=\"_parent\"><img src=\"https://colab.research.google.com/assets/colab-badge.svg\" alt=\"Open In Colab\"/></a>"
      ]
    },
    {
      "cell_type": "markdown",
      "metadata": {
        "id": "iQjHqsmTAVLU"
      },
      "source": [
        "# Week 3: Improve MNIST with Convolutions\n",
        "\n",
        "In the videos you looked at how you would improve Fashion MNIST using Convolutions. For this exercise see if you can improve MNIST to 99.5% accuracy or more by adding only a single convolutional layer and a single MaxPooling 2D layer to the model from the  assignment of the previous week.\n",
        "\n",
        "You should stop training once the accuracy goes above this amount. It should happen in less than 10 epochs, so it's ok to hard code the number of epochs for training, but your training must end once it hits the above metric. If it doesn't, then you'll need to redesign your callback.\n",
        "\n",
        "When 99.5% accuracy has been hit, you should print out the string \"Reached 99.5% accuracy so cancelling training!\"\n"
      ]
    },
    {
      "cell_type": "code",
      "execution_count": null,
      "metadata": {
        "deletable": false,
        "editable": false,
        "id": "ZpztRwBouwYp",
        "tags": [
          "graded"
        ]
      },
      "outputs": [],
      "source": [
        "import os\n",
        "import numpy as np\n",
        "import tensorflow as tf\n",
        "from tensorflow import keras"
      ]
    },
    {
      "cell_type": "markdown",
      "metadata": {
        "id": "qYwyBb6skz-p"
      },
      "source": [
        "## Load the data\n",
        "\n",
        "Begin by loading the data. A couple of things to notice:\n",
        "\n",
        "- The file `mnist.npz` is already included in the current workspace under the `data` directory. By default the `load_data` from Keras accepts a path relative to `~/.keras/datasets` but in this case it is stored somewhere else, as a result of this, you need to specify the full path.\n",
        "\n",
        "- `load_data` returns the train and test sets in the form of the tuples `(x_train, y_train), (x_test, y_test)` but in this exercise you will be needing only the train set so you can ignore the second tuple."
      ]
    },
    {
      "cell_type": "code",
      "execution_count": null,
      "metadata": {
        "colab": {
          "base_uri": "https://localhost:8080/"
        },
        "deletable": false,
        "editable": false,
        "id": "zVhuG4Kvkz-p",
        "outputId": "1fae3cde-f92b-41bc-c29d-b3866eaf03d6",
        "tags": [
          "graded"
        ]
      },
      "outputs": [
        {
          "name": "stdout",
          "output_type": "stream",
          "text": [
            "Downloading data from https://storage.googleapis.com/tensorflow/tf-keras-datasets/mnist.npz\n",
            "11490434/11490434 [==============================] - 0s 0us/step\n"
          ]
        }
      ],
      "source": [
        "# Load the data\n",
        "mnist = keras.datasets.mnist\n",
        "\n",
        "# Get only training set\n",
        "(train_images,train_labels),(test_images,test_labels)=mnist.load_data()\n"
      ]
    },
    {
      "cell_type": "code",
      "execution_count": null,
      "metadata": {
        "colab": {
          "base_uri": "https://localhost:8080/"
        },
        "id": "j8VhDrlIkz-q",
        "outputId": "7d2d2182-4a10-48c1-986d-e3cb96cddf9c"
      },
      "outputs": [
        {
          "data": {
            "text/plain": [
              "(60000, 28, 28)"
            ]
          },
          "execution_count": 8,
          "metadata": {},
          "output_type": "execute_result"
        }
      ],
      "source": [
        "#Let's view the shape of data\n",
        "np.shape(train_images)"
      ]
    },
    {
      "cell_type": "code",
      "execution_count": null,
      "metadata": {
        "colab": {
          "base_uri": "https://localhost:8080/"
        },
        "id": "XhnTFhkjmK36",
        "outputId": "9e14a201-987d-42de-ec4c-06c4f431870a"
      },
      "outputs": [
        {
          "data": {
            "text/plain": [
              "(10000, 28, 28)"
            ]
          },
          "execution_count": 7,
          "metadata": {},
          "output_type": "execute_result"
        }
      ],
      "source": [
        "np.shape(test_images)"
      ]
    },
    {
      "cell_type": "markdown",
      "metadata": {
        "id": "V0Ya0KVekz-q"
      },
      "source": [
        "## Pre-processing the data\n",
        "\n",
        "One important step when dealing with image data is to preprocess the data. During the preprocess step you can apply transformations to the dataset that will be fed into your convolutional neural network.\n",
        "\n",
        "Here you will apply two transformations to the data:\n",
        "- Reshape the data so that it has an extra dimension. The reason for this\n",
        "is that commonly you will use 3-dimensional arrays (without counting the batch dimension) to represent image data. The third dimension represents the color using RGB values. This data might be in black and white format so the third dimension doesn't really add any additional information for the classification process but it is a good practice regardless.\n",
        "\n",
        "\n",
        "- Normalize the pixel values so that these are values between 0 and 1. You can achieve this by dividing every value in the array by the maximum.\n",
        "\n",
        "Remember that these tensors are of type `numpy.ndarray` so you can use functions like [reshape](https://numpy.org/doc/stable/reference/generated/numpy.reshape.html) or [divide](https://numpy.org/doc/stable/reference/generated/numpy.divide.html) to complete the `reshape_and_normalize` function below:"
      ]
    },
    {
      "cell_type": "code",
      "execution_count": null,
      "metadata": {
        "deletable": false,
        "id": "RfyP8sjckz-q",
        "tags": [
          "graded"
        ]
      },
      "outputs": [],
      "source": [
        "# reshape_and_normalize function\n",
        "\n",
        "def reshape_and_normalize(images):\n",
        "\n",
        "    # Reshape the images to add an extra dimension\n",
        "    images = np.reshape(images,(np.shape(images)[0],np.shape(images)[1],np.shape(images)[2],1))\n",
        "\n",
        "    # Normalize pixel values\n",
        "    images = images/255\n",
        "\n",
        "    return images"
      ]
    },
    {
      "cell_type": "markdown",
      "metadata": {
        "id": "nSsBW2Wzkz-q"
      },
      "source": [
        "Test your function with the next cell:"
      ]
    },
    {
      "cell_type": "code",
      "execution_count": null,
      "metadata": {
        "colab": {
          "base_uri": "https://localhost:8080/"
        },
        "deletable": false,
        "editable": false,
        "id": "3Nw1KTD6kz-q",
        "outputId": "8c33e1e3-383b-48d0-c166-79cd581be595",
        "tags": [
          "graded"
        ]
      },
      "outputs": [
        {
          "name": "stdout",
          "output_type": "stream",
          "text": [
            "Maximum pixel value after normalization: 1.0\n",
            "\n",
            "Shape of training set after reshaping: (60000, 28, 28, 1)\n",
            "\n",
            "Shape of one image after reshaping: (28, 28, 1)\n"
          ]
        }
      ],
      "source": [
        "# Apply your function\n",
        "train_images = reshape_and_normalize(train_images)\n",
        "test_images = reshape_and_normalize(test_images)\n",
        "\n",
        "print(f\"Maximum pixel value after normalization: {np.max(train_images)}\\n\")\n",
        "print(f\"Shape of training set after reshaping: {train_images.shape}\\n\")\n",
        "print(f\"Shape of one image after reshaping: {train_images[0].shape}\")\n"
      ]
    },
    {
      "cell_type": "markdown",
      "metadata": {
        "id": "-GJuR90ikz-r"
      },
      "source": [
        "## Defining your callback\n",
        "\n",
        "Now complete the callback that will ensure that training will stop after an accuracy of 99.5% is reached.\n",
        "\n",
        "Define your callback in such a way that it checks for the metric `accuracy` (`acc` can normally be used as well but the grader expects this metric to be called `accuracy` so to avoid getting grading errors define it using the full word)."
      ]
    },
    {
      "cell_type": "code",
      "execution_count": null,
      "metadata": {
        "deletable": false,
        "id": "NbucOA7fkz-r",
        "tags": [
          "graded"
        ]
      },
      "outputs": [],
      "source": [
        "# Defining the callback\n",
        "class myCallback(keras.callbacks.Callback):\n",
        "    # Define the method that checks the accuracy at the end of each epoch\n",
        "    def on_epoch_end(self, epoch, logs={}):\n",
        "        if (logs['accuracy'] > 0.995):\n",
        "            print(\"Reached 99.5% accuracy so cancelling training!\")\n",
        "            self.model.stop_training=True\n"
      ]
    },
    {
      "cell_type": "markdown",
      "metadata": {
        "id": "ch94U4M4kz-r"
      },
      "source": [
        "## Convolutional Model\n",
        "\n",
        "Finally, complete the `convolutional_model` function below. This function should return your convolutional neural network.\n",
        "\n",
        "**Your model should achieve an accuracy of 99.5% or more before 10 epochs to pass this assignment.**\n",
        "\n",
        "**Hints:**\n",
        "- You can try any architecture for the network but try to keep in mind you don't need a complex one. For instance, only one convolutional layer is needed.\n",
        "- In case you need extra help you can check out an architecture that works pretty well at the end of this notebook.\n",
        "- To avoid timeout issues with the autograder, please limit the number of units in your convolutional and dense layers. An exception will be raised if your model is too large."
      ]
    },
    {
      "cell_type": "code",
      "execution_count": null,
      "metadata": {
        "deletable": false,
        "id": "JNboqSx2kz-r",
        "tags": [
          "graded"
        ]
      },
      "outputs": [],
      "source": [
        "def convolutional_model():\n",
        "\n",
        "    # Define the model\n",
        "    model = tf.keras.models.Sequential([\n",
        "        keras.layers.Conv2D(32, (3,3), activation='relu', input_shape=(28,28,1)),\n",
        "        keras.layers.MaxPooling2D((2,2)),\n",
        "        keras.layers.Conv2D(32, (3,3), activation='relu'),\n",
        "        keras.layers.MaxPooling2D((2,2)),\n",
        "        keras.layers.Flatten(),\n",
        "        keras.layers.Dense(512, activation='relu'),\n",
        "        keras.layers.Dense(10, activation='softmax')\n",
        "    ])\n",
        "\n",
        "    # Compile the model\n",
        "    model.compile(optimizer='adam',\n",
        "                  loss='sparse_categorical_crossentropy',\n",
        "                  metrics=['accuracy'])\n",
        "\n",
        "    return model"
      ]
    },
    {
      "cell_type": "code",
      "execution_count": null,
      "metadata": {
        "colab": {
          "base_uri": "https://localhost:8080/"
        },
        "deletable": false,
        "editable": false,
        "id": "hSYHVP_2kz-r",
        "outputId": "37d00904-13f9-4a12-a29b-9cd9ebfe232c",
        "tags": [
          "graded"
        ]
      },
      "outputs": [
        {
          "name": "stdout",
          "output_type": "stream",
          "text": [
            "Epoch 1/10\n",
            "1875/1875 [==============================] - 57s 30ms/step - loss: 0.1249 - accuracy: 0.9614\n",
            "Epoch 2/10\n",
            "1875/1875 [==============================] - 58s 31ms/step - loss: 0.0425 - accuracy: 0.9867\n",
            "Epoch 3/10\n",
            "1875/1875 [==============================] - 53s 28ms/step - loss: 0.0277 - accuracy: 0.9913\n",
            "Epoch 4/10\n",
            "1875/1875 [==============================] - 52s 28ms/step - loss: 0.0193 - accuracy: 0.9936\n",
            "Epoch 5/10\n",
            "1875/1875 [==============================] - 52s 28ms/step - loss: 0.0164 - accuracy: 0.9944\n",
            "Epoch 6/10\n",
            "1874/1875 [============================>.] - ETA: 0s - loss: 0.0118 - accuracy: 0.9960Reached 99.5% accuracy so cancelling training!\n",
            "1875/1875 [==============================] - 53s 28ms/step - loss: 0.0118 - accuracy: 0.9960\n"
          ]
        }
      ],
      "source": [
        "# Save your untrained model\n",
        "model = convolutional_model()\n",
        "\n",
        "# Get number of weights\n",
        "model_params = model.count_params()\n",
        "\n",
        "# Unit test to limit the size of the model\n",
        "assert model_params < 1000000, (\n",
        "    f'Your model has {model_params:,} params. For successful grading, please keep it '\n",
        "    f'under 1,000,000 by reducing the number of units in your Conv2D and/or Dense layers.'\n",
        ")\n",
        "\n",
        "# Instantiate the callback class\n",
        "callbacks = myCallback()\n",
        "\n",
        "# Train your model (this can take up to 5 minutes)\n",
        "history = model.fit(train_images, train_labels, epochs=10, callbacks=[callbacks])"
      ]
    },
    {
      "cell_type": "code",
      "execution_count": null,
      "metadata": {
        "colab": {
          "base_uri": "https://localhost:8080/"
        },
        "id": "zgkzK83kkz-r",
        "outputId": "eda5d3bf-5c1e-40c3-9cec-7ac943cea1b3"
      },
      "outputs": [
        {
          "name": "stdout",
          "output_type": "stream",
          "text": [
            "['validation_data', 'model', '_chief_worker_only', '_supports_tf_logs', 'history', 'params', 'epoch', '__module__', '__doc__', '__init__', 'on_train_begin', 'on_epoch_end', '_keras_api_names', '_keras_api_names_v1', 'set_params', 'set_model', 'on_batch_begin', 'on_batch_end', 'on_epoch_begin', 'on_train_batch_begin', 'on_train_batch_end', 'on_test_batch_begin', 'on_test_batch_end', 'on_predict_batch_begin', 'on_predict_batch_end', 'on_train_end', 'on_test_begin', 'on_test_end', 'on_predict_begin', 'on_predict_end', '_implements_train_batch_hooks', '_implements_test_batch_hooks', '_implements_predict_batch_hooks', '__dict__', '__weakref__', '__new__', '__repr__', '__hash__', '__str__', '__getattribute__', '__setattr__', '__delattr__', '__lt__', '__le__', '__eq__', '__ne__', '__gt__', '__ge__', '__reduce_ex__', '__reduce__', '__subclasshook__', '__init_subclass__', '__format__', '__sizeof__', '__dir__', '__class__']\n"
          ]
        }
      ],
      "source": [
        "#Print the model training output\n",
        "print(history.__dir__())"
      ]
    },
    {
      "cell_type": "code",
      "execution_count": null,
      "metadata": {
        "colab": {
          "base_uri": "https://localhost:8080/"
        },
        "id": "pa2QWPvrkz-s",
        "outputId": "30eaaaa5-01c7-4c6d-876f-3982600cd558"
      },
      "outputs": [
        {
          "name": "stdout",
          "output_type": "stream",
          "text": [
            "{'_chief_worker_only': None,\n",
            " '_supports_tf_logs': False,\n",
            " 'epoch': [0, 1, 2, 3, 4, 5],\n",
            " 'history': {'accuracy': [0.9614333510398865,\n",
            "                          0.9867333173751831,\n",
            "                          0.9913166761398315,\n",
            "                          0.9936166405677795,\n",
            "                          0.9944000244140625,\n",
            "                          0.9959999918937683],\n",
            "             'loss': [0.12489030510187149,\n",
            "                      0.04247314855456352,\n",
            "                      0.027702094987034798,\n",
            "                      0.01930655911564827,\n",
            "                      0.0163822453469038,\n",
            "                      0.011815344914793968]},\n",
            " 'model': <keras.src.engine.sequential.Sequential object at 0x7a9b8990fbb0>,\n",
            " 'params': {'epochs': 10, 'steps': 1875, 'verbose': 1},\n",
            " 'validation_data': None}\n"
          ]
        }
      ],
      "source": [
        "#Another effective way of training model training output\n",
        "from pprint import pprint\n",
        "pprint(vars(history))"
      ]
    },
    {
      "cell_type": "markdown",
      "metadata": {
        "id": "wp86I6Njkz-s"
      },
      "source": [
        "If you see the message that you defined in your callback printed out after less than 10 epochs it means your callback worked as expected. You can also double check by running the following cell:"
      ]
    },
    {
      "cell_type": "code",
      "execution_count": null,
      "metadata": {
        "colab": {
          "base_uri": "https://localhost:8080/"
        },
        "deletable": false,
        "editable": false,
        "id": "bKXeKLOKkz-s",
        "outputId": "201fcd2f-c992-429e-c8fb-b2b78c0d1777",
        "tags": [
          "graded"
        ]
      },
      "outputs": [
        {
          "name": "stdout",
          "output_type": "stream",
          "text": [
            "Your model was trained for 6 epochs\n"
          ]
        }
      ],
      "source": [
        "print(f\"Your model was trained for {len(history.epoch)} epochs\")"
      ]
    },
    {
      "cell_type": "markdown",
      "metadata": {
        "id": "j87udBRMkz-s"
      },
      "source": [
        "If your callback didn't stop training, one cause might be that you compiled your model using a metric other than `accuracy` (such as `acc`). Make sure you set the metric to `accuracy`. You can check by running the following cell:"
      ]
    },
    {
      "cell_type": "code",
      "execution_count": null,
      "metadata": {
        "colab": {
          "base_uri": "https://localhost:8080/"
        },
        "id": "vuRD4wCFkz-s",
        "outputId": "cb1116d7-fa2b-43d2-ba76-75fcceab040c"
      },
      "outputs": [
        {
          "name": "stdout",
          "output_type": "stream",
          "text": [
            "The metric was correctly defined.\n"
          ]
        }
      ],
      "source": [
        "if not \"accuracy\" in history.model.metrics_names:\n",
        "    print(\"Use 'accuracy' as metric when compiling your model.\")\n",
        "else:\n",
        "    print(\"The metric was correctly defined.\")"
      ]
    },
    {
      "cell_type": "code",
      "execution_count": null,
      "metadata": {
        "id": "W9D9_L88ogYJ"
      },
      "outputs": [],
      "source": []
    }
  ],
  "metadata": {
    "colab": {
      "provenance": []
    },
    "kernelspec": {
      "display_name": "Python 3",
      "language": "python",
      "name": "python3"
    },
    "language_info": {
      "codemirror_mode": {
        "name": "ipython",
        "version": 3
      },
      "file_extension": ".py",
      "mimetype": "text/x-python",
      "name": "python",
      "nbconvert_exporter": "python",
      "pygments_lexer": "ipython3",
      "version": "3.8.8"
    }
  },
  "nbformat": 4,
  "nbformat_minor": 0
}
