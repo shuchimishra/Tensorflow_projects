{
  "nbformat": 4,
  "nbformat_minor": 0,
  "metadata": {
    "colab": {
      "provenance": [],
      "include_colab_link": true
    },
    "kernelspec": {
      "name": "python3",
      "display_name": "Python 3"
    },
    "language_info": {
      "name": "python"
    }
  },
  "cells": [
    {
      "cell_type": "markdown",
      "metadata": {
        "id": "view-in-github",
        "colab_type": "text"
      },
      "source": [
        "<a href=\"https://colab.research.google.com/github/shuchimishra/Tensorflow_projects/blob/main/Tensorflow_Code/Timeseries/Household_power_consumption_multivariate_multistep.ipynb\" target=\"_parent\"><img src=\"https://colab.research.google.com/assets/colab-badge.svg\" alt=\"Open In Colab\"/></a>"
      ]
    },
    {
      "cell_type": "markdown",
      "source": [
        "# **Household Power Consumption Dataset**\n",
        "The Household Power Consumption dataset is a multivariate time series dataset that describes the electricity consumption for a single household over four years.\n",
        "\n",
        "The data was collected between December 2006 and November 2010 and observations of power consumption within the household were collected every minute.\n",
        "\n",
        "It is a multivariate series comprised of seven variables (besides the date and time); they are:\n",
        "\n",
        "global_active_power: The total active power consumed by the household (kilowatts).\n",
        "\n",
        "global_reactive_power: The total reactive power consumed by the household (kilowatts).\n",
        "\n",
        "voltage: Average voltage (volts).\n",
        "\n",
        "global_intensity: Average current intensity (amps).\n",
        "\n",
        "sub_metering_1: Active energy for kitchen (watt-hours of active energy).\n",
        "\n",
        "sub_metering_2: Active energy for laundry (watt-hours of active energy).\n",
        "\n",
        "sub_metering_3: Active energy for climate control systems (watt-hours of active energy).\n",
        "\n",
        "Active and reactive energy refer to the technical details of alternative current.\n",
        "\n",
        "In general terms, the active energy is the real power consumed by the household, whereas the reactive energy is the unused power in the lines.\n",
        "\n",
        "We can see that the dataset provides the active power as well as some division of the active power by main circuit in the house, specifically the kitchen, laundry, and climate control. These are not all the circuits in the household.\n",
        "\n",
        "The remaining watt-hours can be calculated from the active energy by first converting the active energy to watt-hours then subtracting the other sub-metered active energy in watt-hours, as follows:\n",
        "\n",
        "sub_metering_remainder = (global_active_power * 1000 / 60) - (sub_metering_1 + sub_metering_2 + sub_metering_3)"
      ],
      "metadata": {
        "id": "9Px0HMObCMy2"
      }
    },
    {
      "cell_type": "markdown",
      "source": [
        "# Imports"
      ],
      "metadata": {
        "id": "uE84m2VQ2u-D"
      }
    },
    {
      "cell_type": "code",
      "execution_count": 8,
      "metadata": {
        "id": "PmW6XBmN9JTF"
      },
      "outputs": [],
      "source": [
        "import urllib\n",
        "import os\n",
        "import zipfile\n",
        "import pandas as pd\n",
        "import tensorflow as tf\n",
        "import numpy as np\n",
        "from tensorflow import keras\n",
        "import matplotlib.pyplot as plt\n",
        "import zipfile\n"
      ]
    },
    {
      "cell_type": "markdown",
      "source": [
        "# Copy data"
      ],
      "metadata": {
        "id": "HxJJ8Dvf207D"
      }
    },
    {
      "cell_type": "markdown",
      "source": [
        "## Approach 1: Upload"
      ],
      "metadata": {
        "id": "snOdmC1799l3"
      }
    },
    {
      "cell_type": "code",
      "source": [
        "from google.colab import drive\n",
        "drive.mount('/content/drive')"
      ],
      "metadata": {
        "colab": {
          "base_uri": "https://localhost:8080/"
        },
        "id": "DtHnvjh6eJcq",
        "outputId": "ec1cd3e4-fb31-4ff7-ae8e-570c9a7df50b"
      },
      "execution_count": 2,
      "outputs": [
        {
          "output_type": "stream",
          "name": "stdout",
          "text": [
            "Mounted at /content/drive\n"
          ]
        }
      ]
    },
    {
      "cell_type": "code",
      "source": [
        "!mkdir data\n",
        "!cp '/content/drive/MyDrive/Data Science & Machine Learning/Tensorflow Certification/Repository/Tensorflow_projects/Data/Household Power Consumption/cleaned/household_power_consumption.csv' './data/'"
      ],
      "metadata": {
        "id": "s-3yeqhjeIf6",
        "colab": {
          "base_uri": "https://localhost:8080/"
        },
        "outputId": "0ecb0091-dba5-427d-8dbb-391421899fd6"
      },
      "execution_count": 74,
      "outputs": [
        {
          "output_type": "stream",
          "name": "stdout",
          "text": [
            "mkdir: cannot create directory ‘data’: File exists\n"
          ]
        }
      ]
    },
    {
      "cell_type": "code",
      "source": [
        "datafile = \"./data/household_power_consumption.csv\""
      ],
      "metadata": {
        "id": "UTs9fJCw-K3a"
      },
      "execution_count": 75,
      "outputs": []
    },
    {
      "cell_type": "code",
      "source": [
        "df = pd.read_csv(datafile, sep=',', infer_datetime_format=True, index_col='datetime', parse_dates=['datetime'])"
      ],
      "metadata": {
        "id": "JFLJEn3p-GsL",
        "outputId": "ce9b05ee-ed5a-4e7e-e26a-1656efd72b1a",
        "colab": {
          "base_uri": "https://localhost:8080/"
        }
      },
      "execution_count": 76,
      "outputs": [
        {
          "output_type": "stream",
          "name": "stderr",
          "text": [
            "<ipython-input-76-b63c19fe3de2>:1: FutureWarning: The argument 'infer_datetime_format' is deprecated and will be removed in a future version. A strict version of it is now the default, see https://pandas.pydata.org/pdeps/0004-consistent-to-datetime-parsing.html. You can safely remove this argument.\n",
            "  df = pd.read_csv(datafile, sep=',', infer_datetime_format=True, index_col='datetime', parse_dates=['datetime'])\n"
          ]
        }
      ]
    },
    {
      "cell_type": "markdown",
      "metadata": {
        "collapsed": false,
        "id": "1ERrNpiSciYR"
      },
      "source": [
        "## Approach 2: UCI-Copy Data\n",
        "\n",
        " Download Data Set: UCI Machine Learning repository as a single 20 megabyte .zip file:\n",
        "\n",
        "[household_power_consumption.zip](https://archive.ics.uci.edu/ml/machine-learning-databases/00235/household_power_consumption.zip)\n"
      ]
    },
    {
      "cell_type": "code",
      "source": [
        "!wget https://archive.ics.uci.edu/ml/machine-learning-databases/00235/household_power_consumption.zip"
      ],
      "metadata": {
        "colab": {
          "base_uri": "https://localhost:8080/"
        },
        "id": "90oPhQcWDFtn",
        "outputId": "67b374bc-56b5-456c-a717-955b49e1b4c7"
      },
      "execution_count": 12,
      "outputs": [
        {
          "output_type": "stream",
          "name": "stdout",
          "text": [
            "--2024-04-13 23:22:36--  https://archive.ics.uci.edu/ml/machine-learning-databases/00235/household_power_consumption.zip\n",
            "Resolving archive.ics.uci.edu (archive.ics.uci.edu)... 128.195.10.252\n",
            "Connecting to archive.ics.uci.edu (archive.ics.uci.edu)|128.195.10.252|:443... connected.\n",
            "HTTP request sent, awaiting response... 200 OK\n",
            "Length: unspecified\n",
            "Saving to: ‘household_power_consumption.zip’\n",
            "\n",
            "household_power_con     [    <=>             ]  19.68M  23.9MB/s    in 0.8s    \n",
            "\n",
            "2024-04-13 23:22:37 (23.9 MB/s) - ‘household_power_consumption.zip’ saved [20640916]\n",
            "\n"
          ]
        }
      ]
    },
    {
      "cell_type": "code",
      "source": [
        "zip_ref = './household_power_consumption.zip'\n",
        "datafile = \"./data/household_power_consumption.txt\"\n",
        "\n",
        "file = zipfile.ZipFile(zip_ref, 'r')\n",
        "file.extractall('./data')\n",
        "file.close()"
      ],
      "metadata": {
        "id": "ar19oo32DND9"
      },
      "execution_count": 13,
      "outputs": []
    },
    {
      "cell_type": "code",
      "execution_count": 14,
      "metadata": {
        "pycharm": {
          "name": "#%%\n"
        },
        "id": "JzCdQJwlciYR",
        "colab": {
          "base_uri": "https://localhost:8080/"
        },
        "outputId": "790ec272-dda9-4b74-e663-9676c733432e"
      },
      "outputs": [
        {
          "output_type": "stream",
          "name": "stderr",
          "text": [
            "<ipython-input-14-6f90a0c86db3>:1: FutureWarning: The argument 'infer_datetime_format' is deprecated and will be removed in a future version. A strict version of it is now the default, see https://pandas.pydata.org/pdeps/0004-consistent-to-datetime-parsing.html. You can safely remove this argument.\n",
            "  df = pd.read_csv(datafile, sep=';', infer_datetime_format=True, index_col='datetime', parse_dates={'datetime':[0,1]}, header=0, low_memory=False)\n",
            "<ipython-input-14-6f90a0c86db3>:1: UserWarning: Parsing dates in %d/%m/%Y %H:%M:%S format when dayfirst=False (the default) was specified. Pass `dayfirst=True` or specify a format to silence this warning.\n",
            "  df = pd.read_csv(datafile, sep=';', infer_datetime_format=True, index_col='datetime', parse_dates={'datetime':[0,1]}, header=0, low_memory=False)\n"
          ]
        }
      ],
      "source": [
        "df = pd.read_csv(datafile, sep=';', infer_datetime_format=True, index_col='datetime', parse_dates={'datetime':[0,1]}, header=0, low_memory=False)"
      ]
    },
    {
      "cell_type": "markdown",
      "source": [
        "# Helper Function"
      ],
      "metadata": {
        "id": "-kgraHITVqSD"
      }
    },
    {
      "cell_type": "code",
      "execution_count": 77,
      "metadata": {
        "pycharm": {
          "name": "#%%\n"
        },
        "id": "rTn_FyJAciYV"
      },
      "outputs": [],
      "source": [
        "# Auxiliary plotting function\n",
        "def plot_series(x, y, format=\"-\", start=0, end=None, title=None, xlabel=None, ylabel=None, legend=None ):\n",
        "    plt.figure(figsize=(10, 6))\n",
        "    if type(y) is tuple:\n",
        "        for y_curr in y:\n",
        "            plt.plot(x[start:end], y_curr[start:end], format)\n",
        "    else:\n",
        "        plt.plot(x[start:end], y[start:end], format)\n",
        "    plt.xlabel(xlabel)\n",
        "    plt.ylabel(ylabel)\n",
        "    if legend:\n",
        "        plt.legend(legend)\n",
        "    plt.title(title)\n",
        "    plt.grid(True)\n",
        "    plt.show()"
      ]
    },
    {
      "cell_type": "code",
      "source": [
        "# Running the function will first return the overall RMSE regardless of day, then an array of RMSE scores for each day.\n",
        "# evaluate one or more weekly forecasts against expected values\n",
        "def evaluate_forecasts(actual, predicted):\n",
        "\n",
        "\tscores = []\n",
        "\n",
        "\t# calculate an RMSE score for each day\n",
        "\tfor i in range(actual.shape[1]):\n",
        "\n",
        "\t\t# calculate mse\n",
        "\t\tmse = mean_squared_error(actual[:, i], predicted[:, i])\n",
        "\n",
        "\t\t# calculate rmse\n",
        "\t\trmse = sqrt(mse)\n",
        "\n",
        "\t\t# store the rmse in list\n",
        "\t\tscores.append(rmse)\n",
        "\n",
        "\t# calculate overall RMSE\n",
        "\ts = 0\n",
        "\tfor row in range(actual.shape[0]):\n",
        "\t\tfor col in range(actual.shape[1]):\n",
        "\n",
        "\t\t\ts = s + (actual[row, col] - predicted[row, col])**2\n",
        "\toverall_score = sqrt(s / (actual.shape[0] * actual.shape[1]))\n",
        "\n",
        "\treturn overall_score, scores"
      ],
      "metadata": {
        "id": "h_PHjgv_AE5n"
      },
      "execution_count": 78,
      "outputs": []
    },
    {
      "cell_type": "code",
      "source": [
        "from numpy import nan\n",
        "\n",
        "# fill missing values with a value at the same time one day ago\n",
        "def fill_missing(values):\n",
        "  one_day = 60 * 24 #granulatiy of data is minutes\n",
        "  for row in range(values.shape[0]):\n",
        "    for col in range(values.shape[1]):\n",
        "      if isnan(values[row, col]):\n",
        "        print(\"replacing missing value of \",values[row, col],\"at position [\",row, col,\"] with :\",values[row - one_day, col])\n",
        "        values[row, col] = values[row - one_day, col] #if given day has 'nan' , then replace the value with previous day's reading"
      ],
      "metadata": {
        "id": "v6OVv0COGD21"
      },
      "execution_count": 79,
      "outputs": []
    },
    {
      "cell_type": "markdown",
      "source": [
        "# Data Insights"
      ],
      "metadata": {
        "id": "m_loND3-9vne"
      }
    },
    {
      "cell_type": "code",
      "source": [],
      "metadata": {
        "id": "C82WFSFe9u_m"
      },
      "execution_count": null,
      "outputs": []
    },
    {
      "cell_type": "code",
      "execution_count": 80,
      "metadata": {
        "pycharm": {
          "name": "#%%\n"
        },
        "colab": {
          "base_uri": "https://localhost:8080/"
        },
        "id": "AA1JoqNkciYS",
        "outputId": "c9bbf927-bad0-446e-ea2d-485be07baa4e"
      },
      "outputs": [
        {
          "output_type": "stream",
          "name": "stdout",
          "text": [
            "<class 'pandas.core.frame.DataFrame'>\n",
            "DatetimeIndex: 86400 entries, 2006-12-16 17:24:00 to 2007-02-14 17:23:00\n",
            "Data columns (total 7 columns):\n",
            " #   Column                 Non-Null Count  Dtype  \n",
            "---  ------                 --------------  -----  \n",
            " 0   Global_active_power    86400 non-null  float64\n",
            " 1   Global_reactive_power  86400 non-null  float64\n",
            " 2   Voltage                86400 non-null  float64\n",
            " 3   Global_intensity       86400 non-null  float64\n",
            " 4   Sub_metering_1         86400 non-null  float64\n",
            " 5   Sub_metering_2         86400 non-null  float64\n",
            " 6   Sub_metering_3         86400 non-null  float64\n",
            "dtypes: float64(7)\n",
            "memory usage: 5.3 MB\n"
          ]
        }
      ],
      "source": [
        "df.info()"
      ]
    },
    {
      "cell_type": "code",
      "source": [
        "df.head(5)"
      ],
      "metadata": {
        "colab": {
          "base_uri": "https://localhost:8080/",
          "height": 237
        },
        "id": "fBHKiRsB4_TM",
        "outputId": "d758f021-289f-401c-dfeb-aae6d8896975"
      },
      "execution_count": 81,
      "outputs": [
        {
          "output_type": "execute_result",
          "data": {
            "text/plain": [
              "                     Global_active_power  Global_reactive_power  Voltage  \\\n",
              "datetime                                                                   \n",
              "2006-12-16 17:24:00                4.216                  0.418   234.84   \n",
              "2006-12-16 17:25:00                5.360                  0.436   233.63   \n",
              "2006-12-16 17:26:00                5.374                  0.498   233.29   \n",
              "2006-12-16 17:27:00                5.388                  0.502   233.74   \n",
              "2006-12-16 17:28:00                3.666                  0.528   235.68   \n",
              "\n",
              "                     Global_intensity  Sub_metering_1  Sub_metering_2  \\\n",
              "datetime                                                                \n",
              "2006-12-16 17:24:00              18.4             0.0             1.0   \n",
              "2006-12-16 17:25:00              23.0             0.0             1.0   \n",
              "2006-12-16 17:26:00              23.0             0.0             2.0   \n",
              "2006-12-16 17:27:00              23.0             0.0             1.0   \n",
              "2006-12-16 17:28:00              15.8             0.0             1.0   \n",
              "\n",
              "                     Sub_metering_3  \n",
              "datetime                             \n",
              "2006-12-16 17:24:00            17.0  \n",
              "2006-12-16 17:25:00            16.0  \n",
              "2006-12-16 17:26:00            17.0  \n",
              "2006-12-16 17:27:00            17.0  \n",
              "2006-12-16 17:28:00            17.0  "
            ],
            "text/html": [
              "\n",
              "  <div id=\"df-7abf7449-0577-4625-b0b6-466cc8619bd3\" class=\"colab-df-container\">\n",
              "    <div>\n",
              "<style scoped>\n",
              "    .dataframe tbody tr th:only-of-type {\n",
              "        vertical-align: middle;\n",
              "    }\n",
              "\n",
              "    .dataframe tbody tr th {\n",
              "        vertical-align: top;\n",
              "    }\n",
              "\n",
              "    .dataframe thead th {\n",
              "        text-align: right;\n",
              "    }\n",
              "</style>\n",
              "<table border=\"1\" class=\"dataframe\">\n",
              "  <thead>\n",
              "    <tr style=\"text-align: right;\">\n",
              "      <th></th>\n",
              "      <th>Global_active_power</th>\n",
              "      <th>Global_reactive_power</th>\n",
              "      <th>Voltage</th>\n",
              "      <th>Global_intensity</th>\n",
              "      <th>Sub_metering_1</th>\n",
              "      <th>Sub_metering_2</th>\n",
              "      <th>Sub_metering_3</th>\n",
              "    </tr>\n",
              "    <tr>\n",
              "      <th>datetime</th>\n",
              "      <th></th>\n",
              "      <th></th>\n",
              "      <th></th>\n",
              "      <th></th>\n",
              "      <th></th>\n",
              "      <th></th>\n",
              "      <th></th>\n",
              "    </tr>\n",
              "  </thead>\n",
              "  <tbody>\n",
              "    <tr>\n",
              "      <th>2006-12-16 17:24:00</th>\n",
              "      <td>4.216</td>\n",
              "      <td>0.418</td>\n",
              "      <td>234.84</td>\n",
              "      <td>18.4</td>\n",
              "      <td>0.0</td>\n",
              "      <td>1.0</td>\n",
              "      <td>17.0</td>\n",
              "    </tr>\n",
              "    <tr>\n",
              "      <th>2006-12-16 17:25:00</th>\n",
              "      <td>5.360</td>\n",
              "      <td>0.436</td>\n",
              "      <td>233.63</td>\n",
              "      <td>23.0</td>\n",
              "      <td>0.0</td>\n",
              "      <td>1.0</td>\n",
              "      <td>16.0</td>\n",
              "    </tr>\n",
              "    <tr>\n",
              "      <th>2006-12-16 17:26:00</th>\n",
              "      <td>5.374</td>\n",
              "      <td>0.498</td>\n",
              "      <td>233.29</td>\n",
              "      <td>23.0</td>\n",
              "      <td>0.0</td>\n",
              "      <td>2.0</td>\n",
              "      <td>17.0</td>\n",
              "    </tr>\n",
              "    <tr>\n",
              "      <th>2006-12-16 17:27:00</th>\n",
              "      <td>5.388</td>\n",
              "      <td>0.502</td>\n",
              "      <td>233.74</td>\n",
              "      <td>23.0</td>\n",
              "      <td>0.0</td>\n",
              "      <td>1.0</td>\n",
              "      <td>17.0</td>\n",
              "    </tr>\n",
              "    <tr>\n",
              "      <th>2006-12-16 17:28:00</th>\n",
              "      <td>3.666</td>\n",
              "      <td>0.528</td>\n",
              "      <td>235.68</td>\n",
              "      <td>15.8</td>\n",
              "      <td>0.0</td>\n",
              "      <td>1.0</td>\n",
              "      <td>17.0</td>\n",
              "    </tr>\n",
              "  </tbody>\n",
              "</table>\n",
              "</div>\n",
              "    <div class=\"colab-df-buttons\">\n",
              "\n",
              "  <div class=\"colab-df-container\">\n",
              "    <button class=\"colab-df-convert\" onclick=\"convertToInteractive('df-7abf7449-0577-4625-b0b6-466cc8619bd3')\"\n",
              "            title=\"Convert this dataframe to an interactive table.\"\n",
              "            style=\"display:none;\">\n",
              "\n",
              "  <svg xmlns=\"http://www.w3.org/2000/svg\" height=\"24px\" viewBox=\"0 -960 960 960\">\n",
              "    <path d=\"M120-120v-720h720v720H120Zm60-500h600v-160H180v160Zm220 220h160v-160H400v160Zm0 220h160v-160H400v160ZM180-400h160v-160H180v160Zm440 0h160v-160H620v160ZM180-180h160v-160H180v160Zm440 0h160v-160H620v160Z\"/>\n",
              "  </svg>\n",
              "    </button>\n",
              "\n",
              "  <style>\n",
              "    .colab-df-container {\n",
              "      display:flex;\n",
              "      gap: 12px;\n",
              "    }\n",
              "\n",
              "    .colab-df-convert {\n",
              "      background-color: #E8F0FE;\n",
              "      border: none;\n",
              "      border-radius: 50%;\n",
              "      cursor: pointer;\n",
              "      display: none;\n",
              "      fill: #1967D2;\n",
              "      height: 32px;\n",
              "      padding: 0 0 0 0;\n",
              "      width: 32px;\n",
              "    }\n",
              "\n",
              "    .colab-df-convert:hover {\n",
              "      background-color: #E2EBFA;\n",
              "      box-shadow: 0px 1px 2px rgba(60, 64, 67, 0.3), 0px 1px 3px 1px rgba(60, 64, 67, 0.15);\n",
              "      fill: #174EA6;\n",
              "    }\n",
              "\n",
              "    .colab-df-buttons div {\n",
              "      margin-bottom: 4px;\n",
              "    }\n",
              "\n",
              "    [theme=dark] .colab-df-convert {\n",
              "      background-color: #3B4455;\n",
              "      fill: #D2E3FC;\n",
              "    }\n",
              "\n",
              "    [theme=dark] .colab-df-convert:hover {\n",
              "      background-color: #434B5C;\n",
              "      box-shadow: 0px 1px 3px 1px rgba(0, 0, 0, 0.15);\n",
              "      filter: drop-shadow(0px 1px 2px rgba(0, 0, 0, 0.3));\n",
              "      fill: #FFFFFF;\n",
              "    }\n",
              "  </style>\n",
              "\n",
              "    <script>\n",
              "      const buttonEl =\n",
              "        document.querySelector('#df-7abf7449-0577-4625-b0b6-466cc8619bd3 button.colab-df-convert');\n",
              "      buttonEl.style.display =\n",
              "        google.colab.kernel.accessAllowed ? 'block' : 'none';\n",
              "\n",
              "      async function convertToInteractive(key) {\n",
              "        const element = document.querySelector('#df-7abf7449-0577-4625-b0b6-466cc8619bd3');\n",
              "        const dataTable =\n",
              "          await google.colab.kernel.invokeFunction('convertToInteractive',\n",
              "                                                    [key], {});\n",
              "        if (!dataTable) return;\n",
              "\n",
              "        const docLinkHtml = 'Like what you see? Visit the ' +\n",
              "          '<a target=\"_blank\" href=https://colab.research.google.com/notebooks/data_table.ipynb>data table notebook</a>'\n",
              "          + ' to learn more about interactive tables.';\n",
              "        element.innerHTML = '';\n",
              "        dataTable['output_type'] = 'display_data';\n",
              "        await google.colab.output.renderOutput(dataTable, element);\n",
              "        const docLink = document.createElement('div');\n",
              "        docLink.innerHTML = docLinkHtml;\n",
              "        element.appendChild(docLink);\n",
              "      }\n",
              "    </script>\n",
              "  </div>\n",
              "\n",
              "\n",
              "<div id=\"df-658e27cd-ab89-46e6-9553-9d4232505726\">\n",
              "  <button class=\"colab-df-quickchart\" onclick=\"quickchart('df-658e27cd-ab89-46e6-9553-9d4232505726')\"\n",
              "            title=\"Suggest charts\"\n",
              "            style=\"display:none;\">\n",
              "\n",
              "<svg xmlns=\"http://www.w3.org/2000/svg\" height=\"24px\"viewBox=\"0 0 24 24\"\n",
              "     width=\"24px\">\n",
              "    <g>\n",
              "        <path d=\"M19 3H5c-1.1 0-2 .9-2 2v14c0 1.1.9 2 2 2h14c1.1 0 2-.9 2-2V5c0-1.1-.9-2-2-2zM9 17H7v-7h2v7zm4 0h-2V7h2v10zm4 0h-2v-4h2v4z\"/>\n",
              "    </g>\n",
              "</svg>\n",
              "  </button>\n",
              "\n",
              "<style>\n",
              "  .colab-df-quickchart {\n",
              "      --bg-color: #E8F0FE;\n",
              "      --fill-color: #1967D2;\n",
              "      --hover-bg-color: #E2EBFA;\n",
              "      --hover-fill-color: #174EA6;\n",
              "      --disabled-fill-color: #AAA;\n",
              "      --disabled-bg-color: #DDD;\n",
              "  }\n",
              "\n",
              "  [theme=dark] .colab-df-quickchart {\n",
              "      --bg-color: #3B4455;\n",
              "      --fill-color: #D2E3FC;\n",
              "      --hover-bg-color: #434B5C;\n",
              "      --hover-fill-color: #FFFFFF;\n",
              "      --disabled-bg-color: #3B4455;\n",
              "      --disabled-fill-color: #666;\n",
              "  }\n",
              "\n",
              "  .colab-df-quickchart {\n",
              "    background-color: var(--bg-color);\n",
              "    border: none;\n",
              "    border-radius: 50%;\n",
              "    cursor: pointer;\n",
              "    display: none;\n",
              "    fill: var(--fill-color);\n",
              "    height: 32px;\n",
              "    padding: 0;\n",
              "    width: 32px;\n",
              "  }\n",
              "\n",
              "  .colab-df-quickchart:hover {\n",
              "    background-color: var(--hover-bg-color);\n",
              "    box-shadow: 0 1px 2px rgba(60, 64, 67, 0.3), 0 1px 3px 1px rgba(60, 64, 67, 0.15);\n",
              "    fill: var(--button-hover-fill-color);\n",
              "  }\n",
              "\n",
              "  .colab-df-quickchart-complete:disabled,\n",
              "  .colab-df-quickchart-complete:disabled:hover {\n",
              "    background-color: var(--disabled-bg-color);\n",
              "    fill: var(--disabled-fill-color);\n",
              "    box-shadow: none;\n",
              "  }\n",
              "\n",
              "  .colab-df-spinner {\n",
              "    border: 2px solid var(--fill-color);\n",
              "    border-color: transparent;\n",
              "    border-bottom-color: var(--fill-color);\n",
              "    animation:\n",
              "      spin 1s steps(1) infinite;\n",
              "  }\n",
              "\n",
              "  @keyframes spin {\n",
              "    0% {\n",
              "      border-color: transparent;\n",
              "      border-bottom-color: var(--fill-color);\n",
              "      border-left-color: var(--fill-color);\n",
              "    }\n",
              "    20% {\n",
              "      border-color: transparent;\n",
              "      border-left-color: var(--fill-color);\n",
              "      border-top-color: var(--fill-color);\n",
              "    }\n",
              "    30% {\n",
              "      border-color: transparent;\n",
              "      border-left-color: var(--fill-color);\n",
              "      border-top-color: var(--fill-color);\n",
              "      border-right-color: var(--fill-color);\n",
              "    }\n",
              "    40% {\n",
              "      border-color: transparent;\n",
              "      border-right-color: var(--fill-color);\n",
              "      border-top-color: var(--fill-color);\n",
              "    }\n",
              "    60% {\n",
              "      border-color: transparent;\n",
              "      border-right-color: var(--fill-color);\n",
              "    }\n",
              "    80% {\n",
              "      border-color: transparent;\n",
              "      border-right-color: var(--fill-color);\n",
              "      border-bottom-color: var(--fill-color);\n",
              "    }\n",
              "    90% {\n",
              "      border-color: transparent;\n",
              "      border-bottom-color: var(--fill-color);\n",
              "    }\n",
              "  }\n",
              "</style>\n",
              "\n",
              "  <script>\n",
              "    async function quickchart(key) {\n",
              "      const quickchartButtonEl =\n",
              "        document.querySelector('#' + key + ' button');\n",
              "      quickchartButtonEl.disabled = true;  // To prevent multiple clicks.\n",
              "      quickchartButtonEl.classList.add('colab-df-spinner');\n",
              "      try {\n",
              "        const charts = await google.colab.kernel.invokeFunction(\n",
              "            'suggestCharts', [key], {});\n",
              "      } catch (error) {\n",
              "        console.error('Error during call to suggestCharts:', error);\n",
              "      }\n",
              "      quickchartButtonEl.classList.remove('colab-df-spinner');\n",
              "      quickchartButtonEl.classList.add('colab-df-quickchart-complete');\n",
              "    }\n",
              "    (() => {\n",
              "      let quickchartButtonEl =\n",
              "        document.querySelector('#df-658e27cd-ab89-46e6-9553-9d4232505726 button');\n",
              "      quickchartButtonEl.style.display =\n",
              "        google.colab.kernel.accessAllowed ? 'block' : 'none';\n",
              "    })();\n",
              "  </script>\n",
              "</div>\n",
              "    </div>\n",
              "  </div>\n"
            ],
            "application/vnd.google.colaboratory.intrinsic+json": {
              "type": "dataframe",
              "variable_name": "df",
              "summary": "{\n  \"name\": \"df\",\n  \"rows\": 86400,\n  \"fields\": [\n    {\n      \"column\": \"datetime\",\n      \"properties\": {\n        \"dtype\": \"date\",\n        \"min\": \"2006-12-16 17:24:00\",\n        \"max\": \"2007-02-14 17:23:00\",\n        \"num_unique_values\": 86400,\n        \"samples\": [\n          \"2007-01-15 20:48:00\",\n          \"2007-02-09 02:41:00\",\n          \"2006-12-20 23:00:00\"\n        ],\n        \"semantic_type\": \"\",\n        \"description\": \"\"\n      }\n    },\n    {\n      \"column\": \"Global_active_power\",\n      \"properties\": {\n        \"dtype\": \"number\",\n        \"std\": 1.335541718985206,\n        \"min\": 0.194,\n        \"max\": 9.272,\n        \"num_unique_values\": 3347,\n        \"samples\": [\n          5.406,\n          5.626,\n          3.904\n        ],\n        \"semantic_type\": \"\",\n        \"description\": \"\"\n      }\n    },\n    {\n      \"column\": \"Global_reactive_power\",\n      \"properties\": {\n        \"dtype\": \"number\",\n        \"std\": 0.1176214630431444,\n        \"min\": 0.0,\n        \"max\": 0.874,\n        \"num_unique_values\": 377,\n        \"samples\": [\n          0.656,\n          0.466,\n          0.632\n        ],\n        \"semantic_type\": \"\",\n        \"description\": \"\"\n      }\n    },\n    {\n      \"column\": \"Voltage\",\n      \"properties\": {\n        \"dtype\": \"number\",\n        \"std\": 3.498535931183726,\n        \"min\": 224.68,\n        \"max\": 251.7,\n        \"num_unique_values\": 2174,\n        \"samples\": [\n          238.73,\n          248.19,\n          237.56\n        ],\n        \"semantic_type\": \"\",\n        \"description\": \"\"\n      }\n    },\n    {\n      \"column\": \"Global_intensity\",\n      \"properties\": {\n        \"dtype\": \"number\",\n        \"std\": 5.629462938587408,\n        \"min\": 0.8,\n        \"max\": 40.4,\n        \"num_unique_values\": 189,\n        \"samples\": [\n          37.4,\n          36.2,\n          13.6\n        ],\n        \"semantic_type\": \"\",\n        \"description\": \"\"\n      }\n    },\n    {\n      \"column\": \"Sub_metering_1\",\n      \"properties\": {\n        \"dtype\": \"number\",\n        \"std\": 6.682567482882876,\n        \"min\": 0.0,\n        \"max\": 77.0,\n        \"num_unique_values\": 60,\n        \"samples\": [\n          0.0,\n          36.0,\n          14.0\n        ],\n        \"semantic_type\": \"\",\n        \"description\": \"\"\n      }\n    },\n    {\n      \"column\": \"Sub_metering_2\",\n      \"properties\": {\n        \"dtype\": \"number\",\n        \"std\": 7.5676794757081645,\n        \"min\": 0.0,\n        \"max\": 78.0,\n        \"num_unique_values\": 77,\n        \"samples\": [\n          37.0,\n          40.0,\n          9.0\n        ],\n        \"semantic_type\": \"\",\n        \"description\": \"\"\n      }\n    },\n    {\n      \"column\": \"Sub_metering_3\",\n      \"properties\": {\n        \"dtype\": \"number\",\n        \"std\": 8.67190930406459,\n        \"min\": 0.0,\n        \"max\": 20.0,\n        \"num_unique_values\": 21,\n        \"samples\": [\n          17.0,\n          12.0,\n          6.0\n        ],\n        \"semantic_type\": \"\",\n        \"description\": \"\"\n      }\n    }\n  ]\n}"
            }
          },
          "metadata": {},
          "execution_count": 81
        }
      ]
    },
    {
      "cell_type": "markdown",
      "source": [
        "# Data Transformation"
      ],
      "metadata": {
        "id": "-7aak3-G9l2D"
      }
    },
    {
      "cell_type": "markdown",
      "source": [
        "## Missing data"
      ],
      "metadata": {
        "id": "WP8mjkh4F2qK"
      }
    },
    {
      "cell_type": "code",
      "source": [
        "from numpy import nan\n",
        "\n",
        "# # mark all missing values\n",
        "df.replace('?', nan, inplace=True)\n",
        "\n",
        "# make dataset numeric\n",
        "df = df.astype('float32')"
      ],
      "metadata": {
        "id": "0hDOvN9OF8ET"
      },
      "execution_count": 82,
      "outputs": []
    },
    {
      "cell_type": "markdown",
      "source": [
        "Check if any values are missing"
      ],
      "metadata": {
        "id": "mOqQJY5QNJ4h"
      }
    },
    {
      "cell_type": "code",
      "source": [
        "df.isnull().sum()"
      ],
      "metadata": {
        "colab": {
          "base_uri": "https://localhost:8080/"
        },
        "id": "ceCmyOYTNIjn",
        "outputId": "7c832974-e0ac-48a7-a2c7-5194492f7a98"
      },
      "execution_count": 83,
      "outputs": [
        {
          "output_type": "execute_result",
          "data": {
            "text/plain": [
              "Global_active_power      0\n",
              "Global_reactive_power    0\n",
              "Voltage                  0\n",
              "Global_intensity         0\n",
              "Sub_metering_1           0\n",
              "Sub_metering_2           0\n",
              "Sub_metering_3           0\n",
              "dtype: int64"
            ]
          },
          "metadata": {},
          "execution_count": 83
        }
      ]
    },
    {
      "cell_type": "markdown",
      "source": [
        "A very simple approach would be to copy the observation from the same time the day before. We can implement this in a function named fill_missing() that will take the NumPy array of the data and copy values from exactly 24 hours ago."
      ],
      "metadata": {
        "id": "pcXS3GitHI82"
      }
    },
    {
      "cell_type": "code",
      "source": [
        "from math import isnan\n",
        "\n",
        "# fill missing\n",
        "fill_missing(df.values)"
      ],
      "metadata": {
        "id": "1wLVODmUGZfi"
      },
      "execution_count": 84,
      "outputs": []
    },
    {
      "cell_type": "markdown",
      "source": [
        "Now we can create a new column that contains the remainder of the sub-metering, using the calculation from the previous section.The remaining watt-hours can be calculated from the active energy by first converting the active energy to watt-hours then subtracting the other sub-metered active energy in watt-hours, as follows:\n",
        "\n",
        "sub_metering_remainder = (global_active_power * 1000 / 60) - (sub_metering_1 + sub_metering_2 + sub_metering_3)"
      ],
      "metadata": {
        "id": "X_ON-0-PGlMy"
      }
    },
    {
      "cell_type": "code",
      "source": [
        "# add a column for for the remainder of sub metering\n",
        "values = df.values\n",
        "df['sub_metering_4'] = (values[:,0] * 1000 / 60) - (values[:,4] + values[:,5] + values[:,6]) #this operation can only be done using series"
      ],
      "metadata": {
        "id": "cziokOR_Go9e"
      },
      "execution_count": 21,
      "outputs": []
    },
    {
      "cell_type": "markdown",
      "source": [
        "## Convert data to daily grain"
      ],
      "metadata": {
        "id": "xATop-s0Qpa4"
      }
    },
    {
      "cell_type": "markdown",
      "source": [
        "As we notice here , data here is in hourly grain. We should transform the data to daily grain in order to be able to make daily forecasts."
      ],
      "metadata": {
        "id": "c-GVc_FV7hJQ"
      }
    },
    {
      "cell_type": "code",
      "source": [
        "#resample data to daily\n",
        "daily_groups = df.resample('D') #D=daily\n",
        "print(daily_groups)"
      ],
      "metadata": {
        "colab": {
          "base_uri": "https://localhost:8080/"
        },
        "id": "cS6hm01H7tN_",
        "outputId": "c925d7fb-04f9-41d1-bb1c-db18dc7ffae3"
      },
      "execution_count": 85,
      "outputs": [
        {
          "output_type": "stream",
          "name": "stdout",
          "text": [
            "DatetimeIndexResampler [freq=<Day>, axis=0, closed=left, label=left, convention=start, origin=start_day]\n"
          ]
        }
      ]
    },
    {
      "cell_type": "code",
      "source": [
        "dailyDF = daily_groups.sum()\n",
        "\n",
        "# summarize\n",
        "print(dailyDF.shape)\n",
        "display(dailyDF.head())"
      ],
      "metadata": {
        "colab": {
          "base_uri": "https://localhost:8080/",
          "height": 254
        },
        "id": "WqR-PrIb7-4D",
        "outputId": "932d5568-c785-466d-81ab-7d9e98379994"
      },
      "execution_count": 86,
      "outputs": [
        {
          "output_type": "stream",
          "name": "stdout",
          "text": [
            "(61, 7)\n"
          ]
        },
        {
          "output_type": "display_data",
          "data": {
            "text/plain": [
              "            Global_active_power  Global_reactive_power       Voltage  \\\n",
              "datetime                                                               \n",
              "2006-12-16          1209.176025              34.922001   93552.53125   \n",
              "2006-12-17          3390.459961             226.005997  345725.31250   \n",
              "2006-12-18          2203.825928             161.792007  347373.62500   \n",
              "2006-12-19          1666.193970             150.942001  348479.00000   \n",
              "2006-12-20          2225.748047             160.998001  348923.62500   \n",
              "\n",
              "            Global_intensity  Sub_metering_1  Sub_metering_2  Sub_metering_3  \n",
              "datetime                                                                      \n",
              "2006-12-16       5180.799805             0.0           546.0          4926.0  \n",
              "2006-12-17      14398.599609          2033.0          4187.0         13341.0  \n",
              "2006-12-18       9247.200195          1063.0          2621.0         14018.0  \n",
              "2006-12-19       7094.000000           839.0          7602.0          6197.0  \n",
              "2006-12-20       9313.000000             0.0          2648.0         14063.0  "
            ],
            "text/html": [
              "\n",
              "  <div id=\"df-28ef059b-9904-4f8c-9ec0-76bf8b46b548\" class=\"colab-df-container\">\n",
              "    <div>\n",
              "<style scoped>\n",
              "    .dataframe tbody tr th:only-of-type {\n",
              "        vertical-align: middle;\n",
              "    }\n",
              "\n",
              "    .dataframe tbody tr th {\n",
              "        vertical-align: top;\n",
              "    }\n",
              "\n",
              "    .dataframe thead th {\n",
              "        text-align: right;\n",
              "    }\n",
              "</style>\n",
              "<table border=\"1\" class=\"dataframe\">\n",
              "  <thead>\n",
              "    <tr style=\"text-align: right;\">\n",
              "      <th></th>\n",
              "      <th>Global_active_power</th>\n",
              "      <th>Global_reactive_power</th>\n",
              "      <th>Voltage</th>\n",
              "      <th>Global_intensity</th>\n",
              "      <th>Sub_metering_1</th>\n",
              "      <th>Sub_metering_2</th>\n",
              "      <th>Sub_metering_3</th>\n",
              "    </tr>\n",
              "    <tr>\n",
              "      <th>datetime</th>\n",
              "      <th></th>\n",
              "      <th></th>\n",
              "      <th></th>\n",
              "      <th></th>\n",
              "      <th></th>\n",
              "      <th></th>\n",
              "      <th></th>\n",
              "    </tr>\n",
              "  </thead>\n",
              "  <tbody>\n",
              "    <tr>\n",
              "      <th>2006-12-16</th>\n",
              "      <td>1209.176025</td>\n",
              "      <td>34.922001</td>\n",
              "      <td>93552.53125</td>\n",
              "      <td>5180.799805</td>\n",
              "      <td>0.0</td>\n",
              "      <td>546.0</td>\n",
              "      <td>4926.0</td>\n",
              "    </tr>\n",
              "    <tr>\n",
              "      <th>2006-12-17</th>\n",
              "      <td>3390.459961</td>\n",
              "      <td>226.005997</td>\n",
              "      <td>345725.31250</td>\n",
              "      <td>14398.599609</td>\n",
              "      <td>2033.0</td>\n",
              "      <td>4187.0</td>\n",
              "      <td>13341.0</td>\n",
              "    </tr>\n",
              "    <tr>\n",
              "      <th>2006-12-18</th>\n",
              "      <td>2203.825928</td>\n",
              "      <td>161.792007</td>\n",
              "      <td>347373.62500</td>\n",
              "      <td>9247.200195</td>\n",
              "      <td>1063.0</td>\n",
              "      <td>2621.0</td>\n",
              "      <td>14018.0</td>\n",
              "    </tr>\n",
              "    <tr>\n",
              "      <th>2006-12-19</th>\n",
              "      <td>1666.193970</td>\n",
              "      <td>150.942001</td>\n",
              "      <td>348479.00000</td>\n",
              "      <td>7094.000000</td>\n",
              "      <td>839.0</td>\n",
              "      <td>7602.0</td>\n",
              "      <td>6197.0</td>\n",
              "    </tr>\n",
              "    <tr>\n",
              "      <th>2006-12-20</th>\n",
              "      <td>2225.748047</td>\n",
              "      <td>160.998001</td>\n",
              "      <td>348923.62500</td>\n",
              "      <td>9313.000000</td>\n",
              "      <td>0.0</td>\n",
              "      <td>2648.0</td>\n",
              "      <td>14063.0</td>\n",
              "    </tr>\n",
              "  </tbody>\n",
              "</table>\n",
              "</div>\n",
              "    <div class=\"colab-df-buttons\">\n",
              "\n",
              "  <div class=\"colab-df-container\">\n",
              "    <button class=\"colab-df-convert\" onclick=\"convertToInteractive('df-28ef059b-9904-4f8c-9ec0-76bf8b46b548')\"\n",
              "            title=\"Convert this dataframe to an interactive table.\"\n",
              "            style=\"display:none;\">\n",
              "\n",
              "  <svg xmlns=\"http://www.w3.org/2000/svg\" height=\"24px\" viewBox=\"0 -960 960 960\">\n",
              "    <path d=\"M120-120v-720h720v720H120Zm60-500h600v-160H180v160Zm220 220h160v-160H400v160Zm0 220h160v-160H400v160ZM180-400h160v-160H180v160Zm440 0h160v-160H620v160ZM180-180h160v-160H180v160Zm440 0h160v-160H620v160Z\"/>\n",
              "  </svg>\n",
              "    </button>\n",
              "\n",
              "  <style>\n",
              "    .colab-df-container {\n",
              "      display:flex;\n",
              "      gap: 12px;\n",
              "    }\n",
              "\n",
              "    .colab-df-convert {\n",
              "      background-color: #E8F0FE;\n",
              "      border: none;\n",
              "      border-radius: 50%;\n",
              "      cursor: pointer;\n",
              "      display: none;\n",
              "      fill: #1967D2;\n",
              "      height: 32px;\n",
              "      padding: 0 0 0 0;\n",
              "      width: 32px;\n",
              "    }\n",
              "\n",
              "    .colab-df-convert:hover {\n",
              "      background-color: #E2EBFA;\n",
              "      box-shadow: 0px 1px 2px rgba(60, 64, 67, 0.3), 0px 1px 3px 1px rgba(60, 64, 67, 0.15);\n",
              "      fill: #174EA6;\n",
              "    }\n",
              "\n",
              "    .colab-df-buttons div {\n",
              "      margin-bottom: 4px;\n",
              "    }\n",
              "\n",
              "    [theme=dark] .colab-df-convert {\n",
              "      background-color: #3B4455;\n",
              "      fill: #D2E3FC;\n",
              "    }\n",
              "\n",
              "    [theme=dark] .colab-df-convert:hover {\n",
              "      background-color: #434B5C;\n",
              "      box-shadow: 0px 1px 3px 1px rgba(0, 0, 0, 0.15);\n",
              "      filter: drop-shadow(0px 1px 2px rgba(0, 0, 0, 0.3));\n",
              "      fill: #FFFFFF;\n",
              "    }\n",
              "  </style>\n",
              "\n",
              "    <script>\n",
              "      const buttonEl =\n",
              "        document.querySelector('#df-28ef059b-9904-4f8c-9ec0-76bf8b46b548 button.colab-df-convert');\n",
              "      buttonEl.style.display =\n",
              "        google.colab.kernel.accessAllowed ? 'block' : 'none';\n",
              "\n",
              "      async function convertToInteractive(key) {\n",
              "        const element = document.querySelector('#df-28ef059b-9904-4f8c-9ec0-76bf8b46b548');\n",
              "        const dataTable =\n",
              "          await google.colab.kernel.invokeFunction('convertToInteractive',\n",
              "                                                    [key], {});\n",
              "        if (!dataTable) return;\n",
              "\n",
              "        const docLinkHtml = 'Like what you see? Visit the ' +\n",
              "          '<a target=\"_blank\" href=https://colab.research.google.com/notebooks/data_table.ipynb>data table notebook</a>'\n",
              "          + ' to learn more about interactive tables.';\n",
              "        element.innerHTML = '';\n",
              "        dataTable['output_type'] = 'display_data';\n",
              "        await google.colab.output.renderOutput(dataTable, element);\n",
              "        const docLink = document.createElement('div');\n",
              "        docLink.innerHTML = docLinkHtml;\n",
              "        element.appendChild(docLink);\n",
              "      }\n",
              "    </script>\n",
              "  </div>\n",
              "\n",
              "\n",
              "<div id=\"df-e64780fa-0852-4ad7-b506-8b8775907bf8\">\n",
              "  <button class=\"colab-df-quickchart\" onclick=\"quickchart('df-e64780fa-0852-4ad7-b506-8b8775907bf8')\"\n",
              "            title=\"Suggest charts\"\n",
              "            style=\"display:none;\">\n",
              "\n",
              "<svg xmlns=\"http://www.w3.org/2000/svg\" height=\"24px\"viewBox=\"0 0 24 24\"\n",
              "     width=\"24px\">\n",
              "    <g>\n",
              "        <path d=\"M19 3H5c-1.1 0-2 .9-2 2v14c0 1.1.9 2 2 2h14c1.1 0 2-.9 2-2V5c0-1.1-.9-2-2-2zM9 17H7v-7h2v7zm4 0h-2V7h2v10zm4 0h-2v-4h2v4z\"/>\n",
              "    </g>\n",
              "</svg>\n",
              "  </button>\n",
              "\n",
              "<style>\n",
              "  .colab-df-quickchart {\n",
              "      --bg-color: #E8F0FE;\n",
              "      --fill-color: #1967D2;\n",
              "      --hover-bg-color: #E2EBFA;\n",
              "      --hover-fill-color: #174EA6;\n",
              "      --disabled-fill-color: #AAA;\n",
              "      --disabled-bg-color: #DDD;\n",
              "  }\n",
              "\n",
              "  [theme=dark] .colab-df-quickchart {\n",
              "      --bg-color: #3B4455;\n",
              "      --fill-color: #D2E3FC;\n",
              "      --hover-bg-color: #434B5C;\n",
              "      --hover-fill-color: #FFFFFF;\n",
              "      --disabled-bg-color: #3B4455;\n",
              "      --disabled-fill-color: #666;\n",
              "  }\n",
              "\n",
              "  .colab-df-quickchart {\n",
              "    background-color: var(--bg-color);\n",
              "    border: none;\n",
              "    border-radius: 50%;\n",
              "    cursor: pointer;\n",
              "    display: none;\n",
              "    fill: var(--fill-color);\n",
              "    height: 32px;\n",
              "    padding: 0;\n",
              "    width: 32px;\n",
              "  }\n",
              "\n",
              "  .colab-df-quickchart:hover {\n",
              "    background-color: var(--hover-bg-color);\n",
              "    box-shadow: 0 1px 2px rgba(60, 64, 67, 0.3), 0 1px 3px 1px rgba(60, 64, 67, 0.15);\n",
              "    fill: var(--button-hover-fill-color);\n",
              "  }\n",
              "\n",
              "  .colab-df-quickchart-complete:disabled,\n",
              "  .colab-df-quickchart-complete:disabled:hover {\n",
              "    background-color: var(--disabled-bg-color);\n",
              "    fill: var(--disabled-fill-color);\n",
              "    box-shadow: none;\n",
              "  }\n",
              "\n",
              "  .colab-df-spinner {\n",
              "    border: 2px solid var(--fill-color);\n",
              "    border-color: transparent;\n",
              "    border-bottom-color: var(--fill-color);\n",
              "    animation:\n",
              "      spin 1s steps(1) infinite;\n",
              "  }\n",
              "\n",
              "  @keyframes spin {\n",
              "    0% {\n",
              "      border-color: transparent;\n",
              "      border-bottom-color: var(--fill-color);\n",
              "      border-left-color: var(--fill-color);\n",
              "    }\n",
              "    20% {\n",
              "      border-color: transparent;\n",
              "      border-left-color: var(--fill-color);\n",
              "      border-top-color: var(--fill-color);\n",
              "    }\n",
              "    30% {\n",
              "      border-color: transparent;\n",
              "      border-left-color: var(--fill-color);\n",
              "      border-top-color: var(--fill-color);\n",
              "      border-right-color: var(--fill-color);\n",
              "    }\n",
              "    40% {\n",
              "      border-color: transparent;\n",
              "      border-right-color: var(--fill-color);\n",
              "      border-top-color: var(--fill-color);\n",
              "    }\n",
              "    60% {\n",
              "      border-color: transparent;\n",
              "      border-right-color: var(--fill-color);\n",
              "    }\n",
              "    80% {\n",
              "      border-color: transparent;\n",
              "      border-right-color: var(--fill-color);\n",
              "      border-bottom-color: var(--fill-color);\n",
              "    }\n",
              "    90% {\n",
              "      border-color: transparent;\n",
              "      border-bottom-color: var(--fill-color);\n",
              "    }\n",
              "  }\n",
              "</style>\n",
              "\n",
              "  <script>\n",
              "    async function quickchart(key) {\n",
              "      const quickchartButtonEl =\n",
              "        document.querySelector('#' + key + ' button');\n",
              "      quickchartButtonEl.disabled = true;  // To prevent multiple clicks.\n",
              "      quickchartButtonEl.classList.add('colab-df-spinner');\n",
              "      try {\n",
              "        const charts = await google.colab.kernel.invokeFunction(\n",
              "            'suggestCharts', [key], {});\n",
              "      } catch (error) {\n",
              "        console.error('Error during call to suggestCharts:', error);\n",
              "      }\n",
              "      quickchartButtonEl.classList.remove('colab-df-spinner');\n",
              "      quickchartButtonEl.classList.add('colab-df-quickchart-complete');\n",
              "    }\n",
              "    (() => {\n",
              "      let quickchartButtonEl =\n",
              "        document.querySelector('#df-e64780fa-0852-4ad7-b506-8b8775907bf8 button');\n",
              "      quickchartButtonEl.style.display =\n",
              "        google.colab.kernel.accessAllowed ? 'block' : 'none';\n",
              "    })();\n",
              "  </script>\n",
              "</div>\n",
              "    </div>\n",
              "  </div>\n"
            ],
            "application/vnd.google.colaboratory.intrinsic+json": {
              "type": "dataframe",
              "summary": "{\n  \"name\": \"display(dailyDF\",\n  \"rows\": 5,\n  \"fields\": [\n    {\n      \"column\": \"datetime\",\n      \"properties\": {\n        \"dtype\": \"date\",\n        \"min\": \"2006-12-16 00:00:00\",\n        \"max\": \"2006-12-20 00:00:00\",\n        \"num_unique_values\": 5,\n        \"samples\": [\n          \"2006-12-17 00:00:00\",\n          \"2006-12-20 00:00:00\",\n          \"2006-12-18 00:00:00\"\n        ],\n        \"semantic_type\": \"\",\n        \"description\": \"\"\n      }\n    },\n    {\n      \"column\": \"Global_active_power\",\n      \"properties\": {\n        \"dtype\": \"float32\",\n        \"num_unique_values\": 5,\n        \"samples\": [\n          3390.4599609375,\n          2225.748046875,\n          2203.825927734375\n        ],\n        \"semantic_type\": \"\",\n        \"description\": \"\"\n      }\n    },\n    {\n      \"column\": \"Global_reactive_power\",\n      \"properties\": {\n        \"dtype\": \"float32\",\n        \"num_unique_values\": 5,\n        \"samples\": [\n          226.00599670410156,\n          160.9980010986328,\n          161.79200744628906\n        ],\n        \"semantic_type\": \"\",\n        \"description\": \"\"\n      }\n    },\n    {\n      \"column\": \"Voltage\",\n      \"properties\": {\n        \"dtype\": \"float32\",\n        \"num_unique_values\": 5,\n        \"samples\": [\n          345725.3125,\n          348923.625,\n          347373.625\n        ],\n        \"semantic_type\": \"\",\n        \"description\": \"\"\n      }\n    },\n    {\n      \"column\": \"Global_intensity\",\n      \"properties\": {\n        \"dtype\": \"float32\",\n        \"num_unique_values\": 5,\n        \"samples\": [\n          14398.599609375,\n          9313.0,\n          9247.2001953125\n        ],\n        \"semantic_type\": \"\",\n        \"description\": \"\"\n      }\n    },\n    {\n      \"column\": \"Sub_metering_1\",\n      \"properties\": {\n        \"dtype\": \"float32\",\n        \"num_unique_values\": 4,\n        \"samples\": [\n          2033.0,\n          839.0,\n          0.0\n        ],\n        \"semantic_type\": \"\",\n        \"description\": \"\"\n      }\n    },\n    {\n      \"column\": \"Sub_metering_2\",\n      \"properties\": {\n        \"dtype\": \"float32\",\n        \"num_unique_values\": 5,\n        \"samples\": [\n          4187.0,\n          2648.0,\n          2621.0\n        ],\n        \"semantic_type\": \"\",\n        \"description\": \"\"\n      }\n    },\n    {\n      \"column\": \"Sub_metering_3\",\n      \"properties\": {\n        \"dtype\": \"float32\",\n        \"num_unique_values\": 5,\n        \"samples\": [\n          13341.0,\n          14063.0,\n          14018.0\n        ],\n        \"semantic_type\": \"\",\n        \"description\": \"\"\n      }\n    }\n  ]\n}"
            }
          },
          "metadata": {}
        }
      ]
    },
    {
      "cell_type": "markdown",
      "source": [
        "# Training - Validation Split"
      ],
      "metadata": {
        "id": "sHD7D8xPSZwF"
      }
    },
    {
      "cell_type": "markdown",
      "source": [
        "We will use the first three years of data for training predictive models and the final year for evaluating models.\n",
        "\n",
        "The data in a given dataset will be divided into standard weeks. These are weeks that begin on a Sunday and end on a Saturday.\n",
        "\n",
        "This is a realistic and useful way for using the chosen framing of the model, where the power consumption for the week ahead can be predicted. It is also helpful with modeling, where models can be used to predict a specific day (e.g. Wednesday) or the entire sequence.\n",
        "\n",
        "We will split the data into standard weeks, working backwards from the test dataset."
      ],
      "metadata": {
        "id": "S1EcZUuDPE94"
      }
    },
    {
      "cell_type": "code",
      "source": [
        "print(dailyDF)"
      ],
      "metadata": {
        "colab": {
          "base_uri": "https://localhost:8080/"
        },
        "id": "8I_6ZFSFBUot",
        "outputId": "ded59d79-8d07-42c3-acf5-97a115bf21b1"
      },
      "execution_count": 87,
      "outputs": [
        {
          "output_type": "stream",
          "name": "stdout",
          "text": [
            "            Global_active_power  Global_reactive_power       Voltage  \\\n",
            "datetime                                                               \n",
            "2006-12-16          1209.176025              34.922001   93552.53125   \n",
            "2006-12-17          3390.459961             226.005997  345725.31250   \n",
            "2006-12-18          2203.825928             161.792007  347373.62500   \n",
            "2006-12-19          1666.193970             150.942001  348479.00000   \n",
            "2006-12-20          2225.748047             160.998001  348923.62500   \n",
            "...                         ...                    ...           ...   \n",
            "2007-02-10          2829.327881             192.973999  345653.03125   \n",
            "2007-02-11          3571.228027             204.313995  344888.84375   \n",
            "2007-02-12          1877.609985             136.703995  345741.84375   \n",
            "2007-02-13          1414.546021             134.677994  347280.28125   \n",
            "2007-02-14          1741.764038             143.328003  251928.81250   \n",
            "\n",
            "            Global_intensity  Sub_metering_1  Sub_metering_2  Sub_metering_3  \n",
            "datetime                                                                      \n",
            "2006-12-16       5180.799805             0.0           546.0          4926.0  \n",
            "2006-12-17      14398.599609          2033.0          4187.0         13341.0  \n",
            "2006-12-18       9247.200195          1063.0          2621.0         14018.0  \n",
            "2006-12-19       7094.000000           839.0          7602.0          6197.0  \n",
            "2006-12-20       9313.000000             0.0          2648.0         14063.0  \n",
            "...                      ...             ...             ...             ...  \n",
            "2007-02-10      11957.400391          5071.0          2831.0         14405.0  \n",
            "2007-02-11      15158.599609          2430.0          4765.0         13114.0  \n",
            "2007-02-12       7925.000000          2227.0           399.0         11517.0  \n",
            "2007-02-13       5967.000000             0.0          2828.0          6256.0  \n",
            "2007-02-14       7302.399902          2229.0          3631.0         10250.0  \n",
            "\n",
            "[61 rows x 7 columns]\n"
          ]
        }
      ]
    },
    {
      "cell_type": "markdown",
      "source": [
        "As we can see, the last record in data is of 2010-11-26. Assuming the week starts as Sunday. So, let's try to pull earliest data of 2010 year in Sunday which is 2010-01-03. This is our testing set.\n",
        "\n",
        "All remaining data i.e, 2006-12-16 till 2010-01-02 is our training data."
      ],
      "metadata": {
        "id": "h9dgi3yKT3Ep"
      }
    },
    {
      "cell_type": "code",
      "execution_count": 101,
      "metadata": {
        "pycharm": {
          "name": "#%%\n"
        },
        "id": "ykcfsicrciYU"
      },
      "outputs": [],
      "source": [
        "# Number of features in the dataset. We use all features as predictors to predict all features of future time steps.\n",
        "num_features = len(dailyDF.columns)"
      ]
    },
    {
      "cell_type": "code",
      "source": [
        "series_val = dailyDF[\"2007-01-07\":\"2007-02-14\"]\n",
        "series_train = dailyDF[\"2006-12-16\":\"2010-01-06\"]\n",
        "\n",
        "# series_val = dailyDF[\"2010-01-03\":\"2010-11-26\"]\n",
        "# series_train = dailyDF[\"2006-12-16\":\"2010-01-02\"]"
      ],
      "metadata": {
        "id": "e8yH1KLAUoas"
      },
      "execution_count": 88,
      "outputs": []
    },
    {
      "cell_type": "code",
      "source": [
        "SPLIT_TIME = np.array(series_val).shape[0]"
      ],
      "metadata": {
        "id": "pGepIJM18EeG"
      },
      "execution_count": 90,
      "outputs": []
    },
    {
      "cell_type": "markdown",
      "source": [
        "# Data Normalization"
      ],
      "metadata": {
        "id": "mnKCEvq6SOK9"
      }
    },
    {
      "cell_type": "code",
      "source": [
        "data = np.array(series_train)\n",
        "train_mean = data.mean()\n",
        "train_std = data.std()"
      ],
      "metadata": {
        "id": "0x8KJlD_ZLhY"
      },
      "execution_count": 91,
      "outputs": []
    },
    {
      "cell_type": "code",
      "source": [
        "series_val = (series_val - train_mean)/train_std\n",
        "series_train = (series_train - train_mean)/train_std"
      ],
      "metadata": {
        "id": "xHEqZWpxSUHr"
      },
      "execution_count": 92,
      "outputs": []
    },
    {
      "cell_type": "markdown",
      "source": [
        "# Global Parameters"
      ],
      "metadata": {
        "id": "mRts1kwkZ9u4"
      }
    },
    {
      "cell_type": "code",
      "execution_count": 93,
      "metadata": {
        "pycharm": {
          "name": "#%%\n"
        },
        "id": "9TrGE7unciYV"
      },
      "outputs": [],
      "source": [
        "# Hyper-Parameters\n",
        "BATCH_SIZE = 32 # Batch size\n",
        "N_PAST = 7 # Number of past time steps based on which future observations should be predicted\n",
        "N_FUTURE = 7 # Number of future time steps which are to be predicted.\n",
        "SHIFT = 1 # By how many positions the window slides to create a new window of observations."
      ]
    },
    {
      "cell_type": "markdown",
      "source": [
        "# Batching of dataset"
      ],
      "metadata": {
        "id": "cPjf_FAQbpCE"
      }
    },
    {
      "cell_type": "code",
      "execution_count": 94,
      "metadata": {
        "pycharm": {
          "name": "#%%\n"
        },
        "id": "fR7hzrl5ciYV"
      },
      "outputs": [],
      "source": [
        "\n",
        "# This is multi step prediction.\n",
        "# window size = n_past + n_future\n",
        "# n_past --> no. of previous observations used to make forecast\n",
        "# n_future --> horizon for which we make forecast\n",
        "\n",
        "def windowed_dataset(series, batch_size, n_past=10, n_future=10, shift=1):\n",
        "\n",
        "    # Generate a TF Dataset from the series values\n",
        "    ds = tf.data.Dataset.from_tensor_slices(series)\n",
        "\n",
        "    # Window the data but only take those with the specified size\n",
        "    ds = ds.window(size=n_past + n_future, shift=shift, drop_remainder=True)\n",
        "\n",
        "    # Flatten the windows by putting its elements in a single batch\n",
        "    ds = ds.flat_map(lambda w: w.batch(n_past + n_future))\n",
        "\n",
        "    # Create tuples with features and labels\n",
        "    ds = ds.map(lambda w: (w[:n_past], w[n_past:])) #(window[:-1], window[-1])\n",
        "\n",
        "    # Create batches of windows\n",
        "    dataset = ds.batch(batch_size).prefetch(1)\n",
        "\n",
        "    return dataset"
      ]
    },
    {
      "cell_type": "code",
      "execution_count": 95,
      "metadata": {
        "pycharm": {
          "name": "#%%\n"
        },
        "id": "dc8AIWcBciYV"
      },
      "outputs": [],
      "source": [
        "# Windowed train and validation datasets.\n",
        "train_set = windowed_dataset(series_train, BATCH_SIZE, N_PAST, N_FUTURE, SHIFT)\n",
        "valid_set = windowed_dataset(series_val, BATCH_SIZE, N_PAST, N_FUTURE, SHIFT)"
      ]
    },
    {
      "cell_type": "code",
      "execution_count": 98,
      "metadata": {
        "pycharm": {
          "name": "#%%\n"
        },
        "colab": {
          "base_uri": "https://localhost:8080/"
        },
        "id": "lfkPBXdEciYV",
        "outputId": "54b72fff-01b3-42b5-dbfb-2173f8962a6d"
      },
      "outputs": [
        {
          "output_type": "stream",
          "name": "stdout",
          "text": [
            "Shape of feature: (32, 7, 7)\n",
            "Shape of label: (32, 7, 7)\n",
            "Shape of feature: (26, 7, 7)\n",
            "Shape of label: (26, 7, 7)\n"
          ]
        }
      ],
      "source": [
        "# Print the data shape\n",
        "for window in train_set.take(1):\n",
        "    print(f'Shape of feature: {window[0].shape}')\n",
        "    print(f'Shape of label: {window[1].shape}')\n",
        "\n",
        "for window in valid_set.take(1):\n",
        "    print(f'Shape of feature: {window[0].shape}')\n",
        "    print(f'Shape of label: {window[1].shape}')"
      ]
    },
    {
      "cell_type": "markdown",
      "source": [
        "# Build Model"
      ],
      "metadata": {
        "id": "cRF6UwsPcvU_"
      }
    },
    {
      "cell_type": "code",
      "execution_count": 48,
      "metadata": {
        "pycharm": {
          "name": "#%%\n"
        },
        "colab": {
          "base_uri": "https://localhost:8080/"
        },
        "id": "05OG_UadciYV",
        "outputId": "d126e3e1-e408-47e0-9b03-e9a3cbc70a04"
      },
      "outputs": [
        {
          "output_type": "stream",
          "name": "stdout",
          "text": [
            "Model: \"model\"\n",
            "_________________________________________________________________\n",
            " Layer (type)                Output Shape              Param #   \n",
            "=================================================================\n",
            " input_1 (InputLayer)        [(None, 7, 8)]            0         \n",
            "                                                                 \n",
            " bidirectional (Bidirection  (None, 7, 256)            140288    \n",
            " al)                                                             \n",
            "                                                                 \n",
            " bidirectional_1 (Bidirecti  (None, 7, 128)            164352    \n",
            " onal)                                                           \n",
            "                                                                 \n",
            " bidirectional_2 (Bidirecti  (None, 64)                41216     \n",
            " onal)                                                           \n",
            "                                                                 \n",
            " dense (Dense)               (None, 56)                3640      \n",
            "                                                                 \n",
            " reshape (Reshape)           (None, 7, 8)              0         \n",
            "                                                                 \n",
            "=================================================================\n",
            "Total params: 349496 (1.33 MB)\n",
            "Trainable params: 349496 (1.33 MB)\n",
            "Non-trainable params: 0 (0.00 Byte)\n",
            "_________________________________________________________________\n"
          ]
        }
      ],
      "source": [
        "# Code to define your model.\n",
        "inputs = tf.keras.layers.Input(shape=[N_PAST, num_features])\n",
        "# x = normalizer(inputs)\n",
        "x = tf.keras.layers.Bidirectional(tf.keras.layers.LSTM(128, return_sequences=True))(inputs)\n",
        "x = tf.keras.layers.Bidirectional(tf.keras.layers.LSTM(64, return_sequences=True))(x)\n",
        "#tf.keras.layers.Dropout(0.2),\n",
        "x = tf.keras.layers.Bidirectional(tf.keras.layers.LSTM(32))(x)\n",
        "#tf.keras.layers.Dropout(0.2),\n",
        "x = tf.keras.layers.Dense(num_features* N_FUTURE)(x)\n",
        "outputs = tf.keras.layers.Reshape([N_FUTURE, num_features])(x)\n",
        "\n",
        "model = tf.keras.Model(inputs,outputs)\n",
        "\n",
        "# Model Summary\n",
        "model.summary()"
      ]
    },
    {
      "cell_type": "markdown",
      "metadata": {
        "id": "EtSCmjQfXyKi"
      },
      "source": [
        "## Tune the Learning Rate\n",
        "\n",
        "As usual, you will want to pick an optimal learning rate."
      ]
    },
    {
      "cell_type": "code",
      "source": [
        "#Get initial weights\n",
        "init_weights = model.get_weights()"
      ],
      "metadata": {
        "id": "qQnq8UZQKhdx"
      },
      "execution_count": 99,
      "outputs": []
    },
    {
      "cell_type": "code",
      "source": [
        "# Set the learning rate scheduler\n",
        "lr_schedule = tf.keras.callbacks.LearningRateScheduler(\n",
        "    lambda epoch: 1e-3 * 10**(epoch/20))\n",
        "\n",
        "# Initialize the optimizer\n",
        "optimizer=tf.keras.optimizers.SGD(momentum=0.9)\n",
        "\n",
        "# Set the training parameters\n",
        "model.compile(loss=tf.keras.losses.Huber(),\n",
        "              optimizer=optimizer)\n",
        "\n",
        "# Train the model\n",
        "history = model.fit(train_set, epochs=100, callbacks=[lr_schedule])"
      ],
      "metadata": {
        "id": "UBvI9QhMKtKR",
        "colab": {
          "base_uri": "https://localhost:8080/",
          "height": 599
        },
        "outputId": "bdf2d310-1906-440e-898c-55d9f638a470"
      },
      "execution_count": 100,
      "outputs": [
        {
          "output_type": "stream",
          "name": "stdout",
          "text": [
            "Epoch 1/100\n"
          ]
        },
        {
          "output_type": "error",
          "ename": "ValueError",
          "evalue": "in user code:\n\n    File \"/usr/local/lib/python3.10/dist-packages/keras/src/engine/training.py\", line 1401, in train_function  *\n        return step_function(self, iterator)\n    File \"/usr/local/lib/python3.10/dist-packages/keras/src/engine/training.py\", line 1384, in step_function  **\n        outputs = model.distribute_strategy.run(run_step, args=(data,))\n    File \"/usr/local/lib/python3.10/dist-packages/keras/src/engine/training.py\", line 1373, in run_step  **\n        outputs = model.train_step(data)\n    File \"/usr/local/lib/python3.10/dist-packages/keras/src/engine/training.py\", line 1150, in train_step\n        y_pred = self(x, training=True)\n    File \"/usr/local/lib/python3.10/dist-packages/keras/src/utils/traceback_utils.py\", line 70, in error_handler\n        raise e.with_traceback(filtered_tb) from None\n    File \"/usr/local/lib/python3.10/dist-packages/keras/src/engine/input_spec.py\", line 298, in assert_input_compatibility\n        raise ValueError(\n\n    ValueError: Input 0 of layer \"model\" is incompatible with the layer: expected shape=(None, 7, 8), found shape=(None, None, 7)\n",
          "traceback": [
            "\u001b[0;31m---------------------------------------------------------------------------\u001b[0m",
            "\u001b[0;31mValueError\u001b[0m                                Traceback (most recent call last)",
            "\u001b[0;32m<ipython-input-100-69fd4bb8701d>\u001b[0m in \u001b[0;36m<cell line: 13>\u001b[0;34m()\u001b[0m\n\u001b[1;32m     11\u001b[0m \u001b[0;34m\u001b[0m\u001b[0m\n\u001b[1;32m     12\u001b[0m \u001b[0;31m# Train the model\u001b[0m\u001b[0;34m\u001b[0m\u001b[0;34m\u001b[0m\u001b[0m\n\u001b[0;32m---> 13\u001b[0;31m \u001b[0mhistory\u001b[0m \u001b[0;34m=\u001b[0m \u001b[0mmodel\u001b[0m\u001b[0;34m.\u001b[0m\u001b[0mfit\u001b[0m\u001b[0;34m(\u001b[0m\u001b[0mtrain_set\u001b[0m\u001b[0;34m,\u001b[0m \u001b[0mepochs\u001b[0m\u001b[0;34m=\u001b[0m\u001b[0;36m100\u001b[0m\u001b[0;34m,\u001b[0m \u001b[0mcallbacks\u001b[0m\u001b[0;34m=\u001b[0m\u001b[0;34m[\u001b[0m\u001b[0mlr_schedule\u001b[0m\u001b[0;34m]\u001b[0m\u001b[0;34m)\u001b[0m\u001b[0;34m\u001b[0m\u001b[0;34m\u001b[0m\u001b[0m\n\u001b[0m",
            "\u001b[0;32m/usr/local/lib/python3.10/dist-packages/keras/src/utils/traceback_utils.py\u001b[0m in \u001b[0;36merror_handler\u001b[0;34m(*args, **kwargs)\u001b[0m\n\u001b[1;32m     68\u001b[0m             \u001b[0;31m# To get the full stack trace, call:\u001b[0m\u001b[0;34m\u001b[0m\u001b[0;34m\u001b[0m\u001b[0m\n\u001b[1;32m     69\u001b[0m             \u001b[0;31m# `tf.debugging.disable_traceback_filtering()`\u001b[0m\u001b[0;34m\u001b[0m\u001b[0;34m\u001b[0m\u001b[0m\n\u001b[0;32m---> 70\u001b[0;31m             \u001b[0;32mraise\u001b[0m \u001b[0me\u001b[0m\u001b[0;34m.\u001b[0m\u001b[0mwith_traceback\u001b[0m\u001b[0;34m(\u001b[0m\u001b[0mfiltered_tb\u001b[0m\u001b[0;34m)\u001b[0m \u001b[0;32mfrom\u001b[0m \u001b[0;32mNone\u001b[0m\u001b[0;34m\u001b[0m\u001b[0;34m\u001b[0m\u001b[0m\n\u001b[0m\u001b[1;32m     71\u001b[0m         \u001b[0;32mfinally\u001b[0m\u001b[0;34m:\u001b[0m\u001b[0;34m\u001b[0m\u001b[0;34m\u001b[0m\u001b[0m\n\u001b[1;32m     72\u001b[0m             \u001b[0;32mdel\u001b[0m \u001b[0mfiltered_tb\u001b[0m\u001b[0;34m\u001b[0m\u001b[0;34m\u001b[0m\u001b[0m\n",
            "\u001b[0;32m/usr/local/lib/python3.10/dist-packages/keras/src/engine/training.py\u001b[0m in \u001b[0;36mtf__train_function\u001b[0;34m(iterator)\u001b[0m\n\u001b[1;32m     13\u001b[0m                 \u001b[0;32mtry\u001b[0m\u001b[0;34m:\u001b[0m\u001b[0;34m\u001b[0m\u001b[0;34m\u001b[0m\u001b[0m\n\u001b[1;32m     14\u001b[0m                     \u001b[0mdo_return\u001b[0m \u001b[0;34m=\u001b[0m \u001b[0;32mTrue\u001b[0m\u001b[0;34m\u001b[0m\u001b[0;34m\u001b[0m\u001b[0m\n\u001b[0;32m---> 15\u001b[0;31m                     \u001b[0mretval_\u001b[0m \u001b[0;34m=\u001b[0m \u001b[0mag__\u001b[0m\u001b[0;34m.\u001b[0m\u001b[0mconverted_call\u001b[0m\u001b[0;34m(\u001b[0m\u001b[0mag__\u001b[0m\u001b[0;34m.\u001b[0m\u001b[0mld\u001b[0m\u001b[0;34m(\u001b[0m\u001b[0mstep_function\u001b[0m\u001b[0;34m)\u001b[0m\u001b[0;34m,\u001b[0m \u001b[0;34m(\u001b[0m\u001b[0mag__\u001b[0m\u001b[0;34m.\u001b[0m\u001b[0mld\u001b[0m\u001b[0;34m(\u001b[0m\u001b[0mself\u001b[0m\u001b[0;34m)\u001b[0m\u001b[0;34m,\u001b[0m \u001b[0mag__\u001b[0m\u001b[0;34m.\u001b[0m\u001b[0mld\u001b[0m\u001b[0;34m(\u001b[0m\u001b[0miterator\u001b[0m\u001b[0;34m)\u001b[0m\u001b[0;34m)\u001b[0m\u001b[0;34m,\u001b[0m \u001b[0;32mNone\u001b[0m\u001b[0;34m,\u001b[0m \u001b[0mfscope\u001b[0m\u001b[0;34m)\u001b[0m\u001b[0;34m\u001b[0m\u001b[0;34m\u001b[0m\u001b[0m\n\u001b[0m\u001b[1;32m     16\u001b[0m                 \u001b[0;32mexcept\u001b[0m\u001b[0;34m:\u001b[0m\u001b[0;34m\u001b[0m\u001b[0;34m\u001b[0m\u001b[0m\n\u001b[1;32m     17\u001b[0m                     \u001b[0mdo_return\u001b[0m \u001b[0;34m=\u001b[0m \u001b[0;32mFalse\u001b[0m\u001b[0;34m\u001b[0m\u001b[0;34m\u001b[0m\u001b[0m\n",
            "\u001b[0;31mValueError\u001b[0m: in user code:\n\n    File \"/usr/local/lib/python3.10/dist-packages/keras/src/engine/training.py\", line 1401, in train_function  *\n        return step_function(self, iterator)\n    File \"/usr/local/lib/python3.10/dist-packages/keras/src/engine/training.py\", line 1384, in step_function  **\n        outputs = model.distribute_strategy.run(run_step, args=(data,))\n    File \"/usr/local/lib/python3.10/dist-packages/keras/src/engine/training.py\", line 1373, in run_step  **\n        outputs = model.train_step(data)\n    File \"/usr/local/lib/python3.10/dist-packages/keras/src/engine/training.py\", line 1150, in train_step\n        y_pred = self(x, training=True)\n    File \"/usr/local/lib/python3.10/dist-packages/keras/src/utils/traceback_utils.py\", line 70, in error_handler\n        raise e.with_traceback(filtered_tb) from None\n    File \"/usr/local/lib/python3.10/dist-packages/keras/src/engine/input_spec.py\", line 298, in assert_input_compatibility\n        raise ValueError(\n\n    ValueError: Input 0 of layer \"model\" is incompatible with the layer: expected shape=(None, 7, 8), found shape=(None, None, 7)\n"
          ]
        }
      ]
    },
    {
      "cell_type": "code",
      "execution_count": 53,
      "metadata": {
        "id": "vVcKmg7Q_7rD",
        "colab": {
          "base_uri": "https://localhost:8080/",
          "height": 558
        },
        "outputId": "0da97d7b-940c-4bdb-9e13-d50d31177cb2"
      },
      "outputs": [
        {
          "output_type": "execute_result",
          "data": {
            "text/plain": [
              "(1e-05, 1000.0, 0.0, 1.0)"
            ]
          },
          "metadata": {},
          "execution_count": 53
        },
        {
          "output_type": "display_data",
          "data": {
            "text/plain": [
              "<Figure size 1000x600 with 1 Axes>"
            ],
            "image/png": "[encoded data removed]"
          },
          "metadata": {}
        }
      ],
      "source": [
        "# # Define the learning rate array\n",
        "lrs = 1e-5 * (10 ** (np.arange(100) / 20))\n",
        "\n",
        "# Set the figure size\n",
        "plt.figure(figsize=(10, 6))\n",
        "\n",
        "# Set the grid\n",
        "plt.grid(True)\n",
        "\n",
        "# Plot the loss in log scale\n",
        "plt.semilogx(lrs, history.history[\"loss\"])\n",
        "\n",
        "# Increase the tickmarks size\n",
        "plt.tick_params('both', length=10, width=1, which='both')\n",
        "\n",
        "# Set the plot boundaries\n",
        "plt.axis([1e-5, 1e3, 0, 1])"
      ]
    },
    {
      "cell_type": "markdown",
      "metadata": {
        "id": "i-Pn-n60X3uV"
      },
      "source": [
        "## Train the Model Completely(for longer epoch)\n",
        "\n",
        "Now you can proceed to reset and train the model. It is set for 100 epochs in the cell below but feel free to increase it if you want. Laurence got his results in the lectures after 500."
      ]
    },
    {
      "cell_type": "code",
      "source": [
        "# Reset states generated by Keras\n",
        "tf.keras.backend.clear_session()\n",
        "\n",
        "# Reset the weights\n",
        "model.set_weights(init_weights)"
      ],
      "metadata": {
        "id": "wcQZ9K9lLeQS"
      },
      "execution_count": 137,
      "outputs": []
    },
    {
      "cell_type": "code",
      "source": [
        "# Initialize learning rate\n",
        "lr = 6e-5\n",
        "\n",
        "# Initialize the optimizer\n",
        "optimizer = tf.keras.optimizers.SGD(momentum=0.9, learning_rate=lr)\n",
        "\n",
        "\n",
        "# Set the training parameters\n",
        "model.compile(loss=tf.keras.losses.Huber(), optimizer=optimizer, metrics=['mae','mse'])\n",
        "\n",
        "#callback\n",
        "RLP = tf.keras.callbacks.ReduceLROnPlateau(\n",
        "    monitor=\"val_mae\",\n",
        "    patience=3,\n",
        "    verbose=2,\n",
        "    mode=\"auto\"\n",
        ")\n",
        "\n",
        "ES = tf.keras.callbacks.EarlyStopping(\n",
        "    monitor=\"val_mae\",\n",
        "    patience=15,\n",
        "    verbose=2,\n",
        "    mode=\"auto\",\n",
        "    start_from_epoch=10\n",
        ")\n",
        "\n",
        "# Train the model\n",
        "history = model.fit(train_set, epochs=500, validation_data=valid_set, verbose = 2, callbacks=[ES])"
      ],
      "metadata": {
        "id": "gaMjfgokLpwg",
        "colab": {
          "base_uri": "https://localhost:8080/"
        },
        "outputId": "db890fe5-0b92-4cb3-fd27-90af5e8f4553"
      },
      "execution_count": 55,
      "outputs": [
        {
          "output_type": "stream",
          "name": "stdout",
          "text": [
            "Epoch 1/500\n",
            "35/35 - 16s - loss: 0.0024 - mae: 0.0269 - mse: 0.0069 - val_loss: 0.0122 - val_mae: 0.0369 - val_mse: 0.0416 - 16s/epoch - 467ms/step\n",
            "Epoch 2/500\n",
            "35/35 - 3s - loss: 0.0024 - mae: 0.0269 - mse: 0.0069 - val_loss: 0.0122 - val_mae: 0.0369 - val_mse: 0.0416 - 3s/epoch - 96ms/step\n",
            "Epoch 3/500\n",
            "35/35 - 3s - loss: 0.0024 - mae: 0.0268 - mse: 0.0069 - val_loss: 0.0122 - val_mae: 0.0369 - val_mse: 0.0416 - 3s/epoch - 80ms/step\n",
            "Epoch 4/500\n",
            "35/35 - 2s - loss: 0.0024 - mae: 0.0268 - mse: 0.0069 - val_loss: 0.0122 - val_mae: 0.0369 - val_mse: 0.0416 - 2s/epoch - 53ms/step\n",
            "Epoch 5/500\n",
            "35/35 - 2s - loss: 0.0024 - mae: 0.0268 - mse: 0.0069 - val_loss: 0.0122 - val_mae: 0.0368 - val_mse: 0.0416 - 2s/epoch - 53ms/step\n",
            "Epoch 6/500\n",
            "35/35 - 2s - loss: 0.0024 - mae: 0.0268 - mse: 0.0069 - val_loss: 0.0122 - val_mae: 0.0368 - val_mse: 0.0416 - 2s/epoch - 53ms/step\n",
            "Epoch 7/500\n",
            "35/35 - 3s - loss: 0.0024 - mae: 0.0268 - mse: 0.0069 - val_loss: 0.0122 - val_mae: 0.0368 - val_mse: 0.0416 - 3s/epoch - 91ms/step\n",
            "Epoch 8/500\n",
            "35/35 - 2s - loss: 0.0024 - mae: 0.0268 - mse: 0.0069 - val_loss: 0.0122 - val_mae: 0.0368 - val_mse: 0.0416 - 2s/epoch - 47ms/step\n",
            "Epoch 9/500\n",
            "35/35 - 2s - loss: 0.0024 - mae: 0.0268 - mse: 0.0069 - val_loss: 0.0122 - val_mae: 0.0368 - val_mse: 0.0416 - 2s/epoch - 48ms/step\n",
            "Epoch 10/500\n",
            "35/35 - 2s - loss: 0.0024 - mae: 0.0268 - mse: 0.0069 - val_loss: 0.0122 - val_mae: 0.0368 - val_mse: 0.0416 - 2s/epoch - 49ms/step\n",
            "Epoch 11/500\n",
            "35/35 - 2s - loss: 0.0024 - mae: 0.0268 - mse: 0.0069 - val_loss: 0.0122 - val_mae: 0.0368 - val_mse: 0.0416 - 2s/epoch - 50ms/step\n",
            "Epoch 12/500\n",
            "35/35 - 2s - loss: 0.0024 - mae: 0.0268 - mse: 0.0069 - val_loss: 0.0122 - val_mae: 0.0368 - val_mse: 0.0416 - 2s/epoch - 48ms/step\n",
            "Epoch 13/500\n",
            "35/35 - 3s - loss: 0.0024 - mae: 0.0268 - mse: 0.0069 - val_loss: 0.0122 - val_mae: 0.0368 - val_mse: 0.0416 - 3s/epoch - 98ms/step\n",
            "Epoch 14/500\n",
            "35/35 - 3s - loss: 0.0024 - mae: 0.0268 - mse: 0.0069 - val_loss: 0.0122 - val_mae: 0.0368 - val_mse: 0.0416 - 3s/epoch - 77ms/step\n",
            "Epoch 15/500\n",
            "35/35 - 2s - loss: 0.0024 - mae: 0.0268 - mse: 0.0069 - val_loss: 0.0122 - val_mae: 0.0368 - val_mse: 0.0416 - 2s/epoch - 52ms/step\n",
            "Epoch 16/500\n",
            "35/35 - 2s - loss: 0.0023 - mae: 0.0268 - mse: 0.0069 - val_loss: 0.0122 - val_mae: 0.0368 - val_mse: 0.0416 - 2s/epoch - 48ms/step\n",
            "Epoch 17/500\n",
            "35/35 - 2s - loss: 0.0023 - mae: 0.0268 - mse: 0.0069 - val_loss: 0.0122 - val_mae: 0.0368 - val_mse: 0.0416 - 2s/epoch - 52ms/step\n",
            "Epoch 18/500\n",
            "35/35 - 4s - loss: 0.0023 - mae: 0.0268 - mse: 0.0069 - val_loss: 0.0122 - val_mae: 0.0368 - val_mse: 0.0416 - 4s/epoch - 102ms/step\n",
            "Epoch 19/500\n",
            "35/35 - 2s - loss: 0.0023 - mae: 0.0268 - mse: 0.0069 - val_loss: 0.0122 - val_mae: 0.0368 - val_mse: 0.0416 - 2s/epoch - 52ms/step\n",
            "Epoch 20/500\n",
            "35/35 - 2s - loss: 0.0023 - mae: 0.0268 - mse: 0.0069 - val_loss: 0.0122 - val_mae: 0.0368 - val_mse: 0.0416 - 2s/epoch - 52ms/step\n",
            "Epoch 21/500\n",
            "35/35 - 2s - loss: 0.0023 - mae: 0.0268 - mse: 0.0069 - val_loss: 0.0122 - val_mae: 0.0368 - val_mse: 0.0416 - 2s/epoch - 52ms/step\n",
            "Epoch 22/500\n",
            "35/35 - 2s - loss: 0.0023 - mae: 0.0268 - mse: 0.0069 - val_loss: 0.0122 - val_mae: 0.0368 - val_mse: 0.0416 - 2s/epoch - 49ms/step\n",
            "Epoch 23/500\n",
            "35/35 - 4s - loss: 0.0023 - mae: 0.0268 - mse: 0.0069 - val_loss: 0.0122 - val_mae: 0.0368 - val_mse: 0.0416 - 4s/epoch - 115ms/step\n",
            "Epoch 24/500\n",
            "35/35 - 3s - loss: 0.0023 - mae: 0.0268 - mse: 0.0069 - val_loss: 0.0122 - val_mae: 0.0368 - val_mse: 0.0416 - 3s/epoch - 76ms/step\n",
            "Epoch 25/500\n",
            "35/35 - 2s - loss: 0.0023 - mae: 0.0267 - mse: 0.0069 - val_loss: 0.0122 - val_mae: 0.0368 - val_mse: 0.0416 - 2s/epoch - 56ms/step\n",
            "Epoch 26/500\n",
            "35/35 - 2s - loss: 0.0023 - mae: 0.0267 - mse: 0.0069 - val_loss: 0.0122 - val_mae: 0.0368 - val_mse: 0.0416 - 2s/epoch - 48ms/step\n",
            "Epoch 27/500\n",
            "35/35 - 2s - loss: 0.0023 - mae: 0.0267 - mse: 0.0069 - val_loss: 0.0122 - val_mae: 0.0367 - val_mse: 0.0416 - 2s/epoch - 53ms/step\n",
            "Epoch 28/500\n",
            "35/35 - 3s - loss: 0.0023 - mae: 0.0267 - mse: 0.0069 - val_loss: 0.0122 - val_mae: 0.0367 - val_mse: 0.0416 - 3s/epoch - 97ms/step\n",
            "Epoch 29/500\n",
            "35/35 - 2s - loss: 0.0023 - mae: 0.0267 - mse: 0.0069 - val_loss: 0.0122 - val_mae: 0.0367 - val_mse: 0.0416 - 2s/epoch - 51ms/step\n",
            "Epoch 30/500\n",
            "35/35 - 2s - loss: 0.0023 - mae: 0.0267 - mse: 0.0069 - val_loss: 0.0122 - val_mae: 0.0367 - val_mse: 0.0416 - 2s/epoch - 52ms/step\n",
            "Epoch 31/500\n",
            "35/35 - 2s - loss: 0.0023 - mae: 0.0267 - mse: 0.0069 - val_loss: 0.0122 - val_mae: 0.0367 - val_mse: 0.0416 - 2s/epoch - 52ms/step\n",
            "Epoch 32/500\n",
            "35/35 - 2s - loss: 0.0023 - mae: 0.0267 - mse: 0.0069 - val_loss: 0.0122 - val_mae: 0.0367 - val_mse: 0.0416 - 2s/epoch - 49ms/step\n",
            "Epoch 33/500\n",
            "35/35 - 3s - loss: 0.0023 - mae: 0.0267 - mse: 0.0069 - val_loss: 0.0122 - val_mae: 0.0367 - val_mse: 0.0416 - 3s/epoch - 87ms/step\n",
            "Epoch 34/500\n",
            "35/35 - 3s - loss: 0.0023 - mae: 0.0267 - mse: 0.0069 - val_loss: 0.0122 - val_mae: 0.0367 - val_mse: 0.0416 - 3s/epoch - 88ms/step\n",
            "Epoch 35/500\n",
            "35/35 - 2s - loss: 0.0023 - mae: 0.0267 - mse: 0.0069 - val_loss: 0.0122 - val_mae: 0.0367 - val_mse: 0.0416 - 2s/epoch - 53ms/step\n",
            "Epoch 36/500\n",
            "35/35 - 2s - loss: 0.0023 - mae: 0.0267 - mse: 0.0069 - val_loss: 0.0122 - val_mae: 0.0367 - val_mse: 0.0416 - 2s/epoch - 55ms/step\n",
            "Epoch 37/500\n",
            "35/35 - 3s - loss: 0.0023 - mae: 0.0267 - mse: 0.0069 - val_loss: 0.0122 - val_mae: 0.0367 - val_mse: 0.0416 - 3s/epoch - 85ms/step\n",
            "Epoch 38/500\n",
            "35/35 - 3s - loss: 0.0023 - mae: 0.0267 - mse: 0.0069 - val_loss: 0.0122 - val_mae: 0.0367 - val_mse: 0.0416 - 3s/epoch - 77ms/step\n",
            "Epoch 39/500\n",
            "35/35 - 2s - loss: 0.0023 - mae: 0.0267 - mse: 0.0069 - val_loss: 0.0122 - val_mae: 0.0367 - val_mse: 0.0416 - 2s/epoch - 49ms/step\n",
            "Epoch 40/500\n",
            "35/35 - 2s - loss: 0.0023 - mae: 0.0267 - mse: 0.0069 - val_loss: 0.0122 - val_mae: 0.0367 - val_mse: 0.0416 - 2s/epoch - 49ms/step\n",
            "Epoch 41/500\n",
            "35/35 - 2s - loss: 0.0023 - mae: 0.0267 - mse: 0.0069 - val_loss: 0.0122 - val_mae: 0.0367 - val_mse: 0.0416 - 2s/epoch - 52ms/step\n",
            "Epoch 42/500\n",
            "35/35 - 3s - loss: 0.0023 - mae: 0.0267 - mse: 0.0069 - val_loss: 0.0122 - val_mae: 0.0367 - val_mse: 0.0416 - 3s/epoch - 89ms/step\n",
            "Epoch 43/500\n",
            "35/35 - 3s - loss: 0.0023 - mae: 0.0267 - mse: 0.0069 - val_loss: 0.0122 - val_mae: 0.0367 - val_mse: 0.0416 - 3s/epoch - 85ms/step\n",
            "Epoch 44/500\n",
            "35/35 - 2s - loss: 0.0023 - mae: 0.0267 - mse: 0.0069 - val_loss: 0.0122 - val_mae: 0.0367 - val_mse: 0.0416 - 2s/epoch - 51ms/step\n",
            "Epoch 45/500\n",
            "35/35 - 2s - loss: 0.0023 - mae: 0.0267 - mse: 0.0069 - val_loss: 0.0122 - val_mae: 0.0367 - val_mse: 0.0416 - 2s/epoch - 51ms/step\n",
            "Epoch 46/500\n",
            "35/35 - 2s - loss: 0.0023 - mae: 0.0267 - mse: 0.0069 - val_loss: 0.0122 - val_mae: 0.0367 - val_mse: 0.0416 - 2s/epoch - 52ms/step\n",
            "Epoch 47/500\n",
            "35/35 - 2s - loss: 0.0023 - mae: 0.0267 - mse: 0.0069 - val_loss: 0.0122 - val_mae: 0.0367 - val_mse: 0.0416 - 2s/epoch - 51ms/step\n",
            "Epoch 48/500\n",
            "35/35 - 2s - loss: 0.0023 - mae: 0.0266 - mse: 0.0069 - val_loss: 0.0122 - val_mae: 0.0367 - val_mse: 0.0416 - 2s/epoch - 59ms/step\n",
            "Epoch 49/500\n",
            "35/35 - 4s - loss: 0.0023 - mae: 0.0266 - mse: 0.0069 - val_loss: 0.0122 - val_mae: 0.0367 - val_mse: 0.0416 - 4s/epoch - 105ms/step\n",
            "Epoch 50/500\n",
            "35/35 - 2s - loss: 0.0023 - mae: 0.0266 - mse: 0.0069 - val_loss: 0.0122 - val_mae: 0.0366 - val_mse: 0.0416 - 2s/epoch - 61ms/step\n",
            "Epoch 51/500\n",
            "35/35 - 2s - loss: 0.0023 - mae: 0.0266 - mse: 0.0069 - val_loss: 0.0122 - val_mae: 0.0366 - val_mse: 0.0416 - 2s/epoch - 49ms/step\n",
            "Epoch 52/500\n",
            "35/35 - 2s - loss: 0.0023 - mae: 0.0266 - mse: 0.0069 - val_loss: 0.0122 - val_mae: 0.0366 - val_mse: 0.0416 - 2s/epoch - 51ms/step\n",
            "Epoch 53/500\n",
            "35/35 - 2s - loss: 0.0023 - mae: 0.0266 - mse: 0.0069 - val_loss: 0.0122 - val_mae: 0.0366 - val_mse: 0.0416 - 2s/epoch - 48ms/step\n",
            "Epoch 54/500\n",
            "35/35 - 2s - loss: 0.0023 - mae: 0.0266 - mse: 0.0069 - val_loss: 0.0122 - val_mae: 0.0366 - val_mse: 0.0416 - 2s/epoch - 59ms/step\n",
            "Epoch 55/500\n",
            "35/35 - 4s - loss: 0.0023 - mae: 0.0266 - mse: 0.0069 - val_loss: 0.0122 - val_mae: 0.0366 - val_mse: 0.0416 - 4s/epoch - 105ms/step\n",
            "Epoch 56/500\n",
            "35/35 - 2s - loss: 0.0023 - mae: 0.0266 - mse: 0.0069 - val_loss: 0.0122 - val_mae: 0.0366 - val_mse: 0.0416 - 2s/epoch - 52ms/step\n",
            "Epoch 57/500\n",
            "35/35 - 2s - loss: 0.0023 - mae: 0.0266 - mse: 0.0069 - val_loss: 0.0122 - val_mae: 0.0366 - val_mse: 0.0416 - 2s/epoch - 52ms/step\n",
            "Epoch 58/500\n",
            "35/35 - 2s - loss: 0.0023 - mae: 0.0266 - mse: 0.0069 - val_loss: 0.0122 - val_mae: 0.0366 - val_mse: 0.0416 - 2s/epoch - 54ms/step\n",
            "Epoch 59/500\n",
            "35/35 - 2s - loss: 0.0023 - mae: 0.0266 - mse: 0.0069 - val_loss: 0.0122 - val_mae: 0.0366 - val_mse: 0.0416 - 2s/epoch - 53ms/step\n",
            "Epoch 60/500\n",
            "35/35 - 2s - loss: 0.0023 - mae: 0.0266 - mse: 0.0069 - val_loss: 0.0122 - val_mae: 0.0366 - val_mse: 0.0416 - 2s/epoch - 48ms/step\n",
            "Epoch 61/500\n",
            "35/35 - 4s - loss: 0.0023 - mae: 0.0266 - mse: 0.0069 - val_loss: 0.0122 - val_mae: 0.0366 - val_mse: 0.0415 - 4s/epoch - 104ms/step\n",
            "Epoch 62/500\n",
            "35/35 - 2s - loss: 0.0023 - mae: 0.0266 - mse: 0.0069 - val_loss: 0.0122 - val_mae: 0.0366 - val_mse: 0.0415 - 2s/epoch - 52ms/step\n",
            "Epoch 63/500\n",
            "35/35 - 2s - loss: 0.0023 - mae: 0.0266 - mse: 0.0069 - val_loss: 0.0122 - val_mae: 0.0366 - val_mse: 0.0415 - 2s/epoch - 48ms/step\n",
            "Epoch 64/500\n",
            "35/35 - 2s - loss: 0.0023 - mae: 0.0266 - mse: 0.0069 - val_loss: 0.0122 - val_mae: 0.0366 - val_mse: 0.0415 - 2s/epoch - 49ms/step\n",
            "Epoch 65/500\n",
            "35/35 - 2s - loss: 0.0023 - mae: 0.0266 - mse: 0.0069 - val_loss: 0.0122 - val_mae: 0.0366 - val_mse: 0.0415 - 2s/epoch - 51ms/step\n",
            "Epoch 66/500\n",
            "35/35 - 2s - loss: 0.0023 - mae: 0.0266 - mse: 0.0069 - val_loss: 0.0122 - val_mae: 0.0366 - val_mse: 0.0415 - 2s/epoch - 53ms/step\n",
            "Epoch 67/500\n",
            "35/35 - 3s - loss: 0.0023 - mae: 0.0266 - mse: 0.0069 - val_loss: 0.0122 - val_mae: 0.0366 - val_mse: 0.0415 - 3s/epoch - 80ms/step\n",
            "Epoch 68/500\n",
            "35/35 - 2s - loss: 0.0023 - mae: 0.0266 - mse: 0.0069 - val_loss: 0.0122 - val_mae: 0.0366 - val_mse: 0.0415 - 2s/epoch - 49ms/step\n",
            "Epoch 69/500\n",
            "35/35 - 2s - loss: 0.0023 - mae: 0.0266 - mse: 0.0069 - val_loss: 0.0121 - val_mae: 0.0366 - val_mse: 0.0415 - 2s/epoch - 53ms/step\n",
            "Epoch 70/500\n",
            "35/35 - 2s - loss: 0.0023 - mae: 0.0266 - mse: 0.0069 - val_loss: 0.0121 - val_mae: 0.0366 - val_mse: 0.0415 - 2s/epoch - 51ms/step\n",
            "Epoch 71/500\n",
            "35/35 - 2s - loss: 0.0023 - mae: 0.0265 - mse: 0.0069 - val_loss: 0.0121 - val_mae: 0.0366 - val_mse: 0.0415 - 2s/epoch - 53ms/step\n",
            "Epoch 72/500\n",
            "35/35 - 2s - loss: 0.0023 - mae: 0.0265 - mse: 0.0069 - val_loss: 0.0121 - val_mae: 0.0365 - val_mse: 0.0415 - 2s/epoch - 53ms/step\n",
            "Epoch 73/500\n",
            "35/35 - 3s - loss: 0.0023 - mae: 0.0265 - mse: 0.0069 - val_loss: 0.0121 - val_mae: 0.0365 - val_mse: 0.0415 - 3s/epoch - 98ms/step\n",
            "Epoch 74/500\n",
            "35/35 - 2s - loss: 0.0023 - mae: 0.0265 - mse: 0.0069 - val_loss: 0.0121 - val_mae: 0.0365 - val_mse: 0.0415 - 2s/epoch - 51ms/step\n",
            "Epoch 75/500\n",
            "35/35 - 2s - loss: 0.0023 - mae: 0.0265 - mse: 0.0069 - val_loss: 0.0121 - val_mae: 0.0365 - val_mse: 0.0415 - 2s/epoch - 53ms/step\n",
            "Epoch 76/500\n",
            "35/35 - 2s - loss: 0.0023 - mae: 0.0265 - mse: 0.0069 - val_loss: 0.0121 - val_mae: 0.0365 - val_mse: 0.0415 - 2s/epoch - 51ms/step\n",
            "Epoch 77/500\n",
            "35/35 - 2s - loss: 0.0023 - mae: 0.0265 - mse: 0.0069 - val_loss: 0.0121 - val_mae: 0.0365 - val_mse: 0.0415 - 2s/epoch - 52ms/step\n",
            "Epoch 78/500\n",
            "35/35 - 3s - loss: 0.0023 - mae: 0.0265 - mse: 0.0069 - val_loss: 0.0121 - val_mae: 0.0365 - val_mse: 0.0415 - 3s/epoch - 85ms/step\n",
            "Epoch 79/500\n",
            "35/35 - 3s - loss: 0.0023 - mae: 0.0265 - mse: 0.0069 - val_loss: 0.0121 - val_mae: 0.0365 - val_mse: 0.0415 - 3s/epoch - 93ms/step\n",
            "Epoch 80/500\n",
            "35/35 - 2s - loss: 0.0023 - mae: 0.0265 - mse: 0.0069 - val_loss: 0.0121 - val_mae: 0.0365 - val_mse: 0.0415 - 2s/epoch - 47ms/step\n",
            "Epoch 81/500\n",
            "35/35 - 2s - loss: 0.0023 - mae: 0.0265 - mse: 0.0069 - val_loss: 0.0121 - val_mae: 0.0365 - val_mse: 0.0415 - 2s/epoch - 49ms/step\n",
            "Epoch 82/500\n",
            "35/35 - 2s - loss: 0.0023 - mae: 0.0265 - mse: 0.0069 - val_loss: 0.0121 - val_mae: 0.0365 - val_mse: 0.0415 - 2s/epoch - 52ms/step\n",
            "Epoch 83/500\n",
            "35/35 - 2s - loss: 0.0023 - mae: 0.0265 - mse: 0.0069 - val_loss: 0.0121 - val_mae: 0.0365 - val_mse: 0.0415 - 2s/epoch - 52ms/step\n",
            "Epoch 84/500\n",
            "35/35 - 4s - loss: 0.0023 - mae: 0.0265 - mse: 0.0069 - val_loss: 0.0121 - val_mae: 0.0365 - val_mse: 0.0415 - 4s/epoch - 105ms/step\n",
            "Epoch 85/500\n",
            "35/35 - 2s - loss: 0.0023 - mae: 0.0265 - mse: 0.0069 - val_loss: 0.0121 - val_mae: 0.0365 - val_mse: 0.0415 - 2s/epoch - 49ms/step\n",
            "Epoch 86/500\n",
            "35/35 - 2s - loss: 0.0023 - mae: 0.0265 - mse: 0.0069 - val_loss: 0.0121 - val_mae: 0.0365 - val_mse: 0.0415 - 2s/epoch - 54ms/step\n",
            "Epoch 87/500\n",
            "35/35 - 2s - loss: 0.0023 - mae: 0.0265 - mse: 0.0069 - val_loss: 0.0121 - val_mae: 0.0365 - val_mse: 0.0415 - 2s/epoch - 49ms/step\n",
            "Epoch 88/500\n",
            "35/35 - 2s - loss: 0.0023 - mae: 0.0265 - mse: 0.0069 - val_loss: 0.0121 - val_mae: 0.0365 - val_mse: 0.0415 - 2s/epoch - 53ms/step\n",
            "Epoch 89/500\n",
            "35/35 - 4s - loss: 0.0023 - mae: 0.0265 - mse: 0.0069 - val_loss: 0.0121 - val_mae: 0.0365 - val_mse: 0.0415 - 4s/epoch - 102ms/step\n",
            "Epoch 90/500\n",
            "35/35 - 2s - loss: 0.0023 - mae: 0.0265 - mse: 0.0069 - val_loss: 0.0121 - val_mae: 0.0365 - val_mse: 0.0415 - 2s/epoch - 49ms/step\n",
            "Epoch 91/500\n",
            "35/35 - 2s - loss: 0.0023 - mae: 0.0265 - mse: 0.0069 - val_loss: 0.0121 - val_mae: 0.0365 - val_mse: 0.0415 - 2s/epoch - 49ms/step\n",
            "Epoch 92/500\n",
            "35/35 - 2s - loss: 0.0023 - mae: 0.0265 - mse: 0.0069 - val_loss: 0.0121 - val_mae: 0.0365 - val_mse: 0.0415 - 2s/epoch - 48ms/step\n",
            "Epoch 93/500\n",
            "35/35 - 2s - loss: 0.0023 - mae: 0.0265 - mse: 0.0069 - val_loss: 0.0121 - val_mae: 0.0365 - val_mse: 0.0415 - 2s/epoch - 56ms/step\n",
            "Epoch 94/500\n",
            "35/35 - 3s - loss: 0.0023 - mae: 0.0264 - mse: 0.0069 - val_loss: 0.0121 - val_mae: 0.0365 - val_mse: 0.0415 - 3s/epoch - 93ms/step\n",
            "Epoch 95/500\n",
            "35/35 - 3s - loss: 0.0023 - mae: 0.0264 - mse: 0.0069 - val_loss: 0.0121 - val_mae: 0.0364 - val_mse: 0.0415 - 3s/epoch - 72ms/step\n",
            "Epoch 96/500\n",
            "35/35 - 2s - loss: 0.0023 - mae: 0.0264 - mse: 0.0069 - val_loss: 0.0121 - val_mae: 0.0364 - val_mse: 0.0415 - 2s/epoch - 50ms/step\n",
            "Epoch 97/500\n",
            "35/35 - 2s - loss: 0.0023 - mae: 0.0264 - mse: 0.0069 - val_loss: 0.0121 - val_mae: 0.0364 - val_mse: 0.0415 - 2s/epoch - 51ms/step\n",
            "Epoch 98/500\n",
            "35/35 - 2s - loss: 0.0023 - mae: 0.0264 - mse: 0.0069 - val_loss: 0.0121 - val_mae: 0.0364 - val_mse: 0.0415 - 2s/epoch - 49ms/step\n",
            "Epoch 99/500\n",
            "35/35 - 2s - loss: 0.0023 - mae: 0.0264 - mse: 0.0069 - val_loss: 0.0121 - val_mae: 0.0364 - val_mse: 0.0415 - 2s/epoch - 48ms/step\n",
            "Epoch 100/500\n",
            "35/35 - 4s - loss: 0.0023 - mae: 0.0264 - mse: 0.0069 - val_loss: 0.0121 - val_mae: 0.0364 - val_mse: 0.0415 - 4s/epoch - 107ms/step\n",
            "Epoch 101/500\n",
            "35/35 - 2s - loss: 0.0023 - mae: 0.0264 - mse: 0.0069 - val_loss: 0.0121 - val_mae: 0.0364 - val_mse: 0.0415 - 2s/epoch - 62ms/step\n",
            "Epoch 102/500\n",
            "35/35 - 2s - loss: 0.0023 - mae: 0.0264 - mse: 0.0069 - val_loss: 0.0121 - val_mae: 0.0364 - val_mse: 0.0415 - 2s/epoch - 48ms/step\n",
            "Epoch 103/500\n",
            "35/35 - 2s - loss: 0.0023 - mae: 0.0264 - mse: 0.0069 - val_loss: 0.0121 - val_mae: 0.0364 - val_mse: 0.0415 - 2s/epoch - 54ms/step\n",
            "Epoch 104/500\n",
            "35/35 - 2s - loss: 0.0023 - mae: 0.0264 - mse: 0.0069 - val_loss: 0.0121 - val_mae: 0.0364 - val_mse: 0.0415 - 2s/epoch - 51ms/step\n",
            "Epoch 105/500\n",
            "35/35 - 3s - loss: 0.0023 - mae: 0.0264 - mse: 0.0069 - val_loss: 0.0121 - val_mae: 0.0364 - val_mse: 0.0415 - 3s/epoch - 72ms/step\n",
            "Epoch 106/500\n",
            "35/35 - 4s - loss: 0.0023 - mae: 0.0264 - mse: 0.0069 - val_loss: 0.0121 - val_mae: 0.0364 - val_mse: 0.0415 - 4s/epoch - 106ms/step\n",
            "Epoch 107/500\n",
            "35/35 - 2s - loss: 0.0023 - mae: 0.0264 - mse: 0.0069 - val_loss: 0.0121 - val_mae: 0.0364 - val_mse: 0.0415 - 2s/epoch - 52ms/step\n",
            "Epoch 108/500\n",
            "35/35 - 2s - loss: 0.0023 - mae: 0.0264 - mse: 0.0069 - val_loss: 0.0121 - val_mae: 0.0364 - val_mse: 0.0415 - 2s/epoch - 48ms/step\n",
            "Epoch 109/500\n",
            "35/35 - 2s - loss: 0.0023 - mae: 0.0264 - mse: 0.0069 - val_loss: 0.0121 - val_mae: 0.0364 - val_mse: 0.0415 - 2s/epoch - 54ms/step\n",
            "Epoch 110/500\n",
            "35/35 - 3s - loss: 0.0023 - mae: 0.0264 - mse: 0.0069 - val_loss: 0.0121 - val_mae: 0.0364 - val_mse: 0.0415 - 3s/epoch - 84ms/step\n",
            "Epoch 111/500\n",
            "35/35 - 3s - loss: 0.0023 - mae: 0.0264 - mse: 0.0069 - val_loss: 0.0121 - val_mae: 0.0364 - val_mse: 0.0415 - 3s/epoch - 92ms/step\n",
            "Epoch 112/500\n",
            "35/35 - 2s - loss: 0.0023 - mae: 0.0264 - mse: 0.0069 - val_loss: 0.0121 - val_mae: 0.0364 - val_mse: 0.0415 - 2s/epoch - 52ms/step\n",
            "Epoch 113/500\n",
            "35/35 - 2s - loss: 0.0023 - mae: 0.0264 - mse: 0.0069 - val_loss: 0.0121 - val_mae: 0.0364 - val_mse: 0.0415 - 2s/epoch - 53ms/step\n",
            "Epoch 114/500\n",
            "35/35 - 2s - loss: 0.0023 - mae: 0.0264 - mse: 0.0069 - val_loss: 0.0121 - val_mae: 0.0364 - val_mse: 0.0415 - 2s/epoch - 55ms/step\n",
            "Epoch 115/500\n",
            "35/35 - 2s - loss: 0.0023 - mae: 0.0264 - mse: 0.0069 - val_loss: 0.0121 - val_mae: 0.0364 - val_mse: 0.0415 - 2s/epoch - 59ms/step\n",
            "Epoch 116/500\n",
            "35/35 - 4s - loss: 0.0023 - mae: 0.0264 - mse: 0.0069 - val_loss: 0.0121 - val_mae: 0.0364 - val_mse: 0.0415 - 4s/epoch - 105ms/step\n",
            "Epoch 117/500\n",
            "35/35 - 2s - loss: 0.0023 - mae: 0.0263 - mse: 0.0069 - val_loss: 0.0121 - val_mae: 0.0364 - val_mse: 0.0415 - 2s/epoch - 57ms/step\n",
            "Epoch 118/500\n",
            "35/35 - 2s - loss: 0.0023 - mae: 0.0263 - mse: 0.0069 - val_loss: 0.0121 - val_mae: 0.0363 - val_mse: 0.0415 - 2s/epoch - 48ms/step\n",
            "Epoch 119/500\n",
            "35/35 - 2s - loss: 0.0023 - mae: 0.0263 - mse: 0.0069 - val_loss: 0.0121 - val_mae: 0.0363 - val_mse: 0.0415 - 2s/epoch - 52ms/step\n",
            "Epoch 120/500\n",
            "35/35 - 2s - loss: 0.0023 - mae: 0.0263 - mse: 0.0069 - val_loss: 0.0121 - val_mae: 0.0363 - val_mse: 0.0415 - 2s/epoch - 50ms/step\n",
            "Epoch 121/500\n",
            "35/35 - 3s - loss: 0.0023 - mae: 0.0263 - mse: 0.0069 - val_loss: 0.0121 - val_mae: 0.0363 - val_mse: 0.0415 - 3s/epoch - 94ms/step\n",
            "Epoch 122/500\n",
            "35/35 - 2s - loss: 0.0023 - mae: 0.0263 - mse: 0.0069 - val_loss: 0.0121 - val_mae: 0.0363 - val_mse: 0.0415 - 2s/epoch - 54ms/step\n",
            "Epoch 123/500\n",
            "35/35 - 2s - loss: 0.0023 - mae: 0.0263 - mse: 0.0069 - val_loss: 0.0121 - val_mae: 0.0363 - val_mse: 0.0415 - 2s/epoch - 52ms/step\n",
            "Epoch 124/500\n",
            "35/35 - 2s - loss: 0.0023 - mae: 0.0263 - mse: 0.0069 - val_loss: 0.0121 - val_mae: 0.0363 - val_mse: 0.0415 - 2s/epoch - 48ms/step\n",
            "Epoch 125/500\n",
            "35/35 - 2s - loss: 0.0023 - mae: 0.0263 - mse: 0.0069 - val_loss: 0.0121 - val_mae: 0.0363 - val_mse: 0.0415 - 2s/epoch - 52ms/step\n",
            "Epoch 126/500\n",
            "35/35 - 3s - loss: 0.0023 - mae: 0.0263 - mse: 0.0069 - val_loss: 0.0121 - val_mae: 0.0363 - val_mse: 0.0415 - 3s/epoch - 80ms/step\n",
            "Epoch 127/500\n",
            "35/35 - 3s - loss: 0.0023 - mae: 0.0263 - mse: 0.0069 - val_loss: 0.0121 - val_mae: 0.0363 - val_mse: 0.0415 - 3s/epoch - 93ms/step\n",
            "Epoch 128/500\n",
            "35/35 - 2s - loss: 0.0023 - mae: 0.0263 - mse: 0.0069 - val_loss: 0.0121 - val_mae: 0.0363 - val_mse: 0.0415 - 2s/epoch - 55ms/step\n",
            "Epoch 129/500\n",
            "35/35 - 2s - loss: 0.0023 - mae: 0.0263 - mse: 0.0069 - val_loss: 0.0121 - val_mae: 0.0363 - val_mse: 0.0415 - 2s/epoch - 47ms/step\n",
            "Epoch 130/500\n",
            "35/35 - 2s - loss: 0.0023 - mae: 0.0263 - mse: 0.0069 - val_loss: 0.0121 - val_mae: 0.0363 - val_mse: 0.0415 - 2s/epoch - 52ms/step\n",
            "Epoch 131/500\n",
            "35/35 - 2s - loss: 0.0023 - mae: 0.0263 - mse: 0.0069 - val_loss: 0.0121 - val_mae: 0.0363 - val_mse: 0.0415 - 2s/epoch - 48ms/step\n",
            "Epoch 132/500\n",
            "35/35 - 3s - loss: 0.0023 - mae: 0.0263 - mse: 0.0069 - val_loss: 0.0121 - val_mae: 0.0363 - val_mse: 0.0415 - 3s/epoch - 87ms/step\n",
            "Epoch 133/500\n",
            "35/35 - 3s - loss: 0.0023 - mae: 0.0263 - mse: 0.0069 - val_loss: 0.0121 - val_mae: 0.0363 - val_mse: 0.0415 - 3s/epoch - 85ms/step\n",
            "Epoch 134/500\n",
            "35/35 - 2s - loss: 0.0023 - mae: 0.0263 - mse: 0.0069 - val_loss: 0.0121 - val_mae: 0.0363 - val_mse: 0.0415 - 2s/epoch - 49ms/step\n",
            "Epoch 135/500\n",
            "35/35 - 2s - loss: 0.0023 - mae: 0.0263 - mse: 0.0069 - val_loss: 0.0121 - val_mae: 0.0363 - val_mse: 0.0415 - 2s/epoch - 48ms/step\n",
            "Epoch 136/500\n",
            "35/35 - 2s - loss: 0.0023 - mae: 0.0263 - mse: 0.0069 - val_loss: 0.0121 - val_mae: 0.0363 - val_mse: 0.0415 - 2s/epoch - 49ms/step\n",
            "Epoch 137/500\n",
            "35/35 - 2s - loss: 0.0023 - mae: 0.0263 - mse: 0.0069 - val_loss: 0.0121 - val_mae: 0.0363 - val_mse: 0.0415 - 2s/epoch - 53ms/step\n",
            "Epoch 138/500\n",
            "35/35 - 3s - loss: 0.0023 - mae: 0.0263 - mse: 0.0069 - val_loss: 0.0121 - val_mae: 0.0363 - val_mse: 0.0415 - 3s/epoch - 83ms/step\n",
            "Epoch 139/500\n",
            "35/35 - 2s - loss: 0.0023 - mae: 0.0263 - mse: 0.0069 - val_loss: 0.0121 - val_mae: 0.0363 - val_mse: 0.0414 - 2s/epoch - 49ms/step\n",
            "Epoch 140/500\n",
            "35/35 - 2s - loss: 0.0023 - mae: 0.0262 - mse: 0.0069 - val_loss: 0.0121 - val_mae: 0.0363 - val_mse: 0.0414 - 2s/epoch - 52ms/step\n",
            "Epoch 141/500\n",
            "35/35 - 2s - loss: 0.0023 - mae: 0.0262 - mse: 0.0069 - val_loss: 0.0121 - val_mae: 0.0363 - val_mse: 0.0414 - 2s/epoch - 47ms/step\n",
            "Epoch 142/500\n",
            "35/35 - 2s - loss: 0.0023 - mae: 0.0262 - mse: 0.0069 - val_loss: 0.0121 - val_mae: 0.0362 - val_mse: 0.0414 - 2s/epoch - 52ms/step\n",
            "Epoch 143/500\n",
            "35/35 - 2s - loss: 0.0023 - mae: 0.0262 - mse: 0.0069 - val_loss: 0.0121 - val_mae: 0.0362 - val_mse: 0.0414 - 2s/epoch - 48ms/step\n",
            "Epoch 144/500\n",
            "35/35 - 4s - loss: 0.0023 - mae: 0.0262 - mse: 0.0069 - val_loss: 0.0121 - val_mae: 0.0362 - val_mse: 0.0414 - 4s/epoch - 104ms/step\n",
            "Epoch 145/500\n",
            "35/35 - 2s - loss: 0.0023 - mae: 0.0262 - mse: 0.0069 - val_loss: 0.0121 - val_mae: 0.0362 - val_mse: 0.0414 - 2s/epoch - 54ms/step\n",
            "Epoch 146/500\n",
            "35/35 - 2s - loss: 0.0023 - mae: 0.0262 - mse: 0.0068 - val_loss: 0.0121 - val_mae: 0.0362 - val_mse: 0.0414 - 2s/epoch - 54ms/step\n",
            "Epoch 147/500\n",
            "35/35 - 2s - loss: 0.0023 - mae: 0.0262 - mse: 0.0068 - val_loss: 0.0121 - val_mae: 0.0362 - val_mse: 0.0414 - 2s/epoch - 53ms/step\n",
            "Epoch 148/500\n",
            "35/35 - 2s - loss: 0.0023 - mae: 0.0262 - mse: 0.0068 - val_loss: 0.0121 - val_mae: 0.0362 - val_mse: 0.0414 - 2s/epoch - 53ms/step\n",
            "Epoch 149/500\n",
            "35/35 - 4s - loss: 0.0023 - mae: 0.0262 - mse: 0.0068 - val_loss: 0.0121 - val_mae: 0.0362 - val_mse: 0.0414 - 4s/epoch - 102ms/step\n",
            "Epoch 150/500\n",
            "35/35 - 2s - loss: 0.0023 - mae: 0.0262 - mse: 0.0068 - val_loss: 0.0121 - val_mae: 0.0362 - val_mse: 0.0414 - 2s/epoch - 52ms/step\n",
            "Epoch 151/500\n",
            "35/35 - 2s - loss: 0.0023 - mae: 0.0262 - mse: 0.0068 - val_loss: 0.0121 - val_mae: 0.0362 - val_mse: 0.0414 - 2s/epoch - 51ms/step\n",
            "Epoch 152/500\n",
            "35/35 - 2s - loss: 0.0023 - mae: 0.0262 - mse: 0.0068 - val_loss: 0.0121 - val_mae: 0.0362 - val_mse: 0.0414 - 2s/epoch - 54ms/step\n",
            "Epoch 153/500\n",
            "35/35 - 2s - loss: 0.0023 - mae: 0.0262 - mse: 0.0068 - val_loss: 0.0121 - val_mae: 0.0362 - val_mse: 0.0414 - 2s/epoch - 48ms/step\n",
            "Epoch 154/500\n",
            "35/35 - 2s - loss: 0.0023 - mae: 0.0262 - mse: 0.0068 - val_loss: 0.0121 - val_mae: 0.0362 - val_mse: 0.0414 - 2s/epoch - 47ms/step\n",
            "Epoch 155/500\n",
            "35/35 - 3s - loss: 0.0023 - mae: 0.0262 - mse: 0.0068 - val_loss: 0.0121 - val_mae: 0.0362 - val_mse: 0.0414 - 3s/epoch - 91ms/step\n",
            "Epoch 156/500\n",
            "35/35 - 2s - loss: 0.0023 - mae: 0.0262 - mse: 0.0068 - val_loss: 0.0121 - val_mae: 0.0362 - val_mse: 0.0414 - 2s/epoch - 52ms/step\n",
            "Epoch 157/500\n",
            "35/35 - 2s - loss: 0.0023 - mae: 0.0262 - mse: 0.0068 - val_loss: 0.0121 - val_mae: 0.0362 - val_mse: 0.0414 - 2s/epoch - 54ms/step\n",
            "Epoch 158/500\n",
            "35/35 - 2s - loss: 0.0023 - mae: 0.0262 - mse: 0.0068 - val_loss: 0.0121 - val_mae: 0.0362 - val_mse: 0.0414 - 2s/epoch - 51ms/step\n",
            "Epoch 159/500\n",
            "35/35 - 2s - loss: 0.0023 - mae: 0.0262 - mse: 0.0068 - val_loss: 0.0121 - val_mae: 0.0362 - val_mse: 0.0414 - 2s/epoch - 47ms/step\n",
            "Epoch 160/500\n",
            "35/35 - 2s - loss: 0.0023 - mae: 0.0262 - mse: 0.0068 - val_loss: 0.0121 - val_mae: 0.0362 - val_mse: 0.0414 - 2s/epoch - 71ms/step\n",
            "Epoch 161/500\n",
            "35/35 - 4s - loss: 0.0023 - mae: 0.0262 - mse: 0.0068 - val_loss: 0.0121 - val_mae: 0.0362 - val_mse: 0.0414 - 4s/epoch - 108ms/step\n",
            "Epoch 162/500\n",
            "35/35 - 2s - loss: 0.0023 - mae: 0.0262 - mse: 0.0068 - val_loss: 0.0121 - val_mae: 0.0362 - val_mse: 0.0414 - 2s/epoch - 50ms/step\n",
            "Epoch 163/500\n",
            "35/35 - 2s - loss: 0.0023 - mae: 0.0262 - mse: 0.0068 - val_loss: 0.0121 - val_mae: 0.0362 - val_mse: 0.0414 - 2s/epoch - 55ms/step\n",
            "Epoch 164/500\n",
            "35/35 - 2s - loss: 0.0023 - mae: 0.0261 - mse: 0.0068 - val_loss: 0.0121 - val_mae: 0.0362 - val_mse: 0.0414 - 2s/epoch - 50ms/step\n",
            "Epoch 165/500\n",
            "35/35 - 2s - loss: 0.0023 - mae: 0.0261 - mse: 0.0068 - val_loss: 0.0121 - val_mae: 0.0361 - val_mse: 0.0414 - 2s/epoch - 66ms/step\n",
            "Epoch 166/500\n",
            "35/35 - 4s - loss: 0.0023 - mae: 0.0261 - mse: 0.0068 - val_loss: 0.0121 - val_mae: 0.0361 - val_mse: 0.0414 - 4s/epoch - 104ms/step\n",
            "Epoch 167/500\n",
            "35/35 - 2s - loss: 0.0023 - mae: 0.0261 - mse: 0.0068 - val_loss: 0.0121 - val_mae: 0.0361 - val_mse: 0.0414 - 2s/epoch - 52ms/step\n",
            "Epoch 168/500\n",
            "35/35 - 2s - loss: 0.0023 - mae: 0.0261 - mse: 0.0068 - val_loss: 0.0121 - val_mae: 0.0361 - val_mse: 0.0414 - 2s/epoch - 53ms/step\n",
            "Epoch 169/500\n",
            "35/35 - 2s - loss: 0.0023 - mae: 0.0261 - mse: 0.0068 - val_loss: 0.0121 - val_mae: 0.0361 - val_mse: 0.0414 - 2s/epoch - 51ms/step\n",
            "Epoch 170/500\n",
            "35/35 - 3s - loss: 0.0023 - mae: 0.0261 - mse: 0.0068 - val_loss: 0.0121 - val_mae: 0.0361 - val_mse: 0.0414 - 3s/epoch - 73ms/step\n",
            "Epoch 171/500\n",
            "35/35 - 2s - loss: 0.0023 - mae: 0.0261 - mse: 0.0068 - val_loss: 0.0121 - val_mae: 0.0361 - val_mse: 0.0414 - 2s/epoch - 48ms/step\n",
            "Epoch 172/500\n",
            "35/35 - 2s - loss: 0.0023 - mae: 0.0261 - mse: 0.0068 - val_loss: 0.0121 - val_mae: 0.0361 - val_mse: 0.0414 - 2s/epoch - 53ms/step\n",
            "Epoch 173/500\n",
            "35/35 - 2s - loss: 0.0023 - mae: 0.0261 - mse: 0.0068 - val_loss: 0.0121 - val_mae: 0.0361 - val_mse: 0.0414 - 2s/epoch - 49ms/step\n",
            "Epoch 174/500\n",
            "35/35 - 2s - loss: 0.0023 - mae: 0.0261 - mse: 0.0068 - val_loss: 0.0121 - val_mae: 0.0361 - val_mse: 0.0414 - 2s/epoch - 53ms/step\n",
            "Epoch 175/500\n",
            "35/35 - 2s - loss: 0.0023 - mae: 0.0261 - mse: 0.0068 - val_loss: 0.0121 - val_mae: 0.0361 - val_mse: 0.0414 - 2s/epoch - 51ms/step\n",
            "Epoch 176/500\n",
            "35/35 - 4s - loss: 0.0023 - mae: 0.0261 - mse: 0.0068 - val_loss: 0.0121 - val_mae: 0.0361 - val_mse: 0.0414 - 4s/epoch - 104ms/step\n",
            "Epoch 177/500\n",
            "35/35 - 2s - loss: 0.0023 - mae: 0.0261 - mse: 0.0068 - val_loss: 0.0121 - val_mae: 0.0361 - val_mse: 0.0414 - 2s/epoch - 49ms/step\n",
            "Epoch 178/500\n",
            "35/35 - 2s - loss: 0.0023 - mae: 0.0261 - mse: 0.0068 - val_loss: 0.0121 - val_mae: 0.0361 - val_mse: 0.0414 - 2s/epoch - 52ms/step\n",
            "Epoch 179/500\n",
            "35/35 - 2s - loss: 0.0023 - mae: 0.0261 - mse: 0.0068 - val_loss: 0.0121 - val_mae: 0.0361 - val_mse: 0.0414 - 2s/epoch - 50ms/step\n",
            "Epoch 180/500\n",
            "35/35 - 2s - loss: 0.0023 - mae: 0.0261 - mse: 0.0068 - val_loss: 0.0121 - val_mae: 0.0361 - val_mse: 0.0414 - 2s/epoch - 52ms/step\n",
            "Epoch 181/500\n",
            "35/35 - 3s - loss: 0.0023 - mae: 0.0261 - mse: 0.0068 - val_loss: 0.0121 - val_mae: 0.0361 - val_mse: 0.0414 - 3s/epoch - 84ms/step\n",
            "Epoch 182/500\n",
            "35/35 - 3s - loss: 0.0023 - mae: 0.0261 - mse: 0.0068 - val_loss: 0.0121 - val_mae: 0.0361 - val_mse: 0.0414 - 3s/epoch - 88ms/step\n",
            "Epoch 183/500\n",
            "35/35 - 2s - loss: 0.0023 - mae: 0.0261 - mse: 0.0068 - val_loss: 0.0121 - val_mae: 0.0361 - val_mse: 0.0414 - 2s/epoch - 53ms/step\n",
            "Epoch 184/500\n",
            "35/35 - 2s - loss: 0.0023 - mae: 0.0261 - mse: 0.0068 - val_loss: 0.0121 - val_mae: 0.0361 - val_mse: 0.0414 - 2s/epoch - 59ms/step\n",
            "Epoch 185/500\n",
            "35/35 - 2s - loss: 0.0023 - mae: 0.0261 - mse: 0.0068 - val_loss: 0.0121 - val_mae: 0.0361 - val_mse: 0.0414 - 2s/epoch - 52ms/step\n",
            "Epoch 186/500\n",
            "35/35 - 3s - loss: 0.0023 - mae: 0.0261 - mse: 0.0068 - val_loss: 0.0121 - val_mae: 0.0361 - val_mse: 0.0414 - 3s/epoch - 88ms/step\n",
            "Epoch 187/500\n",
            "35/35 - 3s - loss: 0.0023 - mae: 0.0261 - mse: 0.0068 - val_loss: 0.0121 - val_mae: 0.0361 - val_mse: 0.0414 - 3s/epoch - 88ms/step\n",
            "Epoch 188/500\n",
            "35/35 - 2s - loss: 0.0023 - mae: 0.0260 - mse: 0.0068 - val_loss: 0.0121 - val_mae: 0.0361 - val_mse: 0.0414 - 2s/epoch - 53ms/step\n",
            "Epoch 189/500\n",
            "35/35 - 2s - loss: 0.0023 - mae: 0.0260 - mse: 0.0068 - val_loss: 0.0121 - val_mae: 0.0360 - val_mse: 0.0414 - 2s/epoch - 52ms/step\n",
            "Epoch 190/500\n",
            "35/35 - 2s - loss: 0.0023 - mae: 0.0260 - mse: 0.0068 - val_loss: 0.0121 - val_mae: 0.0360 - val_mse: 0.0414 - 2s/epoch - 56ms/step\n",
            "Epoch 191/500\n",
            "35/35 - 2s - loss: 0.0023 - mae: 0.0260 - mse: 0.0068 - val_loss: 0.0121 - val_mae: 0.0360 - val_mse: 0.0414 - 2s/epoch - 48ms/step\n",
            "Epoch 192/500\n",
            "35/35 - 2s - loss: 0.0023 - mae: 0.0260 - mse: 0.0068 - val_loss: 0.0121 - val_mae: 0.0360 - val_mse: 0.0414 - 2s/epoch - 60ms/step\n",
            "Epoch 193/500\n",
            "35/35 - 4s - loss: 0.0023 - mae: 0.0260 - mse: 0.0068 - val_loss: 0.0121 - val_mae: 0.0360 - val_mse: 0.0414 - 4s/epoch - 106ms/step\n",
            "Epoch 194/500\n",
            "35/35 - 2s - loss: 0.0023 - mae: 0.0260 - mse: 0.0068 - val_loss: 0.0121 - val_mae: 0.0360 - val_mse: 0.0414 - 2s/epoch - 52ms/step\n",
            "Epoch 195/500\n",
            "35/35 - 2s - loss: 0.0023 - mae: 0.0260 - mse: 0.0068 - val_loss: 0.0121 - val_mae: 0.0360 - val_mse: 0.0414 - 2s/epoch - 51ms/step\n",
            "Epoch 196/500\n",
            "35/35 - 2s - loss: 0.0023 - mae: 0.0260 - mse: 0.0068 - val_loss: 0.0121 - val_mae: 0.0360 - val_mse: 0.0414 - 2s/epoch - 50ms/step\n",
            "Epoch 197/500\n",
            "35/35 - 2s - loss: 0.0023 - mae: 0.0260 - mse: 0.0068 - val_loss: 0.0121 - val_mae: 0.0360 - val_mse: 0.0414 - 2s/epoch - 49ms/step\n",
            "Epoch 198/500\n",
            "35/35 - 3s - loss: 0.0023 - mae: 0.0260 - mse: 0.0068 - val_loss: 0.0121 - val_mae: 0.0360 - val_mse: 0.0414 - 3s/epoch - 95ms/step\n",
            "Epoch 199/500\n",
            "35/35 - 2s - loss: 0.0023 - mae: 0.0260 - mse: 0.0068 - val_loss: 0.0121 - val_mae: 0.0360 - val_mse: 0.0414 - 2s/epoch - 47ms/step\n",
            "Epoch 200/500\n",
            "35/35 - 2s - loss: 0.0023 - mae: 0.0260 - mse: 0.0068 - val_loss: 0.0121 - val_mae: 0.0360 - val_mse: 0.0414 - 2s/epoch - 55ms/step\n",
            "Epoch 201/500\n",
            "35/35 - 2s - loss: 0.0023 - mae: 0.0260 - mse: 0.0068 - val_loss: 0.0121 - val_mae: 0.0360 - val_mse: 0.0414 - 2s/epoch - 49ms/step\n",
            "Epoch 202/500\n",
            "35/35 - 2s - loss: 0.0023 - mae: 0.0260 - mse: 0.0068 - val_loss: 0.0121 - val_mae: 0.0360 - val_mse: 0.0414 - 2s/epoch - 50ms/step\n",
            "Epoch 203/500\n",
            "35/35 - 3s - loss: 0.0023 - mae: 0.0260 - mse: 0.0068 - val_loss: 0.0121 - val_mae: 0.0360 - val_mse: 0.0414 - 3s/epoch - 94ms/step\n",
            "Epoch 204/500\n",
            "35/35 - 2s - loss: 0.0023 - mae: 0.0260 - mse: 0.0068 - val_loss: 0.0121 - val_mae: 0.0360 - val_mse: 0.0414 - 2s/epoch - 54ms/step\n",
            "Epoch 205/500\n",
            "35/35 - 2s - loss: 0.0023 - mae: 0.0260 - mse: 0.0068 - val_loss: 0.0121 - val_mae: 0.0360 - val_mse: 0.0414 - 2s/epoch - 53ms/step\n",
            "Epoch 206/500\n",
            "35/35 - 2s - loss: 0.0023 - mae: 0.0260 - mse: 0.0068 - val_loss: 0.0121 - val_mae: 0.0360 - val_mse: 0.0414 - 2s/epoch - 52ms/step\n",
            "Epoch 207/500\n",
            "35/35 - 2s - loss: 0.0023 - mae: 0.0260 - mse: 0.0068 - val_loss: 0.0121 - val_mae: 0.0360 - val_mse: 0.0414 - 2s/epoch - 53ms/step\n",
            "Epoch 208/500\n",
            "35/35 - 3s - loss: 0.0023 - mae: 0.0260 - mse: 0.0068 - val_loss: 0.0121 - val_mae: 0.0360 - val_mse: 0.0414 - 3s/epoch - 91ms/step\n",
            "Epoch 209/500\n",
            "35/35 - 2s - loss: 0.0023 - mae: 0.0260 - mse: 0.0068 - val_loss: 0.0121 - val_mae: 0.0360 - val_mse: 0.0414 - 2s/epoch - 52ms/step\n",
            "Epoch 210/500\n",
            "35/35 - 2s - loss: 0.0023 - mae: 0.0260 - mse: 0.0068 - val_loss: 0.0121 - val_mae: 0.0360 - val_mse: 0.0414 - 2s/epoch - 48ms/step\n",
            "Epoch 211/500\n",
            "35/35 - 2s - loss: 0.0023 - mae: 0.0260 - mse: 0.0068 - val_loss: 0.0121 - val_mae: 0.0360 - val_mse: 0.0414 - 2s/epoch - 52ms/step\n",
            "Epoch 212/500\n",
            "35/35 - 2s - loss: 0.0023 - mae: 0.0259 - mse: 0.0068 - val_loss: 0.0121 - val_mae: 0.0360 - val_mse: 0.0414 - 2s/epoch - 54ms/step\n",
            "Epoch 213/500\n",
            "35/35 - 3s - loss: 0.0023 - mae: 0.0259 - mse: 0.0068 - val_loss: 0.0121 - val_mae: 0.0359 - val_mse: 0.0414 - 3s/epoch - 80ms/step\n",
            "Epoch 214/500\n",
            "35/35 - 3s - loss: 0.0023 - mae: 0.0259 - mse: 0.0068 - val_loss: 0.0121 - val_mae: 0.0359 - val_mse: 0.0414 - 3s/epoch - 96ms/step\n",
            "Epoch 215/500\n",
            "35/35 - 2s - loss: 0.0023 - mae: 0.0259 - mse: 0.0068 - val_loss: 0.0121 - val_mae: 0.0359 - val_mse: 0.0414 - 2s/epoch - 52ms/step\n",
            "Epoch 216/500\n",
            "35/35 - 2s - loss: 0.0023 - mae: 0.0259 - mse: 0.0068 - val_loss: 0.0121 - val_mae: 0.0359 - val_mse: 0.0414 - 2s/epoch - 53ms/step\n",
            "Epoch 217/500\n",
            "35/35 - 2s - loss: 0.0023 - mae: 0.0259 - mse: 0.0068 - val_loss: 0.0121 - val_mae: 0.0359 - val_mse: 0.0414 - 2s/epoch - 49ms/step\n",
            "Epoch 218/500\n",
            "35/35 - 2s - loss: 0.0023 - mae: 0.0259 - mse: 0.0068 - val_loss: 0.0121 - val_mae: 0.0359 - val_mse: 0.0414 - 2s/epoch - 50ms/step\n",
            "Epoch 219/500\n",
            "35/35 - 2s - loss: 0.0023 - mae: 0.0259 - mse: 0.0068 - val_loss: 0.0121 - val_mae: 0.0359 - val_mse: 0.0414 - 2s/epoch - 49ms/step\n",
            "Epoch 220/500\n",
            "35/35 - 4s - loss: 0.0023 - mae: 0.0259 - mse: 0.0068 - val_loss: 0.0121 - val_mae: 0.0359 - val_mse: 0.0414 - 4s/epoch - 103ms/step\n",
            "Epoch 221/500\n",
            "35/35 - 2s - loss: 0.0023 - mae: 0.0259 - mse: 0.0068 - val_loss: 0.0121 - val_mae: 0.0359 - val_mse: 0.0413 - 2s/epoch - 48ms/step\n",
            "Epoch 222/500\n",
            "35/35 - 2s - loss: 0.0023 - mae: 0.0259 - mse: 0.0068 - val_loss: 0.0121 - val_mae: 0.0359 - val_mse: 0.0413 - 2s/epoch - 52ms/step\n",
            "Epoch 223/500\n",
            "35/35 - 2s - loss: 0.0023 - mae: 0.0259 - mse: 0.0068 - val_loss: 0.0121 - val_mae: 0.0359 - val_mse: 0.0413 - 2s/epoch - 48ms/step\n",
            "Epoch 224/500\n",
            "35/35 - 2s - loss: 0.0023 - mae: 0.0259 - mse: 0.0068 - val_loss: 0.0121 - val_mae: 0.0359 - val_mse: 0.0413 - 2s/epoch - 54ms/step\n",
            "Epoch 225/500\n",
            "35/35 - 3s - loss: 0.0023 - mae: 0.0259 - mse: 0.0068 - val_loss: 0.0121 - val_mae: 0.0359 - val_mse: 0.0413 - 3s/epoch - 96ms/step\n",
            "Epoch 226/500\n",
            "35/35 - 3s - loss: 0.0023 - mae: 0.0259 - mse: 0.0068 - val_loss: 0.0121 - val_mae: 0.0359 - val_mse: 0.0413 - 3s/epoch - 75ms/step\n",
            "Epoch 227/500\n",
            "35/35 - 2s - loss: 0.0023 - mae: 0.0259 - mse: 0.0068 - val_loss: 0.0121 - val_mae: 0.0359 - val_mse: 0.0413 - 2s/epoch - 51ms/step\n",
            "Epoch 228/500\n",
            "35/35 - 2s - loss: 0.0023 - mae: 0.0259 - mse: 0.0068 - val_loss: 0.0121 - val_mae: 0.0359 - val_mse: 0.0413 - 2s/epoch - 52ms/step\n",
            "Epoch 229/500\n",
            "35/35 - 2s - loss: 0.0023 - mae: 0.0259 - mse: 0.0068 - val_loss: 0.0121 - val_mae: 0.0359 - val_mse: 0.0413 - 2s/epoch - 53ms/step\n",
            "Epoch 230/500\n",
            "35/35 - 3s - loss: 0.0023 - mae: 0.0259 - mse: 0.0068 - val_loss: 0.0121 - val_mae: 0.0359 - val_mse: 0.0413 - 3s/epoch - 91ms/step\n",
            "Epoch 231/500\n",
            "35/35 - 2s - loss: 0.0023 - mae: 0.0259 - mse: 0.0068 - val_loss: 0.0121 - val_mae: 0.0359 - val_mse: 0.0413 - 2s/epoch - 52ms/step\n",
            "Epoch 232/500\n",
            "35/35 - 2s - loss: 0.0023 - mae: 0.0259 - mse: 0.0068 - val_loss: 0.0121 - val_mae: 0.0359 - val_mse: 0.0413 - 2s/epoch - 54ms/step\n",
            "Epoch 233/500\n",
            "35/35 - 2s - loss: 0.0023 - mae: 0.0259 - mse: 0.0068 - val_loss: 0.0121 - val_mae: 0.0359 - val_mse: 0.0413 - 2s/epoch - 53ms/step\n",
            "Epoch 234/500\n",
            "35/35 - 2s - loss: 0.0023 - mae: 0.0259 - mse: 0.0068 - val_loss: 0.0121 - val_mae: 0.0359 - val_mse: 0.0413 - 2s/epoch - 52ms/step\n",
            "Epoch 235/500\n",
            "35/35 - 3s - loss: 0.0023 - mae: 0.0259 - mse: 0.0068 - val_loss: 0.0121 - val_mae: 0.0359 - val_mse: 0.0413 - 3s/epoch - 95ms/step\n",
            "Epoch 236/500\n",
            "35/35 - 3s - loss: 0.0023 - mae: 0.0259 - mse: 0.0068 - val_loss: 0.0121 - val_mae: 0.0359 - val_mse: 0.0413 - 3s/epoch - 82ms/step\n",
            "Epoch 237/500\n",
            "35/35 - 2s - loss: 0.0023 - mae: 0.0258 - mse: 0.0068 - val_loss: 0.0121 - val_mae: 0.0359 - val_mse: 0.0413 - 2s/epoch - 55ms/step\n",
            "Epoch 238/500\n",
            "35/35 - 2s - loss: 0.0023 - mae: 0.0258 - mse: 0.0068 - val_loss: 0.0121 - val_mae: 0.0358 - val_mse: 0.0413 - 2s/epoch - 49ms/step\n",
            "Epoch 239/500\n",
            "35/35 - 2s - loss: 0.0023 - mae: 0.0258 - mse: 0.0068 - val_loss: 0.0121 - val_mae: 0.0358 - val_mse: 0.0413 - 2s/epoch - 51ms/step\n",
            "Epoch 240/500\n",
            "35/35 - 3s - loss: 0.0023 - mae: 0.0258 - mse: 0.0068 - val_loss: 0.0121 - val_mae: 0.0358 - val_mse: 0.0413 - 3s/epoch - 83ms/step\n",
            "Epoch 241/500\n",
            "35/35 - 3s - loss: 0.0023 - mae: 0.0258 - mse: 0.0068 - val_loss: 0.0121 - val_mae: 0.0358 - val_mse: 0.0413 - 3s/epoch - 96ms/step\n",
            "Epoch 242/500\n",
            "35/35 - 2s - loss: 0.0023 - mae: 0.0258 - mse: 0.0068 - val_loss: 0.0121 - val_mae: 0.0358 - val_mse: 0.0413 - 2s/epoch - 51ms/step\n",
            "Epoch 243/500\n",
            "35/35 - 2s - loss: 0.0023 - mae: 0.0258 - mse: 0.0068 - val_loss: 0.0121 - val_mae: 0.0358 - val_mse: 0.0413 - 2s/epoch - 53ms/step\n",
            "Epoch 244/500\n",
            "35/35 - 2s - loss: 0.0023 - mae: 0.0258 - mse: 0.0068 - val_loss: 0.0121 - val_mae: 0.0358 - val_mse: 0.0413 - 2s/epoch - 51ms/step\n",
            "Epoch 245/500\n",
            "35/35 - 4s - loss: 0.0023 - mae: 0.0258 - mse: 0.0068 - val_loss: 0.0121 - val_mae: 0.0358 - val_mse: 0.0413 - 4s/epoch - 101ms/step\n",
            "Epoch 246/500\n",
            "35/35 - 2s - loss: 0.0023 - mae: 0.0258 - mse: 0.0068 - val_loss: 0.0121 - val_mae: 0.0358 - val_mse: 0.0413 - 2s/epoch - 49ms/step\n",
            "Epoch 247/500\n",
            "35/35 - 2s - loss: 0.0023 - mae: 0.0258 - mse: 0.0068 - val_loss: 0.0121 - val_mae: 0.0358 - val_mse: 0.0413 - 2s/epoch - 51ms/step\n",
            "Epoch 248/500\n",
            "35/35 - 2s - loss: 0.0023 - mae: 0.0258 - mse: 0.0068 - val_loss: 0.0121 - val_mae: 0.0358 - val_mse: 0.0413 - 2s/epoch - 52ms/step\n",
            "Epoch 249/500\n",
            "35/35 - 2s - loss: 0.0023 - mae: 0.0258 - mse: 0.0068 - val_loss: 0.0121 - val_mae: 0.0358 - val_mse: 0.0413 - 2s/epoch - 49ms/step\n",
            "Epoch 250/500\n",
            "35/35 - 2s - loss: 0.0023 - mae: 0.0258 - mse: 0.0068 - val_loss: 0.0121 - val_mae: 0.0358 - val_mse: 0.0413 - 2s/epoch - 52ms/step\n",
            "Epoch 251/500\n",
            "35/35 - 3s - loss: 0.0023 - mae: 0.0258 - mse: 0.0068 - val_loss: 0.0121 - val_mae: 0.0358 - val_mse: 0.0413 - 3s/epoch - 98ms/step\n",
            "Epoch 252/500\n",
            "35/35 - 2s - loss: 0.0023 - mae: 0.0258 - mse: 0.0068 - val_loss: 0.0121 - val_mae: 0.0358 - val_mse: 0.0413 - 2s/epoch - 55ms/step\n",
            "Epoch 253/500\n",
            "35/35 - 2s - loss: 0.0023 - mae: 0.0258 - mse: 0.0068 - val_loss: 0.0121 - val_mae: 0.0358 - val_mse: 0.0413 - 2s/epoch - 53ms/step\n",
            "Epoch 254/500\n",
            "35/35 - 2s - loss: 0.0023 - mae: 0.0258 - mse: 0.0068 - val_loss: 0.0121 - val_mae: 0.0358 - val_mse: 0.0413 - 2s/epoch - 49ms/step\n",
            "Epoch 255/500\n",
            "35/35 - 2s - loss: 0.0023 - mae: 0.0258 - mse: 0.0068 - val_loss: 0.0121 - val_mae: 0.0358 - val_mse: 0.0413 - 2s/epoch - 49ms/step\n",
            "Epoch 256/500\n",
            "35/35 - 3s - loss: 0.0023 - mae: 0.0258 - mse: 0.0068 - val_loss: 0.0121 - val_mae: 0.0358 - val_mse: 0.0413 - 3s/epoch - 90ms/step\n",
            "Epoch 257/500\n",
            "35/35 - 2s - loss: 0.0023 - mae: 0.0258 - mse: 0.0068 - val_loss: 0.0121 - val_mae: 0.0358 - val_mse: 0.0413 - 2s/epoch - 48ms/step\n",
            "Epoch 258/500\n",
            "35/35 - 2s - loss: 0.0023 - mae: 0.0258 - mse: 0.0068 - val_loss: 0.0121 - val_mae: 0.0358 - val_mse: 0.0413 - 2s/epoch - 51ms/step\n",
            "Epoch 259/500\n",
            "35/35 - 2s - loss: 0.0023 - mae: 0.0258 - mse: 0.0068 - val_loss: 0.0121 - val_mae: 0.0358 - val_mse: 0.0413 - 2s/epoch - 51ms/step\n",
            "Epoch 260/500\n",
            "35/35 - 2s - loss: 0.0023 - mae: 0.0258 - mse: 0.0068 - val_loss: 0.0121 - val_mae: 0.0358 - val_mse: 0.0413 - 2s/epoch - 53ms/step\n",
            "Epoch 261/500\n",
            "35/35 - 4s - loss: 0.0023 - mae: 0.0258 - mse: 0.0068 - val_loss: 0.0121 - val_mae: 0.0358 - val_mse: 0.0413 - 4s/epoch - 102ms/step\n",
            "Epoch 262/500\n",
            "35/35 - 3s - loss: 0.0023 - mae: 0.0257 - mse: 0.0068 - val_loss: 0.0121 - val_mae: 0.0357 - val_mse: 0.0413 - 3s/epoch - 75ms/step\n",
            "Epoch 263/500\n",
            "35/35 - 2s - loss: 0.0023 - mae: 0.0257 - mse: 0.0068 - val_loss: 0.0121 - val_mae: 0.0357 - val_mse: 0.0413 - 2s/epoch - 53ms/step\n",
            "Epoch 264/500\n",
            "35/35 - 2s - loss: 0.0023 - mae: 0.0257 - mse: 0.0068 - val_loss: 0.0121 - val_mae: 0.0357 - val_mse: 0.0413 - 2s/epoch - 48ms/step\n",
            "Epoch 265/500\n",
            "35/35 - 2s - loss: 0.0023 - mae: 0.0257 - mse: 0.0068 - val_loss: 0.0121 - val_mae: 0.0357 - val_mse: 0.0413 - 2s/epoch - 48ms/step\n",
            "Epoch 266/500\n",
            "35/35 - 2s - loss: 0.0023 - mae: 0.0257 - mse: 0.0068 - val_loss: 0.0121 - val_mae: 0.0357 - val_mse: 0.0413 - 2s/epoch - 49ms/step\n",
            "Epoch 267/500\n",
            "35/35 - 3s - loss: 0.0023 - mae: 0.0257 - mse: 0.0068 - val_loss: 0.0121 - val_mae: 0.0357 - val_mse: 0.0413 - 3s/epoch - 89ms/step\n",
            "Epoch 268/500\n",
            "35/35 - 3s - loss: 0.0023 - mae: 0.0257 - mse: 0.0068 - val_loss: 0.0121 - val_mae: 0.0357 - val_mse: 0.0413 - 3s/epoch - 85ms/step\n",
            "Epoch 269/500\n",
            "35/35 - 2s - loss: 0.0023 - mae: 0.0257 - mse: 0.0068 - val_loss: 0.0121 - val_mae: 0.0357 - val_mse: 0.0413 - 2s/epoch - 49ms/step\n",
            "Epoch 270/500\n",
            "35/35 - 2s - loss: 0.0023 - mae: 0.0257 - mse: 0.0068 - val_loss: 0.0121 - val_mae: 0.0357 - val_mse: 0.0413 - 2s/epoch - 52ms/step\n",
            "Epoch 271/500\n",
            "35/35 - 2s - loss: 0.0023 - mae: 0.0257 - mse: 0.0068 - val_loss: 0.0121 - val_mae: 0.0357 - val_mse: 0.0413 - 2s/epoch - 48ms/step\n",
            "Epoch 272/500\n",
            "35/35 - 3s - loss: 0.0023 - mae: 0.0257 - mse: 0.0068 - val_loss: 0.0121 - val_mae: 0.0357 - val_mse: 0.0413 - 3s/epoch - 91ms/step\n",
            "Epoch 273/500\n",
            "35/35 - 3s - loss: 0.0023 - mae: 0.0257 - mse: 0.0068 - val_loss: 0.0121 - val_mae: 0.0357 - val_mse: 0.0413 - 3s/epoch - 84ms/step\n",
            "Epoch 274/500\n",
            "35/35 - 2s - loss: 0.0023 - mae: 0.0257 - mse: 0.0068 - val_loss: 0.0121 - val_mae: 0.0357 - val_mse: 0.0413 - 2s/epoch - 48ms/step\n",
            "Epoch 275/500\n",
            "35/35 - 2s - loss: 0.0023 - mae: 0.0257 - mse: 0.0068 - val_loss: 0.0121 - val_mae: 0.0357 - val_mse: 0.0413 - 2s/epoch - 47ms/step\n",
            "Epoch 276/500\n",
            "35/35 - 2s - loss: 0.0023 - mae: 0.0257 - mse: 0.0068 - val_loss: 0.0121 - val_mae: 0.0357 - val_mse: 0.0413 - 2s/epoch - 50ms/step\n",
            "Epoch 277/500\n",
            "35/35 - 2s - loss: 0.0023 - mae: 0.0257 - mse: 0.0068 - val_loss: 0.0121 - val_mae: 0.0357 - val_mse: 0.0413 - 2s/epoch - 52ms/step\n",
            "Epoch 278/500\n",
            "35/35 - 3s - loss: 0.0023 - mae: 0.0257 - mse: 0.0068 - val_loss: 0.0121 - val_mae: 0.0357 - val_mse: 0.0413 - 3s/epoch - 93ms/step\n",
            "Epoch 279/500\n",
            "35/35 - 2s - loss: 0.0023 - mae: 0.0257 - mse: 0.0068 - val_loss: 0.0121 - val_mae: 0.0357 - val_mse: 0.0413 - 2s/epoch - 52ms/step\n",
            "Epoch 280/500\n",
            "35/35 - 2s - loss: 0.0023 - mae: 0.0257 - mse: 0.0068 - val_loss: 0.0121 - val_mae: 0.0357 - val_mse: 0.0413 - 2s/epoch - 55ms/step\n",
            "Epoch 281/500\n",
            "35/35 - 2s - loss: 0.0023 - mae: 0.0257 - mse: 0.0068 - val_loss: 0.0121 - val_mae: 0.0357 - val_mse: 0.0413 - 2s/epoch - 50ms/step\n",
            "Epoch 282/500\n",
            "35/35 - 2s - loss: 0.0023 - mae: 0.0257 - mse: 0.0068 - val_loss: 0.0121 - val_mae: 0.0357 - val_mse: 0.0413 - 2s/epoch - 52ms/step\n",
            "Epoch 283/500\n",
            "35/35 - 4s - loss: 0.0023 - mae: 0.0257 - mse: 0.0068 - val_loss: 0.0121 - val_mae: 0.0357 - val_mse: 0.0413 - 4s/epoch - 104ms/step\n",
            "Epoch 284/500\n",
            "35/35 - 2s - loss: 0.0023 - mae: 0.0257 - mse: 0.0068 - val_loss: 0.0121 - val_mae: 0.0357 - val_mse: 0.0413 - 2s/epoch - 53ms/step\n",
            "Epoch 285/500\n",
            "35/35 - 2s - loss: 0.0023 - mae: 0.0257 - mse: 0.0068 - val_loss: 0.0121 - val_mae: 0.0357 - val_mse: 0.0413 - 2s/epoch - 55ms/step\n",
            "Epoch 286/500\n",
            "35/35 - 2s - loss: 0.0023 - mae: 0.0257 - mse: 0.0068 - val_loss: 0.0121 - val_mae: 0.0357 - val_mse: 0.0413 - 2s/epoch - 52ms/step\n",
            "Epoch 287/500\n",
            "35/35 - 2s - loss: 0.0023 - mae: 0.0256 - mse: 0.0068 - val_loss: 0.0121 - val_mae: 0.0356 - val_mse: 0.0413 - 2s/epoch - 50ms/step\n",
            "Epoch 288/500\n",
            "35/35 - 4s - loss: 0.0023 - mae: 0.0256 - mse: 0.0068 - val_loss: 0.0121 - val_mae: 0.0356 - val_mse: 0.0413 - 4s/epoch - 106ms/step\n",
            "Epoch 289/500\n",
            "35/35 - 2s - loss: 0.0023 - mae: 0.0256 - mse: 0.0068 - val_loss: 0.0121 - val_mae: 0.0356 - val_mse: 0.0413 - 2s/epoch - 48ms/step\n",
            "Epoch 290/500\n",
            "35/35 - 2s - loss: 0.0023 - mae: 0.0256 - mse: 0.0068 - val_loss: 0.0121 - val_mae: 0.0356 - val_mse: 0.0413 - 2s/epoch - 50ms/step\n",
            "Epoch 291/500\n",
            "35/35 - 2s - loss: 0.0023 - mae: 0.0256 - mse: 0.0068 - val_loss: 0.0121 - val_mae: 0.0356 - val_mse: 0.0413 - 2s/epoch - 48ms/step\n",
            "Epoch 292/500\n",
            "35/35 - 2s - loss: 0.0023 - mae: 0.0256 - mse: 0.0068 - val_loss: 0.0121 - val_mae: 0.0356 - val_mse: 0.0413 - 2s/epoch - 52ms/step\n",
            "Epoch 293/500\n",
            "35/35 - 2s - loss: 0.0023 - mae: 0.0256 - mse: 0.0068 - val_loss: 0.0121 - val_mae: 0.0356 - val_mse: 0.0413 - 2s/epoch - 56ms/step\n",
            "Epoch 294/500\n",
            "35/35 - 3s - loss: 0.0023 - mae: 0.0256 - mse: 0.0068 - val_loss: 0.0121 - val_mae: 0.0356 - val_mse: 0.0413 - 3s/epoch - 91ms/step\n",
            "Epoch 295/500\n",
            "35/35 - 2s - loss: 0.0023 - mae: 0.0256 - mse: 0.0068 - val_loss: 0.0121 - val_mae: 0.0356 - val_mse: 0.0413 - 2s/epoch - 54ms/step\n",
            "Epoch 296/500\n",
            "35/35 - 2s - loss: 0.0023 - mae: 0.0256 - mse: 0.0068 - val_loss: 0.0121 - val_mae: 0.0356 - val_mse: 0.0413 - 2s/epoch - 52ms/step\n",
            "Epoch 297/500\n",
            "35/35 - 2s - loss: 0.0023 - mae: 0.0256 - mse: 0.0068 - val_loss: 0.0121 - val_mae: 0.0356 - val_mse: 0.0413 - 2s/epoch - 49ms/step\n",
            "Epoch 298/500\n",
            "35/35 - 2s - loss: 0.0023 - mae: 0.0256 - mse: 0.0068 - val_loss: 0.0121 - val_mae: 0.0356 - val_mse: 0.0413 - 2s/epoch - 52ms/step\n",
            "Epoch 299/500\n",
            "35/35 - 3s - loss: 0.0023 - mae: 0.0256 - mse: 0.0068 - val_loss: 0.0121 - val_mae: 0.0356 - val_mse: 0.0413 - 3s/epoch - 77ms/step\n",
            "Epoch 300/500\n",
            "35/35 - 2s - loss: 0.0023 - mae: 0.0256 - mse: 0.0068 - val_loss: 0.0121 - val_mae: 0.0356 - val_mse: 0.0413 - 2s/epoch - 49ms/step\n",
            "Epoch 301/500\n",
            "35/35 - 2s - loss: 0.0023 - mae: 0.0256 - mse: 0.0068 - val_loss: 0.0121 - val_mae: 0.0356 - val_mse: 0.0413 - 2s/epoch - 49ms/step\n",
            "Epoch 302/500\n",
            "35/35 - 2s - loss: 0.0023 - mae: 0.0256 - mse: 0.0068 - val_loss: 0.0121 - val_mae: 0.0356 - val_mse: 0.0413 - 2s/epoch - 47ms/step\n",
            "Epoch 303/500\n",
            "35/35 - 2s - loss: 0.0023 - mae: 0.0256 - mse: 0.0068 - val_loss: 0.0121 - val_mae: 0.0356 - val_mse: 0.0413 - 2s/epoch - 51ms/step\n",
            "Epoch 304/500\n",
            "35/35 - 2s - loss: 0.0023 - mae: 0.0256 - mse: 0.0068 - val_loss: 0.0121 - val_mae: 0.0356 - val_mse: 0.0413 - 2s/epoch - 52ms/step\n",
            "Epoch 305/500\n",
            "35/35 - 4s - loss: 0.0023 - mae: 0.0256 - mse: 0.0068 - val_loss: 0.0121 - val_mae: 0.0356 - val_mse: 0.0413 - 4s/epoch - 105ms/step\n",
            "Epoch 306/500\n",
            "35/35 - 2s - loss: 0.0023 - mae: 0.0256 - mse: 0.0068 - val_loss: 0.0121 - val_mae: 0.0356 - val_mse: 0.0412 - 2s/epoch - 53ms/step\n",
            "Epoch 307/500\n",
            "35/35 - 2s - loss: 0.0023 - mae: 0.0256 - mse: 0.0068 - val_loss: 0.0121 - val_mae: 0.0356 - val_mse: 0.0412 - 2s/epoch - 51ms/step\n",
            "Epoch 308/500\n",
            "35/35 - 2s - loss: 0.0023 - mae: 0.0256 - mse: 0.0067 - val_loss: 0.0121 - val_mae: 0.0356 - val_mse: 0.0412 - 2s/epoch - 52ms/step\n",
            "Epoch 309/500\n",
            "35/35 - 2s - loss: 0.0023 - mae: 0.0256 - mse: 0.0067 - val_loss: 0.0121 - val_mae: 0.0356 - val_mse: 0.0412 - 2s/epoch - 48ms/step\n",
            "Epoch 310/500\n",
            "35/35 - 4s - loss: 0.0023 - mae: 0.0256 - mse: 0.0067 - val_loss: 0.0121 - val_mae: 0.0356 - val_mse: 0.0412 - 4s/epoch - 105ms/step\n",
            "Epoch 311/500\n",
            "35/35 - 2s - loss: 0.0023 - mae: 0.0256 - mse: 0.0067 - val_loss: 0.0121 - val_mae: 0.0356 - val_mse: 0.0412 - 2s/epoch - 71ms/step\n",
            "Epoch 312/500\n",
            "35/35 - 2s - loss: 0.0023 - mae: 0.0255 - mse: 0.0067 - val_loss: 0.0121 - val_mae: 0.0356 - val_mse: 0.0412 - 2s/epoch - 52ms/step\n",
            "Epoch 313/500\n",
            "35/35 - 2s - loss: 0.0023 - mae: 0.0255 - mse: 0.0067 - val_loss: 0.0121 - val_mae: 0.0355 - val_mse: 0.0412 - 2s/epoch - 52ms/step\n",
            "Epoch 314/500\n",
            "35/35 - 2s - loss: 0.0023 - mae: 0.0255 - mse: 0.0067 - val_loss: 0.0121 - val_mae: 0.0355 - val_mse: 0.0412 - 2s/epoch - 51ms/step\n",
            "Epoch 315/500\n",
            "35/35 - 2s - loss: 0.0023 - mae: 0.0255 - mse: 0.0067 - val_loss: 0.0121 - val_mae: 0.0355 - val_mse: 0.0412 - 2s/epoch - 52ms/step\n",
            "Epoch 316/500\n",
            "35/35 - 3s - loss: 0.0023 - mae: 0.0255 - mse: 0.0067 - val_loss: 0.0121 - val_mae: 0.0355 - val_mse: 0.0412 - 3s/epoch - 90ms/step\n",
            "Epoch 317/500\n",
            "35/35 - 3s - loss: 0.0023 - mae: 0.0255 - mse: 0.0067 - val_loss: 0.0121 - val_mae: 0.0355 - val_mse: 0.0412 - 3s/epoch - 88ms/step\n",
            "Epoch 318/500\n",
            "35/35 - 2s - loss: 0.0023 - mae: 0.0255 - mse: 0.0067 - val_loss: 0.0121 - val_mae: 0.0355 - val_mse: 0.0412 - 2s/epoch - 49ms/step\n",
            "Epoch 319/500\n",
            "35/35 - 2s - loss: 0.0023 - mae: 0.0255 - mse: 0.0067 - val_loss: 0.0121 - val_mae: 0.0355 - val_mse: 0.0412 - 2s/epoch - 51ms/step\n",
            "Epoch 320/500\n",
            "35/35 - 2s - loss: 0.0023 - mae: 0.0255 - mse: 0.0067 - val_loss: 0.0121 - val_mae: 0.0355 - val_mse: 0.0412 - 2s/epoch - 53ms/step\n",
            "Epoch 321/500\n",
            "35/35 - 2s - loss: 0.0023 - mae: 0.0255 - mse: 0.0067 - val_loss: 0.0121 - val_mae: 0.0355 - val_mse: 0.0412 - 2s/epoch - 53ms/step\n",
            "Epoch 322/500\n",
            "35/35 - 3s - loss: 0.0023 - mae: 0.0255 - mse: 0.0067 - val_loss: 0.0121 - val_mae: 0.0355 - val_mse: 0.0412 - 3s/epoch - 88ms/step\n",
            "Epoch 323/500\n",
            "35/35 - 3s - loss: 0.0023 - mae: 0.0255 - mse: 0.0067 - val_loss: 0.0121 - val_mae: 0.0355 - val_mse: 0.0412 - 3s/epoch - 87ms/step\n",
            "Epoch 324/500\n",
            "35/35 - 2s - loss: 0.0023 - mae: 0.0255 - mse: 0.0067 - val_loss: 0.0121 - val_mae: 0.0355 - val_mse: 0.0412 - 2s/epoch - 54ms/step\n",
            "Epoch 325/500\n",
            "35/35 - 2s - loss: 0.0023 - mae: 0.0255 - mse: 0.0067 - val_loss: 0.0121 - val_mae: 0.0355 - val_mse: 0.0412 - 2s/epoch - 52ms/step\n",
            "Epoch 326/500\n",
            "35/35 - 2s - loss: 0.0023 - mae: 0.0255 - mse: 0.0067 - val_loss: 0.0121 - val_mae: 0.0355 - val_mse: 0.0412 - 2s/epoch - 51ms/step\n",
            "Epoch 327/500\n",
            "35/35 - 3s - loss: 0.0023 - mae: 0.0255 - mse: 0.0067 - val_loss: 0.0121 - val_mae: 0.0355 - val_mse: 0.0412 - 3s/epoch - 86ms/step\n",
            "Epoch 328/500\n",
            "35/35 - 3s - loss: 0.0023 - mae: 0.0255 - mse: 0.0067 - val_loss: 0.0121 - val_mae: 0.0355 - val_mse: 0.0412 - 3s/epoch - 85ms/step\n",
            "Epoch 329/500\n",
            "35/35 - 2s - loss: 0.0023 - mae: 0.0255 - mse: 0.0067 - val_loss: 0.0121 - val_mae: 0.0355 - val_mse: 0.0412 - 2s/epoch - 56ms/step\n",
            "Epoch 330/500\n",
            "35/35 - 2s - loss: 0.0023 - mae: 0.0255 - mse: 0.0067 - val_loss: 0.0121 - val_mae: 0.0355 - val_mse: 0.0412 - 2s/epoch - 47ms/step\n",
            "Epoch 331/500\n",
            "35/35 - 2s - loss: 0.0023 - mae: 0.0255 - mse: 0.0067 - val_loss: 0.0121 - val_mae: 0.0355 - val_mse: 0.0412 - 2s/epoch - 52ms/step\n",
            "Epoch 332/500\n",
            "35/35 - 4s - loss: 0.0023 - mae: 0.0255 - mse: 0.0067 - val_loss: 0.0121 - val_mae: 0.0355 - val_mse: 0.0412 - 4s/epoch - 103ms/step\n",
            "Epoch 333/500\n",
            "35/35 - 2s - loss: 0.0023 - mae: 0.0255 - mse: 0.0067 - val_loss: 0.0121 - val_mae: 0.0355 - val_mse: 0.0412 - 2s/epoch - 49ms/step\n",
            "Epoch 334/500\n",
            "35/35 - 2s - loss: 0.0023 - mae: 0.0255 - mse: 0.0067 - val_loss: 0.0121 - val_mae: 0.0355 - val_mse: 0.0412 - 2s/epoch - 52ms/step\n",
            "Epoch 335/500\n",
            "35/35 - 2s - loss: 0.0023 - mae: 0.0255 - mse: 0.0067 - val_loss: 0.0121 - val_mae: 0.0355 - val_mse: 0.0412 - 2s/epoch - 52ms/step\n",
            "Epoch 336/500\n",
            "35/35 - 2s - loss: 0.0023 - mae: 0.0255 - mse: 0.0067 - val_loss: 0.0121 - val_mae: 0.0355 - val_mse: 0.0412 - 2s/epoch - 51ms/step\n",
            "Epoch 337/500\n",
            "35/35 - 2s - loss: 0.0023 - mae: 0.0255 - mse: 0.0067 - val_loss: 0.0121 - val_mae: 0.0355 - val_mse: 0.0412 - 2s/epoch - 47ms/step\n",
            "Epoch 338/500\n",
            "35/35 - 3s - loss: 0.0023 - mae: 0.0254 - mse: 0.0067 - val_loss: 0.0121 - val_mae: 0.0355 - val_mse: 0.0412 - 3s/epoch - 97ms/step\n",
            "Epoch 339/500\n",
            "35/35 - 2s - loss: 0.0023 - mae: 0.0254 - mse: 0.0067 - val_loss: 0.0121 - val_mae: 0.0354 - val_mse: 0.0412 - 2s/epoch - 52ms/step\n",
            "Epoch 340/500\n",
            "35/35 - 2s - loss: 0.0023 - mae: 0.0254 - mse: 0.0067 - val_loss: 0.0121 - val_mae: 0.0354 - val_mse: 0.0412 - 2s/epoch - 49ms/step\n",
            "Epoch 341/500\n",
            "35/35 - 2s - loss: 0.0023 - mae: 0.0254 - mse: 0.0067 - val_loss: 0.0121 - val_mae: 0.0354 - val_mse: 0.0412 - 2s/epoch - 53ms/step\n",
            "Epoch 342/500\n",
            "35/35 - 2s - loss: 0.0023 - mae: 0.0254 - mse: 0.0067 - val_loss: 0.0120 - val_mae: 0.0354 - val_mse: 0.0412 - 2s/epoch - 52ms/step\n",
            "Epoch 343/500\n",
            "35/35 - 3s - loss: 0.0023 - mae: 0.0254 - mse: 0.0067 - val_loss: 0.0120 - val_mae: 0.0354 - val_mse: 0.0412 - 3s/epoch - 93ms/step\n",
            "Epoch 344/500\n",
            "35/35 - 2s - loss: 0.0023 - mae: 0.0254 - mse: 0.0067 - val_loss: 0.0120 - val_mae: 0.0354 - val_mse: 0.0412 - 2s/epoch - 53ms/step\n",
            "Epoch 345/500\n",
            "35/35 - 2s - loss: 0.0023 - mae: 0.0254 - mse: 0.0067 - val_loss: 0.0120 - val_mae: 0.0354 - val_mse: 0.0412 - 2s/epoch - 55ms/step\n",
            "Epoch 346/500\n",
            "35/35 - 2s - loss: 0.0023 - mae: 0.0254 - mse: 0.0067 - val_loss: 0.0120 - val_mae: 0.0354 - val_mse: 0.0412 - 2s/epoch - 49ms/step\n",
            "Epoch 347/500\n",
            "35/35 - 2s - loss: 0.0023 - mae: 0.0254 - mse: 0.0067 - val_loss: 0.0120 - val_mae: 0.0354 - val_mse: 0.0412 - 2s/epoch - 49ms/step\n",
            "Epoch 348/500\n",
            "35/35 - 3s - loss: 0.0023 - mae: 0.0254 - mse: 0.0067 - val_loss: 0.0120 - val_mae: 0.0354 - val_mse: 0.0412 - 3s/epoch - 76ms/step\n",
            "Epoch 349/500\n",
            "35/35 - 2s - loss: 0.0023 - mae: 0.0254 - mse: 0.0067 - val_loss: 0.0120 - val_mae: 0.0354 - val_mse: 0.0412 - 2s/epoch - 52ms/step\n",
            "Epoch 350/500\n",
            "35/35 - 2s - loss: 0.0023 - mae: 0.0254 - mse: 0.0067 - val_loss: 0.0120 - val_mae: 0.0354 - val_mse: 0.0412 - 2s/epoch - 52ms/step\n",
            "Epoch 351/500\n",
            "35/35 - 2s - loss: 0.0023 - mae: 0.0254 - mse: 0.0067 - val_loss: 0.0120 - val_mae: 0.0354 - val_mse: 0.0412 - 2s/epoch - 48ms/step\n",
            "Epoch 352/500\n",
            "35/35 - 2s - loss: 0.0023 - mae: 0.0254 - mse: 0.0067 - val_loss: 0.0120 - val_mae: 0.0354 - val_mse: 0.0412 - 2s/epoch - 51ms/step\n",
            "Epoch 353/500\n",
            "35/35 - 2s - loss: 0.0023 - mae: 0.0254 - mse: 0.0067 - val_loss: 0.0120 - val_mae: 0.0354 - val_mse: 0.0412 - 2s/epoch - 53ms/step\n",
            "Epoch 354/500\n",
            "35/35 - 3s - loss: 0.0023 - mae: 0.0254 - mse: 0.0067 - val_loss: 0.0120 - val_mae: 0.0354 - val_mse: 0.0412 - 3s/epoch - 79ms/step\n",
            "Epoch 355/500\n",
            "35/35 - 2s - loss: 0.0023 - mae: 0.0254 - mse: 0.0067 - val_loss: 0.0120 - val_mae: 0.0354 - val_mse: 0.0412 - 2s/epoch - 51ms/step\n",
            "Epoch 356/500\n",
            "35/35 - 2s - loss: 0.0023 - mae: 0.0254 - mse: 0.0067 - val_loss: 0.0120 - val_mae: 0.0354 - val_mse: 0.0412 - 2s/epoch - 55ms/step\n",
            "Epoch 357/500\n",
            "35/35 - 2s - loss: 0.0023 - mae: 0.0254 - mse: 0.0067 - val_loss: 0.0120 - val_mae: 0.0354 - val_mse: 0.0412 - 2s/epoch - 52ms/step\n",
            "Epoch 358/500\n",
            "35/35 - 2s - loss: 0.0023 - mae: 0.0254 - mse: 0.0067 - val_loss: 0.0120 - val_mae: 0.0354 - val_mse: 0.0412 - 2s/epoch - 48ms/step\n",
            "Epoch 359/500\n",
            "35/35 - 3s - loss: 0.0023 - mae: 0.0254 - mse: 0.0067 - val_loss: 0.0120 - val_mae: 0.0354 - val_mse: 0.0412 - 3s/epoch - 92ms/step\n",
            "Epoch 360/500\n",
            "35/35 - 2s - loss: 0.0023 - mae: 0.0254 - mse: 0.0067 - val_loss: 0.0120 - val_mae: 0.0354 - val_mse: 0.0412 - 2s/epoch - 57ms/step\n",
            "Epoch 361/500\n",
            "35/35 - 2s - loss: 0.0023 - mae: 0.0254 - mse: 0.0067 - val_loss: 0.0120 - val_mae: 0.0354 - val_mse: 0.0412 - 2s/epoch - 49ms/step\n",
            "Epoch 362/500\n",
            "35/35 - 2s - loss: 0.0023 - mae: 0.0254 - mse: 0.0067 - val_loss: 0.0120 - val_mae: 0.0354 - val_mse: 0.0412 - 2s/epoch - 53ms/step\n",
            "Epoch 363/500\n",
            "35/35 - 2s - loss: 0.0023 - mae: 0.0254 - mse: 0.0067 - val_loss: 0.0120 - val_mae: 0.0354 - val_mse: 0.0412 - 2s/epoch - 54ms/step\n",
            "Epoch 364/500\n",
            "35/35 - 3s - loss: 0.0023 - mae: 0.0253 - mse: 0.0067 - val_loss: 0.0120 - val_mae: 0.0354 - val_mse: 0.0412 - 3s/epoch - 94ms/step\n",
            "Epoch 365/500\n",
            "35/35 - 3s - loss: 0.0022 - mae: 0.0253 - mse: 0.0067 - val_loss: 0.0120 - val_mae: 0.0353 - val_mse: 0.0412 - 3s/epoch - 77ms/step\n",
            "Epoch 366/500\n",
            "35/35 - 2s - loss: 0.0022 - mae: 0.0253 - mse: 0.0067 - val_loss: 0.0120 - val_mae: 0.0353 - val_mse: 0.0412 - 2s/epoch - 51ms/step\n",
            "Epoch 367/500\n",
            "35/35 - 2s - loss: 0.0022 - mae: 0.0253 - mse: 0.0067 - val_loss: 0.0120 - val_mae: 0.0353 - val_mse: 0.0412 - 2s/epoch - 53ms/step\n",
            "Epoch 368/500\n",
            "35/35 - 2s - loss: 0.0022 - mae: 0.0253 - mse: 0.0067 - val_loss: 0.0120 - val_mae: 0.0353 - val_mse: 0.0412 - 2s/epoch - 52ms/step\n",
            "Epoch 369/500\n",
            "35/35 - 2s - loss: 0.0022 - mae: 0.0253 - mse: 0.0067 - val_loss: 0.0120 - val_mae: 0.0353 - val_mse: 0.0412 - 2s/epoch - 55ms/step\n",
            "Epoch 370/500\n",
            "35/35 - 3s - loss: 0.0022 - mae: 0.0253 - mse: 0.0067 - val_loss: 0.0120 - val_mae: 0.0353 - val_mse: 0.0412 - 3s/epoch - 84ms/step\n",
            "Epoch 371/500\n",
            "35/35 - 2s - loss: 0.0022 - mae: 0.0253 - mse: 0.0067 - val_loss: 0.0120 - val_mae: 0.0353 - val_mse: 0.0412 - 2s/epoch - 53ms/step\n",
            "Epoch 372/500\n",
            "35/35 - 2s - loss: 0.0022 - mae: 0.0253 - mse: 0.0067 - val_loss: 0.0120 - val_mae: 0.0353 - val_mse: 0.0412 - 2s/epoch - 52ms/step\n",
            "Epoch 373/500\n",
            "35/35 - 2s - loss: 0.0022 - mae: 0.0253 - mse: 0.0067 - val_loss: 0.0120 - val_mae: 0.0353 - val_mse: 0.0412 - 2s/epoch - 49ms/step\n",
            "Epoch 374/500\n",
            "35/35 - 2s - loss: 0.0022 - mae: 0.0253 - mse: 0.0067 - val_loss: 0.0120 - val_mae: 0.0353 - val_mse: 0.0412 - 2s/epoch - 55ms/step\n",
            "Epoch 375/500\n",
            "35/35 - 4s - loss: 0.0022 - mae: 0.0253 - mse: 0.0067 - val_loss: 0.0120 - val_mae: 0.0353 - val_mse: 0.0412 - 4s/epoch - 101ms/step\n",
            "Epoch 376/500\n",
            "35/35 - 3s - loss: 0.0022 - mae: 0.0253 - mse: 0.0067 - val_loss: 0.0120 - val_mae: 0.0353 - val_mse: 0.0412 - 3s/epoch - 72ms/step\n",
            "Epoch 377/500\n",
            "35/35 - 2s - loss: 0.0022 - mae: 0.0253 - mse: 0.0067 - val_loss: 0.0120 - val_mae: 0.0353 - val_mse: 0.0412 - 2s/epoch - 51ms/step\n",
            "Epoch 378/500\n",
            "35/35 - 2s - loss: 0.0022 - mae: 0.0253 - mse: 0.0067 - val_loss: 0.0120 - val_mae: 0.0353 - val_mse: 0.0412 - 2s/epoch - 52ms/step\n",
            "Epoch 379/500\n",
            "35/35 - 2s - loss: 0.0022 - mae: 0.0253 - mse: 0.0067 - val_loss: 0.0120 - val_mae: 0.0353 - val_mse: 0.0412 - 2s/epoch - 48ms/step\n",
            "Epoch 380/500\n",
            "35/35 - 2s - loss: 0.0022 - mae: 0.0253 - mse: 0.0067 - val_loss: 0.0120 - val_mae: 0.0353 - val_mse: 0.0412 - 2s/epoch - 50ms/step\n",
            "Epoch 381/500\n",
            "35/35 - 3s - loss: 0.0022 - mae: 0.0253 - mse: 0.0067 - val_loss: 0.0120 - val_mae: 0.0353 - val_mse: 0.0412 - 3s/epoch - 93ms/step\n",
            "Epoch 382/500\n",
            "35/35 - 2s - loss: 0.0022 - mae: 0.0253 - mse: 0.0067 - val_loss: 0.0120 - val_mae: 0.0353 - val_mse: 0.0412 - 2s/epoch - 53ms/step\n",
            "Epoch 383/500\n",
            "35/35 - 2s - loss: 0.0022 - mae: 0.0253 - mse: 0.0067 - val_loss: 0.0120 - val_mae: 0.0353 - val_mse: 0.0412 - 2s/epoch - 53ms/step\n",
            "Epoch 384/500\n",
            "35/35 - 2s - loss: 0.0022 - mae: 0.0253 - mse: 0.0067 - val_loss: 0.0120 - val_mae: 0.0353 - val_mse: 0.0412 - 2s/epoch - 50ms/step\n",
            "Epoch 385/500\n",
            "35/35 - 2s - loss: 0.0022 - mae: 0.0253 - mse: 0.0067 - val_loss: 0.0120 - val_mae: 0.0353 - val_mse: 0.0412 - 2s/epoch - 48ms/step\n",
            "Epoch 386/500\n",
            "35/35 - 2s - loss: 0.0022 - mae: 0.0253 - mse: 0.0067 - val_loss: 0.0120 - val_mae: 0.0353 - val_mse: 0.0412 - 2s/epoch - 51ms/step\n",
            "Epoch 387/500\n",
            "35/35 - 4s - loss: 0.0022 - mae: 0.0253 - mse: 0.0067 - val_loss: 0.0120 - val_mae: 0.0353 - val_mse: 0.0412 - 4s/epoch - 106ms/step\n",
            "Epoch 388/500\n",
            "35/35 - 2s - loss: 0.0022 - mae: 0.0253 - mse: 0.0067 - val_loss: 0.0120 - val_mae: 0.0353 - val_mse: 0.0412 - 2s/epoch - 50ms/step\n",
            "Epoch 389/500\n",
            "35/35 - 2s - loss: 0.0022 - mae: 0.0253 - mse: 0.0067 - val_loss: 0.0120 - val_mae: 0.0353 - val_mse: 0.0412 - 2s/epoch - 48ms/step\n",
            "Epoch 390/500\n",
            "35/35 - 2s - loss: 0.0022 - mae: 0.0252 - mse: 0.0067 - val_loss: 0.0120 - val_mae: 0.0353 - val_mse: 0.0412 - 2s/epoch - 47ms/step\n",
            "Epoch 391/500\n",
            "35/35 - 2s - loss: 0.0022 - mae: 0.0252 - mse: 0.0067 - val_loss: 0.0120 - val_mae: 0.0352 - val_mse: 0.0412 - 2s/epoch - 48ms/step\n",
            "Epoch 392/500\n",
            "35/35 - 2s - loss: 0.0022 - mae: 0.0252 - mse: 0.0067 - val_loss: 0.0120 - val_mae: 0.0352 - val_mse: 0.0412 - 2s/epoch - 50ms/step\n",
            "Epoch 393/500\n",
            "35/35 - 4s - loss: 0.0022 - mae: 0.0252 - mse: 0.0067 - val_loss: 0.0120 - val_mae: 0.0352 - val_mse: 0.0412 - 4s/epoch - 102ms/step\n",
            "Epoch 394/500\n",
            "35/35 - 2s - loss: 0.0022 - mae: 0.0252 - mse: 0.0067 - val_loss: 0.0120 - val_mae: 0.0352 - val_mse: 0.0412 - 2s/epoch - 71ms/step\n",
            "Epoch 395/500\n",
            "35/35 - 2s - loss: 0.0022 - mae: 0.0252 - mse: 0.0067 - val_loss: 0.0120 - val_mae: 0.0352 - val_mse: 0.0412 - 2s/epoch - 52ms/step\n",
            "Epoch 396/500\n",
            "35/35 - 2s - loss: 0.0022 - mae: 0.0252 - mse: 0.0067 - val_loss: 0.0120 - val_mae: 0.0352 - val_mse: 0.0411 - 2s/epoch - 48ms/step\n",
            "Epoch 397/500\n",
            "35/35 - 2s - loss: 0.0022 - mae: 0.0252 - mse: 0.0067 - val_loss: 0.0120 - val_mae: 0.0352 - val_mse: 0.0411 - 2s/epoch - 52ms/step\n",
            "Epoch 398/500\n",
            "35/35 - 2s - loss: 0.0022 - mae: 0.0252 - mse: 0.0067 - val_loss: 0.0120 - val_mae: 0.0352 - val_mse: 0.0411 - 2s/epoch - 55ms/step\n",
            "Epoch 399/500\n",
            "35/35 - 4s - loss: 0.0022 - mae: 0.0252 - mse: 0.0067 - val_loss: 0.0120 - val_mae: 0.0352 - val_mse: 0.0411 - 4s/epoch - 103ms/step\n",
            "Epoch 400/500\n",
            "35/35 - 2s - loss: 0.0022 - mae: 0.0252 - mse: 0.0067 - val_loss: 0.0120 - val_mae: 0.0352 - val_mse: 0.0411 - 2s/epoch - 51ms/step\n",
            "Epoch 401/500\n",
            "35/35 - 2s - loss: 0.0022 - mae: 0.0252 - mse: 0.0067 - val_loss: 0.0120 - val_mae: 0.0352 - val_mse: 0.0411 - 2s/epoch - 52ms/step\n",
            "Epoch 402/500\n",
            "35/35 - 2s - loss: 0.0022 - mae: 0.0252 - mse: 0.0067 - val_loss: 0.0120 - val_mae: 0.0352 - val_mse: 0.0411 - 2s/epoch - 58ms/step\n",
            "Epoch 403/500\n",
            "35/35 - 2s - loss: 0.0022 - mae: 0.0252 - mse: 0.0067 - val_loss: 0.0120 - val_mae: 0.0352 - val_mse: 0.0411 - 2s/epoch - 54ms/step\n",
            "Epoch 404/500\n",
            "35/35 - 3s - loss: 0.0022 - mae: 0.0252 - mse: 0.0067 - val_loss: 0.0120 - val_mae: 0.0352 - val_mse: 0.0411 - 3s/epoch - 94ms/step\n",
            "Epoch 405/500\n",
            "35/35 - 2s - loss: 0.0022 - mae: 0.0252 - mse: 0.0067 - val_loss: 0.0120 - val_mae: 0.0352 - val_mse: 0.0411 - 2s/epoch - 55ms/step\n",
            "Epoch 406/500\n",
            "35/35 - 2s - loss: 0.0022 - mae: 0.0252 - mse: 0.0067 - val_loss: 0.0120 - val_mae: 0.0352 - val_mse: 0.0411 - 2s/epoch - 49ms/step\n",
            "Epoch 407/500\n",
            "35/35 - 2s - loss: 0.0022 - mae: 0.0252 - mse: 0.0067 - val_loss: 0.0120 - val_mae: 0.0352 - val_mse: 0.0411 - 2s/epoch - 56ms/step\n",
            "Epoch 408/500\n",
            "35/35 - 2s - loss: 0.0022 - mae: 0.0252 - mse: 0.0067 - val_loss: 0.0120 - val_mae: 0.0352 - val_mse: 0.0411 - 2s/epoch - 49ms/step\n",
            "Epoch 409/500\n",
            "35/35 - 4s - loss: 0.0022 - mae: 0.0252 - mse: 0.0067 - val_loss: 0.0120 - val_mae: 0.0352 - val_mse: 0.0411 - 4s/epoch - 103ms/step\n",
            "Epoch 410/500\n",
            "35/35 - 3s - loss: 0.0022 - mae: 0.0252 - mse: 0.0067 - val_loss: 0.0120 - val_mae: 0.0352 - val_mse: 0.0411 - 3s/epoch - 75ms/step\n",
            "Epoch 411/500\n",
            "35/35 - 2s - loss: 0.0022 - mae: 0.0252 - mse: 0.0067 - val_loss: 0.0120 - val_mae: 0.0352 - val_mse: 0.0411 - 2s/epoch - 48ms/step\n",
            "Epoch 412/500\n",
            "35/35 - 2s - loss: 0.0022 - mae: 0.0252 - mse: 0.0067 - val_loss: 0.0120 - val_mae: 0.0352 - val_mse: 0.0411 - 2s/epoch - 53ms/step\n",
            "Epoch 413/500\n",
            "35/35 - 2s - loss: 0.0022 - mae: 0.0252 - mse: 0.0067 - val_loss: 0.0120 - val_mae: 0.0352 - val_mse: 0.0411 - 2s/epoch - 49ms/step\n",
            "Epoch 414/500\n",
            "35/35 - 3s - loss: 0.0022 - mae: 0.0252 - mse: 0.0067 - val_loss: 0.0120 - val_mae: 0.0352 - val_mse: 0.0411 - 3s/epoch - 94ms/step\n",
            "Epoch 415/500\n",
            "35/35 - 2s - loss: 0.0022 - mae: 0.0252 - mse: 0.0067 - val_loss: 0.0120 - val_mae: 0.0352 - val_mse: 0.0411 - 2s/epoch - 64ms/step\n",
            "Epoch 416/500\n",
            "35/35 - 2s - loss: 0.0022 - mae: 0.0252 - mse: 0.0067 - val_loss: 0.0120 - val_mae: 0.0352 - val_mse: 0.0411 - 2s/epoch - 53ms/step\n",
            "Epoch 417/500\n",
            "35/35 - 2s - loss: 0.0022 - mae: 0.0251 - mse: 0.0067 - val_loss: 0.0120 - val_mae: 0.0351 - val_mse: 0.0411 - 2s/epoch - 53ms/step\n",
            "Epoch 418/500\n",
            "35/35 - 2s - loss: 0.0022 - mae: 0.0251 - mse: 0.0067 - val_loss: 0.0120 - val_mae: 0.0351 - val_mse: 0.0411 - 2s/epoch - 52ms/step\n",
            "Epoch 419/500\n",
            "35/35 - 2s - loss: 0.0022 - mae: 0.0251 - mse: 0.0067 - val_loss: 0.0120 - val_mae: 0.0351 - val_mse: 0.0411 - 2s/epoch - 52ms/step\n",
            "Epoch 420/500\n",
            "35/35 - 3s - loss: 0.0022 - mae: 0.0251 - mse: 0.0067 - val_loss: 0.0120 - val_mae: 0.0351 - val_mse: 0.0411 - 3s/epoch - 92ms/step\n",
            "Epoch 421/500\n",
            "35/35 - 3s - loss: 0.0022 - mae: 0.0251 - mse: 0.0067 - val_loss: 0.0120 - val_mae: 0.0351 - val_mse: 0.0411 - 3s/epoch - 85ms/step\n",
            "Epoch 422/500\n",
            "35/35 - 2s - loss: 0.0022 - mae: 0.0251 - mse: 0.0067 - val_loss: 0.0120 - val_mae: 0.0351 - val_mse: 0.0411 - 2s/epoch - 51ms/step\n",
            "Epoch 423/500\n",
            "35/35 - 2s - loss: 0.0022 - mae: 0.0251 - mse: 0.0067 - val_loss: 0.0120 - val_mae: 0.0351 - val_mse: 0.0411 - 2s/epoch - 53ms/step\n",
            "Epoch 424/500\n",
            "35/35 - 2s - loss: 0.0022 - mae: 0.0251 - mse: 0.0067 - val_loss: 0.0120 - val_mae: 0.0351 - val_mse: 0.0411 - 2s/epoch - 48ms/step\n",
            "Epoch 425/500\n",
            "35/35 - 3s - loss: 0.0022 - mae: 0.0251 - mse: 0.0067 - val_loss: 0.0120 - val_mae: 0.0351 - val_mse: 0.0411 - 3s/epoch - 73ms/step\n",
            "Epoch 426/500\n",
            "35/35 - 3s - loss: 0.0022 - mae: 0.0251 - mse: 0.0067 - val_loss: 0.0120 - val_mae: 0.0351 - val_mse: 0.0411 - 3s/epoch - 97ms/step\n",
            "Epoch 427/500\n",
            "35/35 - 2s - loss: 0.0022 - mae: 0.0251 - mse: 0.0067 - val_loss: 0.0120 - val_mae: 0.0351 - val_mse: 0.0411 - 2s/epoch - 55ms/step\n",
            "Epoch 428/500\n",
            "35/35 - 2s - loss: 0.0022 - mae: 0.0251 - mse: 0.0067 - val_loss: 0.0120 - val_mae: 0.0351 - val_mse: 0.0411 - 2s/epoch - 53ms/step\n",
            "Epoch 429/500\n",
            "35/35 - 2s - loss: 0.0022 - mae: 0.0251 - mse: 0.0067 - val_loss: 0.0120 - val_mae: 0.0351 - val_mse: 0.0411 - 2s/epoch - 56ms/step\n",
            "Epoch 430/500\n",
            "35/35 - 2s - loss: 0.0022 - mae: 0.0251 - mse: 0.0067 - val_loss: 0.0120 - val_mae: 0.0351 - val_mse: 0.0411 - 2s/epoch - 65ms/step\n",
            "Epoch 431/500\n",
            "35/35 - 4s - loss: 0.0022 - mae: 0.0251 - mse: 0.0067 - val_loss: 0.0120 - val_mae: 0.0351 - val_mse: 0.0411 - 4s/epoch - 103ms/step\n",
            "Epoch 432/500\n",
            "35/35 - 2s - loss: 0.0022 - mae: 0.0251 - mse: 0.0067 - val_loss: 0.0120 - val_mae: 0.0351 - val_mse: 0.0411 - 2s/epoch - 48ms/step\n",
            "Epoch 433/500\n",
            "35/35 - 2s - loss: 0.0022 - mae: 0.0251 - mse: 0.0067 - val_loss: 0.0120 - val_mae: 0.0351 - val_mse: 0.0411 - 2s/epoch - 49ms/step\n",
            "Epoch 434/500\n",
            "35/35 - 2s - loss: 0.0022 - mae: 0.0251 - mse: 0.0067 - val_loss: 0.0120 - val_mae: 0.0351 - val_mse: 0.0411 - 2s/epoch - 48ms/step\n",
            "Epoch 435/500\n",
            "35/35 - 2s - loss: 0.0022 - mae: 0.0251 - mse: 0.0067 - val_loss: 0.0120 - val_mae: 0.0351 - val_mse: 0.0411 - 2s/epoch - 52ms/step\n",
            "Epoch 436/500\n",
            "35/35 - 3s - loss: 0.0022 - mae: 0.0251 - mse: 0.0067 - val_loss: 0.0120 - val_mae: 0.0351 - val_mse: 0.0411 - 3s/epoch - 74ms/step\n",
            "Epoch 437/500\n",
            "35/35 - 4s - loss: 0.0022 - mae: 0.0251 - mse: 0.0067 - val_loss: 0.0120 - val_mae: 0.0351 - val_mse: 0.0411 - 4s/epoch - 105ms/step\n",
            "Epoch 438/500\n",
            "35/35 - 2s - loss: 0.0022 - mae: 0.0251 - mse: 0.0067 - val_loss: 0.0120 - val_mae: 0.0351 - val_mse: 0.0411 - 2s/epoch - 53ms/step\n",
            "Epoch 439/500\n",
            "35/35 - 2s - loss: 0.0022 - mae: 0.0251 - mse: 0.0067 - val_loss: 0.0120 - val_mae: 0.0351 - val_mse: 0.0411 - 2s/epoch - 52ms/step\n",
            "Epoch 440/500\n",
            "35/35 - 2s - loss: 0.0022 - mae: 0.0251 - mse: 0.0067 - val_loss: 0.0120 - val_mae: 0.0351 - val_mse: 0.0411 - 2s/epoch - 53ms/step\n",
            "Epoch 441/500\n",
            "35/35 - 2s - loss: 0.0022 - mae: 0.0251 - mse: 0.0067 - val_loss: 0.0120 - val_mae: 0.0351 - val_mse: 0.0411 - 2s/epoch - 53ms/step\n",
            "Epoch 442/500\n",
            "35/35 - 4s - loss: 0.0022 - mae: 0.0251 - mse: 0.0067 - val_loss: 0.0120 - val_mae: 0.0351 - val_mse: 0.0411 - 4s/epoch - 101ms/step\n",
            "Epoch 443/500\n",
            "35/35 - 2s - loss: 0.0022 - mae: 0.0251 - mse: 0.0067 - val_loss: 0.0120 - val_mae: 0.0351 - val_mse: 0.0411 - 2s/epoch - 51ms/step\n",
            "Epoch 444/500\n",
            "35/35 - 2s - loss: 0.0022 - mae: 0.0250 - mse: 0.0067 - val_loss: 0.0120 - val_mae: 0.0350 - val_mse: 0.0411 - 2s/epoch - 51ms/step\n",
            "Epoch 445/500\n",
            "35/35 - 2s - loss: 0.0022 - mae: 0.0250 - mse: 0.0067 - val_loss: 0.0120 - val_mae: 0.0350 - val_mse: 0.0411 - 2s/epoch - 53ms/step\n",
            "Epoch 446/500\n",
            "35/35 - 2s - loss: 0.0022 - mae: 0.0250 - mse: 0.0067 - val_loss: 0.0120 - val_mae: 0.0350 - val_mse: 0.0411 - 2s/epoch - 48ms/step\n",
            "Epoch 447/500\n",
            "35/35 - 3s - loss: 0.0022 - mae: 0.0250 - mse: 0.0067 - val_loss: 0.0120 - val_mae: 0.0350 - val_mse: 0.0411 - 3s/epoch - 76ms/step\n",
            "Epoch 448/500\n",
            "35/35 - 3s - loss: 0.0022 - mae: 0.0250 - mse: 0.0067 - val_loss: 0.0120 - val_mae: 0.0350 - val_mse: 0.0411 - 3s/epoch - 97ms/step\n",
            "Epoch 449/500\n",
            "35/35 - 2s - loss: 0.0022 - mae: 0.0250 - mse: 0.0067 - val_loss: 0.0120 - val_mae: 0.0350 - val_mse: 0.0411 - 2s/epoch - 53ms/step\n",
            "Epoch 450/500\n",
            "35/35 - 2s - loss: 0.0022 - mae: 0.0250 - mse: 0.0067 - val_loss: 0.0120 - val_mae: 0.0350 - val_mse: 0.0411 - 2s/epoch - 47ms/step\n",
            "Epoch 451/500\n",
            "35/35 - 2s - loss: 0.0022 - mae: 0.0250 - mse: 0.0067 - val_loss: 0.0120 - val_mae: 0.0350 - val_mse: 0.0411 - 2s/epoch - 52ms/step\n",
            "Epoch 452/500\n",
            "35/35 - 2s - loss: 0.0022 - mae: 0.0250 - mse: 0.0067 - val_loss: 0.0120 - val_mae: 0.0350 - val_mse: 0.0411 - 2s/epoch - 52ms/step\n",
            "Epoch 453/500\n",
            "35/35 - 2s - loss: 0.0022 - mae: 0.0250 - mse: 0.0067 - val_loss: 0.0120 - val_mae: 0.0350 - val_mse: 0.0411 - 2s/epoch - 49ms/step\n",
            "Epoch 454/500\n",
            "35/35 - 3s - loss: 0.0022 - mae: 0.0250 - mse: 0.0067 - val_loss: 0.0120 - val_mae: 0.0350 - val_mse: 0.0411 - 3s/epoch - 99ms/step\n",
            "Epoch 455/500\n",
            "35/35 - 2s - loss: 0.0022 - mae: 0.0250 - mse: 0.0067 - val_loss: 0.0120 - val_mae: 0.0350 - val_mse: 0.0411 - 2s/epoch - 56ms/step\n",
            "Epoch 456/500\n",
            "35/35 - 2s - loss: 0.0022 - mae: 0.0250 - mse: 0.0067 - val_loss: 0.0120 - val_mae: 0.0350 - val_mse: 0.0411 - 2s/epoch - 48ms/step\n",
            "Epoch 457/500\n",
            "35/35 - 2s - loss: 0.0022 - mae: 0.0250 - mse: 0.0067 - val_loss: 0.0120 - val_mae: 0.0350 - val_mse: 0.0411 - 2s/epoch - 55ms/step\n",
            "Epoch 458/500\n",
            "35/35 - 2s - loss: 0.0022 - mae: 0.0250 - mse: 0.0067 - val_loss: 0.0120 - val_mae: 0.0350 - val_mse: 0.0411 - 2s/epoch - 54ms/step\n",
            "Epoch 459/500\n",
            "35/35 - 4s - loss: 0.0022 - mae: 0.0250 - mse: 0.0067 - val_loss: 0.0120 - val_mae: 0.0350 - val_mse: 0.0411 - 4s/epoch - 105ms/step\n",
            "Epoch 460/500\n",
            "35/35 - 3s - loss: 0.0022 - mae: 0.0250 - mse: 0.0067 - val_loss: 0.0120 - val_mae: 0.0350 - val_mse: 0.0411 - 3s/epoch - 72ms/step\n",
            "Epoch 461/500\n",
            "35/35 - 2s - loss: 0.0022 - mae: 0.0250 - mse: 0.0067 - val_loss: 0.0120 - val_mae: 0.0350 - val_mse: 0.0411 - 2s/epoch - 52ms/step\n",
            "Epoch 462/500\n",
            "35/35 - 2s - loss: 0.0022 - mae: 0.0250 - mse: 0.0067 - val_loss: 0.0120 - val_mae: 0.0350 - val_mse: 0.0411 - 2s/epoch - 49ms/step\n",
            "Epoch 463/500\n",
            "35/35 - 2s - loss: 0.0022 - mae: 0.0250 - mse: 0.0067 - val_loss: 0.0120 - val_mae: 0.0350 - val_mse: 0.0411 - 2s/epoch - 53ms/step\n",
            "Epoch 464/500\n",
            "35/35 - 2s - loss: 0.0022 - mae: 0.0250 - mse: 0.0067 - val_loss: 0.0120 - val_mae: 0.0350 - val_mse: 0.0411 - 2s/epoch - 52ms/step\n",
            "Epoch 465/500\n",
            "35/35 - 3s - loss: 0.0022 - mae: 0.0250 - mse: 0.0067 - val_loss: 0.0120 - val_mae: 0.0350 - val_mse: 0.0411 - 3s/epoch - 94ms/step\n",
            "Epoch 466/500\n",
            "35/35 - 3s - loss: 0.0022 - mae: 0.0250 - mse: 0.0067 - val_loss: 0.0120 - val_mae: 0.0350 - val_mse: 0.0411 - 3s/epoch - 79ms/step\n",
            "Epoch 467/500\n",
            "35/35 - 2s - loss: 0.0022 - mae: 0.0250 - mse: 0.0067 - val_loss: 0.0120 - val_mae: 0.0350 - val_mse: 0.0411 - 2s/epoch - 56ms/step\n",
            "Epoch 468/500\n",
            "35/35 - 2s - loss: 0.0022 - mae: 0.0250 - mse: 0.0067 - val_loss: 0.0120 - val_mae: 0.0350 - val_mse: 0.0411 - 2s/epoch - 52ms/step\n",
            "Epoch 469/500\n",
            "35/35 - 2s - loss: 0.0022 - mae: 0.0250 - mse: 0.0067 - val_loss: 0.0120 - val_mae: 0.0350 - val_mse: 0.0411 - 2s/epoch - 50ms/step\n",
            "Epoch 470/500\n",
            "35/35 - 4s - loss: 0.0022 - mae: 0.0250 - mse: 0.0067 - val_loss: 0.0120 - val_mae: 0.0350 - val_mse: 0.0411 - 4s/epoch - 102ms/step\n",
            "Epoch 471/500\n",
            "35/35 - 2s - loss: 0.0022 - mae: 0.0249 - mse: 0.0067 - val_loss: 0.0120 - val_mae: 0.0349 - val_mse: 0.0411 - 2s/epoch - 51ms/step\n",
            "Epoch 472/500\n",
            "35/35 - 2s - loss: 0.0022 - mae: 0.0249 - mse: 0.0067 - val_loss: 0.0120 - val_mae: 0.0349 - val_mse: 0.0411 - 2s/epoch - 53ms/step\n",
            "Epoch 473/500\n",
            "35/35 - 2s - loss: 0.0022 - mae: 0.0249 - mse: 0.0067 - val_loss: 0.0120 - val_mae: 0.0349 - val_mse: 0.0411 - 2s/epoch - 48ms/step\n",
            "Epoch 474/500\n",
            "35/35 - 2s - loss: 0.0022 - mae: 0.0249 - mse: 0.0067 - val_loss: 0.0120 - val_mae: 0.0349 - val_mse: 0.0411 - 2s/epoch - 57ms/step\n",
            "Epoch 475/500\n",
            "35/35 - 4s - loss: 0.0022 - mae: 0.0249 - mse: 0.0067 - val_loss: 0.0120 - val_mae: 0.0349 - val_mse: 0.0411 - 4s/epoch - 109ms/step\n",
            "Epoch 476/500\n",
            "35/35 - 2s - loss: 0.0022 - mae: 0.0249 - mse: 0.0067 - val_loss: 0.0120 - val_mae: 0.0349 - val_mse: 0.0411 - 2s/epoch - 47ms/step\n",
            "Epoch 477/500\n",
            "35/35 - 2s - loss: 0.0022 - mae: 0.0249 - mse: 0.0067 - val_loss: 0.0120 - val_mae: 0.0349 - val_mse: 0.0411 - 2s/epoch - 54ms/step\n",
            "Epoch 478/500\n",
            "35/35 - 2s - loss: 0.0022 - mae: 0.0249 - mse: 0.0067 - val_loss: 0.0120 - val_mae: 0.0349 - val_mse: 0.0411 - 2s/epoch - 53ms/step\n",
            "Epoch 479/500\n",
            "35/35 - 2s - loss: 0.0022 - mae: 0.0249 - mse: 0.0067 - val_loss: 0.0120 - val_mae: 0.0349 - val_mse: 0.0411 - 2s/epoch - 52ms/step\n",
            "Epoch 480/500\n",
            "35/35 - 3s - loss: 0.0022 - mae: 0.0249 - mse: 0.0067 - val_loss: 0.0120 - val_mae: 0.0349 - val_mse: 0.0411 - 3s/epoch - 75ms/step\n",
            "Epoch 481/500\n",
            "35/35 - 2s - loss: 0.0022 - mae: 0.0249 - mse: 0.0067 - val_loss: 0.0120 - val_mae: 0.0349 - val_mse: 0.0411 - 2s/epoch - 47ms/step\n",
            "Epoch 482/500\n",
            "35/35 - 2s - loss: 0.0022 - mae: 0.0249 - mse: 0.0067 - val_loss: 0.0120 - val_mae: 0.0349 - val_mse: 0.0411 - 2s/epoch - 55ms/step\n",
            "Epoch 483/500\n",
            "35/35 - 2s - loss: 0.0022 - mae: 0.0249 - mse: 0.0067 - val_loss: 0.0120 - val_mae: 0.0349 - val_mse: 0.0411 - 2s/epoch - 54ms/step\n",
            "Epoch 484/500\n",
            "35/35 - 2s - loss: 0.0022 - mae: 0.0249 - mse: 0.0067 - val_loss: 0.0120 - val_mae: 0.0349 - val_mse: 0.0411 - 2s/epoch - 49ms/step\n",
            "Epoch 485/500\n",
            "35/35 - 2s - loss: 0.0022 - mae: 0.0249 - mse: 0.0067 - val_loss: 0.0120 - val_mae: 0.0349 - val_mse: 0.0411 - 2s/epoch - 71ms/step\n",
            "Epoch 486/500\n",
            "35/35 - 3s - loss: 0.0022 - mae: 0.0249 - mse: 0.0067 - val_loss: 0.0120 - val_mae: 0.0349 - val_mse: 0.0411 - 3s/epoch - 97ms/step\n",
            "Epoch 487/500\n",
            "35/35 - 2s - loss: 0.0022 - mae: 0.0249 - mse: 0.0067 - val_loss: 0.0120 - val_mae: 0.0349 - val_mse: 0.0411 - 2s/epoch - 55ms/step\n",
            "Epoch 488/500\n",
            "35/35 - 2s - loss: 0.0022 - mae: 0.0249 - mse: 0.0067 - val_loss: 0.0120 - val_mae: 0.0349 - val_mse: 0.0411 - 2s/epoch - 52ms/step\n",
            "Epoch 489/500\n",
            "35/35 - 2s - loss: 0.0022 - mae: 0.0249 - mse: 0.0067 - val_loss: 0.0120 - val_mae: 0.0349 - val_mse: 0.0410 - 2s/epoch - 49ms/step\n",
            "Epoch 490/500\n",
            "35/35 - 2s - loss: 0.0022 - mae: 0.0249 - mse: 0.0066 - val_loss: 0.0120 - val_mae: 0.0349 - val_mse: 0.0410 - 2s/epoch - 50ms/step\n",
            "Epoch 491/500\n",
            "35/35 - 2s - loss: 0.0022 - mae: 0.0249 - mse: 0.0066 - val_loss: 0.0120 - val_mae: 0.0349 - val_mse: 0.0410 - 2s/epoch - 63ms/step\n",
            "Epoch 492/500\n",
            "35/35 - 4s - loss: 0.0022 - mae: 0.0249 - mse: 0.0066 - val_loss: 0.0120 - val_mae: 0.0349 - val_mse: 0.0410 - 4s/epoch - 108ms/step\n",
            "Epoch 493/500\n",
            "35/35 - 2s - loss: 0.0022 - mae: 0.0249 - mse: 0.0066 - val_loss: 0.0120 - val_mae: 0.0349 - val_mse: 0.0410 - 2s/epoch - 59ms/step\n",
            "Epoch 494/500\n",
            "35/35 - 2s - loss: 0.0022 - mae: 0.0249 - mse: 0.0066 - val_loss: 0.0120 - val_mae: 0.0349 - val_mse: 0.0410 - 2s/epoch - 51ms/step\n",
            "Epoch 495/500\n",
            "35/35 - 2s - loss: 0.0022 - mae: 0.0249 - mse: 0.0066 - val_loss: 0.0120 - val_mae: 0.0349 - val_mse: 0.0410 - 2s/epoch - 54ms/step\n",
            "Epoch 496/500\n",
            "35/35 - 2s - loss: 0.0022 - mae: 0.0249 - mse: 0.0066 - val_loss: 0.0120 - val_mae: 0.0349 - val_mse: 0.0410 - 2s/epoch - 52ms/step\n",
            "Epoch 497/500\n",
            "35/35 - 2s - loss: 0.0022 - mae: 0.0249 - mse: 0.0066 - val_loss: 0.0120 - val_mae: 0.0349 - val_mse: 0.0410 - 2s/epoch - 52ms/step\n",
            "Epoch 498/500\n",
            "35/35 - 3s - loss: 0.0022 - mae: 0.0249 - mse: 0.0066 - val_loss: 0.0120 - val_mae: 0.0349 - val_mse: 0.0410 - 3s/epoch - 94ms/step\n",
            "Epoch 499/500\n",
            "35/35 - 3s - loss: 0.0022 - mae: 0.0248 - mse: 0.0066 - val_loss: 0.0120 - val_mae: 0.0348 - val_mse: 0.0410 - 3s/epoch - 73ms/step\n",
            "Epoch 500/500\n",
            "35/35 - 2s - loss: 0.0022 - mae: 0.0248 - mse: 0.0066 - val_loss: 0.0120 - val_mae: 0.0348 - val_mse: 0.0410 - 2s/epoch - 52ms/step\n"
          ]
        }
      ]
    },
    {
      "cell_type": "markdown",
      "source": [
        "## Visualize the model"
      ],
      "metadata": {
        "id": "tWB20oNRN0ky"
      }
    },
    {
      "cell_type": "code",
      "execution_count": 56,
      "metadata": {
        "id": "MD2kyYUVt3O0",
        "colab": {
          "base_uri": "https://localhost:8080/",
          "height": 1000
        },
        "outputId": "1d856f5a-1b43-40e2-fc8f-d4e1f4a5f3f3"
      },
      "outputs": [
        {
          "output_type": "display_data",
          "data": {
            "text/plain": [
              "<Figure size 1000x600 with 1 Axes>"
            ],
            "image/png": "[encoded data removed]"
          },
          "metadata": {}
        },
        {
          "output_type": "display_data",
          "data": {
            "text/plain": [
              "<Figure size 1000x600 with 1 Axes>"
            ],
            "image/png": "[encoded data removed]"
          },
          "metadata": {}
        }
      ],
      "source": [
        "# Get mae and loss from history log\n",
        "mae=history.history['mae']\n",
        "loss=history.history['loss']\n",
        "\n",
        "# Get number of epochs\n",
        "epochs=range(len(loss))\n",
        "\n",
        "\n",
        "# Plot mae and loss\n",
        "plot_series(\n",
        "    x=epochs,\n",
        "    y=(mae, loss),\n",
        "    title='MAE and Loss',\n",
        "    xlabel='MAE',\n",
        "    ylabel='Loss',\n",
        "    legend=['MAE', 'Loss']\n",
        "    )\n",
        "\n",
        "# print(int(epochs[-1]*0.2))\n",
        "# Only plot the last 80% of the epochs\n",
        "zoom_split = int(epochs[-1] * 0.2)\n",
        "epochs_zoom = epochs[zoom_split:]\n",
        "mae_zoom = mae[zoom_split:]\n",
        "loss_zoom = loss[zoom_split:]\n",
        "\n",
        "# Plot zoomed mae and loss\n",
        "plot_series(\n",
        "    x=epochs_zoom,\n",
        "    y=(mae_zoom, loss_zoom),\n",
        "    title='MAE and Loss',\n",
        "    xlabel='MAE',\n",
        "    ylabel='Loss',\n",
        "    legend=['MAE', 'Loss']\n",
        "    )"
      ]
    },
    {
      "cell_type": "markdown",
      "metadata": {
        "collapsed": false,
        "id": "tX6K30XEciYW"
      },
      "source": [
        "# Forcasting"
      ]
    },
    {
      "cell_type": "code",
      "execution_count": 57,
      "metadata": {
        "pycharm": {
          "name": "#%%\n"
        },
        "id": "TmwYog9BciYW"
      },
      "outputs": [],
      "source": [
        "def model_forecast(model, series, window_size, batch_size):\n",
        "\n",
        "    # Generate a TF Dataset from the series values\n",
        "    ds = tf.data.Dataset.from_tensor_slices(series)\n",
        "\n",
        "    # Window the data but only take those with the specified size\n",
        "    ds = ds.window(window_size, shift=1, drop_remainder=True)\n",
        "\n",
        "    # Flatten the windows by putting its elements in a single batch\n",
        "    ds = ds.flat_map(lambda w: w.batch(window_size))\n",
        "\n",
        "    # Create batches of windows\n",
        "    ds = ds.batch(batch_size).prefetch(1)\n",
        "\n",
        "    # Get predictions on the entire dataset\n",
        "    forecast = model.predict(ds)\n",
        "\n",
        "    return forecast"
      ]
    },
    {
      "cell_type": "code",
      "execution_count": 58,
      "metadata": {
        "pycharm": {
          "name": "#%%\n"
        },
        "colab": {
          "base_uri": "https://localhost:8080/"
        },
        "id": "h1lN8L7KciYW",
        "outputId": "fa896d3f-59c8-422d-ebcd-42f83d312ab8"
      },
      "outputs": [
        {
          "output_type": "stream",
          "name": "stdout",
          "text": [
            "35/35 [==============================] - 3s 18ms/step\n",
            "Output shape: (7, 8)\n",
            "First prediction: \n",
            " [[-0.4071157  -0.41958058  2.7386804  -0.361528   -0.40809157 -0.40695283\n",
            "  -0.32899168 -0.29696998]\n",
            " [-0.40695167 -0.41694748  2.727849   -0.35836852 -0.40724322 -0.40563685\n",
            "  -0.32585555 -0.29588565]\n",
            " [-0.4064793  -0.41913515  2.7173567  -0.35564297 -0.40669444 -0.40466517\n",
            "  -0.32466602 -0.28581664]\n",
            " [-0.40069476 -0.41557178  2.7128313  -0.35261175 -0.40167752 -0.4080875\n",
            "  -0.32590657 -0.2860824 ]\n",
            " [-0.40301982 -0.41856098  2.702012   -0.34879392 -0.39832085 -0.40388474\n",
            "  -0.31479824 -0.28345108]\n",
            " [-0.4050302  -0.41787276  2.6856883  -0.35017762 -0.39785388 -0.40533328\n",
            "  -0.32643718 -0.28241423]\n",
            " [-0.40246445 -0.4181832   2.6827369  -0.3503397  -0.39627185 -0.40928194\n",
            "  -0.33043224 -0.27397272]]\n"
          ]
        }
      ],
      "source": [
        "# First Prediction\n",
        "forecast = model_forecast(model, data, N_PAST, BATCH_SIZE)\n",
        "print('Output shape:', forecast[0].shape)\n",
        "print('First prediction: \\n', forecast[0])"
      ]
    },
    {
      "cell_type": "code",
      "source": [
        "# PASS THE NORMALIZED data IN THE FOLLOWING CODE\n",
        "# forecast = model_forecast(model, data, N_PAST, BATCH_SIZE)\n",
        "forecast = forecast[SPLIT_TIME - N_PAST:-1]\n",
        "# series_val = series_val[:forecast.shape[0]]\n",
        "\n",
        "# print(forecast.shape, series_val.shape)\n",
        "\n",
        "# # Compute the MAE\n",
        "# MAE = tf.keras.metrics.MeanAbsoluteError()\n",
        "# MAE.update_state(series_val[:,:], forecast[:,:]) #Accumulate statistics for the metric.\n",
        "# MAE = MAE.result().numpy() #Compute the current metric value.\n",
        "# print('Validation MAE:', round(MAE, 4))\n",
        "\n",
        "# Plot the results\n",
        "# plot_series(np.squeeze(time_valid)[:series_val.shape[0]], (series_val, forecast))"
      ],
      "metadata": {
        "id": "HflLlhEO7ppy"
      },
      "execution_count": 73,
      "outputs": []
    },
    {
      "cell_type": "code",
      "source": [],
      "metadata": {
        "id": "S9kQJQ0kAg6v"
      },
      "execution_count": null,
      "outputs": []
    }
  ]
}