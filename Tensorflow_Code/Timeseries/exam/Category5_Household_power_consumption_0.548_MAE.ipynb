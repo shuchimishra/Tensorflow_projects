{
  "nbformat": 4,
  "nbformat_minor": 0,
  "metadata": {
    "colab": {
      "provenance": [],
      "machine_shape": "hm",
      "gpuType": "L4",
      "authorship_tag": "ABX9TyOKV0FbyM7nTBduXSRfnq1l",
      "include_colab_link": true
    },
    "kernelspec": {
      "name": "python3",
      "display_name": "Python 3"
    },
    "language_info": {
      "name": "python"
    },
    "accelerator": "GPU"
  },
  "cells": [
    {
      "cell_type": "markdown",
      "metadata": {
        "id": "view-in-github",
        "colab_type": "text"
      },
      "source": [
        "<a href=\"https://colab.research.google.com/github/shuchimishra/Tensorflow_projects/blob/main/Tensorflow_Code/Timeseries/exam/Category5_Household_power_consumption_0.548_MAE.ipynb\" target=\"_parent\"><img src=\"https://colab.research.google.com/assets/colab-badge.svg\" alt=\"Open In Colab\"/></a>"
      ]
    },
    {
      "cell_type": "code",
      "source": [
        "# release\n",
        "# ==============================================================================\n",
        "# There are 5 questions in this exam with increasing difficulty from 1-5.\n",
        "# Please note that the weight of the grade for the question is relative to its\n",
        "# difficulty. So your Category 1 question will score significantly less than\n",
        "# your Category 5 question.\n",
        "#\n",
        "# WARNING: Do not use lambda layers in your model, they are not supported\n",
        "# on the grading infrastructure. You do not need them to solve the question.\n",
        "#\n",
        "# WARNING: If you are using the GRU layer, it is advised not to use the\n",
        "# recurrent_dropout argument (you can alternatively set it to 0),\n",
        "# since it has not been implemented in the cuDNN kernel and may\n",
        "# result in much longer training times.\n",
        "#\n",
        "# WARNING: Input and output shape requirements are laid down in the section\n",
        "# 'INSTRUCTIONS' below and also reiterated in code comments.\n",
        "# Please read them thoroughly. After submitting the trained model for scoring,\n",
        "# if you are receiving a score of 0 or an error, please recheck the input and\n",
        "# output shapes of the model to see if it exactly matches our requirements.\n",
        "# Grading infrastrcuture is very strict about the shape requirements. Most common\n",
        "# issues occur when the shapes are not matching our expectations.\n",
        "#\n",
        "# TIP: You can print the output of model.summary() to review the model\n",
        "# architecture, input and output shapes of each layer.\n",
        "# If you have made sure that you have matched the shape requirements\n",
        "# and all the other instructions we have laid down, and still\n",
        "# receive a bad score, you must work on improving your model.\n",
        "#\n",
        "# You must use the Submit and Test button to submit your model\n",
        "# at least once in this category before you finally submit your exam,\n",
        "# otherwise you will score zero for this category."
      ],
      "metadata": {
        "id": "1bS399UPnCwG"
      },
      "execution_count": 1,
      "outputs": []
    },
    {
      "cell_type": "code",
      "source": [
        "# ==============================================================================\n",
        "#\n",
        "# TIME SERIES QUESTION\n",
        "#\n",
        "# Build and train a neural network to predict time indexed variables of\n",
        "# the multivariate house hold electric power consumption time series dataset.\n",
        "# Using a window of past 24 observations of the 7 variables, the model\n",
        "# should be trained to predict the next 24 observations of the 7 variables.\n",
        "#\n",
        "# ==============================================================================\n",
        "#\n",
        "# ABOUT THE DATASET\n",
        "#\n",
        "# Original Source:\n",
        "# https://archive.ics.uci.edu/ml/datasets/individual+household+electric+power+consumption\n",
        "#\n",
        "# The original Individual House Hold Electric Power Consumption Dataset\n",
        "# has Measurements of electric power consumption in one household with\n",
        "# a one-minute sampling rate over a period of almost 4 years.\n",
        "#\n",
        "# Different electrical quantities and some sub-metering values are available.\n",
        "#\n",
        "# For the purpose of the examination we have provided a subset containing\n",
        "# the data for the first 60 days in the dataset. We have also cleaned the\n",
        "# dataset beforehand to remove missing values. The dataset is provided as a\n",
        "# CSV file in the project.\n",
        "#\n",
        "# The dataset has a total of 7 features ordered by time.\n",
        "# =============================================================================="
      ],
      "metadata": {
        "id": "zZNQ_dvfnyyo"
      },
      "execution_count": 2,
      "outputs": []
    },
    {
      "cell_type": "code",
      "source": [
        "#\n",
        "# INSTRUCTIONS\n",
        "#\n",
        "# Complete the code in following functions:\n",
        "# 1. solution_model()\n",
        "#\n",
        "# You may receive a score of 0 or your code will fail to be graded if the\n",
        "# following criteria are not met:\n",
        "#\n",
        "# 1. Model input shape must be (BATCH_SIZE, N_PAST = 24, N_FEATURES = 7),\n",
        "#    since the testing infrastructure expects a window of past N_PAST = 24\n",
        "#    observations of the 7 features to predict the next N_FUTURE = 24\n",
        "#    observations of the same features.\n",
        "#\n",
        "# 2. Model output shape must be (BATCH_SIZE, N_FUTURE = 24, N_FEATURES = 7)\n",
        "#\n",
        "# 3. The last layer of your model must be a Dense layer with 7 neurons since\n",
        "#    the model is expected to predict observations of 7 features.\n",
        "#\n",
        "# 4. Don't change the values of the following constants:\n",
        "#    SPLIT_TIME, N_FEATURES, BATCH_SIZE, N_PAST, N_FUTURE, SHIFT, in\n",
        "#    solution_model() (See code for additional note on BATCH_SIZE).\n",
        "#\n",
        "# 5. Code for normalizing the data is provided - don't change it.\n",
        "#    Changing the normalizing code will affect your score.\n",
        "#\n",
        "# 6. Code for converting the dataset into windows is provided - don't change it.\n",
        "#    Changing the windowing code will affect your score.\n",
        "#\n",
        "# 7. Code for setting the seed is provided - don't change it.\n",
        "#\n",
        "# Make sure that the model architecture and input, output shapes match our\n",
        "# requirements by printing model.summary() and reviewing its output.\n",
        "#"
      ],
      "metadata": {
        "id": "6qwooUC8neIo"
      },
      "execution_count": 3,
      "outputs": []
    },
    {
      "cell_type": "code",
      "source": [
        "# HINT: If you follow all the rules mentioned above and throughout this\n",
        "# question while training your neural network, there is a possibility that a\n",
        "# validation MAE of approximately 0.055 or less on the normalized validation\n",
        "# dataset may fetch you top marks."
      ],
      "metadata": {
        "id": "glBnyB58nvXG"
      },
      "execution_count": 4,
      "outputs": []
    },
    {
      "cell_type": "code",
      "source": [
        "import urllib\n",
        "import zipfile\n",
        "\n",
        "import pandas as pd\n",
        "import tensorflow as tf\n",
        "import matplotlib.pyplot as plt\n",
        "from tensorflow import keras\n",
        "import numpy as np"
      ],
      "metadata": {
        "id": "wIARLREen7IR"
      },
      "execution_count": 5,
      "outputs": []
    },
    {
      "cell_type": "code",
      "source": [
        "# This function downloads and extracts the dataset to the directory that\n",
        "# contains this file.\n",
        "# DO NOT CHANGE THIS CODE\n",
        "# (unless you need to change https to http)\n",
        "def download_and_extract_data():\n",
        "    url = 'https://storage.googleapis.com/download.tensorflow.org/data/certificate/household_power.zip'\n",
        "    urllib.request.urlretrieve(url, 'household_power.zip')\n",
        "    with zipfile.ZipFile('household_power.zip', 'r') as zip_ref:\n",
        "        zip_ref.extractall()"
      ],
      "metadata": {
        "id": "xeokgy0kn_4f"
      },
      "execution_count": 6,
      "outputs": []
    },
    {
      "cell_type": "code",
      "source": [
        "# This function normalizes the dataset using min max scaling.\n",
        "# DO NOT CHANGE THIS CODE\n",
        "def normalize_series(data, min, max):\n",
        "    data = data - min\n",
        "    data = data / max\n",
        "    return data"
      ],
      "metadata": {
        "id": "ANu-7H-loB5a"
      },
      "execution_count": 7,
      "outputs": []
    },
    {
      "cell_type": "code",
      "source": [
        "# This function is used to map the time series dataset into windows of\n",
        "# features and respective targets, to prepare it for training and\n",
        "# validation. First element of the first window will be the first element of\n",
        "# the dataset. Consecutive windows are constructed by shifting\n",
        "# the starting position of the first window forward, one at a time (indicated\n",
        "# by shift=1). For a window of n_past number of observations of all the time\n",
        "# indexed variables in the dataset, the target for the window\n",
        "# is the next n_future number of observations of these variables, after the\n",
        "# end of the window.\n",
        "\n",
        "# DO NOT CHANGE THIS CODE\n",
        "def windowed_dataset(series, batch_size, n_past=24, n_future=24, shift=1):\n",
        "    ds = tf.data.Dataset.from_tensor_slices(series)\n",
        "    ds = ds.window(size=n_past + n_future, shift=shift, drop_remainder=True)\n",
        "    ds = ds.flat_map(lambda w: w.batch(n_past + n_future))\n",
        "    ds = ds.map(lambda w: (w[:n_past], w[n_past:]))\n",
        "    return ds.batch(batch_size).prefetch(1)"
      ],
      "metadata": {
        "id": "GS9MywEJoE9i"
      },
      "execution_count": 8,
      "outputs": []
    },
    {
      "cell_type": "code",
      "source": [
        "# THIS CODE IS USED IN THE TESTER FOR FORECASTING. IF YOU WANT TO TEST YOUR MODEL\n",
        "# BEFORE UPLOADING YOU CAN DO IT WITH THIS\n",
        "def mae(y_true, y_pred):\n",
        "   return np.mean(abs(y_true.ravel() - y_pred.ravel()))\n",
        "\n",
        "\n",
        "def model_forecast(model, series, window_size, batch_size):\n",
        "   ds = tf.data.Dataset.from_tensor_slices(series)\n",
        "   ds = ds.window(window_size, shift=1, drop_remainder=True)\n",
        "   ds = ds.flat_map(lambda w: w.batch(window_size))\n",
        "   ds = ds.batch(batch_size, drop_remainder=True).prefetch(1)\n",
        "   forecast = model.predict(ds)\n",
        "   return forecast"
      ],
      "metadata": {
        "id": "kE-XWZBY4zu8"
      },
      "execution_count": 9,
      "outputs": []
    },
    {
      "cell_type": "code",
      "source": [
        "class MyCallback(tf.keras.callbacks.Callback):\n",
        "  def on_epoch_end(self, epochs, logs={}):\n",
        "    if logs['val_mae'] < 0.0535:\n",
        "      print(\"Stopping training since val loss is less than 0.0535\")\n",
        "      self.model.stop_training = True"
      ],
      "metadata": {
        "id": "4KYBzSdu6I9a"
      },
      "execution_count": 10,
      "outputs": []
    },
    {
      "cell_type": "code",
      "source": [
        "# This function loads the data from CSV file, normalizes the data and\n",
        "# splits the dataset into train and validation data. It also uses\n",
        "# windowed_dataset() to split the data into windows of observations and\n",
        "# targets. Finally it defines, compiles and trains a neural network. This\n",
        "# function returns the final trained model.\n",
        "\n",
        "# COMPLETE THE CODE IN THIS FUNCTION\n",
        "def solution_model():\n",
        "    # Downloads and extracts the dataset to the directory that\n",
        "    # contains this file.\n",
        "    download_and_extract_data()\n",
        "    # Reads the dataset from the CSV.\n",
        "    df = pd.read_csv('household_power_consumption.csv', sep=',',infer_datetime_format=True, index_col='datetime', header=0)\n",
        "\n",
        "    # Number of features in the dataset. We use all features as predictors to\n",
        "    # predict all features at future time steps.\n",
        "    N_FEATURES = len(df.columns) # DO NOT CHANGE THIS\n",
        "\n",
        "    # Normalizes the data\n",
        "    data = df.values\n",
        "    data = normalize_series(data, data.min(axis=0), data.max(axis=0))\n",
        "\n",
        "    # Splits the data into training and validation sets.\n",
        "    SPLIT_TIME = int(len(data) * 0.5) # DO NOT CHANGE THIS\n",
        "    x_train = data[:SPLIT_TIME]\n",
        "    x_valid = data[SPLIT_TIME:]\n",
        "\n",
        "    # DO NOT CHANGE THIS CODE\n",
        "    tf.keras.backend.clear_session()\n",
        "    tf.random.set_seed(42)\n",
        "\n",
        "    # DO NOT CHANGE BATCH_SIZE IF YOU ARE USING STATEFUL LSTM/RNN/GRU.\n",
        "    # THE TEST WILL FAIL TO GRADE YOUR SCORE IN SUCH CASES.\n",
        "    # In other cases, it is advised not to change the batch size since it\n",
        "    # might affect your final scores. While setting it to a lower size\n",
        "    # might not do any harm, higher sizes might affect your scores.\n",
        "    BATCH_SIZE = 32  # ADVISED NOT TO CHANGE THIS\n",
        "\n",
        "    # DO NOT CHANGE N_PAST, N_FUTURE, SHIFT. The tests will fail to run\n",
        "    # on the server.\n",
        "    # Number of past time steps based on which future observations should be\n",
        "    # predicted\n",
        "    N_PAST = 24  # DO NOT CHANGE THIS\n",
        "\n",
        "    # Number of future time steps which are to be predicted.\n",
        "    N_FUTURE = 24  # DO NOT CHANGE THIS\n",
        "\n",
        "    # By how many positions the window slides to create a new window\n",
        "    # of observations.\n",
        "    SHIFT = 1  # DO NOT CHANGE THIS\n",
        "\n",
        "    # Code to create windowed train and validation datasets.\n",
        "    train_set = windowed_dataset(series=x_train, batch_size=BATCH_SIZE,\n",
        "                                 n_past=N_PAST, n_future=N_FUTURE,\n",
        "                                 shift=SHIFT)\n",
        "    valid_set = windowed_dataset(series=x_valid, batch_size=BATCH_SIZE,\n",
        "                                 n_past=N_PAST, n_future=N_FUTURE,\n",
        "                                 shift=SHIFT)\n",
        "\n",
        "    # Code to define your model.\n",
        "    model = tf.keras.models.Sequential([\n",
        "\n",
        "        # ADD YOUR LAYERS HERE.\n",
        "\n",
        "        # If you don't follow the instructions in the following comments,\n",
        "        # tests will fail to grade your code:\n",
        "        # The input layer of your model must have an input shape of:\n",
        "        # (BATCH_SIZE, N_PAST = 24, N_FEATURES = 7)\n",
        "        # The model must have an output shape of:\n",
        "        # (BATCH_SIZE, N_FUTURE = 24, N_FEATURES = 7).\n",
        "        # Make sure that there are N_FEATURES = 7 neurons in the final dense\n",
        "        # layer since the model predicts 7 features.\n",
        "\n",
        "        # HINT: Bidirectional LSTMs may help boost your score. This is only a\n",
        "        # suggestion.\n",
        "\n",
        "        # WARNING: After submitting the trained model for scoring, if you are\n",
        "        # receiving a score of 0 or an error, please recheck the input and\n",
        "        # output shapes of the model to see if it exactly matches our requirements.\n",
        "        # The grading infrastructure is very strict about the shape requirements.\n",
        "        # Most common issues occur when the shapes are not matching our\n",
        "        # expectations.\n",
        "        #\n",
        "        # TIP: You can print the output of model.summary() to review the model\n",
        "        # architecture, input and output shapes of each layer.\n",
        "        # If you have made sure that you have matched the shape requirements\n",
        "        # and all the other instructions we have laid down, and still\n",
        "        # receive a bad score, you must work on improving your model.\n",
        "\n",
        "        # WARNING: If you are using the GRU layer, it is advised not to use the\n",
        "        # recurrent_dropout argument (you can alternatively set it to 0),\n",
        "        # since it has not been implemented in the cuDNN kernel and may\n",
        "        # result in much longer training times.\n",
        "\n",
        "        tf.keras.layers.Conv1D(filters=128, kernel_size=5, strides=1, padding=\"causal\", activation=\"relu\", input_shape=[N_PAST, N_FEATURES]),\n",
        "\n",
        "        tf.keras.layers.LSTM(128, return_sequences=True), #, input_shape=(N_PAST, N_FEATURES)\n",
        "        tf.keras.layers.LSTM(128, return_sequences=True), #this is important to have output shape of batch_size, N_FUTURE, N_FEATURES\n",
        "        # tf.keras.layers.LSTM(32, return_sequences=True),\n",
        "\n",
        "        tf.keras.layers.Dropout(0.3),\n",
        "\n",
        "        tf.keras.layers.Dense(64),\n",
        "        # tf.keras.layers.Dropout(0.2),\n",
        "        tf.keras.layers.Dense(N_FEATURES)\n",
        "        ])\n",
        "\n",
        "    model.summary()\n",
        "\n",
        "    # Initialize learning rate\n",
        "    lr = 1e-3\n",
        "\n",
        "    # Initialize the optimizer\n",
        "    optimizer=tf.keras.optimizers.Adam(learning_rate=lr,clipnorm=1) #clipnorm to avoid nan (exploding gradient problem)\n",
        "\n",
        "    # Set the training parameters\n",
        "    model.compile(loss=keras.losses.mean_absolute_error, optimizer=optimizer, metrics=['mae'])\n",
        "\n",
        "    #callback\n",
        "    callback = MyCallback()\n",
        "    RLP = tf.keras.callbacks.ReduceLROnPlateau(monitor=\"val_mae\",patience=3, verbose=1,mode=\"auto\")\n",
        "    ES = tf.keras.callbacks.EarlyStopping(monitor=\"val_mae\",patience=5, verbose=1, mode=\"auto\", start_from_epoch=10)\n",
        "\n",
        "    # Train the model\n",
        "    history = model.fit(train_set, epochs=500, validation_data=valid_set, verbose = 2, callbacks=[ES,RLP]) #batch_size=32,\n",
        "\n",
        "\n",
        "    # PASS THE NORMALIZED data IN THE FOLLOWING CODE\n",
        "    rnn_forecast = model_forecast(model, data, N_PAST, BATCH_SIZE)\n",
        "    rnn_forecast = rnn_forecast[SPLIT_TIME - N_PAST:-1, 0, :]\n",
        "    x_valid = x_valid[:rnn_forecast.shape[0]]\n",
        "    result = mae(x_valid, rnn_forecast)\n",
        "    print(\"Result is :\", result) #0.05489\n",
        "\n",
        "    return model\n",
        "\n",
        "# Note that you'll need to save your model as a .h5 like this.\n",
        "# When you press the Submit and Test button, your saved .h5 model will\n",
        "# be sent to the testing infrastructure for scoring\n",
        "# and the score will be returned to you.\n",
        "\n",
        "if __name__ == '__main__':\n",
        "    model = solution_model()\n",
        "    model.save(\"mymodel.h5\")"
      ],
      "metadata": {
        "id": "_TDyuNt2oNS5",
        "colab": {
          "base_uri": "https://localhost:8080/"
        },
        "outputId": "37d8ce90-5e70-43ff-d796-eb3a5ae6cc98"
      },
      "execution_count": 11,
      "outputs": [
        {
          "output_type": "stream",
          "name": "stderr",
          "text": [
            "<ipython-input-11-a8cd97a70ef4>:13: FutureWarning: The argument 'infer_datetime_format' is deprecated and will be removed in a future version. A strict version of it is now the default, see https://pandas.pydata.org/pdeps/0004-consistent-to-datetime-parsing.html. You can safely remove this argument.\n",
            "  df = pd.read_csv('household_power_consumption.csv', sep=',',infer_datetime_format=True, index_col='datetime', header=0)\n"
          ]
        },
        {
          "output_type": "stream",
          "name": "stdout",
          "text": [
            "Model: \"sequential\"\n",
            "_________________________________________________________________\n",
            " Layer (type)                Output Shape              Param #   \n",
            "=================================================================\n",
            " conv1d (Conv1D)             (None, 24, 128)           4608      \n",
            "                                                                 \n",
            " lstm (LSTM)                 (None, 24, 128)           131584    \n",
            "                                                                 \n",
            " lstm_1 (LSTM)               (None, 24, 128)           131584    \n",
            "                                                                 \n",
            " dropout (Dropout)           (None, 24, 128)           0         \n",
            "                                                                 \n",
            " dense (Dense)               (None, 24, 64)            8256      \n",
            "                                                                 \n",
            " dense_1 (Dense)             (None, 24, 7)             455       \n",
            "                                                                 \n",
            "=================================================================\n",
            "Total params: 276487 (1.05 MB)\n",
            "Trainable params: 276487 (1.05 MB)\n",
            "Non-trainable params: 0 (0.00 Byte)\n",
            "_________________________________________________________________\n",
            "Epoch 1/500\n",
            "1349/1349 - 23s - loss: 0.0811 - mae: 0.0811 - val_loss: 0.0682 - val_mae: 0.0682 - lr: 0.0010 - 23s/epoch - 17ms/step\n",
            "Epoch 2/500\n",
            "1349/1349 - 14s - loss: 0.0692 - mae: 0.0692 - val_loss: 0.0643 - val_mae: 0.0643 - lr: 0.0010 - 14s/epoch - 11ms/step\n",
            "Epoch 3/500\n",
            "1349/1349 - 14s - loss: 0.0665 - mae: 0.0665 - val_loss: 0.0647 - val_mae: 0.0647 - lr: 0.0010 - 14s/epoch - 11ms/step\n",
            "Epoch 4/500\n",
            "1349/1349 - 14s - loss: 0.0643 - mae: 0.0643 - val_loss: 0.0661 - val_mae: 0.0661 - lr: 0.0010 - 14s/epoch - 11ms/step\n",
            "Epoch 5/500\n",
            "1349/1349 - 14s - loss: 0.0631 - mae: 0.0631 - val_loss: 0.0633 - val_mae: 0.0633 - lr: 0.0010 - 14s/epoch - 11ms/step\n",
            "Epoch 6/500\n",
            "1349/1349 - 14s - loss: 0.0622 - mae: 0.0622 - val_loss: 0.0624 - val_mae: 0.0624 - lr: 0.0010 - 14s/epoch - 11ms/step\n",
            "Epoch 7/500\n",
            "1349/1349 - 14s - loss: 0.0615 - mae: 0.0615 - val_loss: 0.0612 - val_mae: 0.0612 - lr: 0.0010 - 14s/epoch - 11ms/step\n",
            "Epoch 8/500\n",
            "1349/1349 - 14s - loss: 0.0611 - mae: 0.0611 - val_loss: 0.0615 - val_mae: 0.0615 - lr: 0.0010 - 14s/epoch - 11ms/step\n",
            "Epoch 9/500\n",
            "1349/1349 - 14s - loss: 0.0607 - mae: 0.0607 - val_loss: 0.0600 - val_mae: 0.0600 - lr: 0.0010 - 14s/epoch - 10ms/step\n",
            "Epoch 10/500\n",
            "1349/1349 - 14s - loss: 0.0603 - mae: 0.0603 - val_loss: 0.0596 - val_mae: 0.0596 - lr: 0.0010 - 14s/epoch - 10ms/step\n",
            "Epoch 11/500\n",
            "1349/1349 - 14s - loss: 0.0602 - mae: 0.0602 - val_loss: 0.0600 - val_mae: 0.0600 - lr: 0.0010 - 14s/epoch - 11ms/step\n",
            "Epoch 12/500\n",
            "1349/1349 - 14s - loss: 0.0599 - mae: 0.0599 - val_loss: 0.0603 - val_mae: 0.0603 - lr: 0.0010 - 14s/epoch - 10ms/step\n",
            "Epoch 13/500\n",
            "\n",
            "Epoch 13: ReduceLROnPlateau reducing learning rate to 0.00010000000474974513.\n",
            "1349/1349 - 14s - loss: 0.0599 - mae: 0.0599 - val_loss: 0.0601 - val_mae: 0.0601 - lr: 0.0010 - 14s/epoch - 11ms/step\n",
            "Epoch 14/500\n",
            "1349/1349 - 14s - loss: 0.0568 - mae: 0.0568 - val_loss: 0.0554 - val_mae: 0.0554 - lr: 1.0000e-04 - 14s/epoch - 10ms/step\n",
            "Epoch 15/500\n",
            "1349/1349 - 14s - loss: 0.0563 - mae: 0.0563 - val_loss: 0.0554 - val_mae: 0.0554 - lr: 1.0000e-04 - 14s/epoch - 10ms/step\n",
            "Epoch 16/500\n",
            "1349/1349 - 14s - loss: 0.0562 - mae: 0.0562 - val_loss: 0.0552 - val_mae: 0.0552 - lr: 1.0000e-04 - 14s/epoch - 10ms/step\n",
            "Epoch 17/500\n",
            "1349/1349 - 14s - loss: 0.0561 - mae: 0.0561 - val_loss: 0.0552 - val_mae: 0.0552 - lr: 1.0000e-04 - 14s/epoch - 10ms/step\n",
            "Epoch 18/500\n",
            "1349/1349 - 14s - loss: 0.0561 - mae: 0.0561 - val_loss: 0.0551 - val_mae: 0.0551 - lr: 1.0000e-04 - 14s/epoch - 10ms/step\n",
            "Epoch 19/500\n",
            "\n",
            "Epoch 19: ReduceLROnPlateau reducing learning rate to 1.0000000474974514e-05.\n",
            "1349/1349 - 14s - loss: 0.0561 - mae: 0.0561 - val_loss: 0.0552 - val_mae: 0.0552 - lr: 1.0000e-04 - 14s/epoch - 11ms/step\n",
            "Epoch 20/500\n",
            "1349/1349 - 14s - loss: 0.0560 - mae: 0.0560 - val_loss: 0.0550 - val_mae: 0.0550 - lr: 1.0000e-05 - 14s/epoch - 10ms/step\n",
            "Epoch 21/500\n",
            "1349/1349 - 14s - loss: 0.0559 - mae: 0.0559 - val_loss: 0.0549 - val_mae: 0.0549 - lr: 1.0000e-05 - 14s/epoch - 10ms/step\n",
            "Epoch 22/500\n",
            "1349/1349 - 14s - loss: 0.0559 - mae: 0.0559 - val_loss: 0.0549 - val_mae: 0.0549 - lr: 1.0000e-05 - 14s/epoch - 10ms/step\n",
            "Epoch 23/500\n",
            "1349/1349 - 14s - loss: 0.0559 - mae: 0.0559 - val_loss: 0.0548 - val_mae: 0.0548 - lr: 1.0000e-05 - 14s/epoch - 10ms/step\n",
            "Epoch 24/500\n",
            "1349/1349 - 14s - loss: 0.0559 - mae: 0.0559 - val_loss: 0.0548 - val_mae: 0.0548 - lr: 1.0000e-05 - 14s/epoch - 10ms/step\n",
            "Epoch 25/500\n",
            "\n",
            "Epoch 25: ReduceLROnPlateau reducing learning rate to 1.0000000656873453e-06.\n",
            "1349/1349 - 14s - loss: 0.0559 - mae: 0.0559 - val_loss: 0.0548 - val_mae: 0.0548 - lr: 1.0000e-05 - 14s/epoch - 10ms/step\n",
            "Epoch 26/500\n",
            "1349/1349 - 14s - loss: 0.0558 - mae: 0.0558 - val_loss: 0.0547 - val_mae: 0.0547 - lr: 1.0000e-06 - 14s/epoch - 10ms/step\n",
            "Epoch 27/500\n",
            "1349/1349 - 14s - loss: 0.0558 - mae: 0.0558 - val_loss: 0.0547 - val_mae: 0.0547 - lr: 1.0000e-06 - 14s/epoch - 10ms/step\n",
            "Epoch 28/500\n",
            "1349/1349 - 14s - loss: 0.0558 - mae: 0.0558 - val_loss: 0.0547 - val_mae: 0.0547 - lr: 1.0000e-06 - 14s/epoch - 10ms/step\n",
            "Epoch 29/500\n",
            "\n",
            "Epoch 29: ReduceLROnPlateau reducing learning rate to 1.0000001111620805e-07.\n",
            "1349/1349 - 14s - loss: 0.0558 - mae: 0.0558 - val_loss: 0.0547 - val_mae: 0.0547 - lr: 1.0000e-06 - 14s/epoch - 10ms/step\n",
            "Epoch 30/500\n",
            "1349/1349 - 14s - loss: 0.0558 - mae: 0.0558 - val_loss: 0.0547 - val_mae: 0.0547 - lr: 1.0000e-07 - 14s/epoch - 10ms/step\n",
            "Epoch 31/500\n",
            "1349/1349 - 14s - loss: 0.0558 - mae: 0.0558 - val_loss: 0.0547 - val_mae: 0.0547 - lr: 1.0000e-07 - 14s/epoch - 10ms/step\n",
            "Epoch 32/500\n",
            "\n",
            "Epoch 32: ReduceLROnPlateau reducing learning rate to 1.000000082740371e-08.\n",
            "1349/1349 - 14s - loss: 0.0558 - mae: 0.0558 - val_loss: 0.0547 - val_mae: 0.0547 - lr: 1.0000e-07 - 14s/epoch - 10ms/step\n",
            "Epoch 33/500\n",
            "1349/1349 - 14s - loss: 0.0558 - mae: 0.0558 - val_loss: 0.0547 - val_mae: 0.0547 - lr: 1.0000e-08 - 14s/epoch - 10ms/step\n",
            "Epoch 34/500\n",
            "1349/1349 - 14s - loss: 0.0558 - mae: 0.0558 - val_loss: 0.0547 - val_mae: 0.0547 - lr: 1.0000e-08 - 14s/epoch - 11ms/step\n",
            "Epoch 35/500\n",
            "\n",
            "Epoch 35: ReduceLROnPlateau reducing learning rate to 1.000000082740371e-09.\n",
            "1349/1349 - 14s - loss: 0.0558 - mae: 0.0558 - val_loss: 0.0547 - val_mae: 0.0547 - lr: 1.0000e-08 - 14s/epoch - 11ms/step\n",
            "Epoch 36/500\n",
            "1349/1349 - 15s - loss: 0.0558 - mae: 0.0558 - val_loss: 0.0547 - val_mae: 0.0547 - lr: 1.0000e-09 - 15s/epoch - 11ms/step\n",
            "Epoch 37/500\n",
            "1349/1349 - 14s - loss: 0.0558 - mae: 0.0558 - val_loss: 0.0547 - val_mae: 0.0547 - lr: 1.0000e-09 - 14s/epoch - 11ms/step\n",
            "Epoch 38/500\n",
            "\n",
            "Epoch 38: ReduceLROnPlateau reducing learning rate to 1.000000082740371e-10.\n",
            "1349/1349 - 14s - loss: 0.0558 - mae: 0.0558 - val_loss: 0.0547 - val_mae: 0.0547 - lr: 1.0000e-09 - 14s/epoch - 10ms/step\n",
            "Epoch 39/500\n",
            "1349/1349 - 14s - loss: 0.0558 - mae: 0.0558 - val_loss: 0.0547 - val_mae: 0.0547 - lr: 1.0000e-10 - 14s/epoch - 11ms/step\n",
            "Epoch 40/500\n",
            "1349/1349 - 14s - loss: 0.0558 - mae: 0.0558 - val_loss: 0.0547 - val_mae: 0.0547 - lr: 1.0000e-10 - 14s/epoch - 11ms/step\n",
            "Epoch 41/500\n",
            "\n",
            "Epoch 41: ReduceLROnPlateau reducing learning rate to 1.000000082740371e-11.\n",
            "1349/1349 - 14s - loss: 0.0558 - mae: 0.0558 - val_loss: 0.0547 - val_mae: 0.0547 - lr: 1.0000e-10 - 14s/epoch - 11ms/step\n",
            "Epoch 42/500\n",
            "1349/1349 - 14s - loss: 0.0558 - mae: 0.0558 - val_loss: 0.0547 - val_mae: 0.0547 - lr: 1.0000e-11 - 14s/epoch - 11ms/step\n",
            "Epoch 43/500\n",
            "1349/1349 - 14s - loss: 0.0558 - mae: 0.0558 - val_loss: 0.0547 - val_mae: 0.0547 - lr: 1.0000e-11 - 14s/epoch - 10ms/step\n",
            "Epoch 44/500\n",
            "\n",
            "Epoch 44: ReduceLROnPlateau reducing learning rate to 1.000000082740371e-12.\n",
            "1349/1349 - 14s - loss: 0.0558 - mae: 0.0558 - val_loss: 0.0547 - val_mae: 0.0547 - lr: 1.0000e-11 - 14s/epoch - 11ms/step\n",
            "Epoch 44: early stopping\n",
            "2699/2699 [==============================] - 9s 3ms/step\n",
            "Result is : 0.05528997106524024\n"
          ]
        },
        {
          "output_type": "stream",
          "name": "stderr",
          "text": [
            "/usr/local/lib/python3.10/dist-packages/keras/src/engine/training.py:3103: UserWarning: You are saving your model as an HDF5 file via `model.save()`. This file format is considered legacy. We recommend using instead the native Keras format, e.g. `model.save('my_model.keras')`.\n",
            "  saving_api.save_model(\n"
          ]
        }
      ]
    },
    {
      "cell_type": "code",
      "source": [
        "# download_and_extract_data()\n",
        "# # Reads the dataset from the CSV.\n",
        "# df = pd.read_csv('household_power_consumption.csv', sep=',',infer_datetime_format=True, index_col='datetime', header=0)"
      ],
      "metadata": {
        "colab": {
          "base_uri": "https://localhost:8080/"
        },
        "id": "L07aSKY9CLpB",
        "outputId": "2a9f2d37-bed5-447d-ae60-f5346dcf0447"
      },
      "execution_count": 5,
      "outputs": [
        {
          "output_type": "stream",
          "name": "stderr",
          "text": [
            "<ipython-input-5-13cc74b8af44>:3: FutureWarning: The argument 'infer_datetime_format' is deprecated and will be removed in a future version. A strict version of it is now the default, see https://pandas.pydata.org/pdeps/0004-consistent-to-datetime-parsing.html. You can safely remove this argument.\n",
            "  df = pd.read_csv('household_power_consumption.csv', sep=',',infer_datetime_format=True, index_col='datetime', header=0)\n"
          ]
        }
      ]
    },
    {
      "cell_type": "code",
      "source": [
        "# df.head()"
      ],
      "metadata": {
        "colab": {
          "base_uri": "https://localhost:8080/",
          "height": 237
        },
        "id": "OBK2te7rCdUX",
        "outputId": "06514279-7e0b-4d1f-848e-98eb9fbe0893"
      },
      "execution_count": 6,
      "outputs": [
        {
          "output_type": "execute_result",
          "data": {
            "text/plain": [
              "                     Global_active_power  Global_reactive_power  Voltage  \\\n",
              "datetime                                                                   \n",
              "2006-12-16 17:24:00                4.216                  0.418   234.84   \n",
              "2006-12-16 17:25:00                5.360                  0.436   233.63   \n",
              "2006-12-16 17:26:00                5.374                  0.498   233.29   \n",
              "2006-12-16 17:27:00                5.388                  0.502   233.74   \n",
              "2006-12-16 17:28:00                3.666                  0.528   235.68   \n",
              "\n",
              "                     Global_intensity  Sub_metering_1  Sub_metering_2  \\\n",
              "datetime                                                                \n",
              "2006-12-16 17:24:00              18.4             0.0             1.0   \n",
              "2006-12-16 17:25:00              23.0             0.0             1.0   \n",
              "2006-12-16 17:26:00              23.0             0.0             2.0   \n",
              "2006-12-16 17:27:00              23.0             0.0             1.0   \n",
              "2006-12-16 17:28:00              15.8             0.0             1.0   \n",
              "\n",
              "                     Sub_metering_3  \n",
              "datetime                             \n",
              "2006-12-16 17:24:00            17.0  \n",
              "2006-12-16 17:25:00            16.0  \n",
              "2006-12-16 17:26:00            17.0  \n",
              "2006-12-16 17:27:00            17.0  \n",
              "2006-12-16 17:28:00            17.0  "
            ],
            "text/html": [
              "\n",
              "  <div id=\"df-87284e4b-c7fc-4b85-8bef-742b389977b1\" class=\"colab-df-container\">\n",
              "    <div>\n",
              "<style scoped>\n",
              "    .dataframe tbody tr th:only-of-type {\n",
              "        vertical-align: middle;\n",
              "    }\n",
              "\n",
              "    .dataframe tbody tr th {\n",
              "        vertical-align: top;\n",
              "    }\n",
              "\n",
              "    .dataframe thead th {\n",
              "        text-align: right;\n",
              "    }\n",
              "</style>\n",
              "<table border=\"1\" class=\"dataframe\">\n",
              "  <thead>\n",
              "    <tr style=\"text-align: right;\">\n",
              "      <th></th>\n",
              "      <th>Global_active_power</th>\n",
              "      <th>Global_reactive_power</th>\n",
              "      <th>Voltage</th>\n",
              "      <th>Global_intensity</th>\n",
              "      <th>Sub_metering_1</th>\n",
              "      <th>Sub_metering_2</th>\n",
              "      <th>Sub_metering_3</th>\n",
              "    </tr>\n",
              "    <tr>\n",
              "      <th>datetime</th>\n",
              "      <th></th>\n",
              "      <th></th>\n",
              "      <th></th>\n",
              "      <th></th>\n",
              "      <th></th>\n",
              "      <th></th>\n",
              "      <th></th>\n",
              "    </tr>\n",
              "  </thead>\n",
              "  <tbody>\n",
              "    <tr>\n",
              "      <th>2006-12-16 17:24:00</th>\n",
              "      <td>4.216</td>\n",
              "      <td>0.418</td>\n",
              "      <td>234.84</td>\n",
              "      <td>18.4</td>\n",
              "      <td>0.0</td>\n",
              "      <td>1.0</td>\n",
              "      <td>17.0</td>\n",
              "    </tr>\n",
              "    <tr>\n",
              "      <th>2006-12-16 17:25:00</th>\n",
              "      <td>5.360</td>\n",
              "      <td>0.436</td>\n",
              "      <td>233.63</td>\n",
              "      <td>23.0</td>\n",
              "      <td>0.0</td>\n",
              "      <td>1.0</td>\n",
              "      <td>16.0</td>\n",
              "    </tr>\n",
              "    <tr>\n",
              "      <th>2006-12-16 17:26:00</th>\n",
              "      <td>5.374</td>\n",
              "      <td>0.498</td>\n",
              "      <td>233.29</td>\n",
              "      <td>23.0</td>\n",
              "      <td>0.0</td>\n",
              "      <td>2.0</td>\n",
              "      <td>17.0</td>\n",
              "    </tr>\n",
              "    <tr>\n",
              "      <th>2006-12-16 17:27:00</th>\n",
              "      <td>5.388</td>\n",
              "      <td>0.502</td>\n",
              "      <td>233.74</td>\n",
              "      <td>23.0</td>\n",
              "      <td>0.0</td>\n",
              "      <td>1.0</td>\n",
              "      <td>17.0</td>\n",
              "    </tr>\n",
              "    <tr>\n",
              "      <th>2006-12-16 17:28:00</th>\n",
              "      <td>3.666</td>\n",
              "      <td>0.528</td>\n",
              "      <td>235.68</td>\n",
              "      <td>15.8</td>\n",
              "      <td>0.0</td>\n",
              "      <td>1.0</td>\n",
              "      <td>17.0</td>\n",
              "    </tr>\n",
              "  </tbody>\n",
              "</table>\n",
              "</div>\n",
              "    <div class=\"colab-df-buttons\">\n",
              "\n",
              "  <div class=\"colab-df-container\">\n",
              "    <button class=\"colab-df-convert\" onclick=\"convertToInteractive('df-87284e4b-c7fc-4b85-8bef-742b389977b1')\"\n",
              "            title=\"Convert this dataframe to an interactive table.\"\n",
              "            style=\"display:none;\">\n",
              "\n",
              "  <svg xmlns=\"http://www.w3.org/2000/svg\" height=\"24px\" viewBox=\"0 -960 960 960\">\n",
              "    <path d=\"M120-120v-720h720v720H120Zm60-500h600v-160H180v160Zm220 220h160v-160H400v160Zm0 220h160v-160H400v160ZM180-400h160v-160H180v160Zm440 0h160v-160H620v160ZM180-180h160v-160H180v160Zm440 0h160v-160H620v160Z\"/>\n",
              "  </svg>\n",
              "    </button>\n",
              "\n",
              "  <style>\n",
              "    .colab-df-container {\n",
              "      display:flex;\n",
              "      gap: 12px;\n",
              "    }\n",
              "\n",
              "    .colab-df-convert {\n",
              "      background-color: #E8F0FE;\n",
              "      border: none;\n",
              "      border-radius: 50%;\n",
              "      cursor: pointer;\n",
              "      display: none;\n",
              "      fill: #1967D2;\n",
              "      height: 32px;\n",
              "      padding: 0 0 0 0;\n",
              "      width: 32px;\n",
              "    }\n",
              "\n",
              "    .colab-df-convert:hover {\n",
              "      background-color: #E2EBFA;\n",
              "      box-shadow: 0px 1px 2px rgba(60, 64, 67, 0.3), 0px 1px 3px 1px rgba(60, 64, 67, 0.15);\n",
              "      fill: #174EA6;\n",
              "    }\n",
              "\n",
              "    .colab-df-buttons div {\n",
              "      margin-bottom: 4px;\n",
              "    }\n",
              "\n",
              "    [theme=dark] .colab-df-convert {\n",
              "      background-color: #3B4455;\n",
              "      fill: #D2E3FC;\n",
              "    }\n",
              "\n",
              "    [theme=dark] .colab-df-convert:hover {\n",
              "      background-color: #434B5C;\n",
              "      box-shadow: 0px 1px 3px 1px rgba(0, 0, 0, 0.15);\n",
              "      filter: drop-shadow(0px 1px 2px rgba(0, 0, 0, 0.3));\n",
              "      fill: #FFFFFF;\n",
              "    }\n",
              "  </style>\n",
              "\n",
              "    <script>\n",
              "      const buttonEl =\n",
              "        document.querySelector('#df-87284e4b-c7fc-4b85-8bef-742b389977b1 button.colab-df-convert');\n",
              "      buttonEl.style.display =\n",
              "        google.colab.kernel.accessAllowed ? 'block' : 'none';\n",
              "\n",
              "      async function convertToInteractive(key) {\n",
              "        const element = document.querySelector('#df-87284e4b-c7fc-4b85-8bef-742b389977b1');\n",
              "        const dataTable =\n",
              "          await google.colab.kernel.invokeFunction('convertToInteractive',\n",
              "                                                    [key], {});\n",
              "        if (!dataTable) return;\n",
              "\n",
              "        const docLinkHtml = 'Like what you see? Visit the ' +\n",
              "          '<a target=\"_blank\" href=https://colab.research.google.com/notebooks/data_table.ipynb>data table notebook</a>'\n",
              "          + ' to learn more about interactive tables.';\n",
              "        element.innerHTML = '';\n",
              "        dataTable['output_type'] = 'display_data';\n",
              "        await google.colab.output.renderOutput(dataTable, element);\n",
              "        const docLink = document.createElement('div');\n",
              "        docLink.innerHTML = docLinkHtml;\n",
              "        element.appendChild(docLink);\n",
              "      }\n",
              "    </script>\n",
              "  </div>\n",
              "\n",
              "\n",
              "<div id=\"df-40cce2f3-12f8-46d5-a83e-bce9a6cc520c\">\n",
              "  <button class=\"colab-df-quickchart\" onclick=\"quickchart('df-40cce2f3-12f8-46d5-a83e-bce9a6cc520c')\"\n",
              "            title=\"Suggest charts\"\n",
              "            style=\"display:none;\">\n",
              "\n",
              "<svg xmlns=\"http://www.w3.org/2000/svg\" height=\"24px\"viewBox=\"0 0 24 24\"\n",
              "     width=\"24px\">\n",
              "    <g>\n",
              "        <path d=\"M19 3H5c-1.1 0-2 .9-2 2v14c0 1.1.9 2 2 2h14c1.1 0 2-.9 2-2V5c0-1.1-.9-2-2-2zM9 17H7v-7h2v7zm4 0h-2V7h2v10zm4 0h-2v-4h2v4z\"/>\n",
              "    </g>\n",
              "</svg>\n",
              "  </button>\n",
              "\n",
              "<style>\n",
              "  .colab-df-quickchart {\n",
              "      --bg-color: #E8F0FE;\n",
              "      --fill-color: #1967D2;\n",
              "      --hover-bg-color: #E2EBFA;\n",
              "      --hover-fill-color: #174EA6;\n",
              "      --disabled-fill-color: #AAA;\n",
              "      --disabled-bg-color: #DDD;\n",
              "  }\n",
              "\n",
              "  [theme=dark] .colab-df-quickchart {\n",
              "      --bg-color: #3B4455;\n",
              "      --fill-color: #D2E3FC;\n",
              "      --hover-bg-color: #434B5C;\n",
              "      --hover-fill-color: #FFFFFF;\n",
              "      --disabled-bg-color: #3B4455;\n",
              "      --disabled-fill-color: #666;\n",
              "  }\n",
              "\n",
              "  .colab-df-quickchart {\n",
              "    background-color: var(--bg-color);\n",
              "    border: none;\n",
              "    border-radius: 50%;\n",
              "    cursor: pointer;\n",
              "    display: none;\n",
              "    fill: var(--fill-color);\n",
              "    height: 32px;\n",
              "    padding: 0;\n",
              "    width: 32px;\n",
              "  }\n",
              "\n",
              "  .colab-df-quickchart:hover {\n",
              "    background-color: var(--hover-bg-color);\n",
              "    box-shadow: 0 1px 2px rgba(60, 64, 67, 0.3), 0 1px 3px 1px rgba(60, 64, 67, 0.15);\n",
              "    fill: var(--button-hover-fill-color);\n",
              "  }\n",
              "\n",
              "  .colab-df-quickchart-complete:disabled,\n",
              "  .colab-df-quickchart-complete:disabled:hover {\n",
              "    background-color: var(--disabled-bg-color);\n",
              "    fill: var(--disabled-fill-color);\n",
              "    box-shadow: none;\n",
              "  }\n",
              "\n",
              "  .colab-df-spinner {\n",
              "    border: 2px solid var(--fill-color);\n",
              "    border-color: transparent;\n",
              "    border-bottom-color: var(--fill-color);\n",
              "    animation:\n",
              "      spin 1s steps(1) infinite;\n",
              "  }\n",
              "\n",
              "  @keyframes spin {\n",
              "    0% {\n",
              "      border-color: transparent;\n",
              "      border-bottom-color: var(--fill-color);\n",
              "      border-left-color: var(--fill-color);\n",
              "    }\n",
              "    20% {\n",
              "      border-color: transparent;\n",
              "      border-left-color: var(--fill-color);\n",
              "      border-top-color: var(--fill-color);\n",
              "    }\n",
              "    30% {\n",
              "      border-color: transparent;\n",
              "      border-left-color: var(--fill-color);\n",
              "      border-top-color: var(--fill-color);\n",
              "      border-right-color: var(--fill-color);\n",
              "    }\n",
              "    40% {\n",
              "      border-color: transparent;\n",
              "      border-right-color: var(--fill-color);\n",
              "      border-top-color: var(--fill-color);\n",
              "    }\n",
              "    60% {\n",
              "      border-color: transparent;\n",
              "      border-right-color: var(--fill-color);\n",
              "    }\n",
              "    80% {\n",
              "      border-color: transparent;\n",
              "      border-right-color: var(--fill-color);\n",
              "      border-bottom-color: var(--fill-color);\n",
              "    }\n",
              "    90% {\n",
              "      border-color: transparent;\n",
              "      border-bottom-color: var(--fill-color);\n",
              "    }\n",
              "  }\n",
              "</style>\n",
              "\n",
              "  <script>\n",
              "    async function quickchart(key) {\n",
              "      const quickchartButtonEl =\n",
              "        document.querySelector('#' + key + ' button');\n",
              "      quickchartButtonEl.disabled = true;  // To prevent multiple clicks.\n",
              "      quickchartButtonEl.classList.add('colab-df-spinner');\n",
              "      try {\n",
              "        const charts = await google.colab.kernel.invokeFunction(\n",
              "            'suggestCharts', [key], {});\n",
              "      } catch (error) {\n",
              "        console.error('Error during call to suggestCharts:', error);\n",
              "      }\n",
              "      quickchartButtonEl.classList.remove('colab-df-spinner');\n",
              "      quickchartButtonEl.classList.add('colab-df-quickchart-complete');\n",
              "    }\n",
              "    (() => {\n",
              "      let quickchartButtonEl =\n",
              "        document.querySelector('#df-40cce2f3-12f8-46d5-a83e-bce9a6cc520c button');\n",
              "      quickchartButtonEl.style.display =\n",
              "        google.colab.kernel.accessAllowed ? 'block' : 'none';\n",
              "    })();\n",
              "  </script>\n",
              "</div>\n",
              "    </div>\n",
              "  </div>\n"
            ],
            "application/vnd.google.colaboratory.intrinsic+json": {
              "type": "dataframe",
              "variable_name": "df",
              "summary": "{\n  \"name\": \"df\",\n  \"rows\": 86400,\n  \"fields\": [\n    {\n      \"column\": \"datetime\",\n      \"properties\": {\n        \"dtype\": \"object\",\n        \"num_unique_values\": 86400,\n        \"samples\": [\n          \"2007-01-15 20:48:00\",\n          \"2007-02-09 02:41:00\",\n          \"2006-12-20 23:00:00\"\n        ],\n        \"semantic_type\": \"\",\n        \"description\": \"\"\n      }\n    },\n    {\n      \"column\": \"Global_active_power\",\n      \"properties\": {\n        \"dtype\": \"number\",\n        \"std\": 1.335541718985206,\n        \"min\": 0.194,\n        \"max\": 9.272,\n        \"num_unique_values\": 3347,\n        \"samples\": [\n          5.406,\n          5.626,\n          3.904\n        ],\n        \"semantic_type\": \"\",\n        \"description\": \"\"\n      }\n    },\n    {\n      \"column\": \"Global_reactive_power\",\n      \"properties\": {\n        \"dtype\": \"number\",\n        \"std\": 0.1176214630431444,\n        \"min\": 0.0,\n        \"max\": 0.874,\n        \"num_unique_values\": 377,\n        \"samples\": [\n          0.656,\n          0.466,\n          0.632\n        ],\n        \"semantic_type\": \"\",\n        \"description\": \"\"\n      }\n    },\n    {\n      \"column\": \"Voltage\",\n      \"properties\": {\n        \"dtype\": \"number\",\n        \"std\": 3.498535931183726,\n        \"min\": 224.68,\n        \"max\": 251.7,\n        \"num_unique_values\": 2174,\n        \"samples\": [\n          238.73,\n          248.19,\n          237.56\n        ],\n        \"semantic_type\": \"\",\n        \"description\": \"\"\n      }\n    },\n    {\n      \"column\": \"Global_intensity\",\n      \"properties\": {\n        \"dtype\": \"number\",\n        \"std\": 5.629462938587408,\n        \"min\": 0.8,\n        \"max\": 40.4,\n        \"num_unique_values\": 189,\n        \"samples\": [\n          37.4,\n          36.2,\n          13.6\n        ],\n        \"semantic_type\": \"\",\n        \"description\": \"\"\n      }\n    },\n    {\n      \"column\": \"Sub_metering_1\",\n      \"properties\": {\n        \"dtype\": \"number\",\n        \"std\": 6.682567482882876,\n        \"min\": 0.0,\n        \"max\": 77.0,\n        \"num_unique_values\": 60,\n        \"samples\": [\n          0.0,\n          36.0,\n          14.0\n        ],\n        \"semantic_type\": \"\",\n        \"description\": \"\"\n      }\n    },\n    {\n      \"column\": \"Sub_metering_2\",\n      \"properties\": {\n        \"dtype\": \"number\",\n        \"std\": 7.5676794757081645,\n        \"min\": 0.0,\n        \"max\": 78.0,\n        \"num_unique_values\": 77,\n        \"samples\": [\n          37.0,\n          40.0,\n          9.0\n        ],\n        \"semantic_type\": \"\",\n        \"description\": \"\"\n      }\n    },\n    {\n      \"column\": \"Sub_metering_3\",\n      \"properties\": {\n        \"dtype\": \"number\",\n        \"std\": 8.67190930406459,\n        \"min\": 0.0,\n        \"max\": 20.0,\n        \"num_unique_values\": 21,\n        \"samples\": [\n          17.0,\n          12.0,\n          6.0\n        ],\n        \"semantic_type\": \"\",\n        \"description\": \"\"\n      }\n    }\n  ]\n}"
            }
          },
          "metadata": {},
          "execution_count": 6
        }
      ]
    },
    {
      "cell_type": "code",
      "source": [
        "# N_FEATURES = len(df.columns)\n",
        "# print(N_FEATURES)"
      ],
      "metadata": {
        "colab": {
          "base_uri": "https://localhost:8080/"
        },
        "id": "OdL8aQZHCiF4",
        "outputId": "6de4f0c1-a517-415a-807e-c0980a3d951b"
      },
      "execution_count": 7,
      "outputs": [
        {
          "output_type": "stream",
          "name": "stdout",
          "text": [
            "7\n"
          ]
        }
      ]
    },
    {
      "cell_type": "code",
      "source": [
        "# # Normalizes the data\n",
        "# data = df.values\n",
        "# data = normalize_series(data, data.min(axis=0), data.max(axis=0))\n",
        "# # #check if there are any nan's\n",
        "# # print(np.any(np.isnan(data)))"
      ],
      "metadata": {
        "id": "HzutQ0abCqwW"
      },
      "execution_count": 8,
      "outputs": []
    },
    {
      "cell_type": "code",
      "source": [
        "# # Splits the data into training and validation sets.\n",
        "# SPLIT_TIME = int(len(data) * 0.5) # DO NOT CHANGE THIS\n",
        "# x_train = data[:SPLIT_TIME]\n",
        "# x_valid = data[SPLIT_TIME:]"
      ],
      "metadata": {
        "id": "ZfEs5ehoCxTp"
      },
      "execution_count": 9,
      "outputs": []
    },
    {
      "cell_type": "code",
      "source": [
        "# tf.keras.backend.clear_session()\n",
        "# tf.random.set_seed(42)"
      ],
      "metadata": {
        "id": "U8Sua3XeC5PQ"
      },
      "execution_count": 10,
      "outputs": []
    },
    {
      "cell_type": "code",
      "source": [
        "# BATCH_SIZE = 32\n",
        "# N_PAST = 24\n",
        "# N_FUTURE = 24\n",
        "# SHIFT = 1"
      ],
      "metadata": {
        "id": "GFYNPZ_GC7qe"
      },
      "execution_count": 11,
      "outputs": []
    },
    {
      "cell_type": "code",
      "source": [
        "# # Code to create windowed train and validation datasets.\n",
        "# train_set = windowed_dataset(series=x_train, batch_size=BATCH_SIZE,n_past=N_PAST, n_future=N_FUTURE,shift=SHIFT)\n",
        "\n",
        "# valid_set = windowed_dataset(series=x_valid, batch_size=BATCH_SIZE,n_past=N_PAST, n_future=N_FUTURE,shift=SHIFT)"
      ],
      "metadata": {
        "id": "ohkz8ilCDIJi"
      },
      "execution_count": 12,
      "outputs": []
    },
    {
      "cell_type": "code",
      "source": [
        "# print(train_set)"
      ],
      "metadata": {
        "colab": {
          "base_uri": "https://localhost:8080/"
        },
        "id": "fG_ILz50GQ2z",
        "outputId": "eb399325-88ed-49f4-8215-bbd6fda65dee"
      },
      "execution_count": 13,
      "outputs": [
        {
          "output_type": "stream",
          "name": "stdout",
          "text": [
            "<_PrefetchDataset element_spec=(TensorSpec(shape=(None, None, 7), dtype=tf.float64, name=None), TensorSpec(shape=(None, None, 7), dtype=tf.float64, name=None))>\n"
          ]
        }
      ]
    },
    {
      "cell_type": "code",
      "source": [
        "# model = tf.keras.models.Sequential([\n",
        "#     tf.keras.layers.Conv1D(filters=128, kernel_size=5, strides=1, padding=\"causal\", activation=\"relu\", input_shape=[N_PAST, N_FEATURES]),\n",
        "#     tf.keras.layers.LSTM(128, return_sequences=True), #, input_shape=(N_PAST, N_FEATURES)\n",
        "#     tf.keras.layers.LSTM(128, return_sequences=True),\n",
        "#     # tf.keras.layers.LSTM(32, return_sequences=True),\n",
        "#     tf.keras.layers.Dropout(0.3),\n",
        "\n",
        "#     tf.keras.layers.Dense(64),\n",
        "#     # tf.keras.layers.Dropout(0.2),\n",
        "#     tf.keras.layers.Dense(N_FEATURES)\n",
        "#     ])\n",
        "\n",
        "# model.summary()"
      ],
      "metadata": {
        "colab": {
          "base_uri": "https://localhost:8080/"
        },
        "id": "2FVh1VZHDSnG",
        "outputId": "78e5ca2b-41a5-4fde-9a6f-3369572287f2"
      },
      "execution_count": 17,
      "outputs": [
        {
          "output_type": "stream",
          "name": "stdout",
          "text": [
            "Model: \"sequential_1\"\n",
            "_________________________________________________________________\n",
            " Layer (type)                Output Shape              Param #   \n",
            "=================================================================\n",
            " conv1d_1 (Conv1D)           (None, 24, 128)           4608      \n",
            "                                                                 \n",
            " lstm_2 (LSTM)               (None, 24, 128)           131584    \n",
            "                                                                 \n",
            " lstm_3 (LSTM)               (None, 24, 128)           131584    \n",
            "                                                                 \n",
            " dropout_2 (Dropout)         (None, 24, 128)           0         \n",
            "                                                                 \n",
            " dense_2 (Dense)             (None, 24, 64)            8256      \n",
            "                                                                 \n",
            " dense_3 (Dense)             (None, 24, 7)             455       \n",
            "                                                                 \n",
            "=================================================================\n",
            "Total params: 276487 (1.05 MB)\n",
            "Trainable params: 276487 (1.05 MB)\n",
            "Non-trainable params: 0 (0.00 Byte)\n",
            "_________________________________________________________________\n"
          ]
        }
      ]
    },
    {
      "cell_type": "code",
      "source": [
        "# # Set the learning rate scheduler\n",
        "# lr_schedule = tf.keras.callbacks.LearningRateScheduler(lambda epoch: 1e-3 * 10**(epoch/20))\n",
        "\n",
        "# # Code to train and compile the model\n",
        "# optimizer =  optimizer=tf.keras.optimizers.SGD(momentum=0.9) # YOUR CODE HERE\n",
        "\n",
        "# model.compile(loss=tf.keras.losses.Huber(),optimizer=optimizer)\n",
        "\n",
        "# history = model.fit(train_set, epochs=100, callbacks=[lr_schedule])"
      ],
      "metadata": {
        "id": "g3izKObGDk2H"
      },
      "execution_count": null,
      "outputs": []
    },
    {
      "cell_type": "code",
      "source": [
        "# # Tune the learning rate array\n",
        "# lrs = 1e-3 * (10 ** (np.arange(100) / 20))\n",
        "\n",
        "# # Set the figure size\n",
        "# plt.figure(figsize=(10, 6))\n",
        "\n",
        "# # Set the grid\n",
        "# plt.grid(True)\n",
        "\n",
        "# # Plot the loss in log scale\n",
        "# plt.semilogx(lrs, history.history[\"loss\"])\n",
        "\n",
        "# # Increase the tickmarks size\n",
        "# plt.tick_params('both', length=10, width=1, which='both')\n",
        "\n",
        "# # Set the plot boundaries\n",
        "# plt.axis([1e-3, 1e1, 0.01, 0.03])"
      ],
      "metadata": {
        "colab": {
          "base_uri": "https://localhost:8080/",
          "height": 558
        },
        "id": "HyEEqNEPCBPF",
        "outputId": "67e25c10-9b32-444a-d2ff-0abc0e3032ce"
      },
      "execution_count": 31,
      "outputs": [
        {
          "output_type": "execute_result",
          "data": {
            "text/plain": [
              "(0.001, 10.0, 0.01, 0.03)"
            ]
          },
          "metadata": {},
          "execution_count": 31
        },
        {
          "output_type": "display_data",
          "data": {
            "text/plain": [
              "<Figure size 1000x600 with 1 Axes>"
            ],
            "image/png": "[encoded data removed]"
          },
          "metadata": {}
        }
      ]
    },
    {
      "cell_type": "code",
      "source": [
        "# class MyCallback(tf.keras.callbacks.Callback):\n",
        "#   def on_epoch_end(self, epochs, logs={}):\n",
        "#     if logs['val_mae'] < 0.0535:\n",
        "#       print(\"Stopping training since val loss is less than 0.0535\")\n",
        "#       self.model.stop_training = True"
      ],
      "metadata": {
        "id": "64pcPjczu_nJ"
      },
      "execution_count": 15,
      "outputs": []
    },
    {
      "cell_type": "code",
      "source": [
        "# # Initialize learning rate\n",
        "# lr = 1e-3 #5e-2\n",
        "\n",
        "# # Initialize the optimizer\n",
        "# # optimizer = tf.keras.optimizers.SGD(momentum=0.9, learning_rate=lr)\n",
        "\n",
        "# optimizer=tf.keras.optimizers.Adam(\n",
        "#     learning_rate=lr,\n",
        "#     clipnorm=1)\n",
        "\n",
        "\n",
        "# # Set the training parameters\n",
        "# # model.compile(loss=tf.keras.losses.Huber(), optimizer=optimizer, metrics=['mae','mse'])\n",
        "# model.compile(loss=keras.losses.mean_absolute_error, optimizer=optimizer, metrics=['mae'])\n",
        "\n",
        "# #callback\n",
        "# callback = MyCallback()\n",
        "\n",
        "# RLP = tf.keras.callbacks.ReduceLROnPlateau(\n",
        "#     monitor=\"val_mae\",\n",
        "#     patience=3, #5\n",
        "#     verbose=1,\n",
        "#     mode=\"auto\"\n",
        "# )\n",
        "\n",
        "# ES = tf.keras.callbacks.EarlyStopping(\n",
        "#     monitor=\"val_mae\",\n",
        "#     patience=5, #15\n",
        "#     verbose=1,\n",
        "#     mode=\"auto\",\n",
        "#     start_from_epoch=10\n",
        "# )\n",
        "\n",
        "# # Train the model\n",
        "# history = model.fit(train_set, epochs=500, validation_data=valid_set, verbose = 2, callbacks=[ES,RLP]) #batch_size=32,"
      ],
      "metadata": {
        "colab": {
          "base_uri": "https://localhost:8080/"
        },
        "id": "f5rJgs6PKZub",
        "outputId": "8c118130-8f99-41b3-9a6e-7b3d728ce0de"
      },
      "execution_count": 18,
      "outputs": [
        {
          "output_type": "stream",
          "name": "stdout",
          "text": [
            "Epoch 1/500\n",
            "1349/1349 - 19s - loss: 0.0809 - mae: 0.0809 - val_loss: 0.0685 - val_mae: 0.0685 - lr: 0.0010 - 19s/epoch - 14ms/step\n",
            "Epoch 2/500\n",
            "1349/1349 - 14s - loss: 0.0700 - mae: 0.0700 - val_loss: 0.0680 - val_mae: 0.0680 - lr: 0.0010 - 14s/epoch - 11ms/step\n",
            "Epoch 3/500\n",
            "1349/1349 - 14s - loss: 0.0664 - mae: 0.0664 - val_loss: 0.0647 - val_mae: 0.0647 - lr: 0.0010 - 14s/epoch - 11ms/step\n",
            "Epoch 4/500\n",
            "1349/1349 - 15s - loss: 0.0643 - mae: 0.0643 - val_loss: 0.0638 - val_mae: 0.0638 - lr: 0.0010 - 15s/epoch - 11ms/step\n",
            "Epoch 5/500\n",
            "1349/1349 - 15s - loss: 0.0632 - mae: 0.0632 - val_loss: 0.0629 - val_mae: 0.0629 - lr: 0.0010 - 15s/epoch - 11ms/step\n",
            "Epoch 6/500\n",
            "1349/1349 - 15s - loss: 0.0623 - mae: 0.0623 - val_loss: 0.0619 - val_mae: 0.0619 - lr: 0.0010 - 15s/epoch - 11ms/step\n",
            "Epoch 7/500\n",
            "1349/1349 - 14s - loss: 0.0616 - mae: 0.0616 - val_loss: 0.0600 - val_mae: 0.0600 - lr: 0.0010 - 14s/epoch - 11ms/step\n",
            "Epoch 8/500\n",
            "1349/1349 - 15s - loss: 0.0610 - mae: 0.0610 - val_loss: 0.0596 - val_mae: 0.0596 - lr: 0.0010 - 15s/epoch - 11ms/step\n",
            "Epoch 9/500\n",
            "1349/1349 - 15s - loss: 0.0606 - mae: 0.0606 - val_loss: 0.0603 - val_mae: 0.0603 - lr: 0.0010 - 15s/epoch - 11ms/step\n",
            "Epoch 10/500\n",
            "1349/1349 - 15s - loss: 0.0604 - mae: 0.0604 - val_loss: 0.0599 - val_mae: 0.0599 - lr: 0.0010 - 15s/epoch - 11ms/step\n",
            "Epoch 11/500\n",
            "1349/1349 - 14s - loss: 0.0600 - mae: 0.0600 - val_loss: 0.0590 - val_mae: 0.0590 - lr: 0.0010 - 14s/epoch - 11ms/step\n",
            "Epoch 12/500\n",
            "1349/1349 - 15s - loss: 0.0598 - mae: 0.0598 - val_loss: 0.0586 - val_mae: 0.0586 - lr: 0.0010 - 15s/epoch - 11ms/step\n",
            "Epoch 13/500\n",
            "1349/1349 - 15s - loss: 0.0596 - mae: 0.0596 - val_loss: 0.0583 - val_mae: 0.0583 - lr: 0.0010 - 15s/epoch - 11ms/step\n",
            "Epoch 14/500\n",
            "1349/1349 - 15s - loss: 0.0594 - mae: 0.0594 - val_loss: 0.0584 - val_mae: 0.0584 - lr: 0.0010 - 15s/epoch - 11ms/step\n",
            "Epoch 15/500\n",
            "1349/1349 - 15s - loss: 0.0592 - mae: 0.0592 - val_loss: 0.0585 - val_mae: 0.0585 - lr: 0.0010 - 15s/epoch - 11ms/step\n",
            "Epoch 16/500\n",
            "1349/1349 - 14s - loss: 0.0591 - mae: 0.0591 - val_loss: 0.0579 - val_mae: 0.0579 - lr: 0.0010 - 14s/epoch - 11ms/step\n",
            "Epoch 17/500\n",
            "1349/1349 - 15s - loss: 0.0589 - mae: 0.0589 - val_loss: 0.0578 - val_mae: 0.0578 - lr: 0.0010 - 15s/epoch - 11ms/step\n",
            "Epoch 18/500\n",
            "1349/1349 - 14s - loss: 0.0587 - mae: 0.0587 - val_loss: 0.0577 - val_mae: 0.0577 - lr: 0.0010 - 14s/epoch - 11ms/step\n",
            "Epoch 19/500\n",
            "1349/1349 - 15s - loss: 0.0585 - mae: 0.0585 - val_loss: 0.0581 - val_mae: 0.0581 - lr: 0.0010 - 15s/epoch - 11ms/step\n",
            "Epoch 20/500\n",
            "1349/1349 - 15s - loss: 0.0583 - mae: 0.0583 - val_loss: 0.0574 - val_mae: 0.0574 - lr: 0.0010 - 15s/epoch - 11ms/step\n",
            "Epoch 21/500\n",
            "1349/1349 - 14s - loss: 0.0582 - mae: 0.0582 - val_loss: 0.0574 - val_mae: 0.0574 - lr: 0.0010 - 14s/epoch - 11ms/step\n",
            "Epoch 22/500\n",
            "1349/1349 - 15s - loss: 0.0580 - mae: 0.0580 - val_loss: 0.0573 - val_mae: 0.0573 - lr: 0.0010 - 15s/epoch - 11ms/step\n",
            "Epoch 23/500\n",
            "\n",
            "Epoch 23: ReduceLROnPlateau reducing learning rate to 0.00010000000474974513.\n",
            "1349/1349 - 15s - loss: 0.0579 - mae: 0.0579 - val_loss: 0.0573 - val_mae: 0.0573 - lr: 0.0010 - 15s/epoch - 11ms/step\n",
            "Epoch 24/500\n",
            "1349/1349 - 15s - loss: 0.0558 - mae: 0.0558 - val_loss: 0.0548 - val_mae: 0.0548 - lr: 1.0000e-04 - 15s/epoch - 11ms/step\n",
            "Epoch 25/500\n",
            "1349/1349 - 15s - loss: 0.0553 - mae: 0.0553 - val_loss: 0.0546 - val_mae: 0.0546 - lr: 1.0000e-04 - 15s/epoch - 11ms/step\n",
            "Epoch 26/500\n",
            "1349/1349 - 15s - loss: 0.0552 - mae: 0.0552 - val_loss: 0.0545 - val_mae: 0.0545 - lr: 1.0000e-04 - 15s/epoch - 11ms/step\n",
            "Epoch 27/500\n",
            "1349/1349 - 15s - loss: 0.0551 - mae: 0.0551 - val_loss: 0.0544 - val_mae: 0.0544 - lr: 1.0000e-04 - 15s/epoch - 11ms/step\n",
            "Epoch 28/500\n",
            "1349/1349 - 15s - loss: 0.0551 - mae: 0.0551 - val_loss: 0.0544 - val_mae: 0.0544 - lr: 1.0000e-04 - 15s/epoch - 11ms/step\n",
            "Epoch 29/500\n",
            "1349/1349 - 14s - loss: 0.0551 - mae: 0.0551 - val_loss: 0.0544 - val_mae: 0.0544 - lr: 1.0000e-04 - 14s/epoch - 11ms/step\n",
            "Epoch 30/500\n",
            "1349/1349 - 15s - loss: 0.0550 - mae: 0.0550 - val_loss: 0.0543 - val_mae: 0.0543 - lr: 1.0000e-04 - 15s/epoch - 11ms/step\n",
            "Epoch 31/500\n",
            "1349/1349 - 14s - loss: 0.0550 - mae: 0.0550 - val_loss: 0.0543 - val_mae: 0.0543 - lr: 1.0000e-04 - 14s/epoch - 11ms/step\n",
            "Epoch 32/500\n",
            "1349/1349 - 15s - loss: 0.0550 - mae: 0.0550 - val_loss: 0.0543 - val_mae: 0.0543 - lr: 1.0000e-04 - 15s/epoch - 11ms/step\n",
            "Epoch 33/500\n",
            "\n",
            "Epoch 33: ReduceLROnPlateau reducing learning rate to 1.0000000474974514e-05.\n",
            "1349/1349 - 14s - loss: 0.0549 - mae: 0.0549 - val_loss: 0.0542 - val_mae: 0.0542 - lr: 1.0000e-04 - 14s/epoch - 11ms/step\n",
            "Epoch 34/500\n",
            "1349/1349 - 15s - loss: 0.0550 - mae: 0.0550 - val_loss: 0.0540 - val_mae: 0.0540 - lr: 1.0000e-05 - 15s/epoch - 11ms/step\n",
            "Epoch 35/500\n",
            "1349/1349 - 14s - loss: 0.0549 - mae: 0.0549 - val_loss: 0.0539 - val_mae: 0.0539 - lr: 1.0000e-05 - 14s/epoch - 11ms/step\n",
            "Epoch 36/500\n",
            "1349/1349 - 14s - loss: 0.0549 - mae: 0.0549 - val_loss: 0.0539 - val_mae: 0.0539 - lr: 1.0000e-05 - 14s/epoch - 11ms/step\n",
            "Epoch 37/500\n",
            "1349/1349 - 14s - loss: 0.0548 - mae: 0.0548 - val_loss: 0.0539 - val_mae: 0.0539 - lr: 1.0000e-05 - 14s/epoch - 11ms/step\n",
            "Epoch 38/500\n",
            "1349/1349 - 14s - loss: 0.0548 - mae: 0.0548 - val_loss: 0.0539 - val_mae: 0.0539 - lr: 1.0000e-05 - 14s/epoch - 11ms/step\n",
            "Epoch 39/500\n",
            "\n",
            "Epoch 39: ReduceLROnPlateau reducing learning rate to 1.0000000656873453e-06.\n",
            "1349/1349 - 14s - loss: 0.0548 - mae: 0.0548 - val_loss: 0.0539 - val_mae: 0.0539 - lr: 1.0000e-05 - 14s/epoch - 11ms/step\n",
            "Epoch 40/500\n",
            "1349/1349 - 15s - loss: 0.0548 - mae: 0.0548 - val_loss: 0.0538 - val_mae: 0.0538 - lr: 1.0000e-06 - 15s/epoch - 11ms/step\n",
            "Epoch 41/500\n",
            "1349/1349 - 14s - loss: 0.0548 - mae: 0.0548 - val_loss: 0.0538 - val_mae: 0.0538 - lr: 1.0000e-06 - 14s/epoch - 11ms/step\n",
            "Epoch 42/500\n",
            "1349/1349 - 14s - loss: 0.0548 - mae: 0.0548 - val_loss: 0.0538 - val_mae: 0.0538 - lr: 1.0000e-06 - 14s/epoch - 11ms/step\n",
            "Epoch 43/500\n",
            "1349/1349 - 15s - loss: 0.0548 - mae: 0.0548 - val_loss: 0.0538 - val_mae: 0.0538 - lr: 1.0000e-06 - 15s/epoch - 11ms/step\n",
            "Epoch 44/500\n",
            "\n",
            "Epoch 44: ReduceLROnPlateau reducing learning rate to 1.0000001111620805e-07.\n",
            "1349/1349 - 15s - loss: 0.0548 - mae: 0.0548 - val_loss: 0.0537 - val_mae: 0.0537 - lr: 1.0000e-06 - 15s/epoch - 11ms/step\n",
            "Epoch 45/500\n",
            "1349/1349 - 14s - loss: 0.0548 - mae: 0.0548 - val_loss: 0.0537 - val_mae: 0.0537 - lr: 1.0000e-07 - 14s/epoch - 11ms/step\n",
            "Epoch 46/500\n",
            "1349/1349 - 14s - loss: 0.0548 - mae: 0.0548 - val_loss: 0.0537 - val_mae: 0.0537 - lr: 1.0000e-07 - 14s/epoch - 11ms/step\n",
            "Epoch 47/500\n",
            "\n",
            "Epoch 47: ReduceLROnPlateau reducing learning rate to 1.000000082740371e-08.\n",
            "1349/1349 - 15s - loss: 0.0548 - mae: 0.0548 - val_loss: 0.0537 - val_mae: 0.0537 - lr: 1.0000e-07 - 15s/epoch - 11ms/step\n",
            "Epoch 48/500\n",
            "1349/1349 - 15s - loss: 0.0548 - mae: 0.0548 - val_loss: 0.0537 - val_mae: 0.0537 - lr: 1.0000e-08 - 15s/epoch - 11ms/step\n",
            "Epoch 49/500\n",
            "1349/1349 - 14s - loss: 0.0548 - mae: 0.0548 - val_loss: 0.0537 - val_mae: 0.0537 - lr: 1.0000e-08 - 14s/epoch - 11ms/step\n",
            "Epoch 50/500\n",
            "\n",
            "Epoch 50: ReduceLROnPlateau reducing learning rate to 1.000000082740371e-09.\n",
            "1349/1349 - 15s - loss: 0.0548 - mae: 0.0548 - val_loss: 0.0537 - val_mae: 0.0537 - lr: 1.0000e-08 - 15s/epoch - 11ms/step\n",
            "Epoch 51/500\n",
            "1349/1349 - 15s - loss: 0.0548 - mae: 0.0548 - val_loss: 0.0537 - val_mae: 0.0537 - lr: 1.0000e-09 - 15s/epoch - 11ms/step\n",
            "Epoch 52/500\n",
            "1349/1349 - 15s - loss: 0.0548 - mae: 0.0548 - val_loss: 0.0537 - val_mae: 0.0537 - lr: 1.0000e-09 - 15s/epoch - 11ms/step\n",
            "Epoch 53/500\n",
            "\n",
            "Epoch 53: ReduceLROnPlateau reducing learning rate to 1.000000082740371e-10.\n",
            "1349/1349 - 15s - loss: 0.0548 - mae: 0.0548 - val_loss: 0.0537 - val_mae: 0.0537 - lr: 1.0000e-09 - 15s/epoch - 11ms/step\n",
            "Epoch 54/500\n",
            "1349/1349 - 14s - loss: 0.0548 - mae: 0.0548 - val_loss: 0.0537 - val_mae: 0.0537 - lr: 1.0000e-10 - 14s/epoch - 11ms/step\n",
            "Epoch 55/500\n",
            "1349/1349 - 15s - loss: 0.0548 - mae: 0.0548 - val_loss: 0.0537 - val_mae: 0.0537 - lr: 1.0000e-10 - 15s/epoch - 11ms/step\n",
            "Epoch 55: early stopping\n"
          ]
        }
      ]
    },
    {
      "cell_type": "code",
      "source": [
        "# # Auxiliary plotting function\n",
        "# def plot_series(x, y, format=\"-\", start=0, end=None, title=None, xlabel=None, ylabel=None, legend=None ):\n",
        "#     plt.figure(figsize=(10, 6))\n",
        "#     if type(y) is tuple:\n",
        "#         for y_curr in y:\n",
        "#             plt.plot(x[start:end], y_curr[start:end], format)\n",
        "#     else:\n",
        "#         plt.plot(x[start:end], y[start:end], format)\n",
        "#     plt.xlabel(xlabel)\n",
        "#     plt.ylabel(ylabel)\n",
        "#     if legend:\n",
        "#         plt.legend(legend)\n",
        "#     plt.title(title)\n",
        "#     plt.grid(True)\n",
        "#     plt.show()"
      ],
      "metadata": {
        "id": "tl4cLna-4ECV"
      },
      "execution_count": 20,
      "outputs": []
    },
    {
      "cell_type": "code",
      "source": [
        "# # Get mae and loss from history log\n",
        "# mae=history.history['mae']\n",
        "# loss=history.history['loss']\n",
        "\n",
        "# # Get number of epochs\n",
        "# epochs=range(len(loss))\n",
        "\n",
        "\n",
        "# # Plot mae and loss\n",
        "# plot_series(\n",
        "#     x=epochs,\n",
        "#     y=(mae, loss),\n",
        "#     title='MAE and Loss',\n",
        "#     xlabel='MAE',\n",
        "#     ylabel='Loss',\n",
        "#     legend=['MAE', 'Loss']\n",
        "#     )\n",
        "\n",
        "# # print(int(epochs[-1]*0.2))\n",
        "# # Only plot the last 80% of the epochs\n",
        "# zoom_split = int(epochs[-1] * 0.2)\n",
        "# epochs_zoom = epochs[zoom_split:]\n",
        "# mae_zoom = mae[zoom_split:]\n",
        "# loss_zoom = loss[zoom_split:]\n",
        "\n",
        "# # Plot zoomed mae and loss\n",
        "# plot_series(\n",
        "#     x=epochs_zoom,\n",
        "#     y=(mae_zoom, loss_zoom),\n",
        "#     title='MAE and Loss',\n",
        "#     xlabel='MAE',\n",
        "#     ylabel='Loss',\n",
        "#     legend=['MAE', 'Loss']\n",
        "#     )"
      ],
      "metadata": {
        "colab": {
          "base_uri": "https://localhost:8080/",
          "height": 1000
        },
        "id": "HfS1Fh4xKifM",
        "outputId": "51eede10-e502-45ac-9a71-6d00d2eb9e86"
      },
      "execution_count": 21,
      "outputs": [
        {
          "output_type": "display_data",
          "data": {
            "text/plain": [
              "<Figure size 1000x600 with 1 Axes>"
            ],
            "image/png": "[encoded data removed]"
          },
          "metadata": {}
        },
        {
          "output_type": "display_data",
          "data": {
            "text/plain": [
              "<Figure size 1000x600 with 1 Axes>"
            ],
            "image/png": "[encoded data removed]"
          },
          "metadata": {}
        }
      ]
    },
    {
      "cell_type": "code",
      "source": [
        "# # THIS CODE IS USED IN THE TESTER FOR FORECASTING. IF YOU WANT TO TEST YOUR MODEL\n",
        "# # BEFORE UPLOADING YOU CAN DO IT WITH THIS\n",
        "# def mae(y_true, y_pred):\n",
        "#    return np.mean(abs(y_true.ravel() - y_pred.ravel()))\n",
        "\n",
        "\n",
        "# def model_forecast(model, series, window_size, batch_size):\n",
        "#    ds = tf.data.Dataset.from_tensor_slices(series)\n",
        "#    ds = ds.window(window_size, shift=1, drop_remainder=True)\n",
        "#    ds = ds.flat_map(lambda w: w.batch(window_size))\n",
        "#    ds = ds.batch(batch_size, drop_remainder=True).prefetch(1)\n",
        "#    forecast = model.predict(ds)\n",
        "#    return forecast"
      ],
      "metadata": {
        "id": "ufQwl7A_4PCz"
      },
      "execution_count": 22,
      "outputs": []
    },
    {
      "cell_type": "code",
      "source": [
        "# # PASS THE NORMALIZED data IN THE FOLLOWING CODE\n",
        "\n",
        "# rnn_forecast = model_forecast(model, data, N_PAST, BATCH_SIZE)\n",
        "# rnn_forecast = rnn_forecast[SPLIT_TIME - N_PAST:-1, 0, :]"
      ],
      "metadata": {
        "colab": {
          "base_uri": "https://localhost:8080/"
        },
        "id": "L5RQ3dp_KpQA",
        "outputId": "b1e5e169-6796-4245-e04f-218e3b20904c"
      },
      "execution_count": 23,
      "outputs": [
        {
          "output_type": "stream",
          "name": "stdout",
          "text": [
            "2699/2699 [==============================] - 9s 3ms/step\n"
          ]
        }
      ]
    },
    {
      "cell_type": "code",
      "source": [
        "# x_valid = x_valid[:rnn_forecast.shape[0]]\n",
        "# result = mae(x_valid, rnn_forecast)"
      ],
      "metadata": {
        "id": "DT_CujN64Sg-"
      },
      "execution_count": 24,
      "outputs": []
    },
    {
      "cell_type": "code",
      "source": [
        "# print(result)"
      ],
      "metadata": {
        "colab": {
          "base_uri": "https://localhost:8080/"
        },
        "id": "uWEtgsrH4ZKR",
        "outputId": "c7f05c7b-28c6-4ddd-ac39-a9815d712f25"
      },
      "execution_count": 25,
      "outputs": [
        {
          "output_type": "stream",
          "name": "stdout",
          "text": [
            "0.054894517397087964\n"
          ]
        }
      ]
    },
    {
      "cell_type": "code",
      "source": [
        "# model.save(\"mymodel.h5\")"
      ],
      "metadata": {
        "colab": {
          "base_uri": "https://localhost:8080/"
        },
        "id": "aMqHrsEB4jKN",
        "outputId": "56d80223-ad0c-4307-9135-2da966f0bcf3"
      },
      "execution_count": 26,
      "outputs": [
        {
          "output_type": "stream",
          "name": "stderr",
          "text": [
            "/usr/local/lib/python3.10/dist-packages/keras/src/engine/training.py:3103: UserWarning: You are saving your model as an HDF5 file via `model.save()`. This file format is considered legacy. We recommend using instead the native Keras format, e.g. `model.save('my_model.keras')`.\n",
            "  saving_api.save_model(\n"
          ]
        }
      ]
    }
  ]
}