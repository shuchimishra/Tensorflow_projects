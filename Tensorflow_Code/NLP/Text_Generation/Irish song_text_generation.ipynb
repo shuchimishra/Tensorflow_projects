{
  "cells": [
    {
      "cell_type": "markdown",
      "metadata": {
        "id": "view-in-github",
        "colab_type": "text"
      },
      "source": [
        "<a href=\"https://colab.research.google.com/github/shuchimishra/Tensorflow_projects/blob/main/Tensorflow_Code/NLP/Irish%20song_text_generation.ipynb\" target=\"_parent\"><img src=\"https://colab.research.google.com/assets/colab-badge.svg\" alt=\"Open In Colab\"/></a>"
      ]
    },
    {
      "cell_type": "markdown",
      "metadata": {
        "id": "OASRVyyve33R"
      },
      "source": [
        "<a href=\"https://colab.research.google.com/github/https-deeplearning-ai/tensorflow-1-public/blob/master/C3/W4/ungraded_labs/C3_W4_Lab_1.ipynb\" target=\"_parent\"><img src=\"https://colab.research.google.com/assets/colab-badge.svg\" alt=\"Open In Colab\"/></a>"
      ]
    },
    {
      "cell_type": "markdown",
      "metadata": {
        "id": "4VKWPfcBiYZO"
      },
      "source": [
        "# Ungraded Lab: Generating Text with Neural Networks\n",
        "\n",
        "For this week, you will look at techniques to prepare data and build models for text generation. You will train a neural network with lyrics from an Irish song then let it make a new song for you. Though this might sound like a more complex application, you'll soon see that the process is very similar to the ones you've been using in the previous weeks. Only minor modifications are needed. Let's see what these are in the next sections."
      ]
    },
    {
      "cell_type": "markdown",
      "metadata": {
        "id": "SgasH2Bvzds6"
      },
      "source": [
        "## Imports\n",
        "\n",
        "First, you will import the required libraries. You've used all of these already in the previous labs."
      ]
    },
    {
      "cell_type": "code",
      "execution_count": null,
      "metadata": {
        "id": "BOwsuGQQY9OL"
      },
      "outputs": [],
      "source": [
        "import tensorflow as tf\n",
        "import numpy as np\n",
        "from tensorflow.keras.layers import Embedding, LSTM, Dense, Bidirectional\n",
        "from tensorflow.keras.models import Sequential\n",
        "from tensorflow.keras.preprocessing.text import Tokenizer\n",
        "from tensorflow.keras.preprocessing.sequence import pad_sequences"
      ]
    },
    {
      "cell_type": "code",
      "source": [
        "import tensorflow as tf\n",
        "from tensorflow import keras\n",
        "from keras.preprocessing.text import Tokenizer, one_hot\n",
        "from keras.preprocessing.sequence import pad_sequences"
      ],
      "metadata": {
        "id": "xmHNjzXQj7v0"
      },
      "execution_count": null,
      "outputs": []
    },
    {
      "cell_type": "markdown",
      "metadata": {
        "id": "nqSrSYWD0CxU"
      },
      "source": [
        "## Building the Word Vocabulary\n",
        "\n",
        "The dataset is the lyrics of [*Lanigan's Ball*](https://en.wikipedia.org/wiki/Lanigan%27s_Ball), a traditional Irish song. You will split it per line then use the `Tokenizer` class to build the word index dictionary."
      ]
    },
    {
      "cell_type": "code",
      "source": [
        "# Define the lyrics of the song\n",
        "data=\"In the town of Athy one Jeremy Lanigan \\n Battered away til he hadnt a pound. \\nHis father died and made him a man again \\n Left him a farm and ten acres of ground. \\nHe gave a grand party for friends and relations \\nWho didnt forget him when come to the wall, \\nAnd if youll but listen Ill make your eyes glisten \\nOf the rows and the ructions of Lanigans Ball. \\nMyself to be sure got free invitation, \\nFor all the nice girls and boys I might ask, \\nAnd just in a minute both friends and relations \\nWere dancing round merry as bees round a cask. \\nJudy ODaly, that nice little milliner, \\nShe tipped me a wink for to give her a call, \\nAnd I soon arrived with Peggy McGilligan \\nJust in time for Lanigans Ball. \\nThere were lashings of punch and wine for the ladies, \\nPotatoes and cakes; there was bacon and tea, \\nThere were the Nolans, Dolans, OGradys \\nCourting the girls and dancing away. \\nSongs they went round as plenty as water, \\nThe harp that once sounded in Taras old hall,\\nSweet Nelly Gray and The Rat Catchers Daughter,\\nAll singing together at Lanigans Ball. \\nThey were doing all kinds of nonsensical polkas \\nAll round the room in a whirligig. \\nJulia and I, we banished their nonsense \\nAnd tipped them the twist of a reel and a jig. \\nAch mavrone, how the girls got all mad at me \\nDanced til youd think the ceiling would fall. \\nFor I spent three weeks at Brooks Academy \\nLearning new steps for Lanigans Ball. \\nThree long weeks I spent up in Dublin, \\nThree long weeks to learn nothing at all,\\n Three long weeks I spent up in Dublin, \\nLearning new steps for Lanigans Ball. \\nShe stepped out and I stepped in again, \\nI stepped out and she stepped in again, \\nShe stepped out and I stepped in again, \\nLearning new steps for Lanigans Ball. \\nBoys were all merry and the girls they were hearty \\nAnd danced all around in couples and groups, \\nTil an accident happened, young Terrance McCarthy \\nPut his right leg through miss Finnertys hoops. \\nPoor creature fainted and cried Meelia murther, \\nCalled for her brothers and gathered them all. \\nCarmody swore that hed go no further \\nTil he had satisfaction at Lanigans Ball. \\nIn the midst of the row miss Kerrigan fainted, \\nHer cheeks at the same time as red as a rose. \\nSome of the lads declared she was painted, \\nShe took a small drop too much, I suppose. \\nHer sweetheart, Ned Morgan, so powerful and able, \\nWhen he saw his fair colleen stretched out by the wall, \\nTore the left leg from under the table \\nAnd smashed all the Chaneys at Lanigans Ball. \\nBoys, oh boys, twas then there were runctions. \\nMyself got a lick from big Phelim McHugh. \\nI soon replied to his introduction \\nAnd kicked up a terrible hullabaloo. \\nOld Casey, the piper, was near being strangled. \\nThey squeezed up his pipes, bellows, chanters and all. \\nThe girls, in their ribbons, they got all entangled \\nAnd that put an end to Lanigans Ball.\"\n",
        "\n",
        "# Split the long string per line and put in a list\n",
        "corpus = data.lower().split('\\n')\n",
        "\n",
        "# Preview the result\n",
        "print(len(corpus))\n",
        "print(corpus)"
      ],
      "metadata": {
        "id": "SM4SHCmfjOjk"
      },
      "execution_count": null,
      "outputs": []
    },
    {
      "cell_type": "code",
      "source": [
        "corpus[:5]"
      ],
      "metadata": {
        "id": "VIjskWgmpkpz"
      },
      "execution_count": null,
      "outputs": []
    },
    {
      "cell_type": "code",
      "source": [
        "#Initialize the Tokenizer class\n",
        "tokenizer = Tokenizer()\n",
        "\n",
        "#Tokenize the sentences and generate the word index\n",
        "tokenizer.fit_on_texts(corpus)\n",
        "word_index = tokenizer.word_index\n",
        "\n",
        "#Find out total words\n",
        "total_words = len(word_index) + 1\n",
        "\n",
        "#print output\n",
        "print(\"Word Index Dictionary: \",word_index)\n",
        "print(\"Total words :\", total_words)"
      ],
      "metadata": {
        "id": "WD5V6E55jlU_"
      },
      "execution_count": null,
      "outputs": []
    },
    {
      "cell_type": "markdown",
      "metadata": {
        "id": "mBE10Hx_0PA_"
      },
      "source": [
        "## Preprocessing the Dataset\n",
        "\n",
        "Next, you will be generating the training sequences and their labels. As discussed in the lectures, you will take each line of the song and generate inputs and labels from it. For example, if you only have one sentence: \"I am using Tensorflow\", you want the model to learn the next word given any subphrase of this sentence:\n",
        "\n",
        "```\n",
        "INPUT              LABEL\n",
        "-----------------------------\n",
        "I             ---> am\n",
        "I am          ---> using\n",
        "I am using    ---> Tensorflow\n",
        "```\n",
        "\n",
        "The next cell shows how to implement this concept in code. The result would be inputs as padded sequences, and labels as one-hot encoded arrays."
      ]
    },
    {
      "cell_type": "code",
      "source": [
        "input_sequences = []\n",
        "\n",
        "# Loop over every line\n",
        "for line in corpus:\n",
        "\n",
        "  #Note that input to sequences function is list; so convert sentences to list\n",
        "  list_line = [line]\n",
        "\n",
        "  #Convert into sequence the current line\n",
        "  token_list = tokenizer.texts_to_sequences(list_line)[0] #This will convert nested list to list eg. [[\"test\",\"ball\"]] to [\"test\",\"ball\"]\n",
        "\n",
        "  #Loop over the line several times to generate subphrases\n",
        "  for index in range(1, len(token_list)):\n",
        "\n",
        "    #Generate the subphrase\n",
        "    n_gram_sequence = token_list[:index+1]\n",
        "    '''sample output\n",
        "    [4, 2]\n",
        "    [4, 2, 66]\n",
        "    [4, 2, 66, 8]\n",
        "    '''\n",
        "\n",
        "    #Append the n_gram subphrases to sequences list\n",
        "    input_sequences.append(n_gram_sequence)\n",
        "\n",
        "# print(input_sequences) #sample output:[[4, 2], [4, 2, 66], [4, 2, 66, 8], [4, 2, 66, 8, 67]]\n",
        "\n",
        "#Get the length of longest line\n",
        "max_sequence_len = max([len(x) for x in input_sequences])\n",
        "\n",
        "#Pad all sequences\n",
        "pad_input_sequences = pad_sequences(input_sequences, maxlen=max_sequence_len, padding='pre')\n",
        "\n",
        "# Create inputs and label by splitting the last token in the subphrases\n",
        "x_train, y_train = pad_input_sequences[:,:-1],pad_input_sequences[:,-1]\n",
        "\n",
        "#Convert labels to one hot encoded\n",
        "y_train_one_hot_encoded = keras.utils.to_categorical(y_train,\n",
        "                                                     num_classes=total_words) #here we want to predict next word; so number of classes will be same as total no. of words"
      ],
      "metadata": {
        "id": "5rSWMG8-lWxY"
      },
      "execution_count": null,
      "outputs": []
    },
    {
      "cell_type": "code",
      "source": [
        "print(y_train_one_hot_encoded)"
      ],
      "metadata": {
        "id": "GzHz9KsKx-VV"
      },
      "execution_count": null,
      "outputs": []
    },
    {
      "cell_type": "markdown",
      "metadata": {
        "id": "ipaZBkMa9C2Y"
      },
      "source": [
        "Let's see the result for the first line of the song. The particular line and the expected token sequence is shown in the cell below:"
      ]
    },
    {
      "cell_type": "code",
      "source": [
        "sentence = corpus[0].split(\" \")\n",
        "print(f'sample sentence: {sentence}')\n",
        "word_index['in']"
      ],
      "metadata": {
        "id": "fHYSTB7-2iED"
      },
      "execution_count": null,
      "outputs": []
    },
    {
      "cell_type": "code",
      "source": [
        "# Get sample sentence and split into words\n",
        "sentence = corpus[0].split()\n",
        "print(f'sample sentence: {sentence}')\n",
        "\n",
        "#Initialize token list\n",
        "token_list = []\n",
        "\n",
        "# Look up the indices of each word and append to the list\n",
        "for word in sentence:\n",
        "  token_list.append(word_index[word])\n",
        "\n",
        "# Print the token list\n",
        "print(token_list)"
      ],
      "metadata": {
        "id": "-0ORzwDEyvGu"
      },
      "execution_count": null,
      "outputs": []
    },
    {
      "cell_type": "markdown",
      "metadata": {
        "id": "qJHHJAt99Y6P"
      },
      "source": [
        "Since there are 8 tokens here, you can expect to find this particular line in the first 7 elements of the `xs` that you generated earlier. If we get the longest subphrase generated, that should be found in `xs[6]`. See the padded token sequence below:"
      ]
    },
    {
      "cell_type": "code",
      "source": [
        "#pick an element\n",
        "element = 6\n",
        "\n",
        "#print token list and decode\n",
        "print(\"Token list at element number\",element,\" is \",x_train[element])\n",
        "print(\"Decoded version is \", tokenizer.sequences_to_texts([x_train[element]])) #note we had wrap it in list to make the function work"
      ],
      "metadata": {
        "id": "YpgiCqMg4RX-"
      },
      "execution_count": null,
      "outputs": []
    },
    {
      "cell_type": "markdown",
      "metadata": {
        "id": "1_Ih_j6L_xFD"
      },
      "source": [
        "If you print out the label, it should show `70` because that is the next word in the phrase (i.e. `lanigan`). See the one-hot encoded form below. You can use the [`np.argmax()`](https://numpy.org/doc/stable/reference/generated/numpy.argmax.html) method to get the index of the 'hot' label."
      ]
    },
    {
      "cell_type": "code",
      "source": [
        "#print label\n",
        "print(\"One hot label at element number \",element,\" is \",y_train_one_hot_encoded[element])\n",
        "print(\"Index of label is :\", np.argmax(y_train_one_hot_encoded[element]))"
      ],
      "metadata": {
        "id": "uC9F_wsU5KYy"
      },
      "execution_count": null,
      "outputs": []
    },
    {
      "cell_type": "markdown",
      "metadata": {
        "id": "qOMge9xdAmjg"
      },
      "source": [
        "If you pick the element before that, you will see the same subphrase as above minus one word:"
      ]
    },
    {
      "cell_type": "code",
      "source": [
        "#pick an element\n",
        "element = 5\n",
        "\n",
        "#print token list and decode\n",
        "print(\"Token list at element number\",element,\" is \",x_train[element])\n",
        "print(\"Decoded version is \", tokenizer.sequences_to_texts([x_train[element]])) #note we had wrap it in list to make the function work\n",
        "\n",
        "#print label\n",
        "print(\"One hot label at element number \",element,\" is \",y_train_one_hot_encoded[element])\n",
        "print(\"Index of label is :\", np.argmax(y_train_one_hot_encoded[element]))"
      ],
      "metadata": {
        "id": "K6wkpzve5x2C"
      },
      "execution_count": null,
      "outputs": []
    },
    {
      "cell_type": "markdown",
      "metadata": {
        "id": "c6w_I9OUA2D3"
      },
      "source": [
        "## Build the Model\n",
        "\n",
        "Next, you will build the model with basically the same layers as before. The main difference is you will remove the sigmoid output and use a softmax activated `Dense` layer instead. This output layer will have one neuron for each word in the vocabulary. So given an input token list, the output array of the final layer will have the probabilities for each word."
      ]
    },
    {
      "cell_type": "code",
      "source": [
        "#Build the model\n",
        "model = keras.Sequential([\n",
        "    keras.layers.Embedding(total_words, 64, input_length=max_sequence_len-1), #since we parsed out last word to create label\n",
        "    keras.layers.Bidirectional(keras.layers.LSTM(20)),\n",
        "    keras.layers.Dense(total_words, activation='softmax') #next word can be any one of words found in corpus\n",
        "])\n",
        "\n",
        "# Use categorical crossentropy because this is a multi-class problem\n",
        "model.compile(loss='categorical_crossentropy', optimizer='adam', metrics=['accuracy'])\n",
        "\n",
        "# Print the model summary\n",
        "model.summary()"
      ],
      "metadata": {
        "id": "R-FLoqio59la"
      },
      "execution_count": null,
      "outputs": []
    },
    {
      "cell_type": "markdown",
      "metadata": {
        "id": "0Xnb6i2WC_sy"
      },
      "source": [
        "## Train the model\n",
        "\n",
        "You can now train the model. We have a relatively small vocabulary so it will only take a couple of minutes to complete 500 epochs."
      ]
    },
    {
      "cell_type": "code",
      "execution_count": null,
      "metadata": {
        "id": "mF2k2nD9vgsD"
      },
      "outputs": [],
      "source": [
        "# Train the model\n",
        "history = model.fit(x_train, y_train_one_hot_encoded, epochs=500)"
      ]
    },
    {
      "cell_type": "markdown",
      "metadata": {
        "id": "hRwgZjJxDTqh"
      },
      "source": [
        "You can visualize the results with the utility below. With the default settings, you should see around 95% accuracy after 500 epochs."
      ]
    },
    {
      "cell_type": "code",
      "execution_count": null,
      "metadata": {
        "id": "3YXGelKThoTT"
      },
      "outputs": [],
      "source": [
        "import matplotlib.pyplot as plt\n",
        "\n",
        "# Plot utility\n",
        "def plot_graphs(history, string):\n",
        "  plt.plot(history.history[string])\n",
        "  plt.xlabel(\"Epochs\")\n",
        "  plt.ylabel(string)\n",
        "  plt.show()\n",
        "\n",
        "# Visualize the accuracy\n",
        "plot_graphs(history, 'accuracy')"
      ]
    },
    {
      "cell_type": "markdown",
      "metadata": {
        "id": "NUmA472NDn_v"
      },
      "source": [
        "## Generating Text\n",
        "\n",
        "With the model trained, you can now use it to make its own song! The process would look like:\n",
        "\n",
        "1. Feed a seed text to initiate the process.\n",
        "2. Model predicts the index of the most probable next word.\n",
        "3. Look up the index in the reverse word index dictionary\n",
        "4. Append the next word to the seed text.\n",
        "5. Feed the result to the model again.\n",
        "\n",
        "Steps 2 to 5 will repeat until the desired length of the song is reached. See how it is implemented in the code below:"
      ]
    },
    {
      "cell_type": "code",
      "source": [
        "# Define seed text\n",
        "seed_text = \"Laurence went to Dublin\"\n",
        "\n",
        "# Define total words to predict\n",
        "next_words = 100\n",
        "\n",
        "# Loop until desired length is reached\n",
        "for _ in range(next_words):\n",
        "\n",
        "    # convert the seed text into token sequences\n",
        "    token_list = tokenizer.texts_to_sequences([seed_text])[0]\n",
        "\n",
        "    # the sequences should be in form of list of list format\n",
        "    token_list = [token_list]\n",
        "\n",
        "    # pad the sequences\n",
        "    pad_token_list = pad_sequences(\n",
        "        token_list, maxlen=max_sequence_len - 1, padding=\"pre\"\n",
        "    )\n",
        "\n",
        "    # Feed to the model and get the probabilities for each index\n",
        "    prob = model.predict(pad_token_list)\n",
        "\n",
        "    # Get the index with the highest probability\n",
        "    predicted = np.argmax(prob, axis=-1)[0]\n",
        "\n",
        "    # Ignore if index is 0 because that is just the padding.\n",
        "    if predicted != 0:\n",
        "\n",
        "        # Look up the word associated with the index.\n",
        "        output_word = tokenizer.index_word[predicted]\n",
        "\n",
        "        # Combine with the seed text\n",
        "        seed_text += \" \" + output_word\n",
        "\n",
        "# Print the result\n",
        "print(seed_text)\n"
      ],
      "metadata": {
        "id": "Fv99c_nZ7xVs"
      },
      "execution_count": null,
      "outputs": []
    },
    {
      "cell_type": "markdown",
      "metadata": {
        "id": "HU7eZOKiFydr"
      },
      "source": [
        "In the output above, you might notice frequent repetition of words the longer the sentence gets. There are ways to get around it and the next cell shows one. Basically, instead of getting the index with max probability, you will get the top three indices and choose one at random. See if the output text makes more sense with this approach. This is not the most time efficient solution because it is always sorting the entire array even if you only need the top three. Feel free to improve it and of course, you can also develop your own method of picking the next word."
      ]
    },
    {
      "cell_type": "code",
      "execution_count": null,
      "metadata": {
        "id": "JZqJKIpgkiYt"
      },
      "outputs": [],
      "source": [
        "# Define seed text\n",
        "seed_text = \"Laurence went to Dublin\"\n",
        "\n",
        "# Define total words to predict\n",
        "next_words = 100\n",
        "\n",
        "# Loop until desired length is reached\n",
        "for _ in range(next_words):\n",
        "\n",
        "\t# Convert the seed text to a token sequence\n",
        "  token_list = tokenizer.texts_to_sequences([seed_text])[0]\n",
        "\n",
        "\t# Pad the sequence\n",
        "  token_list = pad_sequences([token_list], maxlen=max_sequence_len-1, padding='pre')\n",
        "\n",
        "\t# Feed to the model and get the probabilities for each index\n",
        "  probabilities = model.predict(token_list)\n",
        "\n",
        "  # Pick a random number from [1,2,3]\n",
        "  choice = np.random.choice([1,2,3])\n",
        "\n",
        "  # Sort the probabilities in ascending order\n",
        "  # and get the random choice from the end of the array\n",
        "  predicted = np.argsort(probabilities)[0][-choice]\n",
        "\n",
        "\t# Ignore if index is 0 because that is just the padding.\n",
        "  if predicted != 0:\n",
        "\n",
        "\t\t# Look up the word associated with the index.\n",
        "\t  output_word = tokenizer.index_word[predicted]\n",
        "\n",
        "\t\t# Combine with the seed text\n",
        "\t  seed_text += \" \" + output_word\n",
        "\n",
        "# Print the result\n",
        "print(seed_text)"
      ]
    },
    {
      "cell_type": "markdown",
      "metadata": {
        "id": "dXg6aEu5dKiV"
      },
      "source": [
        "## Wrap Up\n",
        "\n",
        "In this lab, you got a first look at preparing data and building a model for text generation. The corpus is fairly small in this particular exercise and in the next lessons, you will be building one from a larger body of text. See you there!"
      ]
    }
  ],
  "metadata": {
    "colab": {
      "private_outputs": true,
      "provenance": [],
      "include_colab_link": true
    },
    "kernelspec": {
      "display_name": "Python 3",
      "language": "python",
      "name": "python3"
    },
    "language_info": {
      "codemirror_mode": {
        "name": "ipython",
        "version": 3
      },
      "file_extension": ".py",
      "mimetype": "text/x-python",
      "name": "python",
      "nbconvert_exporter": "python",
      "pygments_lexer": "ipython3",
      "version": "3.7.4"
    }
  },
  "nbformat": 4,
  "nbformat_minor": 0
}