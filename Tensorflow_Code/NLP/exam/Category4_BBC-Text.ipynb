{
  "nbformat": 4,
  "nbformat_minor": 0,
  "metadata": {
    "colab": {
      "provenance": [],
      "authorship_tag": "ABX9TyMKmJ9tIqaC3QkdYYAt0jEl",
      "include_colab_link": true
    },
    "kernelspec": {
      "name": "python3",
      "display_name": "Python 3"
    },
    "language_info": {
      "name": "python"
    }
  },
  "cells": [
    {
      "cell_type": "markdown",
      "metadata": {
        "id": "view-in-github",
        "colab_type": "text"
      },
      "source": [
        "<a href=\"https://colab.research.google.com/github/shuchimishra/Tensorflow_projects/blob/main/Tensorflow_Code/NLP/exam/Category4_BBC-Text.ipynb\" target=\"_parent\"><img src=\"https://colab.research.google.com/assets/colab-badge.svg\" alt=\"Open In Colab\"/></a>"
      ]
    },
    {
      "cell_type": "code",
      "source": [
        "%matplotlib inline\n",
        "%config InlineBackend.fugure_format = 'retina'\n",
        "def plot_loss_acc(history):\n",
        "  #-----------------------------------------------------------\n",
        "  # Retrieve a list of list results on training and test data\n",
        "  # sets for each training epoch\n",
        "  #-----------------------------------------------------------\n",
        "  acc      = history.history[     'accuracy' ]\n",
        "  val_acc  = history.history[ 'val_accuracy' ]\n",
        "  loss     = history.history[    'loss' ]\n",
        "  val_loss = history.history['val_loss' ]\n",
        "  epochs   = range(len(acc)) # Get number of epochs\n",
        "  #------------------------------------------------\n",
        "  # Plot training and validation accuracy per epoch\n",
        "  #------------------------------------------------\n",
        "  plt.plot  ( epochs,     acc, label='Training accuracy' )\n",
        "  plt.plot  ( epochs, val_acc, label='Validation accuracy' )\n",
        "  plt.title ('Training and validation accuracy')\n",
        "  plt.grid()\n",
        "  plt.legend()\n",
        "  plt.xlabel(\"Epochs\")\n",
        "  plt.ylabel(\"Accuracy\")\n",
        "  plt.figure()\n",
        "  #------------------------------------------------\n",
        "  # Plot training and validation loss per epoch\n",
        "  #------------------------------------------------\n",
        "  plt.plot  ( epochs,     loss, label='Training loss' )\n",
        "  plt.plot  ( epochs, val_loss, label='Validation loss' )\n",
        "  plt.grid()\n",
        "  plt.legend()\n",
        "  plt.xlabel(\"Epochs\")\n",
        "  plt.ylabel(\"Loss\")\n",
        "  plt.title ('Training and validation loss'   )"
      ],
      "metadata": {
        "id": "WeIyXUHloCVF"
      },
      "execution_count": 1,
      "outputs": []
    },
    {
      "cell_type": "code",
      "execution_count": 95,
      "metadata": {
        "colab": {
          "base_uri": "https://localhost:8080/"
        },
        "id": "3NpvKS4jj55P",
        "outputId": "f4b984f0-b78f-4668-fdf6-6b20df3fe43d"
      },
      "outputs": [
        {
          "output_type": "stream",
          "name": "stdout",
          "text": [
            "Epoch 1/100\n",
            "41/56 [====================>.........] - ETA: 0s - loss: 1.7654 - accuracy: 0.2912\n",
            "Epoch 1: val_accuracy improved from -inf to 0.42247, saving model to bestmodel.h5\n",
            "56/56 [==============================] - 1s 8ms/step - loss: 1.7527 - accuracy: 0.3298 - val_loss: 1.7005 - val_accuracy: 0.4225 - lr: 0.0010\n",
            "Epoch 2/100\n",
            "39/56 [===================>..........] - ETA: 0s - loss: 1.6656 - accuracy: 0.4095"
          ]
        },
        {
          "output_type": "stream",
          "name": "stderr",
          "text": [
            "/usr/local/lib/python3.10/dist-packages/keras/src/engine/training.py:3103: UserWarning: You are saving your model as an HDF5 file via `model.save()`. This file format is considered legacy. We recommend using instead the native Keras format, e.g. `model.save('my_model.keras')`.\n",
            "  saving_api.save_model(\n"
          ]
        },
        {
          "output_type": "stream",
          "name": "stdout",
          "text": [
            "\n",
            "Epoch 2: val_accuracy improved from 0.42247 to 0.45169, saving model to bestmodel.h5\n",
            "56/56 [==============================] - 0s 4ms/step - loss: 1.6475 - accuracy: 0.4331 - val_loss: 1.6019 - val_accuracy: 0.4517 - lr: 0.0010\n",
            "Epoch 3/100\n",
            "54/56 [===========================>..] - ETA: 0s - loss: 1.5581 - accuracy: 0.4502\n",
            "Epoch 3: val_accuracy improved from 0.45169 to 0.45393, saving model to bestmodel.h5\n",
            "56/56 [==============================] - 0s 4ms/step - loss: 1.5572 - accuracy: 0.4483 - val_loss: 1.5153 - val_accuracy: 0.4539 - lr: 0.0010\n",
            "Epoch 4/100\n",
            "53/56 [===========================>..] - ETA: 0s - loss: 1.4561 - accuracy: 0.4540\n",
            "Epoch 4: val_accuracy improved from 0.45393 to 0.46067, saving model to bestmodel.h5\n",
            "56/56 [==============================] - 0s 4ms/step - loss: 1.4511 - accuracy: 0.4556 - val_loss: 1.3963 - val_accuracy: 0.4607 - lr: 0.0010\n",
            "Epoch 5/100\n",
            "48/56 [========================>.....] - ETA: 0s - loss: 1.3064 - accuracy: 0.4688\n",
            "Epoch 5: val_accuracy improved from 0.46067 to 0.52584, saving model to bestmodel.h5\n",
            "56/56 [==============================] - 0s 4ms/step - loss: 1.3033 - accuracy: 0.4719 - val_loss: 1.2379 - val_accuracy: 0.5258 - lr: 0.0010\n",
            "Epoch 6/100\n",
            "38/56 [===================>..........] - ETA: 0s - loss: 1.1553 - accuracy: 0.6094\n",
            "Epoch 6: val_accuracy improved from 0.52584 to 0.71910, saving model to bestmodel.h5\n",
            "56/56 [==============================] - 0s 4ms/step - loss: 1.1246 - accuracy: 0.6584 - val_loss: 1.0760 - val_accuracy: 0.7191 - lr: 0.0010\n",
            "Epoch 7/100\n",
            "52/56 [==========================>...] - ETA: 0s - loss: 0.9527 - accuracy: 0.7782\n",
            "Epoch 7: val_accuracy improved from 0.71910 to 0.82247, saving model to bestmodel.h5\n",
            "56/56 [==============================] - 0s 4ms/step - loss: 0.9462 - accuracy: 0.7820 - val_loss: 0.9163 - val_accuracy: 0.8225 - lr: 0.0010\n",
            "Epoch 8/100\n",
            "40/56 [====================>.........] - ETA: 0s - loss: 0.8054 - accuracy: 0.8547\n",
            "Epoch 8: val_accuracy improved from 0.82247 to 0.84270, saving model to bestmodel.h5\n",
            "56/56 [==============================] - 0s 4ms/step - loss: 0.7850 - accuracy: 0.8629 - val_loss: 0.7821 - val_accuracy: 0.8427 - lr: 0.0010\n",
            "Epoch 9/100\n",
            "39/56 [===================>..........] - ETA: 0s - loss: 0.6755 - accuracy: 0.8774\n",
            "Epoch 9: val_accuracy improved from 0.84270 to 0.86742, saving model to bestmodel.h5\n",
            "56/56 [==============================] - 0s 4ms/step - loss: 0.6440 - accuracy: 0.8927 - val_loss: 0.6698 - val_accuracy: 0.8674 - lr: 0.0010\n",
            "Epoch 10/100\n",
            "50/56 [=========================>....] - ETA: 0s - loss: 0.5376 - accuracy: 0.9050\n",
            "Epoch 10: val_accuracy did not improve from 0.86742\n",
            "56/56 [==============================] - 0s 5ms/step - loss: 0.5293 - accuracy: 0.9101 - val_loss: 0.5911 - val_accuracy: 0.8607 - lr: 0.0010\n",
            "Epoch 11/100\n",
            "47/56 [========================>.....] - ETA: 0s - loss: 0.4426 - accuracy: 0.9275\n",
            "Epoch 11: val_accuracy did not improve from 0.86742\n",
            "56/56 [==============================] - 0s 6ms/step - loss: 0.4418 - accuracy: 0.9247 - val_loss: 0.5281 - val_accuracy: 0.8584 - lr: 0.0010\n",
            "Epoch 12/100\n",
            "47/56 [========================>.....] - ETA: 0s - loss: 0.3812 - accuracy: 0.9315\n",
            "Epoch 12: val_accuracy improved from 0.86742 to 0.88315, saving model to bestmodel.h5\n",
            "56/56 [==============================] - 0s 7ms/step - loss: 0.3743 - accuracy: 0.9320 - val_loss: 0.4715 - val_accuracy: 0.8831 - lr: 0.0010\n",
            "Epoch 13/100\n",
            "46/56 [=======================>......] - ETA: 0s - loss: 0.3215 - accuracy: 0.9368\n",
            "Epoch 13: val_accuracy improved from 0.88315 to 0.88989, saving model to bestmodel.h5\n",
            "56/56 [==============================] - 0s 7ms/step - loss: 0.3220 - accuracy: 0.9399 - val_loss: 0.4350 - val_accuracy: 0.8899 - lr: 0.0010\n",
            "Epoch 14/100\n",
            "48/56 [========================>.....] - ETA: 0s - loss: 0.2841 - accuracy: 0.9434\n",
            "Epoch 14: val_accuracy improved from 0.88989 to 0.89213, saving model to bestmodel.h5\n",
            "56/56 [==============================] - 0s 7ms/step - loss: 0.2810 - accuracy: 0.9427 - val_loss: 0.4020 - val_accuracy: 0.8921 - lr: 0.0010\n",
            "Epoch 15/100\n",
            "51/56 [==========================>...] - ETA: 0s - loss: 0.2475 - accuracy: 0.9498\n",
            "Epoch 15: val_accuracy improved from 0.89213 to 0.89438, saving model to bestmodel.h5\n",
            "56/56 [==============================] - 0s 7ms/step - loss: 0.2481 - accuracy: 0.9472 - val_loss: 0.3855 - val_accuracy: 0.8944 - lr: 0.0010\n",
            "Epoch 16/100\n",
            "54/56 [===========================>..] - ETA: 0s - loss: 0.2203 - accuracy: 0.9531\n",
            "Epoch 16: val_accuracy improved from 0.89438 to 0.89888, saving model to bestmodel.h5\n",
            "56/56 [==============================] - 0s 7ms/step - loss: 0.2197 - accuracy: 0.9534 - val_loss: 0.3639 - val_accuracy: 0.8989 - lr: 0.0010\n",
            "Epoch 17/100\n",
            "47/56 [========================>.....] - ETA: 0s - loss: 0.2007 - accuracy: 0.9581\n",
            "Epoch 17: val_accuracy improved from 0.89888 to 0.91236, saving model to bestmodel.h5\n",
            "56/56 [==============================] - 0s 6ms/step - loss: 0.1974 - accuracy: 0.9584 - val_loss: 0.3477 - val_accuracy: 0.9124 - lr: 0.0010\n",
            "Epoch 18/100\n",
            "56/56 [==============================] - ETA: 0s - loss: 0.1780 - accuracy: 0.9663\n",
            "Epoch 18: val_accuracy did not improve from 0.91236\n",
            "56/56 [==============================] - 0s 7ms/step - loss: 0.1780 - accuracy: 0.9663 - val_loss: 0.3401 - val_accuracy: 0.9124 - lr: 0.0010\n",
            "Epoch 19/100\n",
            "45/56 [=======================>......] - ETA: 0s - loss: 0.1622 - accuracy: 0.9708\n",
            "Epoch 19: val_accuracy did not improve from 0.91236\n",
            "56/56 [==============================] - 0s 6ms/step - loss: 0.1599 - accuracy: 0.9708 - val_loss: 0.3286 - val_accuracy: 0.9056 - lr: 0.0010\n",
            "Epoch 20/100\n",
            "46/56 [=======================>......] - ETA: 0s - loss: 0.1429 - accuracy: 0.9735\n",
            "Epoch 20: val_accuracy improved from 0.91236 to 0.91685, saving model to bestmodel.h5\n",
            "56/56 [==============================] - 0s 4ms/step - loss: 0.1452 - accuracy: 0.9742 - val_loss: 0.3207 - val_accuracy: 0.9169 - lr: 0.0010\n",
            "Epoch 21/100\n",
            "54/56 [===========================>..] - ETA: 0s - loss: 0.1332 - accuracy: 0.9774\n",
            "Epoch 21: val_accuracy did not improve from 0.91685\n",
            "56/56 [==============================] - 0s 4ms/step - loss: 0.1328 - accuracy: 0.9764 - val_loss: 0.3182 - val_accuracy: 0.9101 - lr: 0.0010\n",
            "Epoch 22/100\n",
            "54/56 [===========================>..] - ETA: 0s - loss: 0.1210 - accuracy: 0.9809\n",
            "Epoch 22: val_accuracy did not improve from 0.91685\n",
            "56/56 [==============================] - 0s 4ms/step - loss: 0.1203 - accuracy: 0.9815 - val_loss: 0.3063 - val_accuracy: 0.9146 - lr: 0.0010\n",
            "Epoch 23/100\n",
            "40/56 [====================>.........] - ETA: 0s - loss: 0.1134 - accuracy: 0.9820\n",
            "Epoch 23: val_accuracy did not improve from 0.91685\n",
            "\n",
            "Epoch 23: ReduceLROnPlateau reducing learning rate to 0.00010000000474974513.\n",
            "56/56 [==============================] - 0s 4ms/step - loss: 0.1099 - accuracy: 0.9826 - val_loss: 0.3089 - val_accuracy: 0.9101 - lr: 0.0010\n",
            "Epoch 24/100\n",
            "37/56 [==================>...........] - ETA: 0s - loss: 0.1025 - accuracy: 0.9831\n",
            "Epoch 24: val_accuracy did not improve from 0.91685\n",
            "56/56 [==============================] - 0s 4ms/step - loss: 0.1020 - accuracy: 0.9843 - val_loss: 0.3073 - val_accuracy: 0.9124 - lr: 1.0000e-04\n",
            "Epoch 25/100\n",
            "41/56 [====================>.........] - ETA: 0s - loss: 0.1017 - accuracy: 0.9832\n",
            "Epoch 25: val_accuracy did not improve from 0.91685\n",
            "56/56 [==============================] - 0s 3ms/step - loss: 0.1009 - accuracy: 0.9854 - val_loss: 0.3064 - val_accuracy: 0.9124 - lr: 1.0000e-04\n",
            "Epoch 26/100\n",
            "53/56 [===========================>..] - ETA: 0s - loss: 0.0996 - accuracy: 0.9853\n",
            "Epoch 26: val_accuracy did not improve from 0.91685\n",
            "\n",
            "Epoch 26: ReduceLROnPlateau reducing learning rate to 1.0000000474974514e-05.\n",
            "56/56 [==============================] - 0s 4ms/step - loss: 0.0999 - accuracy: 0.9854 - val_loss: 0.3053 - val_accuracy: 0.9146 - lr: 1.0000e-04\n",
            "Epoch 27/100\n",
            "56/56 [==============================] - ETA: 0s - loss: 0.0991 - accuracy: 0.9860\n",
            "Epoch 27: val_accuracy did not improve from 0.91685\n",
            "56/56 [==============================] - 0s 4ms/step - loss: 0.0991 - accuracy: 0.9860 - val_loss: 0.3053 - val_accuracy: 0.9124 - lr: 1.0000e-05\n",
            "Epoch 28/100\n",
            "52/56 [==========================>...] - ETA: 0s - loss: 0.0985 - accuracy: 0.9850\n",
            "Epoch 28: val_accuracy did not improve from 0.91685\n",
            "56/56 [==============================] - 0s 4ms/step - loss: 0.0990 - accuracy: 0.9860 - val_loss: 0.3051 - val_accuracy: 0.9146 - lr: 1.0000e-05\n",
            "Epoch 28: early stopping\n"
          ]
        }
      ],
      "source": [
        "# ===================================================================================================\n",
        "# PROBLEM B4\n",
        "#\n",
        "# Build and train a classifier for the BBC-text dataset.\n",
        "# This is a multiclass classification problem.\n",
        "# Do not use lambda layers in your model.\n",
        "#\n",
        "# The dataset used in this problem is originally published in: http://mlg.ucd.ie/datasets/bbc.html.\n",
        "#\n",
        "# Desired accuracy and validation_accuracy > 91%\n",
        "# ===================================================================================================\n",
        "import numpy as np\n",
        "# from sklearn.model_selection import train_test_split\n",
        "from tensorflow.keras.preprocessing.text import Tokenizer\n",
        "from tensorflow.keras.preprocessing.sequence import pad_sequences\n",
        "import tensorflow as tf\n",
        "import pandas as pd\n",
        "import csv\n",
        "import matplotlib.pyplot as plt\n",
        "\n",
        "def solution_model():\n",
        "    bbc = pd.read_csv('https://github.com/dicodingacademy/assets/raw/main/Simulation/machine_learning/bbc-text.csv')\n",
        "    # DO NOT CHANGE THIS CODE\n",
        "    # Make sure you used all of these parameters or you can not pass this test\n",
        "    vocab_size = 1000\n",
        "    embedding_dim = 16\n",
        "    max_length = 120\n",
        "    trunc_type = 'post'\n",
        "    padding_type = 'post'\n",
        "    oov_tok = \"<OOV>\"\n",
        "    training_portion = .8\n",
        "\n",
        "    # YOUR CODE HERE\n",
        "    # Using \"shuffle=False\"\n",
        "    # def remove_stopwords(sentence):\n",
        "    #     # List of stopwords\n",
        "    #     stopwords = [\"a\", \"about\", \"above\", \"after\", \"again\", \"against\", \"all\", \"am\", \"an\", \"and\", \"any\", \"are\", \"as\",\n",
        "    #                  \"at\", \"be\", \"because\", \"been\", \"before\", \"being\", \"below\", \"between\", \"both\", \"but\", \"by\", \"could\",\n",
        "    #                  \"did\", \"do\", \"does\", \"doing\", \"down\", \"during\", \"each\", \"few\", \"for\", \"from\", \"further\", \"had\",\n",
        "    #                  \"has\", \"have\", \"having\", \"he\", \"he'd\", \"he'll\", \"he's\", \"her\", \"here\", \"here's\", \"hers\", \"herself\",\n",
        "    #                  \"him\", \"himself\", \"his\", \"how\", \"how's\", \"i\", \"i'd\", \"i'll\", \"i'm\", \"i've\", \"if\", \"in\", \"into\",\n",
        "    #                  \"is\", \"it\", \"it's\", \"its\", \"itself\", \"let's\", \"me\", \"more\", \"most\", \"my\", \"myself\", \"nor\", \"of\",\n",
        "    #                  \"on\", \"once\", \"only\", \"or\", \"other\", \"ought\", \"our\", \"ours\", \"ourselves\", \"out\", \"over\", \"own\",\n",
        "    #                  \"same\", \"she\", \"she'd\", \"she'll\", \"she's\", \"should\", \"so\", \"some\", \"such\", \"than\", \"that\",\n",
        "    #                  \"that's\", \"the\", \"their\", \"theirs\", \"them\", \"themselves\", \"then\", \"there\", \"there's\", \"these\",\n",
        "    #                  \"they\", \"they'd\", \"they'll\", \"they're\", \"they've\", \"this\", \"those\", \"through\", \"to\", \"too\",\n",
        "    #                  \"under\", \"until\", \"up\", \"very\", \"was\", \"we\", \"we'd\", \"we'll\", \"we're\", \"we've\", \"were\", \"what\",\n",
        "    #                  \"what's\", \"when\", \"when's\", \"where\", \"where's\", \"which\", \"while\", \"who\", \"who's\", \"whom\", \"why\",\n",
        "    #                  \"why's\", \"with\", \"would\", \"you\", \"you'd\", \"you'll\", \"you're\", \"you've\", \"your\", \"yours\",\n",
        "    #                  \"yourself\", \"yourselves\"]\n",
        "    #\n",
        "    #     # Sentence converted to lowercase-only\n",
        "    #     sentence = sentence.lower()\n",
        "    #\n",
        "    #     words = sentence.split()\n",
        "    #     no_words = [w for w in words if w not in stopwords]\n",
        "    #     sentence = \" \".join(no_words)\n",
        "    #\n",
        "    #     return sentence\n",
        "\n",
        "    sentences = []\n",
        "    labels = []\n",
        "    for _, row in bbc.iterrows():\n",
        "        labels.append(row[0])\n",
        "        sentences.append(row[1])\n",
        "\n",
        "    train_size = int(len(sentences) * training_portion)\n",
        "    training_sentences = sentences[:train_size]\n",
        "    training_labels = labels[:train_size]\n",
        "    validation_sentences = sentences[train_size:]\n",
        "    validation_labels = labels[train_size:]\n",
        "\n",
        "    # training_sentences, validation_sentences = #YOUR CODE HERE\n",
        "    # training_labels, validation_labels = #YOUR CODE HERE\n",
        "\n",
        "    # Fit your tokenizer with training data\n",
        "    tokenizer = Tokenizer(num_words=vocab_size, oov_token=oov_tok)\n",
        "    tokenizer.fit_on_texts(training_sentences)\n",
        "\n",
        "    def seq_pad_trunc(sen, tokenizer, padding, truncating, maxlen):\n",
        "        sequences = tokenizer.texts_to_sequences(sen)\n",
        "        pad_trunc_seq = pad_sequences(sequences, maxlen=maxlen, padding=padding, truncating=truncating)\n",
        "        return pad_trunc_seq\n",
        "\n",
        "    train_pad_seq_trunc = seq_pad_trunc(training_sentences, tokenizer, padding_type, trunc_type, max_length)\n",
        "    val_pad_seq_trunc = seq_pad_trunc(validation_sentences, tokenizer, padding_type, trunc_type, max_length)\n",
        "\n",
        "    # You can also use Tokenizer to encode your label.\n",
        "    label_tokenizer = Tokenizer()\n",
        "    label_tokenizer.fit_on_texts(labels)\n",
        "    train_label_seq = np.array(label_tokenizer.texts_to_sequences(training_labels))\n",
        "    val_label_seq = np.array(label_tokenizer.texts_to_sequences(validation_labels))\n",
        "\n",
        "    model = tf.keras.Sequential([\n",
        "        # YOUR CODE HERE.\n",
        "        # YOUR CODE HERE. DO not change the last layer or test may fail\n",
        "        tf.keras.layers.Embedding(vocab_size, embedding_dim, input_length=max_length),\n",
        "        tf.keras.layers.GlobalAveragePooling1D(),\n",
        "        # tf.keras.layers.Dropout(0.2),\n",
        "        tf.keras.layers.Dense(32, activation='relu'),\n",
        "        # tf.keras.layers.Dropout(0.2),\n",
        "        tf.keras.layers.Dense(6, activation='softmax')\n",
        "    ])\n",
        "\n",
        "    tf.keras.backend.clear_session()\n",
        "\n",
        "    lr = 1.0000e-03\n",
        "    optimizer = tf.keras.optimizers.Adam(learning_rate=lr)\n",
        "\n",
        "    # Make sure you are using \"sparse_categorical_crossentropy\" as a loss fuction\n",
        "    model.compile(\n",
        "        loss=\"sparse_categorical_crossentropy\",\n",
        "        optimizer=optimizer,\n",
        "        metrics=['accuracy']\n",
        "    )\n",
        "\n",
        "    #callbacks\n",
        "    MCP = tf.keras.callbacks.ModelCheckpoint(filepath='bestmodel.h5', monitor='val_accuracy', mode='auto', save_best_only=True, save_weights_only=False, verbose=1)\n",
        "    RLP = tf.keras.callbacks.ReduceLROnPlateau(monitor=\"val_accuracy\", factor=0.1, patience=3, verbose=1, mode=\"auto\") #, cooldown=7, patience=5, min_lr=0.000000001\n",
        "    ES = tf.keras.callbacks.EarlyStopping(monitor='val_accuracy', mode='auto', patience=8, verbose=1) #min_delta=1e-4, #patience=5\n",
        "\n",
        "    history = model.fit(train_pad_seq_trunc, train_label_seq, epochs=100, validation_data=(val_pad_seq_trunc, val_label_seq), verbose=1, callbacks=[MCP, RLP, ES])\n",
        "    return model\n",
        "\n",
        "    # The code below is to save your model as a .h5 file.\n",
        "    # It will be saved automatically in your Submission folder.\n",
        "if __name__ == '__main__':\n",
        "    # DO NOT CHANGE THIS CODE\n",
        "    model = solution_model()\n",
        "    model.save(\"mymodel.h5\")"
      ]
    },
    {
      "cell_type": "code",
      "source": [
        "# import numpy as np\n",
        "# # from sklearn.model_selection import train_test_split\n",
        "# from tensorflow.keras.preprocessing.text import Tokenizer\n",
        "# from tensorflow.keras.preprocessing.sequence import pad_sequences\n",
        "# import tensorflow as tf\n",
        "# import pandas as pd\n",
        "# import csv\n",
        "# import matplotlib.pyplot as plt\n"
      ],
      "metadata": {
        "id": "z84wWr6pmTgE"
      },
      "execution_count": 25,
      "outputs": []
    },
    {
      "cell_type": "code",
      "source": [
        "# bbc = pd.read_csv('https://github.com/dicodingacademy/assets/raw/main/Simulation/machine_learning/bbc-text.csv')\n",
        "# # DO NOT CHANGE THIS CODE\n",
        "# # Make sure you used all of these parameters or you can not pass this test\n",
        "# vocab_size = 1000\n",
        "# embedding_dim = 16\n",
        "# max_length = 120\n",
        "# trunc_type = 'post'\n",
        "# padding_type = 'post'\n",
        "# oov_tok = \"<OOV>\"\n",
        "# training_portion = .8"
      ],
      "metadata": {
        "id": "aY9vd-afmgA7"
      },
      "execution_count": 3,
      "outputs": []
    },
    {
      "cell_type": "code",
      "source": [
        "# YOUR CODE HERE\n",
        "# Using \"shuffle=False\"\n",
        "# def remove_stopwords(sentence):\n",
        "#     # List of stopwords\n",
        "#     stopwords = [\"a\", \"about\", \"above\", \"after\", \"again\", \"against\", \"all\", \"am\", \"an\", \"and\", \"any\", \"are\", \"as\",\n",
        "#                  \"at\", \"be\", \"because\", \"been\", \"before\", \"being\", \"below\", \"between\", \"both\", \"but\", \"by\", \"could\",\n",
        "#                  \"did\", \"do\", \"does\", \"doing\", \"down\", \"during\", \"each\", \"few\", \"for\", \"from\", \"further\", \"had\",\n",
        "#                  \"has\", \"have\", \"having\", \"he\", \"he'd\", \"he'll\", \"he's\", \"her\", \"here\", \"here's\", \"hers\", \"herself\",\n",
        "#                  \"him\", \"himself\", \"his\", \"how\", \"how's\", \"i\", \"i'd\", \"i'll\", \"i'm\", \"i've\", \"if\", \"in\", \"into\",\n",
        "#                  \"is\", \"it\", \"it's\", \"its\", \"itself\", \"let's\", \"me\", \"more\", \"most\", \"my\", \"myself\", \"nor\", \"of\",\n",
        "#                  \"on\", \"once\", \"only\", \"or\", \"other\", \"ought\", \"our\", \"ours\", \"ourselves\", \"out\", \"over\", \"own\",\n",
        "#                  \"same\", \"she\", \"she'd\", \"she'll\", \"she's\", \"should\", \"so\", \"some\", \"such\", \"than\", \"that\",\n",
        "#                  \"that's\", \"the\", \"their\", \"theirs\", \"them\", \"themselves\", \"then\", \"there\", \"there's\", \"these\",\n",
        "#                  \"they\", \"they'd\", \"they'll\", \"they're\", \"they've\", \"this\", \"those\", \"through\", \"to\", \"too\",\n",
        "#                  \"under\", \"until\", \"up\", \"very\", \"was\", \"we\", \"we'd\", \"we'll\", \"we're\", \"we've\", \"were\", \"what\",\n",
        "#                  \"what's\", \"when\", \"when's\", \"where\", \"where's\", \"which\", \"while\", \"who\", \"who's\", \"whom\", \"why\",\n",
        "#                  \"why's\", \"with\", \"would\", \"you\", \"you'd\", \"you'll\", \"you're\", \"you've\", \"your\", \"yours\",\n",
        "#                  \"yourself\", \"yourselves\"]\n",
        "#\n",
        "#     # Sentence converted to lowercase-only\n",
        "#     sentence = sentence.lower()\n",
        "#\n",
        "#     words = sentence.split()\n",
        "#     no_words = [w for w in words if w not in stopwords]\n",
        "#     sentence = \" \".join(no_words)\n",
        "#\n",
        "#     return sentence"
      ],
      "metadata": {
        "id": "ZNajwmS2mizD"
      },
      "execution_count": null,
      "outputs": []
    },
    {
      "cell_type": "code",
      "source": [
        "# sentences = []\n",
        "# labels = []\n",
        "# for _, row in bbc.iterrows():\n",
        "#     labels.append(row[0])\n",
        "#     sentences.append(row[1])"
      ],
      "metadata": {
        "id": "UczAi9RDmlzh"
      },
      "execution_count": 4,
      "outputs": []
    },
    {
      "cell_type": "code",
      "source": [
        "# train_size = int(len(sentences) * training_portion)\n",
        "# training_sentences = sentences[:train_size]\n",
        "# training_labels = labels[:train_size]\n",
        "# validation_sentences = sentences[train_size:]\n",
        "# validation_labels = labels[train_size:]\n",
        "\n",
        "# # training_sentences, validation_sentences = #YOUR CODE HERE\n",
        "# # training_labels, validation_labels = #YOUR CODE HERE"
      ],
      "metadata": {
        "id": "nei3D03RmqWs"
      },
      "execution_count": 5,
      "outputs": []
    },
    {
      "cell_type": "code",
      "source": [
        "# # Fit your tokenizer with training data\n",
        "# tokenizer = Tokenizer(num_words=vocab_size, oov_token=oov_tok)\n",
        "# tokenizer.fit_on_texts(training_sentences)"
      ],
      "metadata": {
        "id": "XLGFgrZkm1HR"
      },
      "execution_count": 6,
      "outputs": []
    },
    {
      "cell_type": "code",
      "source": [
        "# def seq_pad_trunc(sen, tokenizer, padding, truncating, maxlen):\n",
        "#   sequences = tokenizer.texts_to_sequences(sen)\n",
        "#   pad_trunc_seq = pad_sequences(sequences, maxlen=maxlen, padding=padding, truncating=truncating)\n",
        "#   return pad_trunc_seq"
      ],
      "metadata": {
        "id": "oBsUBT8Am9Xc"
      },
      "execution_count": 7,
      "outputs": []
    },
    {
      "cell_type": "code",
      "source": [
        "\n",
        "# train_pad_seq_trunc = seq_pad_trunc(training_sentences, tokenizer, padding_type, trunc_type, max_length)\n",
        "# val_pad_seq_trunc = seq_pad_trunc(validation_sentences, tokenizer, padding_type, trunc_type, max_length)"
      ],
      "metadata": {
        "id": "hq_jqowqnFYQ"
      },
      "execution_count": 8,
      "outputs": []
    },
    {
      "cell_type": "code",
      "source": [
        "# # You can also use Tokenizer to encode your label.\n",
        "# label_tokenizer = Tokenizer()\n",
        "# label_tokenizer.fit_on_texts(labels)\n",
        "# train_label_seq = np.array(label_tokenizer.texts_to_sequences(training_labels))\n",
        "# val_label_seq = np.array(label_tokenizer.texts_to_sequences(validation_labels))"
      ],
      "metadata": {
        "id": "3HS8av8Enq3Z"
      },
      "execution_count": 9,
      "outputs": []
    },
    {
      "cell_type": "code",
      "source": [
        "# model = tf.keras.Sequential([\n",
        "#     # YOUR CODE HERE.\n",
        "#     # YOUR CODE HERE. DO not change the last layer or test may fail\n",
        "#     tf.keras.layers.Embedding(vocab_size, embedding_dim, input_length=max_length),\n",
        "#     tf.keras.layers.GlobalAveragePooling1D(),\n",
        "#     # tf.keras.layers.Dropout(0.2),\n",
        "#     tf.keras.layers.Dense(32, activation='relu'),\n",
        "#     # tf.keras.layers.Dropout(0.2),\n",
        "#     tf.keras.layers.Dense(6, activation='softmax')\n",
        "# ])"
      ],
      "metadata": {
        "id": "pL3y3Dd3ntix"
      },
      "execution_count": 89,
      "outputs": []
    },
    {
      "cell_type": "code",
      "source": [
        "# tf.keras.backend.clear_session()"
      ],
      "metadata": {
        "id": "uwnc0fdkyHFb"
      },
      "execution_count": 90,
      "outputs": []
    },
    {
      "cell_type": "code",
      "source": [
        "# lr = 1.0000e-03\n",
        "# optimizer = tf.keras.optimizers.Adam(learning_rate=lr)\n",
        "\n",
        "# # Make sure you are using \"sparse_categorical_crossentropy\" as a loss fuction\n",
        "# model.compile(\n",
        "#     loss=\"sparse_categorical_crossentropy\",\n",
        "#     optimizer=optimizer,\n",
        "#     metrics=['accuracy']\n",
        "# )"
      ],
      "metadata": {
        "id": "S1qIW5YcnwIJ"
      },
      "execution_count": 91,
      "outputs": []
    },
    {
      "cell_type": "code",
      "source": [
        "# MCP = tf.keras.callbacks.ModelCheckpoint(filepath='bestmodel.h5', monitor='val_accuracy', mode='auto', save_best_only=True, save_weights_only=False, verbose=1)\n",
        "# RLP = tf.keras.callbacks.ReduceLROnPlateau(monitor=\"val_accuracy\", factor=0.1, patience=3, verbose=1, mode=\"auto\") #, cooldown=7, patience=5, min_lr=0.000000001\n",
        "# ES = tf.keras.callbacks.EarlyStopping(monitor='val_accuracy', mode='auto', patience=8, verbose=1) #min_delta=1e-4, #patience=5"
      ],
      "metadata": {
        "id": "IXmdynmyq0s0"
      },
      "execution_count": 92,
      "outputs": []
    },
    {
      "cell_type": "code",
      "source": [
        "# history = model.fit(train_pad_seq_trunc, train_label_seq, epochs=100, validation_data=(val_pad_seq_trunc, val_label_seq), verbose=1, callbacks=[MCP, RLP, ES])"
      ],
      "metadata": {
        "colab": {
          "base_uri": "https://localhost:8080/"
        },
        "id": "IJf54QPSmXAj",
        "outputId": "a3634c3e-feba-40d1-b47f-15a00affd3f6"
      },
      "execution_count": 93,
      "outputs": [
        {
          "output_type": "stream",
          "name": "stdout",
          "text": [
            "Epoch 1/100\n",
            "41/56 [====================>.........] - ETA: 0s - loss: 1.7706 - accuracy: 0.2462\n",
            "Epoch 1: val_accuracy improved from -inf to 0.22697, saving model to bestmodel.h5\n",
            "56/56 [==============================] - 1s 7ms/step - loss: 1.7612 - accuracy: 0.2472 - val_loss: 1.7222 - val_accuracy: 0.2270 - lr: 0.0010\n",
            "Epoch 2/100\n",
            "40/56 [====================>.........] - ETA: 0s - loss: 1.6926 - accuracy: 0.2234\n",
            "Epoch 2: val_accuracy did not improve from 0.22697\n",
            "56/56 [==============================] - 0s 4ms/step - loss: 1.6796 - accuracy: 0.2303 - val_loss: 1.6345 - val_accuracy: 0.2270 - lr: 0.0010\n",
            "Epoch 3/100\n",
            "37/56 [==================>...........] - ETA: 0s - loss: 1.6066 - accuracy: 0.2416\n",
            "Epoch 3: val_accuracy improved from 0.22697 to 0.31011, saving model to bestmodel.h5\n",
            "56/56 [==============================] - 0s 5ms/step - loss: 1.5990 - accuracy: 0.2354 - val_loss: 1.5638 - val_accuracy: 0.3101 - lr: 0.0010\n",
            "Epoch 4/100\n",
            "48/56 [========================>.....] - ETA: 0s - loss: 1.5280 - accuracy: 0.3906\n",
            "Epoch 4: val_accuracy improved from 0.31011 to 0.51910, saving model to bestmodel.h5\n",
            "56/56 [==============================] - 0s 5ms/step - loss: 1.5236 - accuracy: 0.4017 - val_loss: 1.4841 - val_accuracy: 0.5191 - lr: 0.0010\n",
            "Epoch 5/100\n",
            "39/56 [===================>..........] - ETA: 0s - loss: 1.4326 - accuracy: 0.5481\n",
            "Epoch 5: val_accuracy improved from 0.51910 to 0.64944, saving model to bestmodel.h5\n",
            "56/56 [==============================] - 0s 5ms/step - loss: 1.4142 - accuracy: 0.5781 - val_loss: 1.3579 - val_accuracy: 0.6494 - lr: 0.0010\n",
            "Epoch 6/100\n",
            "54/56 [===========================>..] - ETA: 0s - loss: 1.2544 - accuracy: 0.7523\n",
            "Epoch 6: val_accuracy improved from 0.64944 to 0.76629, saving model to bestmodel.h5\n",
            "56/56 [==============================] - 0s 5ms/step - loss: 1.2520 - accuracy: 0.7551 - val_loss: 1.1868 - val_accuracy: 0.7663 - lr: 0.0010\n",
            "Epoch 7/100\n",
            "51/56 [==========================>...] - ETA: 0s - loss: 1.0619 - accuracy: 0.8094\n",
            "Epoch 7: val_accuracy improved from 0.76629 to 0.87416, saving model to bestmodel.h5\n",
            "56/56 [==============================] - 0s 4ms/step - loss: 1.0573 - accuracy: 0.8163 - val_loss: 0.9990 - val_accuracy: 0.8742 - lr: 0.0010\n",
            "Epoch 8/100\n",
            "53/56 [===========================>..] - ETA: 0s - loss: 0.8550 - accuracy: 0.9021\n",
            "Epoch 8: val_accuracy improved from 0.87416 to 0.87865, saving model to bestmodel.h5\n",
            "56/56 [==============================] - 0s 5ms/step - loss: 0.8544 - accuracy: 0.9011 - val_loss: 0.8149 - val_accuracy: 0.8787 - lr: 0.0010\n",
            "Epoch 9/100\n",
            "55/56 [============================>.] - ETA: 0s - loss: 0.6783 - accuracy: 0.9136\n",
            "Epoch 9: val_accuracy improved from 0.87865 to 0.89438, saving model to bestmodel.h5\n",
            "56/56 [==============================] - 0s 5ms/step - loss: 0.6768 - accuracy: 0.9140 - val_loss: 0.6646 - val_accuracy: 0.8944 - lr: 0.0010\n",
            "Epoch 10/100\n",
            "39/56 [===================>..........] - ETA: 0s - loss: 0.5612 - accuracy: 0.9247\n",
            "Epoch 10: val_accuracy improved from 0.89438 to 0.89888, saving model to bestmodel.h5\n",
            "56/56 [==============================] - 0s 4ms/step - loss: 0.5370 - accuracy: 0.9287 - val_loss: 0.5595 - val_accuracy: 0.8989 - lr: 0.0010\n",
            "Epoch 11/100\n",
            "38/56 [===================>..........] - ETA: 0s - loss: 0.4462 - accuracy: 0.9383\n",
            "Epoch 11: val_accuracy improved from 0.89888 to 0.90112, saving model to bestmodel.h5\n",
            "56/56 [==============================] - 0s 5ms/step - loss: 0.4329 - accuracy: 0.9427 - val_loss: 0.4794 - val_accuracy: 0.9011 - lr: 0.0010\n",
            "Epoch 12/100\n",
            "48/56 [========================>.....] - ETA: 0s - loss: 0.3598 - accuracy: 0.9499\n",
            "Epoch 12: val_accuracy improved from 0.90112 to 0.90787, saving model to bestmodel.h5\n",
            "56/56 [==============================] - 0s 4ms/step - loss: 0.3560 - accuracy: 0.9494 - val_loss: 0.4285 - val_accuracy: 0.9079 - lr: 0.0010\n",
            "Epoch 13/100\n",
            "55/56 [============================>.] - ETA: 0s - loss: 0.2979 - accuracy: 0.9540\n",
            "Epoch 13: val_accuracy improved from 0.90787 to 0.91910, saving model to bestmodel.h5\n",
            "56/56 [==============================] - 0s 5ms/step - loss: 0.2980 - accuracy: 0.9539 - val_loss: 0.3778 - val_accuracy: 0.9191 - lr: 0.0010\n",
            "Epoch 14/100\n",
            "52/56 [==========================>...] - ETA: 0s - loss: 0.2532 - accuracy: 0.9609\n",
            "Epoch 14: val_accuracy did not improve from 0.91910\n",
            "56/56 [==============================] - 0s 4ms/step - loss: 0.2532 - accuracy: 0.9601 - val_loss: 0.3517 - val_accuracy: 0.9124 - lr: 0.0010\n",
            "Epoch 15/100\n",
            "40/56 [====================>.........] - ETA: 0s - loss: 0.2239 - accuracy: 0.9641\n",
            "Epoch 15: val_accuracy improved from 0.91910 to 0.92584, saving model to bestmodel.h5\n",
            "56/56 [==============================] - 0s 4ms/step - loss: 0.2191 - accuracy: 0.9635 - val_loss: 0.3263 - val_accuracy: 0.9258 - lr: 0.0010\n",
            "Epoch 16/100\n",
            "50/56 [=========================>....] - ETA: 0s - loss: 0.1906 - accuracy: 0.9694\n",
            "Epoch 16: val_accuracy did not improve from 0.92584\n",
            "56/56 [==============================] - 0s 4ms/step - loss: 0.1919 - accuracy: 0.9685 - val_loss: 0.3069 - val_accuracy: 0.9236 - lr: 0.0010\n",
            "Epoch 17/100\n",
            "53/56 [===========================>..] - ETA: 0s - loss: 0.1681 - accuracy: 0.9729\n",
            "Epoch 17: val_accuracy improved from 0.92584 to 0.92809, saving model to bestmodel.h5\n",
            "56/56 [==============================] - 0s 4ms/step - loss: 0.1697 - accuracy: 0.9713 - val_loss: 0.2909 - val_accuracy: 0.9281 - lr: 0.0010\n",
            "Epoch 18/100\n",
            "54/56 [===========================>..] - ETA: 0s - loss: 0.1516 - accuracy: 0.9751\n",
            "Epoch 18: val_accuracy did not improve from 0.92809\n",
            "56/56 [==============================] - 0s 4ms/step - loss: 0.1507 - accuracy: 0.9753 - val_loss: 0.2806 - val_accuracy: 0.9191 - lr: 0.0010\n",
            "Epoch 19/100\n",
            "55/56 [============================>.] - ETA: 0s - loss: 0.1346 - accuracy: 0.9790\n",
            "Epoch 19: val_accuracy did not improve from 0.92809\n",
            "56/56 [==============================] - 0s 5ms/step - loss: 0.1344 - accuracy: 0.9792 - val_loss: 0.2723 - val_accuracy: 0.9258 - lr: 0.0010\n",
            "Epoch 20/100\n",
            "53/56 [===========================>..] - ETA: 0s - loss: 0.1229 - accuracy: 0.9811\n",
            "Epoch 20: val_accuracy improved from 0.92809 to 0.93258, saving model to bestmodel.h5\n",
            "56/56 [==============================] - 0s 5ms/step - loss: 0.1216 - accuracy: 0.9820 - val_loss: 0.2610 - val_accuracy: 0.9326 - lr: 0.0010\n",
            "Epoch 21/100\n",
            "51/56 [==========================>...] - ETA: 0s - loss: 0.1094 - accuracy: 0.9853\n",
            "Epoch 21: val_accuracy did not improve from 0.93258\n",
            "56/56 [==============================] - 0s 5ms/step - loss: 0.1089 - accuracy: 0.9848 - val_loss: 0.2570 - val_accuracy: 0.9303 - lr: 0.0010\n",
            "Epoch 22/100\n",
            "40/56 [====================>.........] - ETA: 0s - loss: 0.1031 - accuracy: 0.9852\n",
            "Epoch 22: val_accuracy did not improve from 0.93258\n",
            "56/56 [==============================] - 0s 4ms/step - loss: 0.0983 - accuracy: 0.9871 - val_loss: 0.2484 - val_accuracy: 0.9258 - lr: 0.0010\n",
            "Epoch 23/100\n",
            "55/56 [============================>.] - ETA: 0s - loss: 0.0885 - accuracy: 0.9881\n",
            "Epoch 23: val_accuracy did not improve from 0.93258\n",
            "\n",
            "Epoch 23: ReduceLROnPlateau reducing learning rate to 0.00010000000474974513.\n",
            "56/56 [==============================] - 0s 5ms/step - loss: 0.0888 - accuracy: 0.9882 - val_loss: 0.2433 - val_accuracy: 0.9281 - lr: 0.0010\n",
            "Epoch 24/100\n",
            "49/56 [=========================>....] - ETA: 0s - loss: 0.0834 - accuracy: 0.9898\n",
            "Epoch 24: val_accuracy did not improve from 0.93258\n",
            "56/56 [==============================] - 0s 4ms/step - loss: 0.0825 - accuracy: 0.9904 - val_loss: 0.2431 - val_accuracy: 0.9303 - lr: 1.0000e-04\n",
            "Epoch 25/100\n",
            "38/56 [===================>..........] - ETA: 0s - loss: 0.0753 - accuracy: 0.9926\n",
            "Epoch 25: val_accuracy did not improve from 0.93258\n",
            "56/56 [==============================] - 0s 4ms/step - loss: 0.0808 - accuracy: 0.9904 - val_loss: 0.2432 - val_accuracy: 0.9326 - lr: 1.0000e-04\n",
            "Epoch 26/100\n",
            "56/56 [==============================] - ETA: 0s - loss: 0.0798 - accuracy: 0.9899\n",
            "Epoch 26: val_accuracy did not improve from 0.93258\n",
            "\n",
            "Epoch 26: ReduceLROnPlateau reducing learning rate to 1.0000000474974514e-05.\n",
            "56/56 [==============================] - 0s 5ms/step - loss: 0.0798 - accuracy: 0.9899 - val_loss: 0.2428 - val_accuracy: 0.9326 - lr: 1.0000e-04\n",
            "Epoch 27/100\n",
            "43/56 [======================>.......] - ETA: 0s - loss: 0.0801 - accuracy: 0.9898\n",
            "Epoch 27: val_accuracy did not improve from 0.93258\n",
            "56/56 [==============================] - 0s 3ms/step - loss: 0.0791 - accuracy: 0.9893 - val_loss: 0.2428 - val_accuracy: 0.9326 - lr: 1.0000e-05\n",
            "Epoch 28/100\n",
            "55/56 [============================>.] - ETA: 0s - loss: 0.0791 - accuracy: 0.9898\n",
            "Epoch 28: val_accuracy did not improve from 0.93258\n",
            "56/56 [==============================] - 0s 4ms/step - loss: 0.0790 - accuracy: 0.9899 - val_loss: 0.2427 - val_accuracy: 0.9326 - lr: 1.0000e-05\n",
            "Epoch 28: early stopping\n"
          ]
        }
      ]
    },
    {
      "cell_type": "code",
      "source": [
        "# # Plot training results\n",
        "# plot_loss_acc(history)"
      ],
      "metadata": {
        "colab": {
          "base_uri": "https://localhost:8080/",
          "height": 927
        },
        "id": "WPeOQEcroHwP",
        "outputId": "6ed24166-a192-4411-9ce0-b1e20ce2e82c"
      },
      "execution_count": 94,
      "outputs": [
        {
          "output_type": "display_data",
          "data": {
            "text/plain": [
              "<Figure size 640x480 with 1 Axes>"
            ],
            "image/png": "[encoded data removed]"
          },
          "metadata": {}
        },
        {
          "output_type": "display_data",
          "data": {
            "text/plain": [
              "<Figure size 640x480 with 1 Axes>"
            ],
            "image/png": "[encoded data removed]"
          },
          "metadata": {}
        }
      ]
    }
  ]
}