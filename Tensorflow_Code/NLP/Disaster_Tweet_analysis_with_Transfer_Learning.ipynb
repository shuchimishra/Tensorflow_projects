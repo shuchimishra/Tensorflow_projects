{
  "metadata": {
    "kernelspec": {
      "language": "python",
      "display_name": "Python 3",
      "name": "python3"
    },
    "language_info": {
      "pygments_lexer": "ipython3",
      "nbconvert_exporter": "python",
      "version": "3.6.4",
      "file_extension": ".py",
      "codemirror_mode": {
        "name": "ipython",
        "version": 3
      },
      "name": "python",
      "mimetype": "text/x-python"
    },
    "colab": {
      "name": "Guide: Tweet analysis with Transfer Learning",
      "provenance": [],
      "toc_visible": true,
      "include_colab_link": true
    }
  },
  "nbformat_minor": 0,
  "nbformat": 4,
  "cells": [
    {
      "cell_type": "markdown",
      "metadata": {
        "id": "view-in-github",
        "colab_type": "text"
      },
      "source": [
        "<a href=\"https://colab.research.google.com/github/shuchimishra/Tensorflow_projects/blob/main/Tensorflow_Code/NLP/Disaster_Tweet_analysis_with_Transfer_Learning.ipynb\" target=\"_parent\"><img src=\"https://colab.research.google.com/assets/colab-badge.svg\" alt=\"Open In Colab\"/></a>"
      ]
    },
    {
      "cell_type": "markdown",
      "source": [
        "# A solution to Disaster Twets using Transfer Learning"
      ],
      "metadata": {
        "id": "FHhrziopLons"
      }
    },
    {
      "cell_type": "markdown",
      "source": [
        "In this notebook we are going to solve the Geetting Started competition, Natural Language Processing with Disaster Tweets, using Transfer Learning.\n",
        "\n",
        "We will use the Universal Sentence Encoder from Tensorflow Hub.\n",
        "https://tfhub.dev/google/universal-sentence-encoder/4\n",
        "\n",
        "One of the main advantatges of use this model is that we don't need to conver our sentences in embedding, create dictionaris, tokenize.... we avoid a lot of the preprocessment related with NLP.\n",
        "\n",
        "We are going to do a minimal treatmet to transform the tweets from:\n",
        "\n",
        "- **'.@WestmdCountyPA land bank targets first #Latrobe building in 20th property acquisition to fight #blight: http://t.co/regDv873Aj'**\n",
        "\n",
        "to\n",
        "\n",
        "- **'land bank targets first latrobe building 20th property acquisition fight blight '**\n",
        "\n",
        "But if you want you can fork the notebook and try to pass the tweets without any transformation. *Most ideas, at the end oh the notebook in the **FORK & IMPROVE** section.*\n",
        "\n",
        "To achieve this it's necessary to do the next transformations:\n",
        "\n",
        "- Remove Marks: Remove punctuactions, and symbols.\n",
        "- Tokenize the sentence: Get all words, we are going to use *TweetTokenizer* from the *NLTK* library that have some intelligence adapted to tweets.\n",
        "- Remove Stop Words: Downloading the english lybrary *stopwords* from NLTK. We remove a lot of words from the tweets. In the sample above we removed: *in, to*.\n"
      ],
      "metadata": {
        "id": "wVZ-oja-Lont"
      }
    },
    {
      "cell_type": "code",
      "source": [
        "#import libraries.\n",
        "\n",
        "import matplotlib.pyplot as plt\n",
        "import numpy as np\n",
        "import pandas as pd\n",
        "\n",
        "import tensorflow as tf\n",
        "#Tranfer learning from tensorhub\n",
        "import tensorflow_hub as hub\n",
        "\n",
        "from sklearn.model_selection import train_test_split\n",
        "\n",
        "import nltk\n",
        "from nltk.corpus import stopwords\n",
        "from nltk.stem import PorterStemmer\n",
        "from nltk.tokenize import TweetTokenizer\n",
        "\n",
        "import re\n",
        "import string"
      ],
      "metadata": {
        "execution": {
          "iopub.status.busy": "2022-10-17T20:49:27.935031Z",
          "iopub.execute_input": "2022-10-17T20:49:27.935601Z",
          "iopub.status.idle": "2022-10-17T20:49:34.888216Z",
          "shell.execute_reply.started": "2022-10-17T20:49:27.935561Z",
          "shell.execute_reply": "2022-10-17T20:49:34.887212Z"
        },
        "trusted": true,
        "id": "y2_XInZmLont"
      },
      "execution_count": 1,
      "outputs": []
    },
    {
      "cell_type": "markdown",
      "source": [
        "# **[Optional] Copy source data files**"
      ],
      "metadata": {
        "id": "I7p4r57VveL_"
      }
    },
    {
      "cell_type": "code",
      "source": [
        "from google.colab import drive\n",
        "drive.mount('/content/drive')"
      ],
      "metadata": {
        "colab": {
          "base_uri": "https://localhost:8080/"
        },
        "id": "sxCjCi9hvkb2",
        "outputId": "9a73db22-db64-41fd-b3cc-30a31be4c932"
      },
      "execution_count": 2,
      "outputs": [
        {
          "output_type": "stream",
          "name": "stdout",
          "text": [
            "Mounted at /content/drive\n"
          ]
        }
      ]
    },
    {
      "cell_type": "code",
      "source": [
        "!mkdir data\n",
        "!cp '/content/drive/MyDrive/Data Science & Machine Learning/Tensorflow Certification/Repository/Tensorflow_projects/Data/DisasterTweets dataset/train.csv' './data/'\n",
        "!cp '/content/drive/MyDrive/Data Science & Machine Learning/Tensorflow Certification/Repository/Tensorflow_projects/Data/DisasterTweets dataset/test.csv' './data/'\n",
        "!cp '/content/drive/MyDrive/Data Science & Machine Learning/Tensorflow Certification/Repository/Tensorflow_projects/Data/DisasterTweets dataset/test.csv' './data/'"
      ],
      "metadata": {
        "id": "U7T8t40VvdPT"
      },
      "execution_count": 3,
      "outputs": []
    },
    {
      "cell_type": "markdown",
      "source": [
        "# Load & Transform the data"
      ],
      "metadata": {
        "id": "4UCFkb7ALont"
      }
    },
    {
      "cell_type": "code",
      "source": [
        "train_tweet= pd.read_csv('./data/train.csv')\n",
        "test_tweet=pd.read_csv('./data/test.csv')\n",
        "\n",
        "train_tweet.head(3)"
      ],
      "metadata": {
        "execution": {
          "iopub.status.busy": "2022-10-17T20:49:34.889591Z",
          "iopub.execute_input": "2022-10-17T20:49:34.890317Z",
          "iopub.status.idle": "2022-10-17T20:49:34.977184Z",
          "shell.execute_reply.started": "2022-10-17T20:49:34.890276Z",
          "shell.execute_reply": "2022-10-17T20:49:34.976267Z"
        },
        "trusted": true,
        "id": "TaRAwW7HLont",
        "outputId": "c0166cd6-4778-40bb-e54b-73003d117dcd",
        "colab": {
          "base_uri": "https://localhost:8080/",
          "height": 143
        }
      },
      "execution_count": 4,
      "outputs": [
        {
          "output_type": "execute_result",
          "data": {
            "text/plain": [
              "   id keyword location                                               text  \\\n",
              "0   1     NaN      NaN  Our Deeds are the Reason of this #earthquake M...   \n",
              "1   4     NaN      NaN             Forest fire near La Ronge Sask. Canada   \n",
              "2   5     NaN      NaN  All residents asked to 'shelter in place' are ...   \n",
              "\n",
              "   target  \n",
              "0       1  \n",
              "1       1  \n",
              "2       1  "
            ],
            "text/html": [
              "\n",
              "  <div id=\"df-4dd20136-c9d5-41ea-92d2-2a2210160869\" class=\"colab-df-container\">\n",
              "    <div>\n",
              "<style scoped>\n",
              "    .dataframe tbody tr th:only-of-type {\n",
              "        vertical-align: middle;\n",
              "    }\n",
              "\n",
              "    .dataframe tbody tr th {\n",
              "        vertical-align: top;\n",
              "    }\n",
              "\n",
              "    .dataframe thead th {\n",
              "        text-align: right;\n",
              "    }\n",
              "</style>\n",
              "<table border=\"1\" class=\"dataframe\">\n",
              "  <thead>\n",
              "    <tr style=\"text-align: right;\">\n",
              "      <th></th>\n",
              "      <th>id</th>\n",
              "      <th>keyword</th>\n",
              "      <th>location</th>\n",
              "      <th>text</th>\n",
              "      <th>target</th>\n",
              "    </tr>\n",
              "  </thead>\n",
              "  <tbody>\n",
              "    <tr>\n",
              "      <th>0</th>\n",
              "      <td>1</td>\n",
              "      <td>NaN</td>\n",
              "      <td>NaN</td>\n",
              "      <td>Our Deeds are the Reason of this #earthquake M...</td>\n",
              "      <td>1</td>\n",
              "    </tr>\n",
              "    <tr>\n",
              "      <th>1</th>\n",
              "      <td>4</td>\n",
              "      <td>NaN</td>\n",
              "      <td>NaN</td>\n",
              "      <td>Forest fire near La Ronge Sask. Canada</td>\n",
              "      <td>1</td>\n",
              "    </tr>\n",
              "    <tr>\n",
              "      <th>2</th>\n",
              "      <td>5</td>\n",
              "      <td>NaN</td>\n",
              "      <td>NaN</td>\n",
              "      <td>All residents asked to 'shelter in place' are ...</td>\n",
              "      <td>1</td>\n",
              "    </tr>\n",
              "  </tbody>\n",
              "</table>\n",
              "</div>\n",
              "    <div class=\"colab-df-buttons\">\n",
              "\n",
              "  <div class=\"colab-df-container\">\n",
              "    <button class=\"colab-df-convert\" onclick=\"convertToInteractive('df-4dd20136-c9d5-41ea-92d2-2a2210160869')\"\n",
              "            title=\"Convert this dataframe to an interactive table.\"\n",
              "            style=\"display:none;\">\n",
              "\n",
              "  <svg xmlns=\"http://www.w3.org/2000/svg\" height=\"24px\" viewBox=\"0 -960 960 960\">\n",
              "    <path d=\"M120-120v-720h720v720H120Zm60-500h600v-160H180v160Zm220 220h160v-160H400v160Zm0 220h160v-160H400v160ZM180-400h160v-160H180v160Zm440 0h160v-160H620v160ZM180-180h160v-160H180v160Zm440 0h160v-160H620v160Z\"/>\n",
              "  </svg>\n",
              "    </button>\n",
              "\n",
              "  <style>\n",
              "    .colab-df-container {\n",
              "      display:flex;\n",
              "      gap: 12px;\n",
              "    }\n",
              "\n",
              "    .colab-df-convert {\n",
              "      background-color: #E8F0FE;\n",
              "      border: none;\n",
              "      border-radius: 50%;\n",
              "      cursor: pointer;\n",
              "      display: none;\n",
              "      fill: #1967D2;\n",
              "      height: 32px;\n",
              "      padding: 0 0 0 0;\n",
              "      width: 32px;\n",
              "    }\n",
              "\n",
              "    .colab-df-convert:hover {\n",
              "      background-color: #E2EBFA;\n",
              "      box-shadow: 0px 1px 2px rgba(60, 64, 67, 0.3), 0px 1px 3px 1px rgba(60, 64, 67, 0.15);\n",
              "      fill: #174EA6;\n",
              "    }\n",
              "\n",
              "    .colab-df-buttons div {\n",
              "      margin-bottom: 4px;\n",
              "    }\n",
              "\n",
              "    [theme=dark] .colab-df-convert {\n",
              "      background-color: #3B4455;\n",
              "      fill: #D2E3FC;\n",
              "    }\n",
              "\n",
              "    [theme=dark] .colab-df-convert:hover {\n",
              "      background-color: #434B5C;\n",
              "      box-shadow: 0px 1px 3px 1px rgba(0, 0, 0, 0.15);\n",
              "      filter: drop-shadow(0px 1px 2px rgba(0, 0, 0, 0.3));\n",
              "      fill: #FFFFFF;\n",
              "    }\n",
              "  </style>\n",
              "\n",
              "    <script>\n",
              "      const buttonEl =\n",
              "        document.querySelector('#df-4dd20136-c9d5-41ea-92d2-2a2210160869 button.colab-df-convert');\n",
              "      buttonEl.style.display =\n",
              "        google.colab.kernel.accessAllowed ? 'block' : 'none';\n",
              "\n",
              "      async function convertToInteractive(key) {\n",
              "        const element = document.querySelector('#df-4dd20136-c9d5-41ea-92d2-2a2210160869');\n",
              "        const dataTable =\n",
              "          await google.colab.kernel.invokeFunction('convertToInteractive',\n",
              "                                                    [key], {});\n",
              "        if (!dataTable) return;\n",
              "\n",
              "        const docLinkHtml = 'Like what you see? Visit the ' +\n",
              "          '<a target=\"_blank\" href=https://colab.research.google.com/notebooks/data_table.ipynb>data table notebook</a>'\n",
              "          + ' to learn more about interactive tables.';\n",
              "        element.innerHTML = '';\n",
              "        dataTable['output_type'] = 'display_data';\n",
              "        await google.colab.output.renderOutput(dataTable, element);\n",
              "        const docLink = document.createElement('div');\n",
              "        docLink.innerHTML = docLinkHtml;\n",
              "        element.appendChild(docLink);\n",
              "      }\n",
              "    </script>\n",
              "  </div>\n",
              "\n",
              "\n",
              "<div id=\"df-dff8a4ab-3d6c-45c2-8edc-7288de1506ed\">\n",
              "  <button class=\"colab-df-quickchart\" onclick=\"quickchart('df-dff8a4ab-3d6c-45c2-8edc-7288de1506ed')\"\n",
              "            title=\"Suggest charts\"\n",
              "            style=\"display:none;\">\n",
              "\n",
              "<svg xmlns=\"http://www.w3.org/2000/svg\" height=\"24px\"viewBox=\"0 0 24 24\"\n",
              "     width=\"24px\">\n",
              "    <g>\n",
              "        <path d=\"M19 3H5c-1.1 0-2 .9-2 2v14c0 1.1.9 2 2 2h14c1.1 0 2-.9 2-2V5c0-1.1-.9-2-2-2zM9 17H7v-7h2v7zm4 0h-2V7h2v10zm4 0h-2v-4h2v4z\"/>\n",
              "    </g>\n",
              "</svg>\n",
              "  </button>\n",
              "\n",
              "<style>\n",
              "  .colab-df-quickchart {\n",
              "      --bg-color: #E8F0FE;\n",
              "      --fill-color: #1967D2;\n",
              "      --hover-bg-color: #E2EBFA;\n",
              "      --hover-fill-color: #174EA6;\n",
              "      --disabled-fill-color: #AAA;\n",
              "      --disabled-bg-color: #DDD;\n",
              "  }\n",
              "\n",
              "  [theme=dark] .colab-df-quickchart {\n",
              "      --bg-color: #3B4455;\n",
              "      --fill-color: #D2E3FC;\n",
              "      --hover-bg-color: #434B5C;\n",
              "      --hover-fill-color: #FFFFFF;\n",
              "      --disabled-bg-color: #3B4455;\n",
              "      --disabled-fill-color: #666;\n",
              "  }\n",
              "\n",
              "  .colab-df-quickchart {\n",
              "    background-color: var(--bg-color);\n",
              "    border: none;\n",
              "    border-radius: 50%;\n",
              "    cursor: pointer;\n",
              "    display: none;\n",
              "    fill: var(--fill-color);\n",
              "    height: 32px;\n",
              "    padding: 0;\n",
              "    width: 32px;\n",
              "  }\n",
              "\n",
              "  .colab-df-quickchart:hover {\n",
              "    background-color: var(--hover-bg-color);\n",
              "    box-shadow: 0 1px 2px rgba(60, 64, 67, 0.3), 0 1px 3px 1px rgba(60, 64, 67, 0.15);\n",
              "    fill: var(--button-hover-fill-color);\n",
              "  }\n",
              "\n",
              "  .colab-df-quickchart-complete:disabled,\n",
              "  .colab-df-quickchart-complete:disabled:hover {\n",
              "    background-color: var(--disabled-bg-color);\n",
              "    fill: var(--disabled-fill-color);\n",
              "    box-shadow: none;\n",
              "  }\n",
              "\n",
              "  .colab-df-spinner {\n",
              "    border: 2px solid var(--fill-color);\n",
              "    border-color: transparent;\n",
              "    border-bottom-color: var(--fill-color);\n",
              "    animation:\n",
              "      spin 1s steps(1) infinite;\n",
              "  }\n",
              "\n",
              "  @keyframes spin {\n",
              "    0% {\n",
              "      border-color: transparent;\n",
              "      border-bottom-color: var(--fill-color);\n",
              "      border-left-color: var(--fill-color);\n",
              "    }\n",
              "    20% {\n",
              "      border-color: transparent;\n",
              "      border-left-color: var(--fill-color);\n",
              "      border-top-color: var(--fill-color);\n",
              "    }\n",
              "    30% {\n",
              "      border-color: transparent;\n",
              "      border-left-color: var(--fill-color);\n",
              "      border-top-color: var(--fill-color);\n",
              "      border-right-color: var(--fill-color);\n",
              "    }\n",
              "    40% {\n",
              "      border-color: transparent;\n",
              "      border-right-color: var(--fill-color);\n",
              "      border-top-color: var(--fill-color);\n",
              "    }\n",
              "    60% {\n",
              "      border-color: transparent;\n",
              "      border-right-color: var(--fill-color);\n",
              "    }\n",
              "    80% {\n",
              "      border-color: transparent;\n",
              "      border-right-color: var(--fill-color);\n",
              "      border-bottom-color: var(--fill-color);\n",
              "    }\n",
              "    90% {\n",
              "      border-color: transparent;\n",
              "      border-bottom-color: var(--fill-color);\n",
              "    }\n",
              "  }\n",
              "</style>\n",
              "\n",
              "  <script>\n",
              "    async function quickchart(key) {\n",
              "      const quickchartButtonEl =\n",
              "        document.querySelector('#' + key + ' button');\n",
              "      quickchartButtonEl.disabled = true;  // To prevent multiple clicks.\n",
              "      quickchartButtonEl.classList.add('colab-df-spinner');\n",
              "      try {\n",
              "        const charts = await google.colab.kernel.invokeFunction(\n",
              "            'suggestCharts', [key], {});\n",
              "      } catch (error) {\n",
              "        console.error('Error during call to suggestCharts:', error);\n",
              "      }\n",
              "      quickchartButtonEl.classList.remove('colab-df-spinner');\n",
              "      quickchartButtonEl.classList.add('colab-df-quickchart-complete');\n",
              "    }\n",
              "    (() => {\n",
              "      let quickchartButtonEl =\n",
              "        document.querySelector('#df-dff8a4ab-3d6c-45c2-8edc-7288de1506ed button');\n",
              "      quickchartButtonEl.style.display =\n",
              "        google.colab.kernel.accessAllowed ? 'block' : 'none';\n",
              "    })();\n",
              "  </script>\n",
              "</div>\n",
              "    </div>\n",
              "  </div>\n"
            ],
            "application/vnd.google.colaboratory.intrinsic+json": {
              "type": "dataframe",
              "variable_name": "train_tweet",
              "summary": "{\n  \"name\": \"train_tweet\",\n  \"rows\": 7613,\n  \"fields\": [\n    {\n      \"column\": \"id\",\n      \"properties\": {\n        \"dtype\": \"number\",\n        \"std\": 3137,\n        \"min\": 1,\n        \"max\": 10873,\n        \"num_unique_values\": 7613,\n        \"samples\": [\n          3796,\n          3185,\n          7769\n        ],\n        \"semantic_type\": \"\",\n        \"description\": \"\"\n      }\n    },\n    {\n      \"column\": \"keyword\",\n      \"properties\": {\n        \"dtype\": \"category\",\n        \"num_unique_values\": 221,\n        \"samples\": [\n          \"injury\",\n          \"nuclear%20reactor\",\n          \"engulfed\"\n        ],\n        \"semantic_type\": \"\",\n        \"description\": \"\"\n      }\n    },\n    {\n      \"column\": \"location\",\n      \"properties\": {\n        \"dtype\": \"category\",\n        \"num_unique_values\": 3341,\n        \"samples\": [\n          \"Oklahoma\",\n          \"Starling City\",\n          \"Trinidad and Tobago\"\n        ],\n        \"semantic_type\": \"\",\n        \"description\": \"\"\n      }\n    },\n    {\n      \"column\": \"text\",\n      \"properties\": {\n        \"dtype\": \"string\",\n        \"num_unique_values\": 7503,\n        \"samples\": [\n          \"Three Homes Demolished in Unrecognized Arab Village - International Middle East Media Center http://t.co/ik8m4Yi9T4\",\n          \"Reid Lake fire prompts campground evacuation order http://t.co/jBODKM6rBU\",\n          \"FAAN orders evacuation of abandoned aircraft at MMA http://t.co/dEvYbnVXGQ via @todayng\"\n        ],\n        \"semantic_type\": \"\",\n        \"description\": \"\"\n      }\n    },\n    {\n      \"column\": \"target\",\n      \"properties\": {\n        \"dtype\": \"number\",\n        \"std\": 0,\n        \"min\": 0,\n        \"max\": 1,\n        \"num_unique_values\": 2,\n        \"samples\": [\n          0,\n          1\n        ],\n        \"semantic_type\": \"\",\n        \"description\": \"\"\n      }\n    }\n  ]\n}"
            }
          },
          "metadata": {},
          "execution_count": 4
        }
      ]
    },
    {
      "cell_type": "markdown",
      "source": [
        "We are going to use only the columns *text* and *target* but it's not necessary to drop the other columns, I want to mantain the notebook as simple as possible."
      ],
      "metadata": {
        "id": "g6tDHJZ7Lont"
      }
    },
    {
      "cell_type": "code",
      "source": [
        "calm, disaster = train_tweet['target'].value_counts()\n",
        "calm, disaster"
      ],
      "metadata": {
        "execution": {
          "iopub.status.busy": "2022-10-17T20:49:34.979593Z",
          "iopub.execute_input": "2022-10-17T20:49:34.981142Z",
          "iopub.status.idle": "2022-10-17T20:49:34.992739Z",
          "shell.execute_reply.started": "2022-10-17T20:49:34.981104Z",
          "shell.execute_reply": "2022-10-17T20:49:34.991774Z"
        },
        "trusted": true,
        "id": "eGS6Qg94Lonu",
        "outputId": "d630376a-18e6-4d6f-f33c-8fff92851f07",
        "colab": {
          "base_uri": "https://localhost:8080/"
        }
      },
      "execution_count": 6,
      "outputs": [
        {
          "output_type": "execute_result",
          "data": {
            "text/plain": [
              "(4342, 3271)"
            ]
          },
          "metadata": {},
          "execution_count": 6
        }
      ]
    },
    {
      "cell_type": "code",
      "source": [
        "fig = plt.figure(figsize=(5,5))\n",
        "labels = 'Calm', 'Disaster'\n",
        "sizes = [calm, disaster]\n",
        "plt.pie(sizes, labels=labels, autopct='%0.0f%%',\n",
        "        shadow=True, startangle=90)\n",
        "plt.axis('equal')\n",
        "plt.show()"
      ],
      "metadata": {
        "execution": {
          "iopub.status.busy": "2022-10-17T20:49:34.994161Z",
          "iopub.execute_input": "2022-10-17T20:49:34.995086Z",
          "iopub.status.idle": "2022-10-17T20:49:35.142461Z",
          "shell.execute_reply.started": "2022-10-17T20:49:34.995045Z",
          "shell.execute_reply": "2022-10-17T20:49:35.141028Z"
        },
        "trusted": true,
        "id": "g1-i_TBuLonu"
      },
      "execution_count": null,
      "outputs": []
    },
    {
      "cell_type": "markdown",
      "source": [
        "As we can see the datase is well balanced. That's all the EDA I'm going to do.\n",
        "# **Functions to tranform the sentences**"
      ],
      "metadata": {
        "id": "b4R6lq-2Lonu"
      }
    },
    {
      "cell_type": "code",
      "source": [
        "#Remove special Tweets characters.\n",
        "def remove_marks(sentence):\n",
        "    sentence_r = re.sub(r'^RT[\\s]+', '', sentence)\n",
        "    sentence_r = re.sub(r'https?://[^\\s\\n\\r]+', '', sentence_r)\n",
        "    sentence_r = re.sub(r'#', '', sentence_r)\n",
        "\n",
        "    return sentence_r"
      ],
      "metadata": {
        "execution": {
          "iopub.status.busy": "2022-10-17T20:49:35.144113Z",
          "iopub.execute_input": "2022-10-17T20:49:35.145048Z",
          "iopub.status.idle": "2022-10-17T20:49:35.151569Z",
          "shell.execute_reply.started": "2022-10-17T20:49:35.145009Z",
          "shell.execute_reply": "2022-10-17T20:49:35.150322Z"
        },
        "trusted": true,
        "id": "URgJ1zGJLonu"
      },
      "execution_count": 7,
      "outputs": []
    },
    {
      "cell_type": "code",
      "source": [
        "#Transform each sentence in a list of words.\n",
        "TOKENIZER = TweetTokenizer(preserve_case=False, strip_handles=True,\n",
        "                              reduce_len=True)\n",
        "\n",
        "def tokenize(sentence):\n",
        "    sentence_tokens = TOKENIZER.tokenize(sentence)\n",
        "    return sentence_tokens"
      ],
      "metadata": {
        "execution": {
          "iopub.status.busy": "2022-10-17T20:49:35.154902Z",
          "iopub.execute_input": "2022-10-17T20:49:35.157106Z",
          "iopub.status.idle": "2022-10-17T20:49:35.167687Z",
          "shell.execute_reply.started": "2022-10-17T20:49:35.157052Z",
          "shell.execute_reply": "2022-10-17T20:49:35.166407Z"
        },
        "trusted": true,
        "id": "Oxcjh6srLonu"
      },
      "execution_count": 8,
      "outputs": []
    },
    {
      "cell_type": "code",
      "source": [
        "#remove stopwords and punctuation\n",
        "nltk.download('stopwords')\n",
        "STOPWORDS = stopwords.words('english')\n",
        "\n",
        "def remove_stop_words(sentence_tokenized):\n",
        "    no_stop_words = []\n",
        "    for word in sentence_tokenized:\n",
        "        if ((word not in STOPWORDS) and (word not in string.punctuation)):\n",
        "            no_stop_words.append(word)\n",
        "    return no_stop_words"
      ],
      "metadata": {
        "execution": {
          "iopub.status.busy": "2022-10-17T20:49:35.170864Z",
          "iopub.execute_input": "2022-10-17T20:49:35.17178Z",
          "iopub.status.idle": "2022-10-17T20:49:35.319157Z",
          "shell.execute_reply.started": "2022-10-17T20:49:35.171729Z",
          "shell.execute_reply": "2022-10-17T20:49:35.31812Z"
        },
        "trusted": true,
        "id": "TzHwSwoJLonu",
        "outputId": "ae268921-8a4d-4716-bcc3-e9de3c7363d8",
        "colab": {
          "base_uri": "https://localhost:8080/"
        }
      },
      "execution_count": 9,
      "outputs": [
        {
          "output_type": "stream",
          "name": "stderr",
          "text": [
            "[nltk_data] Downloading package stopwords to /root/nltk_data...\n",
            "[nltk_data]   Unzipping corpora/stopwords.zip.\n"
          ]
        }
      ]
    },
    {
      "cell_type": "code",
      "source": [
        "#Convert list of words in a sentence again.\n",
        "def words_to_sentence(list_words):\n",
        "    sentence = ''\n",
        "    for word in list_words:\n",
        "        sentence = sentence + word + ' '\n",
        "    return sentence"
      ],
      "metadata": {
        "execution": {
          "iopub.status.busy": "2022-10-17T20:49:35.32065Z",
          "iopub.execute_input": "2022-10-17T20:49:35.321272Z",
          "iopub.status.idle": "2022-10-17T20:49:35.326697Z",
          "shell.execute_reply.started": "2022-10-17T20:49:35.321235Z",
          "shell.execute_reply": "2022-10-17T20:49:35.325579Z"
        },
        "trusted": true,
        "id": "Vg0jxE3tLonu"
      },
      "execution_count": 10,
      "outputs": []
    },
    {
      "cell_type": "code",
      "source": [
        "#Call this function to fully transform a sentence.\n",
        "def prepare_sentence(sentence):\n",
        "    sentence_nomarks = remove_marks(sentence)\n",
        "    sentence_tokenized = tokenize(sentence_nomarks)\n",
        "    sentence_ready = remove_stop_words(sentence_tokenized)\n",
        "    sentence_treated = words_to_sentence(sentence_ready)\n",
        "    return sentence_nomarks"
      ],
      "metadata": {
        "execution": {
          "iopub.status.busy": "2022-10-17T20:49:35.331543Z",
          "iopub.execute_input": "2022-10-17T20:49:35.331846Z",
          "iopub.status.idle": "2022-10-17T20:49:35.337126Z",
          "shell.execute_reply.started": "2022-10-17T20:49:35.331821Z",
          "shell.execute_reply": "2022-10-17T20:49:35.336147Z"
        },
        "trusted": true,
        "id": "UjG8C785Lonv"
      },
      "execution_count": 11,
      "outputs": []
    },
    {
      "cell_type": "code",
      "source": [
        "#testing with one tweet\n",
        "tweet = train_tweet['text'][1234]\n",
        "tweet"
      ],
      "metadata": {
        "execution": {
          "iopub.status.busy": "2022-10-17T20:49:35.338346Z",
          "iopub.execute_input": "2022-10-17T20:49:35.339365Z",
          "iopub.status.idle": "2022-10-17T20:49:35.351295Z",
          "shell.execute_reply.started": "2022-10-17T20:49:35.339331Z",
          "shell.execute_reply": "2022-10-17T20:49:35.35026Z"
        },
        "trusted": true,
        "id": "Jh1-phN0Lonv",
        "outputId": "a2100cff-f14d-42ec-f907-c3df4dbb359e",
        "colab": {
          "base_uri": "https://localhost:8080/",
          "height": 35
        }
      },
      "execution_count": 13,
      "outputs": [
        {
          "output_type": "execute_result",
          "data": {
            "text/plain": [
              "'Fire destroys two buildings on 2nd Street in #Manchester http://t.co/Tqh5amoknd'"
            ],
            "application/vnd.google.colaboratory.intrinsic+json": {
              "type": "string"
            }
          },
          "metadata": {},
          "execution_count": 13
        }
      ]
    },
    {
      "cell_type": "code",
      "source": [
        "tweet_ready = prepare_sentence(tweet)\n",
        "print(tweet_ready)"
      ],
      "metadata": {
        "execution": {
          "iopub.status.busy": "2022-10-17T20:49:35.352498Z",
          "iopub.execute_input": "2022-10-17T20:49:35.353495Z",
          "iopub.status.idle": "2022-10-17T20:49:35.368279Z",
          "shell.execute_reply.started": "2022-10-17T20:49:35.353457Z",
          "shell.execute_reply": "2022-10-17T20:49:35.367202Z"
        },
        "trusted": true,
        "id": "Slk9bcUYLonv",
        "outputId": "c2f4d412-849d-43c8-f528-17d9682ddc5a",
        "colab": {
          "base_uri": "https://localhost:8080/"
        }
      },
      "execution_count": 14,
      "outputs": [
        {
          "output_type": "stream",
          "name": "stdout",
          "text": [
            "Fire destroys two buildings on 2nd Street in Manchester \n"
          ]
        }
      ]
    },
    {
      "cell_type": "code",
      "source": [
        "#Transform all tweets\n",
        "train_tweet['text'] = train_tweet.apply(lambda row : prepare_sentence(row['text']), axis=1)\n",
        "train_tweet.head()"
      ],
      "metadata": {
        "execution": {
          "iopub.status.busy": "2022-10-17T20:49:35.36955Z",
          "iopub.execute_input": "2022-10-17T20:49:35.370078Z",
          "iopub.status.idle": "2022-10-17T20:49:36.663539Z",
          "shell.execute_reply.started": "2022-10-17T20:49:35.370045Z",
          "shell.execute_reply": "2022-10-17T20:49:36.662463Z"
        },
        "trusted": true,
        "id": "fQrf9YnJLonv",
        "outputId": "1af7c963-bef0-45ce-e6fe-fc339ef1ff80",
        "colab": {
          "base_uri": "https://localhost:8080/",
          "height": 206
        }
      },
      "execution_count": 15,
      "outputs": [
        {
          "output_type": "execute_result",
          "data": {
            "text/plain": [
              "   id keyword location                                               text  \\\n",
              "0   1     NaN      NaN  Our Deeds are the Reason of this earthquake Ma...   \n",
              "1   4     NaN      NaN             Forest fire near La Ronge Sask. Canada   \n",
              "2   5     NaN      NaN  All residents asked to 'shelter in place' are ...   \n",
              "3   6     NaN      NaN  13,000 people receive wildfires evacuation ord...   \n",
              "4   7     NaN      NaN  Just got sent this photo from Ruby Alaska as s...   \n",
              "\n",
              "   target  \n",
              "0       1  \n",
              "1       1  \n",
              "2       1  \n",
              "3       1  \n",
              "4       1  "
            ],
            "text/html": [
              "\n",
              "  <div id=\"df-a8886ad6-d48b-4acb-84af-2acbb13f104f\" class=\"colab-df-container\">\n",
              "    <div>\n",
              "<style scoped>\n",
              "    .dataframe tbody tr th:only-of-type {\n",
              "        vertical-align: middle;\n",
              "    }\n",
              "\n",
              "    .dataframe tbody tr th {\n",
              "        vertical-align: top;\n",
              "    }\n",
              "\n",
              "    .dataframe thead th {\n",
              "        text-align: right;\n",
              "    }\n",
              "</style>\n",
              "<table border=\"1\" class=\"dataframe\">\n",
              "  <thead>\n",
              "    <tr style=\"text-align: right;\">\n",
              "      <th></th>\n",
              "      <th>id</th>\n",
              "      <th>keyword</th>\n",
              "      <th>location</th>\n",
              "      <th>text</th>\n",
              "      <th>target</th>\n",
              "    </tr>\n",
              "  </thead>\n",
              "  <tbody>\n",
              "    <tr>\n",
              "      <th>0</th>\n",
              "      <td>1</td>\n",
              "      <td>NaN</td>\n",
              "      <td>NaN</td>\n",
              "      <td>Our Deeds are the Reason of this earthquake Ma...</td>\n",
              "      <td>1</td>\n",
              "    </tr>\n",
              "    <tr>\n",
              "      <th>1</th>\n",
              "      <td>4</td>\n",
              "      <td>NaN</td>\n",
              "      <td>NaN</td>\n",
              "      <td>Forest fire near La Ronge Sask. Canada</td>\n",
              "      <td>1</td>\n",
              "    </tr>\n",
              "    <tr>\n",
              "      <th>2</th>\n",
              "      <td>5</td>\n",
              "      <td>NaN</td>\n",
              "      <td>NaN</td>\n",
              "      <td>All residents asked to 'shelter in place' are ...</td>\n",
              "      <td>1</td>\n",
              "    </tr>\n",
              "    <tr>\n",
              "      <th>3</th>\n",
              "      <td>6</td>\n",
              "      <td>NaN</td>\n",
              "      <td>NaN</td>\n",
              "      <td>13,000 people receive wildfires evacuation ord...</td>\n",
              "      <td>1</td>\n",
              "    </tr>\n",
              "    <tr>\n",
              "      <th>4</th>\n",
              "      <td>7</td>\n",
              "      <td>NaN</td>\n",
              "      <td>NaN</td>\n",
              "      <td>Just got sent this photo from Ruby Alaska as s...</td>\n",
              "      <td>1</td>\n",
              "    </tr>\n",
              "  </tbody>\n",
              "</table>\n",
              "</div>\n",
              "    <div class=\"colab-df-buttons\">\n",
              "\n",
              "  <div class=\"colab-df-container\">\n",
              "    <button class=\"colab-df-convert\" onclick=\"convertToInteractive('df-a8886ad6-d48b-4acb-84af-2acbb13f104f')\"\n",
              "            title=\"Convert this dataframe to an interactive table.\"\n",
              "            style=\"display:none;\">\n",
              "\n",
              "  <svg xmlns=\"http://www.w3.org/2000/svg\" height=\"24px\" viewBox=\"0 -960 960 960\">\n",
              "    <path d=\"M120-120v-720h720v720H120Zm60-500h600v-160H180v160Zm220 220h160v-160H400v160Zm0 220h160v-160H400v160ZM180-400h160v-160H180v160Zm440 0h160v-160H620v160ZM180-180h160v-160H180v160Zm440 0h160v-160H620v160Z\"/>\n",
              "  </svg>\n",
              "    </button>\n",
              "\n",
              "  <style>\n",
              "    .colab-df-container {\n",
              "      display:flex;\n",
              "      gap: 12px;\n",
              "    }\n",
              "\n",
              "    .colab-df-convert {\n",
              "      background-color: #E8F0FE;\n",
              "      border: none;\n",
              "      border-radius: 50%;\n",
              "      cursor: pointer;\n",
              "      display: none;\n",
              "      fill: #1967D2;\n",
              "      height: 32px;\n",
              "      padding: 0 0 0 0;\n",
              "      width: 32px;\n",
              "    }\n",
              "\n",
              "    .colab-df-convert:hover {\n",
              "      background-color: #E2EBFA;\n",
              "      box-shadow: 0px 1px 2px rgba(60, 64, 67, 0.3), 0px 1px 3px 1px rgba(60, 64, 67, 0.15);\n",
              "      fill: #174EA6;\n",
              "    }\n",
              "\n",
              "    .colab-df-buttons div {\n",
              "      margin-bottom: 4px;\n",
              "    }\n",
              "\n",
              "    [theme=dark] .colab-df-convert {\n",
              "      background-color: #3B4455;\n",
              "      fill: #D2E3FC;\n",
              "    }\n",
              "\n",
              "    [theme=dark] .colab-df-convert:hover {\n",
              "      background-color: #434B5C;\n",
              "      box-shadow: 0px 1px 3px 1px rgba(0, 0, 0, 0.15);\n",
              "      filter: drop-shadow(0px 1px 2px rgba(0, 0, 0, 0.3));\n",
              "      fill: #FFFFFF;\n",
              "    }\n",
              "  </style>\n",
              "\n",
              "    <script>\n",
              "      const buttonEl =\n",
              "        document.querySelector('#df-a8886ad6-d48b-4acb-84af-2acbb13f104f button.colab-df-convert');\n",
              "      buttonEl.style.display =\n",
              "        google.colab.kernel.accessAllowed ? 'block' : 'none';\n",
              "\n",
              "      async function convertToInteractive(key) {\n",
              "        const element = document.querySelector('#df-a8886ad6-d48b-4acb-84af-2acbb13f104f');\n",
              "        const dataTable =\n",
              "          await google.colab.kernel.invokeFunction('convertToInteractive',\n",
              "                                                    [key], {});\n",
              "        if (!dataTable) return;\n",
              "\n",
              "        const docLinkHtml = 'Like what you see? Visit the ' +\n",
              "          '<a target=\"_blank\" href=https://colab.research.google.com/notebooks/data_table.ipynb>data table notebook</a>'\n",
              "          + ' to learn more about interactive tables.';\n",
              "        element.innerHTML = '';\n",
              "        dataTable['output_type'] = 'display_data';\n",
              "        await google.colab.output.renderOutput(dataTable, element);\n",
              "        const docLink = document.createElement('div');\n",
              "        docLink.innerHTML = docLinkHtml;\n",
              "        element.appendChild(docLink);\n",
              "      }\n",
              "    </script>\n",
              "  </div>\n",
              "\n",
              "\n",
              "<div id=\"df-780fd561-f2c0-4801-be69-f0869185db13\">\n",
              "  <button class=\"colab-df-quickchart\" onclick=\"quickchart('df-780fd561-f2c0-4801-be69-f0869185db13')\"\n",
              "            title=\"Suggest charts\"\n",
              "            style=\"display:none;\">\n",
              "\n",
              "<svg xmlns=\"http://www.w3.org/2000/svg\" height=\"24px\"viewBox=\"0 0 24 24\"\n",
              "     width=\"24px\">\n",
              "    <g>\n",
              "        <path d=\"M19 3H5c-1.1 0-2 .9-2 2v14c0 1.1.9 2 2 2h14c1.1 0 2-.9 2-2V5c0-1.1-.9-2-2-2zM9 17H7v-7h2v7zm4 0h-2V7h2v10zm4 0h-2v-4h2v4z\"/>\n",
              "    </g>\n",
              "</svg>\n",
              "  </button>\n",
              "\n",
              "<style>\n",
              "  .colab-df-quickchart {\n",
              "      --bg-color: #E8F0FE;\n",
              "      --fill-color: #1967D2;\n",
              "      --hover-bg-color: #E2EBFA;\n",
              "      --hover-fill-color: #174EA6;\n",
              "      --disabled-fill-color: #AAA;\n",
              "      --disabled-bg-color: #DDD;\n",
              "  }\n",
              "\n",
              "  [theme=dark] .colab-df-quickchart {\n",
              "      --bg-color: #3B4455;\n",
              "      --fill-color: #D2E3FC;\n",
              "      --hover-bg-color: #434B5C;\n",
              "      --hover-fill-color: #FFFFFF;\n",
              "      --disabled-bg-color: #3B4455;\n",
              "      --disabled-fill-color: #666;\n",
              "  }\n",
              "\n",
              "  .colab-df-quickchart {\n",
              "    background-color: var(--bg-color);\n",
              "    border: none;\n",
              "    border-radius: 50%;\n",
              "    cursor: pointer;\n",
              "    display: none;\n",
              "    fill: var(--fill-color);\n",
              "    height: 32px;\n",
              "    padding: 0;\n",
              "    width: 32px;\n",
              "  }\n",
              "\n",
              "  .colab-df-quickchart:hover {\n",
              "    background-color: var(--hover-bg-color);\n",
              "    box-shadow: 0 1px 2px rgba(60, 64, 67, 0.3), 0 1px 3px 1px rgba(60, 64, 67, 0.15);\n",
              "    fill: var(--button-hover-fill-color);\n",
              "  }\n",
              "\n",
              "  .colab-df-quickchart-complete:disabled,\n",
              "  .colab-df-quickchart-complete:disabled:hover {\n",
              "    background-color: var(--disabled-bg-color);\n",
              "    fill: var(--disabled-fill-color);\n",
              "    box-shadow: none;\n",
              "  }\n",
              "\n",
              "  .colab-df-spinner {\n",
              "    border: 2px solid var(--fill-color);\n",
              "    border-color: transparent;\n",
              "    border-bottom-color: var(--fill-color);\n",
              "    animation:\n",
              "      spin 1s steps(1) infinite;\n",
              "  }\n",
              "\n",
              "  @keyframes spin {\n",
              "    0% {\n",
              "      border-color: transparent;\n",
              "      border-bottom-color: var(--fill-color);\n",
              "      border-left-color: var(--fill-color);\n",
              "    }\n",
              "    20% {\n",
              "      border-color: transparent;\n",
              "      border-left-color: var(--fill-color);\n",
              "      border-top-color: var(--fill-color);\n",
              "    }\n",
              "    30% {\n",
              "      border-color: transparent;\n",
              "      border-left-color: var(--fill-color);\n",
              "      border-top-color: var(--fill-color);\n",
              "      border-right-color: var(--fill-color);\n",
              "    }\n",
              "    40% {\n",
              "      border-color: transparent;\n",
              "      border-right-color: var(--fill-color);\n",
              "      border-top-color: var(--fill-color);\n",
              "    }\n",
              "    60% {\n",
              "      border-color: transparent;\n",
              "      border-right-color: var(--fill-color);\n",
              "    }\n",
              "    80% {\n",
              "      border-color: transparent;\n",
              "      border-right-color: var(--fill-color);\n",
              "      border-bottom-color: var(--fill-color);\n",
              "    }\n",
              "    90% {\n",
              "      border-color: transparent;\n",
              "      border-bottom-color: var(--fill-color);\n",
              "    }\n",
              "  }\n",
              "</style>\n",
              "\n",
              "  <script>\n",
              "    async function quickchart(key) {\n",
              "      const quickchartButtonEl =\n",
              "        document.querySelector('#' + key + ' button');\n",
              "      quickchartButtonEl.disabled = true;  // To prevent multiple clicks.\n",
              "      quickchartButtonEl.classList.add('colab-df-spinner');\n",
              "      try {\n",
              "        const charts = await google.colab.kernel.invokeFunction(\n",
              "            'suggestCharts', [key], {});\n",
              "      } catch (error) {\n",
              "        console.error('Error during call to suggestCharts:', error);\n",
              "      }\n",
              "      quickchartButtonEl.classList.remove('colab-df-spinner');\n",
              "      quickchartButtonEl.classList.add('colab-df-quickchart-complete');\n",
              "    }\n",
              "    (() => {\n",
              "      let quickchartButtonEl =\n",
              "        document.querySelector('#df-780fd561-f2c0-4801-be69-f0869185db13 button');\n",
              "      quickchartButtonEl.style.display =\n",
              "        google.colab.kernel.accessAllowed ? 'block' : 'none';\n",
              "    })();\n",
              "  </script>\n",
              "</div>\n",
              "    </div>\n",
              "  </div>\n"
            ],
            "application/vnd.google.colaboratory.intrinsic+json": {
              "type": "dataframe",
              "variable_name": "train_tweet",
              "summary": "{\n  \"name\": \"train_tweet\",\n  \"rows\": 7613,\n  \"fields\": [\n    {\n      \"column\": \"id\",\n      \"properties\": {\n        \"dtype\": \"number\",\n        \"std\": 3137,\n        \"min\": 1,\n        \"max\": 10873,\n        \"num_unique_values\": 7613,\n        \"samples\": [\n          3796,\n          3185,\n          7769\n        ],\n        \"semantic_type\": \"\",\n        \"description\": \"\"\n      }\n    },\n    {\n      \"column\": \"keyword\",\n      \"properties\": {\n        \"dtype\": \"category\",\n        \"num_unique_values\": 221,\n        \"samples\": [\n          \"injury\",\n          \"nuclear%20reactor\",\n          \"engulfed\"\n        ],\n        \"semantic_type\": \"\",\n        \"description\": \"\"\n      }\n    },\n    {\n      \"column\": \"location\",\n      \"properties\": {\n        \"dtype\": \"category\",\n        \"num_unique_values\": 3341,\n        \"samples\": [\n          \"Oklahoma\",\n          \"Starling City\",\n          \"Trinidad and Tobago\"\n        ],\n        \"semantic_type\": \"\",\n        \"description\": \"\"\n      }\n    },\n    {\n      \"column\": \"text\",\n      \"properties\": {\n        \"dtype\": \"string\",\n        \"num_unique_values\": 6985,\n        \"samples\": [\n          \"@montetjwitter11 @nolesfan05 @NutsAndBoltsSP I say concern but not panic. Too many games left. And some games left against each other.\",\n          \"I need a spot w| some drink specials. I'm kinda tired of the epicentre\",\n          \"Weak but distinct rotation fully condenses near Villa Ridge MO today near MCV center.  A 'sub-tornado?' Video: \"\n        ],\n        \"semantic_type\": \"\",\n        \"description\": \"\"\n      }\n    },\n    {\n      \"column\": \"target\",\n      \"properties\": {\n        \"dtype\": \"number\",\n        \"std\": 0,\n        \"min\": 0,\n        \"max\": 1,\n        \"num_unique_values\": 2,\n        \"samples\": [\n          0,\n          1\n        ],\n        \"semantic_type\": \"\",\n        \"description\": \"\"\n      }\n    }\n  ]\n}"
            }
          },
          "metadata": {},
          "execution_count": 15
        }
      ]
    },
    {
      "cell_type": "markdown",
      "source": [
        "# **Training and Validation set split**"
      ],
      "metadata": {
        "id": "YnR1ykVEOJ85"
      }
    },
    {
      "cell_type": "code",
      "source": [
        "#Split twets and targets in train and validation. 20% in validation.\n",
        "tweets = train_tweet['text']\n",
        "targets = train_tweet['target']\n",
        "train_tweets , val_tweets , train_targets, val_targets = train_test_split(tweets.to_numpy(),\n",
        "                                                                          targets.to_numpy(),\n",
        "                                                                          test_size=0.2, random_state=42)\n",
        "print(train_tweets[1:10])"
      ],
      "metadata": {
        "execution": {
          "iopub.status.busy": "2022-10-17T20:49:56.393979Z",
          "iopub.execute_input": "2022-10-17T20:49:56.394351Z",
          "iopub.status.idle": "2022-10-17T20:49:56.404467Z",
          "shell.execute_reply.started": "2022-10-17T20:49:56.394303Z",
          "shell.execute_reply": "2022-10-17T20:49:56.403216Z"
        },
        "trusted": true,
        "id": "W476OoaELonv",
        "outputId": "b4531122-55a4-4dff-da62-af6586acc2db",
        "colab": {
          "base_uri": "https://localhost:8080/"
        }
      },
      "execution_count": 17,
      "outputs": [
        {
          "output_type": "stream",
          "name": "stdout",
          "text": [
            "['@ZachZaidman @670TheScore wld b a shame if that golf cart became engulfed in flames. boycottBears'\n",
            " \"Tell @BarackObama to rescind medals of 'honor' given to US soldiers at the Massacre of Wounded Knee. SIGN NOW &amp; RT! \"\n",
            " 'Worried about how the CA drought might affect you? Extreme Weather: Does it Dampen Our Economy? '\n",
            " '@YoungHeroesID Lava Blast &amp; Power Red PantherAttack @JamilAzzaini @alifaditha'\n",
            " \"Wreckage 'Conclusively Confirmed' as From MH370: Malaysia PM: Investigators and the families of those who were... \"\n",
            " 'Our builder is having a dental emergency. Which has ruined my plan to emotionally blackmail him this afternoon with my bump.'\n",
            " 'BMX issues Areal Flood Advisory for Shelby [AL] till Aug 5 9:00 PM CDT '\n",
            " \"360WiseNews : China's Stock Market Crash: Are There Gems In The Rubble? \"\n",
            " \"@RobertONeill31 Getting hit by a foul ball while sitting there is hardly a freak accident. It's a war zone.\"]\n"
          ]
        }
      ]
    },
    {
      "cell_type": "markdown",
      "source": [
        "# **Callbacks**"
      ],
      "metadata": {
        "id": "lqoArCQdR7yn"
      }
    },
    {
      "cell_type": "code",
      "source": [
        "#just clean the session recomendable if we execute some times the model.\n",
        "tf.keras.backend.clear_session()\n",
        "\n",
        "#This callback saves the best model based in val_accuracy\n",
        "BestModel = tf.keras.callbacks.ModelCheckpoint('modelDA.h5',\n",
        "                                           mode='max', monitor='val_accuracy',\n",
        "                                           verbose=1,\n",
        "                                           save_best_only=True)\n",
        "\n",
        "ES = keras.callbacks.EarlyStopping(\n",
        "    monitor=\"val_accuracy\",\n",
        "    patience=5,\n",
        "    verbose=1,\n",
        "    mode=\"auto\"\n",
        ")"
      ],
      "metadata": {
        "id": "y3PtzQoISEjm"
      },
      "execution_count": null,
      "outputs": []
    },
    {
      "cell_type": "markdown",
      "source": [
        "# **Import Universal Sentence Encoder from Tensorflow Hub**"
      ],
      "metadata": {
        "execution": {
          "iopub.status.busy": "2022-09-23T21:40:40.12155Z",
          "iopub.execute_input": "2022-09-23T21:40:40.121966Z",
          "iopub.status.idle": "2022-09-23T21:40:40.127388Z",
          "shell.execute_reply.started": "2022-09-23T21:40:40.121932Z",
          "shell.execute_reply": "2022-09-23T21:40:40.126174Z"
        },
        "id": "XqlvwGJPLonv"
      }
    },
    {
      "cell_type": "markdown",
      "source": [
        "Time to import the model from TensorFlow Hub.\n",
        "\n",
        "I'm indicating in the *trainable* parameter that I don't want to train the model, I preffer to use the weigths of the model.\n",
        "\n",
        "But if you want, you can test importing the model with *trainable* to **True**. You will see that the train process is much more slower, and i think that we are not going to get any advantatge.\n",
        "\n",
        "It's a really big model and we have just a few data, for sure that we will get a lot of overfitting if we try to train the model with our tweets. But... try it!"
      ],
      "metadata": {
        "id": "s3q8L_ZMLonv"
      }
    },
    {
      "cell_type": "code",
      "source": [
        "model_hub_path = \"https://tfhub.dev/google/universal-sentence-encoder/4\"\n",
        "use_layer = hub.KerasLayer(model_hub_path,\n",
        "                                        input_shape=[], # shape of inputs coming to our model\n",
        "                                        dtype=tf.string, # data type of inputs coming to the USE layer\n",
        "                                        trainable=False, # keep the pretrained weights.\n",
        "                                        name=\"USE\")"
      ],
      "metadata": {
        "_kg_hide-output": true,
        "execution": {
          "iopub.status.busy": "2022-10-17T20:49:36.665346Z",
          "iopub.execute_input": "2022-10-17T20:49:36.665739Z",
          "iopub.status.idle": "2022-10-17T20:49:56.392375Z",
          "shell.execute_reply.started": "2022-10-17T20:49:36.665698Z",
          "shell.execute_reply": "2022-10-17T20:49:56.391328Z"
        },
        "trusted": true,
        "id": "XDNlQA6tLonv"
      },
      "execution_count": 16,
      "outputs": []
    },
    {
      "cell_type": "markdown",
      "source": [
        "## Join the Pretrained Model with our Specific Layers"
      ],
      "metadata": {
        "id": "LDTx3crOLonw"
      }
    },
    {
      "cell_type": "markdown",
      "source": [
        "Now we can create a sequential Model and indicate that the first layer is the model downloaded.\n",
        "\n",
        "The rest of the layers are the trainable layer that we can train with our Data.\n",
        "\n",
        "I decided to use 2 Dense layers with 128 Nodes and 2 dropoout layers in order to reduce the overfitting."
      ],
      "metadata": {
        "id": "aiJGm1t2Lonw"
      }
    },
    {
      "cell_type": "code",
      "source": [
        "modeltl0 = tf.keras.Sequential()\n",
        "modeltl0.add(use_layer)\n",
        "modeltl0.add(tf.keras.layers.Dropout(0.4))\n",
        "modeltl0.add(tf.keras.layers.Dense(128,activation='relu'))\n",
        "modeltl0.add(tf.keras.layers.Dropout(0.4))\n",
        "modeltl0.add(tf.keras.layers.Dense(128,activation='relu'))\n",
        "modeltl0.add(tf.keras.layers.Dense(1, activation ='sigmoid'))\n",
        "modeltl0.compile(loss= \"binary_crossentropy\", optimizer = 'adam',metrics=[\"accuracy\"])\n",
        "modeltl0.summary()"
      ],
      "metadata": {
        "execution": {
          "iopub.status.busy": "2022-10-17T20:49:56.489576Z",
          "iopub.execute_input": "2022-10-17T20:49:56.489909Z",
          "iopub.status.idle": "2022-10-17T20:49:57.069033Z",
          "shell.execute_reply.started": "2022-10-17T20:49:56.489861Z",
          "shell.execute_reply": "2022-10-17T20:49:57.067944Z"
        },
        "trusted": true,
        "id": "hY_RiG-qLonw"
      },
      "execution_count": null,
      "outputs": []
    },
    {
      "cell_type": "markdown",
      "source": [
        "As you can see in the summary we have a total of **256,880,129** parameters but only **82,305** of the are trainables.\n"
      ],
      "metadata": {
        "id": "esIkyJbxLonw"
      }
    },
    {
      "cell_type": "code",
      "source": [
        "historytl0 = modeltl0.fit(train_tweets, train_targets, epochs=15,\n",
        "                          validation_data=(val_tweets, val_targets),\n",
        "                         callbacks=[SaveModel, ReduceLR])"
      ],
      "metadata": {
        "scrolled": true,
        "execution": {
          "iopub.status.busy": "2022-10-17T20:49:57.070781Z",
          "iopub.execute_input": "2022-10-17T20:49:57.071933Z",
          "iopub.status.idle": "2022-10-17T20:51:06.413949Z",
          "shell.execute_reply.started": "2022-10-17T20:49:57.071867Z",
          "shell.execute_reply": "2022-10-17T20:51:06.412928Z"
        },
        "trusted": true,
        "id": "5ofUqlDrLonw"
      },
      "execution_count": null,
      "outputs": []
    },
    {
      "cell_type": "markdown",
      "source": [
        "I use this function *plot_los_acc* to print the loss and accuracy curve of the models after training.\n",
        "\n",
        "You can pass in the parameter *firstepoch* the epoch where the plot starts. Is useful in long training because sometimes is dificult to aprrecite the curve of the plot because of the big improvements in the first epochs."
      ],
      "metadata": {
        "id": "riw9pvA8Lonw"
      }
    },
    {
      "cell_type": "code",
      "source": [
        "#prints loss and accuracy curves. You can indicate first epoch to plot.\n",
        "def plot_loss_acc(history, firstepoch=0):\n",
        "  '''Plots the training and validation loss and accuracy from a history object'''\n",
        "  acc = history.history['accuracy']\n",
        "  acc = acc[firstepoch:]\n",
        "  val_acc = history.history['val_accuracy']\n",
        "\n",
        "  val_acc = val_acc[firstepoch:]\n",
        "  loss = history.history['loss']\n",
        "  loss=loss[firstepoch:]\n",
        "  val_loss = history.history['val_loss']\n",
        "  val_loss = val_loss[firstepoch:]\n",
        "\n",
        "  epochs = range(len(acc))\n",
        "\n",
        "  plt.plot(epochs, acc, 'bo-', label='Training accuracy')\n",
        "  plt.plot(epochs, val_acc, 'go-', label='Validation accuracy')\n",
        "  plt.title('Training and validation accuracy')\n",
        "  plt.legend()\n",
        "\n",
        "  plt.figure()\n",
        "\n",
        "  plt.plot(epochs, loss, 'bo-', label='Training Loss')\n",
        "  plt.plot(epochs, val_loss, 'go-', label='Validation Loss')\n",
        "  plt.title('Training and validation loss')\n",
        "  plt.legend()\n",
        "\n",
        "  plt.show()"
      ],
      "metadata": {
        "execution": {
          "iopub.status.busy": "2022-10-17T20:51:06.415563Z",
          "iopub.execute_input": "2022-10-17T20:51:06.416041Z",
          "iopub.status.idle": "2022-10-17T20:51:06.424859Z",
          "shell.execute_reply.started": "2022-10-17T20:51:06.416004Z",
          "shell.execute_reply": "2022-10-17T20:51:06.423815Z"
        },
        "trusted": true,
        "id": "MRq1HOdKLonx"
      },
      "execution_count": null,
      "outputs": []
    },
    {
      "cell_type": "code",
      "source": [
        "plot_loss_acc(historytl0)"
      ],
      "metadata": {
        "execution": {
          "iopub.status.busy": "2022-10-17T20:51:06.426212Z",
          "iopub.execute_input": "2022-10-17T20:51:06.426784Z",
          "iopub.status.idle": "2022-10-17T20:51:09.252323Z",
          "shell.execute_reply.started": "2022-10-17T20:51:06.42675Z",
          "shell.execute_reply": "2022-10-17T20:51:09.251434Z"
        },
        "trusted": true,
        "id": "ayR-W7QRLonx"
      },
      "execution_count": null,
      "outputs": []
    },
    {
      "cell_type": "markdown",
      "source": [
        "The best result, with this combnination of Dense and Dropout layers is obtained in the first epochs. The best model is saved in the file *BMTLTweet.h5*  thanks to one  of the callbacks functions."
      ],
      "metadata": {
        "id": "8CtjseLeLonx"
      }
    },
    {
      "cell_type": "markdown",
      "source": [
        "### Getting predictions & send results"
      ],
      "metadata": {
        "id": "9mcylnohLonx"
      }
    },
    {
      "cell_type": "code",
      "source": [
        "#Load the best model stored\n",
        "bestModel = tf.keras.models.load_model('BMTLTweet.h5', custom_objects={'KerasLayer': hub.KerasLayer})"
      ],
      "metadata": {
        "execution": {
          "iopub.status.busy": "2022-10-17T20:51:09.253519Z",
          "iopub.execute_input": "2022-10-17T20:51:09.253877Z",
          "iopub.status.idle": "2022-10-17T20:51:16.418629Z",
          "shell.execute_reply.started": "2022-10-17T20:51:09.253841Z",
          "shell.execute_reply": "2022-10-17T20:51:16.417636Z"
        },
        "trusted": true,
        "id": "GO1xXykdLonx"
      },
      "execution_count": null,
      "outputs": []
    },
    {
      "cell_type": "code",
      "source": [
        "#check the test tweets.\n",
        "test['text'][350]"
      ],
      "metadata": {
        "execution": {
          "iopub.status.busy": "2022-10-17T20:51:16.420141Z",
          "iopub.execute_input": "2022-10-17T20:51:16.420475Z",
          "iopub.status.idle": "2022-10-17T20:51:16.429051Z",
          "shell.execute_reply.started": "2022-10-17T20:51:16.420442Z",
          "shell.execute_reply": "2022-10-17T20:51:16.428052Z"
        },
        "trusted": true,
        "id": "u0_mynyFLonx"
      },
      "execution_count": null,
      "outputs": []
    },
    {
      "cell_type": "code",
      "source": [
        "#Transform each test tweet and check the result\n",
        "testweets = test.apply(lambda row : prepare_sentence(row['text']), axis=1)\n",
        "testweets[350]"
      ],
      "metadata": {
        "execution": {
          "iopub.status.busy": "2022-10-17T20:51:16.430707Z",
          "iopub.execute_input": "2022-10-17T20:51:16.43147Z",
          "iopub.status.idle": "2022-10-17T20:51:16.995449Z",
          "shell.execute_reply.started": "2022-10-17T20:51:16.431429Z",
          "shell.execute_reply": "2022-10-17T20:51:16.994383Z"
        },
        "trusted": true,
        "id": "BFdq84jyLonx"
      },
      "execution_count": null,
      "outputs": []
    },
    {
      "cell_type": "code",
      "source": [
        "results = bestModel.predict(testweets)"
      ],
      "metadata": {
        "execution": {
          "iopub.status.busy": "2022-10-17T20:51:16.996994Z",
          "iopub.execute_input": "2022-10-17T20:51:16.997446Z",
          "iopub.status.idle": "2022-10-17T20:51:18.166452Z",
          "shell.execute_reply.started": "2022-10-17T20:51:16.99741Z",
          "shell.execute_reply": "2022-10-17T20:51:18.165474Z"
        },
        "trusted": true,
        "id": "-CO19zzXLonx"
      },
      "execution_count": null,
      "outputs": []
    },
    {
      "cell_type": "code",
      "source": [
        "#Create a Dataframe with the 'id' and 'target' columns\n",
        "final = pd.DataFrame()\n",
        "final['id'] = test['id']\n",
        "final.head()\n",
        "final['target'] = results\n",
        "final['target'] = final['target'].apply(lambda x:1 if x>0.5 else 0)\n",
        "final.head()"
      ],
      "metadata": {
        "execution": {
          "iopub.status.busy": "2022-10-17T20:51:18.168326Z",
          "iopub.execute_input": "2022-10-17T20:51:18.168699Z",
          "iopub.status.idle": "2022-10-17T20:51:18.188508Z",
          "shell.execute_reply.started": "2022-10-17T20:51:18.168662Z",
          "shell.execute_reply": "2022-10-17T20:51:18.187679Z"
        },
        "trusted": true,
        "id": "ovQkds3kLony"
      },
      "execution_count": null,
      "outputs": []
    },
    {
      "cell_type": "code",
      "source": [
        "#file to submit\n",
        "final.to_csv('./submission.csv', index=False)"
      ],
      "metadata": {
        "execution": {
          "iopub.status.busy": "2022-10-17T20:51:18.19335Z",
          "iopub.execute_input": "2022-10-17T20:51:18.193631Z",
          "iopub.status.idle": "2022-10-17T20:51:18.204442Z",
          "shell.execute_reply.started": "2022-10-17T20:51:18.193597Z",
          "shell.execute_reply": "2022-10-17T20:51:18.20358Z"
        },
        "trusted": true,
        "id": "62U-Kyh0Lony"
      },
      "execution_count": null,
      "outputs": []
    },
    {
      "cell_type": "markdown",
      "source": [
        "# Conclusions, Fork & improve.\n",
        "Yeah! The score of this notebook is 0.813.... not bad at all! Is realy good.\n",
        "\n",
        "We did a little effort to obtain this score, is a simple notebook, where we just did a simple transformation of the tweets (but I think that we can just don't do it). We imported a amazing model from tensorflow hub, add some really simple layers... and that's all!!!!!\n",
        "\n",
        "If you want you can Fork and try to improve this score, you can do a lot of research and experiments.\n",
        "\n",
        "- Don't transform the tweets.\n",
        "- Maybe don't use stop words.\n",
        "- Change the layers. Why two dense layers? Try with One. Reduce or increase the nodes (try with just two layers of 8 nodes).\n",
        "- Reduce, Increase the dropout.\n",
        "- Import the model as Trainable, and train it with the tweets.\n",
        "- Change the Callback functio to monitorize the Val_loss instead val_accuracy.\n",
        "\n",
        "Please, if you improve the results, let me know in the comments! I will be really happy to discuss the results, and of course upvote your notebook.\n",
        "\n",
        "If you like the notebook, considere to **upvote it!** I will be really happy and it encourage me a lot to share more notebooks."
      ],
      "metadata": {
        "id": "FhW1ONyiLony"
      }
    },
    {
      "cell_type": "markdown",
      "source": [
        "# Inspirations.\n",
        "For sure that there must be a lot of similar notebooks in this competition, but my main inspiration comes from TensorFlow Developer Specialization that I coursed in Coursera.\n",
        "\n",
        "Now I'm doing a serie of notebooks related to NLP. This is the second one, if you are interested in more notebooks about NLP, with more advanced techniques, just consider to follow me, or check my profile.\n",
        "\n",
        "May the Transfer Learning be with you.\n"
      ],
      "metadata": {
        "id": "YMdqqXP6Lony"
      }
    },
    {
      "cell_type": "code",
      "source": [],
      "metadata": {
        "id": "Laz5Xj5SLony"
      },
      "execution_count": null,
      "outputs": []
    }
  ]
}